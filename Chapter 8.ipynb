{
 "cells": [
  {
   "cell_type": "markdown",
   "metadata": {},
   "source": [
    "# Maths - Form & Function: Chapter 8 (Forms of Space)"
   ]
  },
  {
   "cell_type": "markdown",
   "metadata": {},
   "source": [
    "---"
   ]
  },
  {
   "cell_type": "markdown",
   "metadata": {},
   "source": [
    "## 1. Curvature"
   ]
  },
  {
   "cell_type": "markdown",
   "metadata": {},
   "source": [
    "> In Euclidean and Non-Euclidean geometry, the phenomena of space were analysed in terms of lines, triangles, angles, and congruence; in brief, such a geometry is primarily linear.  Many other geometrical phenomena, however, involve curved lines in the plane and twisted curves and curved surfaces in three-dimensional space. By approximating these curves by straight lines, the methods of calculus come into play, leading to the subject of differential geometry ..."
   ]
  },
  {
   "cell_type": "code",
   "execution_count": 40,
   "metadata": {},
   "outputs": [
    {
     "data": {
      "image/png": "[encoded data removed]",
      "text/plain": [
       "<Figure size 432x288 with 1 Axes>"
      ]
     },
     "metadata": {
      "needs_background": "light"
     },
     "output_type": "display_data"
    }
   ],
   "source": [
    "import matplotlib.pyplot as plt\n",
    "\n",
    "# A smooth path (paramaterized curve) in x, y plane given by 2 functions\n",
    "\n",
    "# Function for x\n",
    "def g(t):\n",
    "    x = t\n",
    "    return x\n",
    "\n",
    "# Function for y\n",
    "def h(t):\n",
    "    y = 2 ** t / t\n",
    "    return y\n",
    "\n",
    "# obtaining the curve\n",
    "x_s = [g(t) for t in range(1, 11)]\n",
    "y_s = [h(t) for t in range(1, 11)]\n",
    "\n",
    "# The tangent vector at time 5\n",
    "tangent_vector_x = x_s[5] - (x_s[6] - x_s[4]), x_s[5] + (x_s[6] - x_s[4]) \n",
    "tangent_vector_y = y_s[5] - (y_s[6] - y_s[4]), y_s[5] + (y_s[6] - y_s[4])\n",
    "\n",
    "plt.plot(x_s, y_s)\n",
    "plt.plot(tangent_vector_x, tangent_vector_y, color = 'r')\n",
    "plt.xlim(0, 10)\n",
    "plt.ylim(0, 100)\n",
    "plt.show()"
   ]
  },
  {
   "cell_type": "code",
   "execution_count": 46,
   "metadata": {},
   "outputs": [
    {
     "data": {
      "image/png": "[encoded data removed]",
      "text/plain": [
       "<Figure size 432x288 with 1 Axes>"
      ]
     },
     "metadata": {
      "needs_background": "light"
     },
     "output_type": "display_data"
    }
   ],
   "source": [
    "# time can be modified by another smooth function k\n",
    "def k(t):\n",
    "    u = t * 1.1\n",
    "    return u\n",
    "\n",
    "x_s = [g(k(t)) for t in range(1, 11)]\n",
    "y_s = [h(k(t)) for t in range(1, 11)]\n",
    "\n",
    "# The tangent vector at time 5\n",
    "tangent_vector_x = x_s[5] - (x_s[6] - x_s[4]), x_s[5] + (x_s[6] - x_s[4]) \n",
    "tangent_vector_y = y_s[5] - (y_s[6] - y_s[4]), y_s[5] + (y_s[6] - y_s[4])\n",
    "\n",
    "plt.plot(x_s, y_s)\n",
    "plt.plot(tangent_vector_x, tangent_vector_y, color = 'r')\n",
    "plt.xlim(0, 11)\n",
    "plt.ylim(0, 100)\n",
    "plt.show()"
   ]
  },
  {
   "cell_type": "code",
   "execution_count": 59,
   "metadata": {},
   "outputs": [
    {
     "name": "stdout",
     "output_type": "stream",
     "text": [
      "22.520524241350657\n"
     ]
    }
   ],
   "source": [
    "def length_of_curve(t1, t2):\n",
    "    lengths = []\n",
    "    t = t1\n",
    "    while t != t2:\n",
    "        dx = x_s[t + 1] - x_s[t]\n",
    "        dy = y_s[t + 1] - y_s[t]\n",
    "        lengths.append((dx**2 + dy**2)**.5)\n",
    "        t += 1\n",
    "    return sum([x for x in lengths])\n",
    "\n",
    "print(length_of_curve(3, 6))"
   ]
  },
  {
   "cell_type": "code",
   "execution_count": 60,
   "metadata": {},
   "outputs": [
    {
     "name": "stdout",
     "output_type": "stream",
     "text": [
      "0.10311973892303816\n"
     ]
    }
   ],
   "source": [
    "def k(t):\n",
    "    \"\"\" Calculates the curvature. \"\"\"\n",
    "    numerator = (g(t-1) * h(t+1)) - (h(t-1) * g(t + 1))\n",
    "    denominator = (g(t-1)**2 + h(t-1)**2) ** (3/2)\n",
    "    return numerator / denominator\n",
    "\n",
    "print(k(5))"
   ]
  },
  {
   "cell_type": "markdown",
   "metadata": {},
   "source": [
    "> ... a rotation or a translation of the curve will not alter its arc length between two points or the curvature as a function of this length. Hence these qualities are said to be Euclidean *invariants* of the curve, in the sense that they are unaltered by the stated (Euclidean) transformations."
   ]
  },
  {
   "cell_type": "markdown",
   "metadata": {},
   "source": [
    "> For curves in space there is an additional invariant, the *torsion*, which measures the rate at which the curve deviates from one lying wholly in one plane."
   ]
  },
  {
   "cell_type": "markdown",
   "metadata": {},
   "source": [
    "> It is then true that arc length, curvature, and torsion together provide a complete set of Euclidean invariants for a smooth space curve."
   ]
  },
  {
   "cell_type": "markdown",
   "metadata": {},
   "source": [
    "> In brief, the lines, circles and planes of elementary Euclidean geometry can be used to approximate the curves (and later the surfaces) in space, thereby making the ideas of the calculus apply in a geometric context."
   ]
  },
  {
   "cell_type": "markdown",
   "metadata": {},
   "source": [
    "---"
   ]
  },
  {
   "cell_type": "markdown",
   "metadata": {},
   "source": [
    "## 2. Gaussian Curvatures for Surfaces"
   ]
  },
  {
   "cell_type": "code",
   "execution_count": null,
   "metadata": {},
   "outputs": [],
   "source": []
  }
 ],
 "metadata": {
  "kernelspec": {
   "display_name": "Python 3",
   "language": "python",
   "name": "python3"
  },
  "language_info": {
   "codemirror_mode": {
    "name": "ipython",
    "version": 3
   },
   "file_extension": ".py",
   "mimetype": "text/x-python",
   "name": "python",
   "nbconvert_exporter": "python",
   "pygments_lexer": "ipython3",
   "version": "3.7.6"
  }
 },
 "nbformat": 4,
 "nbformat_minor": 4
}
