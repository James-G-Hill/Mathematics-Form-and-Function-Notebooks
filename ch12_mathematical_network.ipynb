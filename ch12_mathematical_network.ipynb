{
 "cells": [
  {
   "cell_type": "markdown",
   "metadata": {},
   "source": [
    "# Chapter XII: The Mathematical Network"
   ]
  },
  {
   "cell_type": "markdown",
   "metadata": {},
   "source": [
    "> ... the development of Mathematics provides a tightly connected network of formal rules, concepts, and systems. Nodes of this network are closely bound to procedures useful in human activities and to questions arising in science. The transition from activities to the formal Mathematical systems is guided by a variety of general insights and ideas. Within the formal network, new developments are stimulated and guided by conjectures, problems, abstractions, and the constant desire to understand more."
   ]
  },
  {
   "cell_type": "markdown",
   "metadata": {},
   "source": [
    "---"
   ]
  },
  {
   "cell_type": "markdown",
   "metadata": {},
   "source": [
    "## 1. The Formal"
   ]
  },
  {
   "cell_type": "markdown",
   "metadata": {},
   "source": [
    "> Axioms typify the formal, not just in geometry and arithmetic, but everywhere where they appear in Mathematics."
   ]
  },
  {
   "cell_type": "markdown",
   "metadata": {},
   "source": [
    "> The ultimate in formality would be the meticulous deduction of all Mathematical theorems from definitions in terms of sets and the Zermelo-Fraenkel axioms. This extreme is never done, but its potential presence serves to define the possible extent of formality."
   ]
  },
  {
   "cell_type": "markdown",
   "metadata": {},
   "source": [
    "> Some subjects in applied Mathematics do not contain any theorems or proofs of theorems; these subjects thus seem to escape an analysis of Mathematics as formal or formalizable. Thus the boundary lines between formal Mathematics and its applications are vague and movable."
   ]
  },
  {
   "cell_type": "markdown",
   "metadata": {},
   "source": [
    "The formal develops in many stages:\n",
    "\n",
    "- Rules of calculation (arithmetic, trigonometric identities).\n",
    "- Formulas for differentiation in the calculus\n",
    "- Rules for estimateion and approximation\n",
    "- Axiom systems for arithmetic and geometry\n",
    "- Rules for logical inference\n",
    "- Axioms for abstract algebraic and topological objects\n",
    "- Axioms for sets and topoi\n",
    "- The relentlessly full formalization of Mathematis"
   ]
  },
  {
   "cell_type": "markdown",
   "metadata": {},
   "source": [
    "> ... the formal is essential to Mathematics. Mathematics is not a scientific study of the facts but a developing analysis of the forms which underly the facts. It is not a science of time and space, but a formulation of the ideas needed to understand time, space, and motion. This understanding depends on ideas. The underlying ideas can be made precise and communicable only by being made formal ..."
   ]
  },
  {
   "cell_type": "markdown",
   "metadata": {},
   "source": [
    "---"
   ]
  },
  {
   "cell_type": "markdown",
   "metadata": {},
   "source": [
    "## 2. Ideas"
   ]
  },
  {
   "cell_type": "markdown",
   "metadata": {},
   "source": [
    "> Most of the formalizations in Mathematics are based on some underlying idea - an intuitive notion which gives guidance and purpose. It is not easy to give a precise description of the nature of an idea; indeed a deeper idea may be almost impossible to communicate and so may be recognized only after it has been embodied in some formulization. A number of the more general ideas of Mathematics are stimulated more or less directly by human activities."
   ]
  },
  {
   "cell_type": "markdown",
   "metadata": {},
   "source": [
    "> Our view that Mathematics is and must be formal is supplemented by the observation that each formalism rests on some underlying or leading idea. The reverse can also happen, as when geometric ideas are formulated so vaguely that they do not constitute a proof of the intended results."
   ]
  },
  {
   "cell_type": "markdown",
   "metadata": {},
   "source": [
    "---"
   ]
  },
  {
   "cell_type": "markdown",
   "metadata": {},
   "source": [
    "## 3. The Network"
   ]
  },
  {
   "cell_type": "markdown",
   "metadata": {},
   "source": [
    "> We cannot realistically constrain Mathematics to be a single formal system; instead we view Mathematics as an elaborate tightly connected network of formal systems, axiom systems, rules, and connections. The network is tied to many sources in human activities and scientific questions."
   ]
  },
  {
   "cell_type": "markdown",
   "metadata": {},
   "source": [
    "> The most basic subjects ... are tied closely to connections reaching outside of Mathematics. The primary ties are those to various human activities: Counting, measuring, moving, observing, changing, and others ... In some cases, these ties can also be regarded as connections not to activities, but to phenomena: Multitude (that which can be counted), extent (that which can be measured), motion (which can be observed), change (which again can be observed)."
   ]
  },
  {
   "cell_type": "markdown",
   "metadata": {},
   "source": [
    "> The subjects of Mathematics are also tied or connected to other parts of human knowledge, and most especially to various sciences ... The number of such connections between Mathematics and science is very great - and often these connections go to subjects which are in the \"middle\" of the network of Mathematics, and not just to the basic subjects at the edge of the network."
   ]
  },
  {
   "cell_type": "markdown",
   "metadata": {},
   "source": [
    "> ... subjects of Mathematics are *extracted* from the environment; that is, from activities, phenomena, or science - and that they are then later applied to that - or other - environments."
   ]
  },
  {
   "cell_type": "markdown",
   "metadata": {},
   "source": [
    "> Mathematics is not \"about\" human activity, phenomena, or science. It is about the extractions and formalization of ideas - and their manifold consequences."
   ]
  },
  {
   "cell_type": "markdown",
   "metadata": {},
   "source": [
    "---"
   ]
  },
  {
   "cell_type": "markdown",
   "metadata": {},
   "source": [
    "## 4. Subjects, Specialities, and Subdivisions"
   ]
  },
  {
   "cell_type": "code",
   "execution_count": null,
   "metadata": {},
   "outputs": [],
   "source": []
  }
 ],
 "metadata": {
  "kernelspec": {
   "display_name": "Python 3.7.6 64-bit ('general': venv)",
   "language": "python",
   "name": "python37664bitgeneralvenvc2d9acb89c424f2c84cf1f305e4c11aa"
  },
  "language_info": {
   "codemirror_mode": {
    "name": "ipython",
    "version": 3
   },
   "file_extension": ".py",
   "mimetype": "text/x-python",
   "name": "python",
   "nbconvert_exporter": "python",
   "pygments_lexer": "ipython3",
   "version": "3.7.6"
  }
 },
 "nbformat": 4,
 "nbformat_minor": 4
}
