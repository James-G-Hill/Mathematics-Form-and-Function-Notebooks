{
 "cells": [
  {
   "cell_type": "markdown",
   "metadata": {},
   "source": [
    "# Maths - Form & Function: Chapter 2 (From Whole Numbers to Rational Numbers)"
   ]
  },
  {
   "cell_type": "code",
   "execution_count": 1,
   "metadata": {},
   "outputs": [],
   "source": [
    "from sympy import *\n",
    "from sympy.printing.latex import LatexPrinter\n",
    "\n",
    "class CustomLatexPrinter(LatexPrinter):\n",
    "    def _print_Idx(self, expr):\n",
    "        return expr.name\n",
    "\n",
    "    @classmethod\n",
    "    def printer(cls, expr, **kwargs):\n",
    "        return cls(kwargs).doprint(expr)\n",
    "\n",
    "init_printing(use_latex = \"mathjax\", latex_printer = CustomLatexPrinter.printer)"
   ]
  },
  {
   "cell_type": "markdown",
   "metadata": {},
   "source": [
    "## 1. Properties of Natural Numbers"
   ]
  },
  {
   "cell_type": "markdown",
   "metadata": {},
   "source": [
    "The natural numbers arise from:\n",
    "\n",
    "- listing\n",
    "- counting\n",
    "- comparing"
   ]
  },
  {
   "cell_type": "code",
   "execution_count": 2,
   "metadata": {},
   "outputs": [
    {
     "data": {
      "text/latex": [
       "$\\displaystyle \\mathbb{N}$"
      ],
      "text/plain": [
       "ℕ"
      ]
     },
     "execution_count": 2,
     "metadata": {},
     "output_type": "execute_result"
    }
   ],
   "source": [
    "S.Naturals"
   ]
  },
  {
   "cell_type": "code",
   "execution_count": 3,
   "metadata": {},
   "outputs": [
    {
     "data": {
      "text/latex": [
       "$\\displaystyle \\text{True}$"
      ],
      "text/plain": [
       "True"
      ]
     },
     "execution_count": 3,
     "metadata": {},
     "output_type": "execute_result"
    }
   ],
   "source": [
    "k, m, n = symbols(\"k, m, n\", integer = True)\n",
    "\n",
    "# Commutative law part 1: Addition\n",
    "Eq(\n",
    "    m + 0,\n",
    "    m\n",
    ")"
   ]
  },
  {
   "cell_type": "code",
   "execution_count": 4,
   "metadata": {},
   "outputs": [
    {
     "data": {
      "text/latex": [
       "$\\displaystyle \\text{True}$"
      ],
      "text/plain": [
       "True"
      ]
     },
     "execution_count": 4,
     "metadata": {},
     "output_type": "execute_result"
    }
   ],
   "source": [
    "# Commutative law part 2: Addition\n",
    "Eq(\n",
    "    m + n,\n",
    "    n + m\n",
    ")"
   ]
  },
  {
   "cell_type": "code",
   "execution_count": 5,
   "metadata": {},
   "outputs": [
    {
     "data": {
      "text/latex": [
       "$\\displaystyle \\text{True}$"
      ],
      "text/plain": [
       "True"
      ]
     },
     "execution_count": 5,
     "metadata": {},
     "output_type": "execute_result"
    }
   ],
   "source": [
    "# Associative law: Addition\n",
    "Eq(\n",
    "    k + (m + n),\n",
    "    (k + m) + n\n",
    ")"
   ]
  },
  {
   "cell_type": "code",
   "execution_count": 6,
   "metadata": {},
   "outputs": [
    {
     "data": {
      "text/latex": [
       "$\\displaystyle \\text{True}$"
      ],
      "text/plain": [
       "True"
      ]
     },
     "execution_count": 6,
     "metadata": {},
     "output_type": "execute_result"
    }
   ],
   "source": [
    "# Commutative law part 1: Multiplication\n",
    "Eq(\n",
    "    m * 1,\n",
    "    m\n",
    ")"
   ]
  },
  {
   "cell_type": "code",
   "execution_count": 7,
   "metadata": {},
   "outputs": [
    {
     "data": {
      "text/latex": [
       "$\\displaystyle \\text{True}$"
      ],
      "text/plain": [
       "True"
      ]
     },
     "execution_count": 7,
     "metadata": {},
     "output_type": "execute_result"
    }
   ],
   "source": [
    "# Commutative law part 2: Multiplication\n",
    "Eq(\n",
    "    m * n,\n",
    "    n * m\n",
    ")"
   ]
  },
  {
   "cell_type": "code",
   "execution_count": 8,
   "metadata": {},
   "outputs": [
    {
     "data": {
      "text/latex": [
       "$\\displaystyle \\text{True}$"
      ],
      "text/plain": [
       "True"
      ]
     },
     "execution_count": 8,
     "metadata": {},
     "output_type": "execute_result"
    }
   ],
   "source": [
    "# Associative law: Multiplication\n",
    "Eq(\n",
    "    k * (m * n),\n",
    "    (k * m) * n\n",
    ")"
   ]
  },
  {
   "cell_type": "code",
   "execution_count": 9,
   "metadata": {},
   "outputs": [
    {
     "data": {
      "text/latex": [
       "$\\displaystyle \\text{True}$"
      ],
      "text/plain": [
       "True"
      ]
     },
     "execution_count": 9,
     "metadata": {},
     "output_type": "execute_result"
    }
   ],
   "source": [
    "# Distributive law\n",
    "Eq(\n",
    "    k * (m + n),\n",
    "    k * m + k * n\n",
    ").simplify()"
   ]
  },
  {
   "cell_type": "code",
   "execution_count": 10,
   "metadata": {},
   "outputs": [
    {
     "data": {
      "text/latex": [
       "$\\displaystyle k^{2}\\bmod{4} \\in \\left\\{0, 1\\right\\}$"
      ],
      "text/plain": [
       " 2               \n",
       "k  mod 4 ∈ {0, 1}"
      ]
     },
     "execution_count": 10,
     "metadata": {},
     "output_type": "execute_result"
    }
   ],
   "source": [
    "# Remainders of square numbers always 0 or 1\n",
    "FiniteSet(0, 1).contains((k**2) % 4).doit()"
   ]
  },
  {
   "cell_type": "code",
   "execution_count": 11,
   "metadata": {},
   "outputs": [
    {
     "data": {
      "text/latex": [
       "$\\displaystyle n = \\sum_{k=0}^{i} b^{k} {a}_{k}$"
      ],
      "text/plain": [
       "      i          \n",
       "     ___         \n",
       "     ╲           \n",
       "      ╲    k     \n",
       "n =   ╱   b ⋅a[k]\n",
       "     ╱           \n",
       "     ‾‾‾         \n",
       "    k = 0        "
      ]
     },
     "execution_count": 11,
     "metadata": {},
     "output_type": "execute_result"
    }
   ],
   "source": [
    "b, i, n = symbols(\"b, i, n\", domain = S.Naturals)\n",
    "a = IndexedBase(\"a\")\n",
    "k = Idx(\"k\", range = (0, i))\n",
    "\n",
    "expansion = summation(a[k] * b**k, k)\n",
    "Eq(n, expansion)"
   ]
  },
  {
   "cell_type": "code",
   "execution_count": 12,
   "metadata": {},
   "outputs": [
    {
     "data": {
      "text/latex": [
       "$\\displaystyle 123$"
      ],
      "text/plain": [
       "123"
      ]
     },
     "execution_count": 12,
     "metadata": {},
     "output_type": "execute_result"
    }
   ],
   "source": [
    "# Finding decimal expansion of 123\n",
    "a_coefs = [1, 2, 3][::-1]\n",
    "j = len(a_coefs) - 1\n",
    "decimal_expansion = summation(a[k] * b**k, (k, 0, j))\n",
    "\n",
    "# decimal expansion\n",
    "coefs_dic = {a[j]: a_coefs[j] for j in range(3)}\n",
    "decimal_expansion.subs(b, 10).subs(coefs_dic)"
   ]
  },
  {
   "cell_type": "markdown",
   "metadata": {},
   "source": [
    "# 2. The Peano Postulates"
   ]
  },
  {
   "cell_type": "markdown",
   "metadata": {},
   "source": [
    "The Peano postulates emerge from the fact that both addition and multiplication can be described in terms of the number 0 & the single operation \"add 1\"; the postulates are the folowing axioms on that single operation:"
   ]
  },
  {
   "cell_type": "markdown",
   "metadata": {},
   "source": [
    "1. 0 is a number\n",
    "2. if *n* is a number, so is its successor *sn*\n",
    "3. 0 is not a successor (*sn* is never 0)\n",
    "4. 2 numbers *n*, *m* with the same successor are equal\n",
    "5. Let *P* be a property of natural numbers; if 0 has *P* & *sn* has *P* where *n* does, then *P* holds for all natural numbers."
   ]
  },
  {
   "cell_type": "code",
   "execution_count": 13,
   "metadata": {},
   "outputs": [
    {
     "data": {
      "text/latex": [
       "$\\displaystyle 1$"
      ],
      "text/plain": [
       "1"
      ]
     },
     "execution_count": 13,
     "metadata": {},
     "output_type": "execute_result"
    }
   ],
   "source": [
    "from sympy.core.assumptions import assumptions\n",
    "\n",
    "m, n = symbols(\"m, n\", domain = S.Naturals0)\n",
    "\n",
    "class s(Function):\n",
    "    \"\"\" The successor function. \"\"\"\n",
    "    @classmethod\n",
    "    def eval(cls, n):\n",
    "        if n.is_Number:\n",
    "            if S.Naturals0.contains(n):\n",
    "                return n + 1\n",
    "            \n",
    "s(0)"
   ]
  },
  {
   "cell_type": "code",
   "execution_count": 14,
   "metadata": {},
   "outputs": [
    {
     "data": {
      "text/latex": [
       "$\\displaystyle \\text{True}$"
      ],
      "text/plain": [
       "True"
      ]
     },
     "execution_count": 14,
     "metadata": {},
     "output_type": "execute_result"
    }
   ],
   "source": [
    "# postulate i\n",
    "S.Naturals0.contains(0)"
   ]
  },
  {
   "cell_type": "code",
   "execution_count": 15,
   "metadata": {},
   "outputs": [
    {
     "data": {
      "text/latex": [
       "$\\displaystyle \\left(n \\in \\mathbb{N}_0\\right) \\Rightarrow \\left(s{\\left(n \\right)} \\in \\mathbb{N}_0\\right)$"
      ],
      "text/plain": [
       "(n ∈ ℕ₀) → (s(n) ∈ ℕ₀)"
      ]
     },
     "execution_count": 15,
     "metadata": {},
     "output_type": "execute_result"
    }
   ],
   "source": [
    "# postulate ii\n",
    "(S.Naturals0.contains(n)) >> (S.Naturals0.contains(s(n)))"
   ]
  },
  {
   "cell_type": "code",
   "execution_count": 16,
   "metadata": {},
   "outputs": [
    {
     "data": {
      "text/latex": [
       "$\\displaystyle 0 \\neq s{\\left(n \\right)}$"
      ],
      "text/plain": [
       "0 ≠ s(n)"
      ]
     },
     "execution_count": 16,
     "metadata": {},
     "output_type": "execute_result"
    }
   ],
   "source": [
    "# postulate iii\n",
    "Not(Eq(0, s(n)))"
   ]
  },
  {
   "cell_type": "code",
   "execution_count": 17,
   "metadata": {},
   "outputs": [
    {
     "data": {
      "text/latex": [
       "$\\displaystyle s{\\left(n \\right)} = s{\\left(m \\right)} \\Rightarrow n = m$"
      ],
      "text/plain": [
       "s(n) = s(m) → n = m"
      ]
     },
     "execution_count": 17,
     "metadata": {},
     "output_type": "execute_result"
    }
   ],
   "source": [
    "# postulate iv\n",
    "Implies(\n",
    "    Eq(s(n), s(m)),\n",
    "    Eq(n, m)\n",
    ")"
   ]
  },
  {
   "cell_type": "code",
   "execution_count": 18,
   "metadata": {},
   "outputs": [
    {
     "data": {
      "text/latex": [
       "$\\displaystyle \\sum_{i=1}^{n} {a}_{i}^{2}$"
      ],
      "text/plain": [
       "  n        \n",
       " ___       \n",
       " ╲         \n",
       "  ╲       2\n",
       "  ╱   a[i] \n",
       " ╱         \n",
       " ‾‾‾       \n",
       "i = 1      "
      ]
     },
     "execution_count": 18,
     "metadata": {},
     "output_type": "execute_result"
    }
   ],
   "source": [
    "a = IndexedBase(\"a\")\n",
    "i = Idx(\"i\", range = (1, n))\n",
    "\n",
    "first_n_squares = summation(a[i]**2, i)\n",
    "first_n_squares"
   ]
  },
  {
   "cell_type": "code",
   "execution_count": 19,
   "metadata": {},
   "outputs": [
    {
     "data": {
      "text/latex": [
       "$\\displaystyle 14$"
      ],
      "text/plain": [
       "14"
      ]
     },
     "execution_count": 19,
     "metadata": {},
     "output_type": "execute_result"
    }
   ],
   "source": [
    "coefs = list(range(1, 4))\n",
    "coefs_dic = {a[j]: coefs[j-1] for j in range(1, 4)}\n",
    "\n",
    "first_n_squares = summation(a[i]**2, (i, 1, 3))\n",
    "first_n_squares.subs(coefs_dic)"
   ]
  },
  {
   "cell_type": "code",
   "execution_count": 20,
   "metadata": {},
   "outputs": [
    {
     "data": {
      "text/latex": [
       "$\\displaystyle \\text{True}$"
      ],
      "text/plain": [
       "True"
      ]
     },
     "execution_count": 20,
     "metadata": {},
     "output_type": "execute_result"
    }
   ],
   "source": [
    "k = symbols(\"k\")\n",
    "\n",
    "# Recursive addition\n",
    "Eq(k + 0, k)"
   ]
  },
  {
   "cell_type": "code",
   "execution_count": 21,
   "metadata": {},
   "outputs": [
    {
     "data": {
      "text/latex": [
       "$\\displaystyle k + s{\\left(n \\right)} = s{\\left(k + n \\right)}$"
      ],
      "text/plain": [
       "k + s(n) = s(k + n)"
      ]
     },
     "execution_count": 21,
     "metadata": {},
     "output_type": "execute_result"
    }
   ],
   "source": [
    "Eq(k + s(n), s(k + n))"
   ]
  },
  {
   "cell_type": "code",
   "execution_count": 22,
   "metadata": {},
   "outputs": [
    {
     "data": {
      "text/latex": [
       "$\\displaystyle \\text{True}$"
      ],
      "text/plain": [
       "True"
      ]
     },
     "execution_count": 22,
     "metadata": {},
     "output_type": "execute_result"
    }
   ],
   "source": [
    "# Recursive multiplication\n",
    "Eq(k * 0, 0)"
   ]
  },
  {
   "cell_type": "code",
   "execution_count": 23,
   "metadata": {},
   "outputs": [
    {
     "data": {
      "text/latex": [
       "$\\displaystyle k s{\\left(n \\right)} = k n + k$"
      ],
      "text/plain": [
       "k⋅s(n) = k⋅n + k"
      ]
     },
     "execution_count": 23,
     "metadata": {},
     "output_type": "execute_result"
    }
   ],
   "source": [
    "Eq(k * s(n), k + (k * n))"
   ]
  },
  {
   "cell_type": "code",
   "execution_count": 24,
   "metadata": {},
   "outputs": [
    {
     "data": {
      "text/latex": [
       "$\\displaystyle \\text{True}$"
      ],
      "text/plain": [
       "True"
      ]
     },
     "execution_count": 24,
     "metadata": {},
     "output_type": "execute_result"
    }
   ],
   "source": [
    "# Recursive Exponentiation\n",
    "Eq(k**0, 1)"
   ]
  },
  {
   "cell_type": "code",
   "execution_count": 25,
   "metadata": {},
   "outputs": [
    {
     "data": {
      "text/latex": [
       "$\\displaystyle k^{s{\\left(n \\right)}} = k k^{n}$"
      ],
      "text/plain": [
       " s(n)      n\n",
       "k     = k⋅k "
      ]
     },
     "execution_count": 25,
     "metadata": {},
     "output_type": "execute_result"
    }
   ],
   "source": [
    "Eq(k**s(n), k * (k**n))"
   ]
  },
  {
   "cell_type": "code",
   "execution_count": 26,
   "metadata": {},
   "outputs": [
    {
     "data": {
      "text/latex": [
       "$\\displaystyle k$"
      ],
      "text/plain": [
       "k"
      ]
     },
     "execution_count": 26,
     "metadata": {},
     "output_type": "execute_result"
    }
   ],
   "source": [
    "class recursiveAddition(Function):\n",
    "    @classmethod\n",
    "    def eval(cls, n):\n",
    "        if n == 0:\n",
    "            return k\n",
    "        else:\n",
    "            return k + n\n",
    "\n",
    "recursiveAddition(0)"
   ]
  },
  {
   "cell_type": "code",
   "execution_count": 27,
   "metadata": {},
   "outputs": [
    {
     "data": {
      "text/latex": [
       "$\\displaystyle k + 1$"
      ],
      "text/plain": [
       "k + 1"
      ]
     },
     "execution_count": 27,
     "metadata": {},
     "output_type": "execute_result"
    }
   ],
   "source": [
    "recursiveAddition(s(0))"
   ]
  },
  {
   "cell_type": "code",
   "execution_count": 28,
   "metadata": {},
   "outputs": [
    {
     "data": {
      "text/latex": [
       "$\\displaystyle k + 2$"
      ],
      "text/plain": [
       "k + 2"
      ]
     },
     "execution_count": 28,
     "metadata": {},
     "output_type": "execute_result"
    }
   ],
   "source": [
    "recursiveAddition(s(1))"
   ]
  },
  {
   "cell_type": "code",
   "execution_count": 29,
   "metadata": {},
   "outputs": [
    {
     "data": {
      "text/latex": [
       "$\\displaystyle 0$"
      ],
      "text/plain": [
       "0"
      ]
     },
     "execution_count": 29,
     "metadata": {},
     "output_type": "execute_result"
    }
   ],
   "source": [
    "class recursiveMultiplication(Function):\n",
    "    @classmethod\n",
    "    def eval(cls, n):\n",
    "        if n == 0:\n",
    "            return 0\n",
    "        else:\n",
    "            return k * n\n",
    "        \n",
    "recursiveMultiplication(0)"
   ]
  },
  {
   "cell_type": "code",
   "execution_count": 30,
   "metadata": {},
   "outputs": [
    {
     "data": {
      "text/latex": [
       "$\\displaystyle k$"
      ],
      "text/plain": [
       "k"
      ]
     },
     "execution_count": 30,
     "metadata": {},
     "output_type": "execute_result"
    }
   ],
   "source": [
    "recursiveMultiplication(s(0))"
   ]
  },
  {
   "cell_type": "code",
   "execution_count": 31,
   "metadata": {},
   "outputs": [
    {
     "data": {
      "text/latex": [
       "$\\displaystyle 2 k$"
      ],
      "text/plain": [
       "2⋅k"
      ]
     },
     "execution_count": 31,
     "metadata": {},
     "output_type": "execute_result"
    }
   ],
   "source": [
    "recursiveMultiplication(s(1))"
   ]
  },
  {
   "cell_type": "code",
   "execution_count": 32,
   "metadata": {},
   "outputs": [
    {
     "data": {
      "text/latex": [
       "$\\displaystyle 1$"
      ],
      "text/plain": [
       "1"
      ]
     },
     "execution_count": 32,
     "metadata": {},
     "output_type": "execute_result"
    }
   ],
   "source": [
    "class recursiveExponentiation(Function):\n",
    "    @classmethod\n",
    "    def eval(cls, n):\n",
    "        if n == 0:\n",
    "            return 1\n",
    "        else:\n",
    "            return k**n\n",
    "\n",
    "recursiveExponentiation(0)"
   ]
  },
  {
   "cell_type": "code",
   "execution_count": 33,
   "metadata": {},
   "outputs": [
    {
     "data": {
      "text/latex": [
       "$\\displaystyle k$"
      ],
      "text/plain": [
       "k"
      ]
     },
     "execution_count": 33,
     "metadata": {},
     "output_type": "execute_result"
    }
   ],
   "source": [
    "recursiveExponentiation(s(0))"
   ]
  },
  {
   "cell_type": "code",
   "execution_count": 34,
   "metadata": {},
   "outputs": [
    {
     "data": {
      "text/latex": [
       "$\\displaystyle k^{2}$"
      ],
      "text/plain": [
       " 2\n",
       "k "
      ]
     },
     "execution_count": 34,
     "metadata": {},
     "output_type": "execute_result"
    }
   ],
   "source": [
    "recursiveExponentiation(s(1))"
   ]
  },
  {
   "cell_type": "code",
   "execution_count": 35,
   "metadata": {},
   "outputs": [
    {
     "data": {
      "text/latex": [
       "$\\displaystyle \\left( f{\\left(0 \\right)} = a, \\  f{\\left(s{\\left(m \\right)} \\right)} = g{\\left(f{\\left(m \\right)} \\right)}\\right)$"
      ],
      "text/plain": [
       "(f(0) = a, f(s(m)) = g(f(m)))"
      ]
     },
     "execution_count": 35,
     "metadata": {},
     "output_type": "execute_result"
    }
   ],
   "source": [
    "f = Function(\"f\")\n",
    "g = Function(\"g\")\n",
    "\n",
    "Eq(f(0), a), Eq(f(s(m)), g(f(m)))"
   ]
  },
  {
   "cell_type": "markdown",
   "metadata": {},
   "source": [
    "**Uniqueness Theorem**\n",
    "\n",
    "*The set-theoretic Peano postulates determine the collection **N** of natural numbers uniquely, up to an isomorphism of the structure given by 0 and successor.*"
   ]
  },
  {
   "cell_type": "markdown",
   "metadata": {},
   "source": [
    "## 3. Natural Numbers Described by Recursion"
   ]
  },
  {
   "cell_type": "markdown",
   "metadata": {},
   "source": [
    "General Point: the axioms needed to describe a Mathematical structure are themselves by no means unique. The recursion theorum for example is a convenient form of axiom."
   ]
  },
  {
   "cell_type": "code",
   "execution_count": 36,
   "metadata": {},
   "outputs": [
    {
     "name": "stdout",
     "output_type": "stream",
     "text": [
      "\\xymatrix{\n",
      "S \\ar[r]^{i} \\ar@(u,l)[]^{sDash} & \\mathbb{N} \\ar@/^3mm/[l]^{h} \\ar@(r,u)[]^{s} \n",
      "}\n",
      "\n"
     ]
    }
   ],
   "source": [
    "from sympy import pprint\n",
    "from sympy.categories import *\n",
    "\n",
    "N = S.Naturals\n",
    "S_ob = Object(\"S\")\n",
    "\n",
    "s = NamedMorphism(N, N, \"s\")\n",
    "sDash = NamedMorphism(S_ob, S_ob, \"sDash\")\n",
    "h = NamedMorphism(N, S_ob, \"h\")\n",
    "i = NamedMorphism(S_ob, N, \"i\")\n",
    "\n",
    "d = Diagram([s, sDash, h, i])\n",
    "\n",
    "drawer = XypicDiagramDrawer()\n",
    "print(drawer.draw(d, DiagramGrid(d)))\n",
    "# https://quicklatex.com/\n",
    "# Add `\\usepackage[all]{xy}` to the preamble"
   ]
  },
  {
   "cell_type": "code",
   "execution_count": 37,
   "metadata": {},
   "outputs": [
    {
     "data": {
      "text/latex": [
       "$\\displaystyle \\left\\{x \\mid x \\in \\mathbb{N}_0 \\right\\}$"
      ],
      "text/plain": [
       "{x | (x ∈ ℕ₀)}"
      ]
     },
     "execution_count": 37,
     "metadata": {},
     "output_type": "execute_result"
    }
   ],
   "source": [
    "x = symbols(\"x\")\n",
    "\n",
    "N = S.Naturals0\n",
    "S_ob = ConditionSet(x, N.contains(x))\n",
    "S_ob"
   ]
  },
  {
   "cell_type": "code",
   "execution_count": 38,
   "metadata": {},
   "outputs": [
    {
     "data": {
      "text/plain": [
       "False"
      ]
     },
     "execution_count": 38,
     "metadata": {},
     "output_type": "execute_result"
    }
   ],
   "source": [
    "-1 in S_ob"
   ]
  },
  {
   "cell_type": "code",
   "execution_count": 39,
   "metadata": {},
   "outputs": [
    {
     "data": {
      "text/plain": [
       "True"
      ]
     },
     "execution_count": 39,
     "metadata": {},
     "output_type": "execute_result"
    }
   ],
   "source": [
    "0 in S_ob"
   ]
  },
  {
   "cell_type": "code",
   "execution_count": 40,
   "metadata": {},
   "outputs": [
    {
     "data": {
      "text/latex": [
       "$\\displaystyle \\mathbb{N}_0$"
      ],
      "text/plain": [
       "ℕ₀"
      ]
     },
     "execution_count": 40,
     "metadata": {},
     "output_type": "execute_result"
    }
   ],
   "source": [
    "class i(Function):\n",
    "    @classmethod\n",
    "    def eval(cls, arg1):\n",
    "        if arg1 == S_ob:\n",
    "            return N\n",
    "        \n",
    "i(S_ob)"
   ]
  },
  {
   "cell_type": "code",
   "execution_count": 41,
   "metadata": {},
   "outputs": [
    {
     "data": {
      "text/latex": [
       "$\\displaystyle \\left\\{x \\mid x \\in \\mathbb{N}_0 \\right\\}$"
      ],
      "text/plain": [
       "{x | (x ∈ ℕ₀)}"
      ]
     },
     "execution_count": 41,
     "metadata": {},
     "output_type": "execute_result"
    }
   ],
   "source": [
    "class zero(Function):\n",
    "    @classmethod\n",
    "    def eval(cls):\n",
    "        return S_ob\n",
    "    \n",
    "zero()"
   ]
  },
  {
   "cell_type": "code",
   "execution_count": 42,
   "metadata": {},
   "outputs": [
    {
     "data": {
      "text/latex": [
       "$\\displaystyle \\left\\{x \\mid x \\in \\mathbb{N}_0 \\right\\}$"
      ],
      "text/plain": [
       "{x | (x ∈ ℕ₀)}"
      ]
     },
     "execution_count": 42,
     "metadata": {},
     "output_type": "execute_result"
    }
   ],
   "source": [
    "class sDash(Function):\n",
    "    @classmethod\n",
    "    def eval(cls, arg1):\n",
    "        if arg1 == S_ob:\n",
    "            return S_ob\n",
    "    \n",
    "sDash(S_ob)"
   ]
  },
  {
   "cell_type": "code",
   "execution_count": 43,
   "metadata": {},
   "outputs": [
    {
     "data": {
      "text/latex": [
       "$\\displaystyle \\left\\{x \\mid x \\in \\mathbb{N}_0 \\right\\}$"
      ],
      "text/plain": [
       "{x | (x ∈ ℕ₀)}"
      ]
     },
     "execution_count": 43,
     "metadata": {},
     "output_type": "execute_result"
    }
   ],
   "source": [
    "class h(Function):\n",
    "    @classmethod\n",
    "    def eval(cls, arg1):\n",
    "        if arg1 == N:\n",
    "            return S_ob\n",
    "        \n",
    "h(N)"
   ]
  },
  {
   "cell_type": "code",
   "execution_count": 44,
   "metadata": {},
   "outputs": [
    {
     "data": {
      "text/latex": [
       "$\\displaystyle \\mathbb{N}_0$"
      ],
      "text/plain": [
       "ℕ₀"
      ]
     },
     "execution_count": 44,
     "metadata": {},
     "output_type": "execute_result"
    }
   ],
   "source": [
    "class f(Function):\n",
    "    @classmethod\n",
    "    def eval(cls, arg1):\n",
    "        if arg1 == N:\n",
    "            return i(h(arg1))\n",
    "        \n",
    "f(N)"
   ]
  },
  {
   "cell_type": "code",
   "execution_count": 45,
   "metadata": {},
   "outputs": [
    {
     "data": {
      "text/latex": [
       "$\\displaystyle \\mathbb{N}_0$"
      ],
      "text/plain": [
       "ℕ₀"
      ]
     },
     "execution_count": 45,
     "metadata": {},
     "output_type": "execute_result"
    }
   ],
   "source": [
    "class s(Function):\n",
    "    @classmethod\n",
    "    def eval(cls, arg1):\n",
    "        if arg1 == N:\n",
    "            return N\n",
    "        \n",
    "s(N)"
   ]
  },
  {
   "cell_type": "code",
   "execution_count": 46,
   "metadata": {},
   "outputs": [
    {
     "data": {
      "text/plain": [
       "True"
      ]
     },
     "execution_count": 46,
     "metadata": {},
     "output_type": "execute_result"
    }
   ],
   "source": [
    "sDash(h(N)) == h(s(N))"
   ]
  },
  {
   "cell_type": "code",
   "execution_count": 47,
   "metadata": {},
   "outputs": [
    {
     "data": {
      "text/plain": [
       "True"
      ]
     },
     "execution_count": 47,
     "metadata": {},
     "output_type": "execute_result"
    }
   ],
   "source": [
    "s(f(N)) == f(s(N)) # identity function"
   ]
  },
  {
   "cell_type": "code",
   "execution_count": 48,
   "metadata": {},
   "outputs": [
    {
     "data": {
      "text/plain": [
       "True"
      ]
     },
     "execution_count": 48,
     "metadata": {},
     "output_type": "execute_result"
    }
   ],
   "source": [
    "f(N) == i(h(N))"
   ]
  },
  {
   "cell_type": "markdown",
   "metadata": {},
   "source": [
    "## 4. Number Theory"
   ]
  },
  {
   "cell_type": "code",
   "execution_count": 88,
   "metadata": {},
   "outputs": [
    {
     "data": {
      "text/latex": [
       "$\\displaystyle m = n q + r$"
      ],
      "text/plain": [
       "m = n⋅q + r"
      ]
     },
     "execution_count": 88,
     "metadata": {},
     "output_type": "execute_result"
    }
   ],
   "source": [
    "m, n, q, r = symbols(\"m, n, q, r\", integer = True)\n",
    "\n",
    "division_algorithm = Eq(m, n*q + r)\n",
    "division_algorithm"
   ]
  },
  {
   "cell_type": "code",
   "execution_count": 92,
   "metadata": {},
   "outputs": [
    {
     "data": {
      "text/latex": [
       "$\\displaystyle \\text{True}$"
      ],
      "text/plain": [
       "True"
      ]
     },
     "execution_count": 92,
     "metadata": {},
     "output_type": "execute_result"
    }
   ],
   "source": [
    "division_algorithm.subs([(m, 10), (n, 3), (q, 3), (r, 1)])"
   ]
  },
  {
   "cell_type": "code",
   "execution_count": 103,
   "metadata": {},
   "outputs": [
    {
     "data": {
      "text/plain": [
       "array('l', [2, 3, 5, 7, 11, 13, 17])"
      ]
     },
     "execution_count": 103,
     "metadata": {},
     "output_type": "execute_result"
    }
   ],
   "source": [
    "# Show list of primes\n",
    "sieve._reset()\n",
    "sieve.extend(17)\n",
    "sieve._list"
   ]
  },
  {
   "cell_type": "code",
   "execution_count": 120,
   "metadata": {},
   "outputs": [
    {
     "data": {
      "text/latex": [
       "$\\displaystyle 17^{1}$"
      ],
      "text/plain": [
       "  1\n",
       "17 "
      ]
     },
     "execution_count": 120,
     "metadata": {},
     "output_type": "execute_result"
    }
   ],
   "source": [
    "# The last prime on the above list\n",
    "factors17 = factorint(17, visual = True)\n",
    "factors17"
   ]
  },
  {
   "cell_type": "code",
   "execution_count": 121,
   "metadata": {},
   "outputs": [
    {
     "data": {
      "text/latex": [
       "$\\displaystyle 17$"
      ],
      "text/plain": [
       "17"
      ]
     },
     "execution_count": 121,
     "metadata": {},
     "output_type": "execute_result"
    }
   ],
   "source": [
    "factors17.doit()"
   ]
  },
  {
   "cell_type": "code",
   "execution_count": 118,
   "metadata": {},
   "outputs": [
    {
     "data": {
      "text/latex": [
       "$\\displaystyle 2^{1} \\cdot 3^{2}$"
      ],
      "text/plain": [
       " 1  2\n",
       "2 ⋅3 "
      ]
     },
     "execution_count": 118,
     "metadata": {},
     "output_type": "execute_result"
    }
   ],
   "source": [
    "# Even numbers other than 2 cannot be prime\n",
    "factors18 = factorint(18, visual = True)\n",
    "factors18"
   ]
  },
  {
   "cell_type": "code",
   "execution_count": 119,
   "metadata": {},
   "outputs": [
    {
     "data": {
      "text/latex": [
       "$\\displaystyle 18$"
      ],
      "text/plain": [
       "18"
      ]
     },
     "execution_count": 119,
     "metadata": {},
     "output_type": "execute_result"
    }
   ],
   "source": [
    "factors18.doit()"
   ]
  },
  {
   "cell_type": "markdown",
   "metadata": {},
   "source": [
    "Unique Factorization Theorum:\n",
    "\n",
    "Every number *n* can be factored into a product of primes (though some may be repeated).\n",
    "\n",
    "- Primes: numbers divided only by themselves & 1\n",
    "- Factored: repeatedly divided down to numbers whose product is the original\n",
    "- Prime Factorization: factorization down to prime numbers only"
   ]
  },
  {
   "cell_type": "code",
   "execution_count": 128,
   "metadata": {},
   "outputs": [
    {
     "data": {
      "text/latex": [
       "$\\displaystyle \\left[ 2^{1}, \\  3^{1}, \\  5^{1}, \\  7^{1}, \\  11^{1}, \\  13^{1}, \\  17^{1}\\right]$"
      ],
      "text/plain": [
       "⎡ 1   1   1   1    1    1    1⎤\n",
       "⎣2 , 3 , 5 , 7 , 11 , 13 , 17 ⎦"
      ]
     },
     "execution_count": 128,
     "metadata": {},
     "output_type": "execute_result"
    }
   ],
   "source": [
    "[factorint(x, visual = True) for x in sieve._list]"
   ]
  },
  {
   "cell_type": "code",
   "execution_count": 139,
   "metadata": {},
   "outputs": [
    {
     "data": {
      "text/latex": [
       "$\\displaystyle \\left[ 1, \\  2^{2}, \\  2^{1} \\cdot 3^{1}, \\  2^{3}, \\  3^{2}, \\  2^{1} \\cdot 5^{1}, \\  2^{2} \\cdot 3^{1}, \\  2^{1} \\cdot 7^{1}, \\  3^{1} \\cdot 5^{1}, \\  2^{4}\\right]$"
      ],
      "text/plain": [
       "⎡    2   1  1   3   2   1  1   2  1   1  1   1  1   4⎤\n",
       "⎣1, 2 , 2 ⋅3 , 2 , 3 , 2 ⋅5 , 2 ⋅3 , 2 ⋅7 , 3 ⋅5 , 2 ⎦"
      ]
     },
     "execution_count": 139,
     "metadata": {},
     "output_type": "execute_result"
    }
   ],
   "source": [
    "[factorint(x, visual = True) for x in range(1, 18) if not(isprime(x))]"
   ]
  },
  {
   "cell_type": "code",
   "execution_count": 148,
   "metadata": {},
   "outputs": [
    {
     "data": {
      "text/latex": [
       "$\\displaystyle 2^{2} \\cdot 3^{1}$"
      ],
      "text/plain": [
       " 2  1\n",
       "2 ⋅3 "
      ]
     },
     "execution_count": 148,
     "metadata": {},
     "output_type": "execute_result"
    }
   ],
   "source": [
    "factorint(12, visual = True)"
   ]
  },
  {
   "cell_type": "code",
   "execution_count": 151,
   "metadata": {},
   "outputs": [
    {
     "data": {
      "text/latex": [
       "$\\displaystyle 2^{4}$"
      ],
      "text/plain": [
       " 4\n",
       "2 "
      ]
     },
     "execution_count": 151,
     "metadata": {},
     "output_type": "execute_result"
    }
   ],
   "source": [
    "factorint(16, visual = True)"
   ]
  },
  {
   "cell_type": "code",
   "execution_count": 178,
   "metadata": {},
   "outputs": [
    {
     "data": {
      "text/latex": [
       "$\\displaystyle \\left[ 2\\right]$"
      ],
      "text/plain": [
       "[2]"
      ]
     },
     "execution_count": 178,
     "metadata": {},
     "output_type": "execute_result"
    }
   ],
   "source": [
    "common_factor = list(set(factorint(12).keys()) & set(factorint(16).keys()))\n",
    "common_factor"
   ]
  },
  {
   "cell_type": "code",
   "execution_count": 179,
   "metadata": {},
   "outputs": [
    {
     "data": {
      "text/latex": [
       "$\\displaystyle 4$"
      ],
      "text/plain": [
       "4"
      ]
     },
     "execution_count": 179,
     "metadata": {},
     "output_type": "execute_result"
    }
   ],
   "source": [
    "greatest_common_divisor = igcd(12, 16)\n",
    "greatest_common_divisor"
   ]
  },
  {
   "cell_type": "code",
   "execution_count": 180,
   "metadata": {},
   "outputs": [
    {
     "data": {
      "text/plain": [
       "True"
      ]
     },
     "execution_count": 180,
     "metadata": {},
     "output_type": "execute_result"
    }
   ],
   "source": [
    "factorized_numbers = 2\n",
    "common_factor[0] * factorized_numbers == greatest_common_divisor"
   ]
  },
  {
   "cell_type": "code",
   "execution_count": 195,
   "metadata": {},
   "outputs": [
    {
     "data": {
      "image/png": "[encoded data removed]",
      "text/plain": [
       "<Figure size 432x288 with 1 Axes>"
      ]
     },
     "metadata": {
      "needs_background": "light"
     },
     "output_type": "display_data"
    }
   ],
   "source": [
    "import matplotlib.pyplot as plt\n",
    "\n",
    "prime_range = range(0, 100)\n",
    "prime_count = [primepi(n) for n in prime_range]\n",
    "\n",
    "plt.bar(prime_range, prime_count, width = 1)\n",
    "plt.title(\"Accumulating Count of Primes\")\n",
    "plt.xlabel(\"n\")\n",
    "plt.ylabel(\"Count of Primes\")\n",
    "plt.show()"
   ]
  },
  {
   "cell_type": "code",
   "execution_count": 198,
   "metadata": {},
   "outputs": [
    {
     "data": {
      "text/latex": [
       "$\\displaystyle x^{2} + y^{2} = z^{2}$"
      ],
      "text/plain": [
       " 2    2    2\n",
       "x  + y  = z "
      ]
     },
     "execution_count": 198,
     "metadata": {},
     "output_type": "execute_result"
    }
   ],
   "source": [
    "x, y, z = symbols(\"x, y, z\", integers = True)\n",
    "\n",
    "fermats = Eq(x**2 + y**2, z**2)\n",
    "fermats"
   ]
  },
  {
   "cell_type": "code",
   "execution_count": 237,
   "metadata": {},
   "outputs": [
    {
     "data": {
      "text/latex": [
       "$\\displaystyle \\text{True}$"
      ],
      "text/plain": [
       "True"
      ]
     },
     "execution_count": 237,
     "metadata": {},
     "output_type": "execute_result"
    }
   ],
   "source": [
    "fermats.subs([(x, 3), (y, 4), (z, 5)])"
   ]
  },
  {
   "cell_type": "code",
   "execution_count": 238,
   "metadata": {},
   "outputs": [
    {
     "data": {
      "image/png": "[encoded data removed]",
      "text/plain": [
       "<Figure size 432x288 with 1 Axes>"
      ]
     },
     "metadata": {
      "needs_background": "light"
     },
     "output_type": "display_data"
    },
    {
     "data": {
      "text/plain": [
       "<sympy.plotting.plot.Plot at 0x7f91b72e4750>"
      ]
     },
     "execution_count": 238,
     "metadata": {},
     "output_type": "execute_result"
    }
   ],
   "source": [
    "plot_implicit(Eq(x**2 + y**2, z**2).subs(z, 5))"
   ]
  },
  {
   "cell_type": "code",
   "execution_count": 223,
   "metadata": {},
   "outputs": [
    {
     "data": {
      "text/latex": [
       "$\\displaystyle \\left[ \\left( 3, \\  4\\right)\\right]$"
      ],
      "text/plain": [
       "[(3, 4)]"
      ]
     },
     "execution_count": 223,
     "metadata": {},
     "output_type": "execute_result"
    }
   ],
   "source": [
    "from sympy.solvers.diophantine.diophantine import sum_of_squares\n",
    "\n",
    "list(sum_of_squares(25, 2))"
   ]
  },
  {
   "cell_type": "code",
   "execution_count": 257,
   "metadata": {},
   "outputs": [
    {
     "data": {
      "text/latex": [
       "$\\displaystyle \\left[ \\left( 3, \\  2\\right)\\right]$"
      ],
      "text/plain": [
       "[(3, 2)]"
      ]
     },
     "execution_count": 257,
     "metadata": {},
     "output_type": "execute_result"
    }
   ],
   "source": [
    "from sympy.solvers.diophantine.diophantine import diop_DN\n",
    "\n",
    "D = 2\n",
    "N = 1\n",
    "diop_DN(D, N)"
   ]
  },
  {
   "cell_type": "code",
   "execution_count": 252,
   "metadata": {},
   "outputs": [
    {
     "data": {
      "image/png": "[encoded data removed]",
      "text/plain": [
       "<Figure size 432x288 with 1 Axes>"
      ]
     },
     "metadata": {
      "needs_background": "light"
     },
     "output_type": "display_data"
    },
    {
     "data": {
      "text/plain": [
       "<sympy.plotting.plot.Plot at 0x7f91b7359f10>"
      ]
     },
     "execution_count": 252,
     "metadata": {},
     "output_type": "execute_result"
    }
   ],
   "source": [
    "# n (sometimes D) here must be positive non-square integer\n",
    "plot_implicit(Eq(x**2 - (n * y**2), 1).subs(n, 2), title = \"Pell's Equation\")"
   ]
  },
  {
   "cell_type": "markdown",
   "metadata": {},
   "source": [
    "## 5. Integers"
   ]
  },
  {
   "cell_type": "code",
   "execution_count": 50,
   "metadata": {},
   "outputs": [
    {
     "name": "stdout",
     "output_type": "stream",
     "text": [
      "True\n",
      "True\n"
     ]
    }
   ],
   "source": [
    "def naturalNumberAdditionWithOneNegative(n, m):\n",
    "    \"\"\" Checks the rules of addition of natural numbers with 1 negative. \"\"\"\n",
    "    if n >= 0 and m >= 0:\n",
    "        if n >= m:\n",
    "            return n + (-m) == n - m\n",
    "        elif n < m:\n",
    "            return n + (-m) == -(m - n)\n",
    "\n",
    "\n",
    "print(naturalNumberAdditionWithOneNegative(5, 2))\n",
    "print(naturalNumberAdditionWithOneNegative(2, 5))"
   ]
  },
  {
   "cell_type": "code",
   "execution_count": 51,
   "metadata": {},
   "outputs": [
    {
     "name": "stdout",
     "output_type": "stream",
     "text": [
      "True\n"
     ]
    }
   ],
   "source": [
    "def naturalNumberAdditionWithTwoNegatives(n, m):\n",
    "    \"\"\" Checks the rules of addition of natural numbers with 2 negatives. \"\"\"\n",
    "    if n >= 0 and m >= 0:\n",
    "        return (-n) + (-m) == -(n + m)\n",
    "    \n",
    "\n",
    "print(naturalNumberAdditionWithTwoNegatives(5, 2))"
   ]
  },
  {
   "cell_type": "markdown",
   "metadata": {},
   "source": [
    "Another example of defining operations for **Z** series of integers:"
   ]
  },
  {
   "cell_type": "code",
   "execution_count": 52,
   "metadata": {},
   "outputs": [
    {
     "name": "stdout",
     "output_type": "stream",
     "text": [
      "(4, 6)\n",
      "(-4, -6)\n",
      "(0, 0)\n",
      "(0, 0)\n",
      "\n",
      "(4, 4)\n"
     ]
    }
   ],
   "source": [
    "def sumForIntegers(x, y):\n",
    "    \"\"\" Definition of sum for set of integers. \"\"\"\n",
    "    m, n = x\n",
    "    mp, np = y\n",
    "    return (m + mp, n + np)\n",
    "\n",
    "print(sumForIntegers((2, 3), (2, 3)))\n",
    "print(sumForIntegers((-2, -3), (-2, -3)))\n",
    "print(sumForIntegers((-2, 3), (2, -3)))\n",
    "print(sumForIntegers((2, -3), (-2, 3)))\n",
    "print()\n",
    "print(sumForIntegers((2, 2), (2, 2)))"
   ]
  },
  {
   "cell_type": "code",
   "execution_count": 53,
   "metadata": {},
   "outputs": [
    {
     "name": "stdout",
     "output_type": "stream",
     "text": [
      "Both up : (13, 12)\n",
      "Both down : (13, 12)\n",
      "Down then up : (12, 13)\n",
      "Up then down : (12, 13)\n",
      "\n",
      "(13, 12)\n",
      "(-13, 12)\n",
      "(-13, 12)\n",
      "(13, -12)\n",
      "\n",
      "(8, 8)\n"
     ]
    }
   ],
   "source": [
    "def productForIntegers(x, y):\n",
    "    \"\"\" Definiton of product for set of integers. \"\"\"\n",
    "    m, n = x\n",
    "    mp, np = y\n",
    "    return (m * mp + n * np, m * np + n * mp)\n",
    "\n",
    "print(\"Both up : \" + str(productForIntegers((2, 3), (2, 3))))\n",
    "print(\"Both down : \" + str(productForIntegers((3, 2), (3, 2))))\n",
    "print(\"Down then up : \" + str(productForIntegers((3, 2), (2, 3))))\n",
    "print(\"Up then down : \" + str(productForIntegers((2, 3), (3, 2))))\n",
    "print()\n",
    "print(productForIntegers((-2, -3), (-2, -3)))\n",
    "print(productForIntegers((-2, 3), (2, -3)))\n",
    "print(productForIntegers((2, -3), (-2, 3)))\n",
    "print(productForIntegers((-2, 3), (-2, 3)))\n",
    "print()\n",
    "print(productForIntegers((2, 2), (2, 2)))"
   ]
  },
  {
   "cell_type": "markdown",
   "metadata": {},
   "source": [
    "## 6. Rational Numbers"
   ]
  },
  {
   "cell_type": "markdown",
   "metadata": {},
   "source": [
    "Fractions are the response to the inability of numbers to always be divided evenly into whole numbers:"
   ]
  },
  {
   "cell_type": "code",
   "execution_count": 54,
   "metadata": {},
   "outputs": [
    {
     "name": "stdout",
     "output_type": "stream",
     "text": [
      "(11, 12)\n",
      "(10, 1)\n"
     ]
    }
   ],
   "source": [
    "def sumForFractions(x, y):\n",
    "    \"\"\" Definition of sum for fractions \"\"\"\n",
    "    m, n = x\n",
    "    mp, np = y\n",
    "    return ((m * np + mp * n), n * np)\n",
    "\n",
    "print(sumForFractions((2, 3), (1, 4)))\n",
    "print(sumForFractions((5, 1), (5, 1)))"
   ]
  },
  {
   "cell_type": "code",
   "execution_count": 55,
   "metadata": {},
   "outputs": [
    {
     "name": "stdout",
     "output_type": "stream",
     "text": [
      "(2, 12)\n",
      "(4, 9)\n",
      "(25, 1)\n"
     ]
    }
   ],
   "source": [
    "def productForFractions(x, y):\n",
    "    \"\"\" Definition of product for fractions. \"\"\"\n",
    "    m, n = x\n",
    "    mp, np = y\n",
    "    return (m * mp, n * np)\n",
    "\n",
    "print(productForFractions((2, 3), (1, 4)))\n",
    "print(productForFractions((2, 3), (2, 3)))\n",
    "print(productForFractions((5, 1), (5, 1)))"
   ]
  },
  {
   "cell_type": "markdown",
   "metadata": {},
   "source": [
    "# 7. Congruence"
   ]
  },
  {
   "cell_type": "code",
   "execution_count": 56,
   "metadata": {},
   "outputs": [
    {
     "name": "stdout",
     "output_type": "stream",
     "text": [
      "Result    : 832\n",
      "digitSum1 : 4\n",
      "digitSum2 : 4\n"
     ]
    },
    {
     "data": {
      "text/plain": [
       "True"
      ]
     },
     "execution_count": 56,
     "metadata": {},
     "output_type": "execute_result"
    }
   ],
   "source": [
    "def castingOutNinesMultiplication(x, y):\n",
    "    \"\"\" Check that the result of a multiplication is correct. \"\"\"\n",
    "    result = x * y\n",
    "    x = sum(map(int, str(x)))\n",
    "    y = sum(map(int, str(y)))\n",
    "    digitSum1 = sum(map(int, str(x * y)))\n",
    "    digitSum2 = sum(map(int, str(sum(map(int, str(result))))))\n",
    "    print(\"Result    : \" + str(result))\n",
    "    print(\"digitSum1 : \" + str(digitSum1))\n",
    "    print(\"digitSum2 : \" + str(digitSum2))\n",
    "    return digitSum1 == digitSum2\n",
    "\n",
    "castingOutNinesMultiplication(32, 26)"
   ]
  },
  {
   "cell_type": "code",
   "execution_count": 57,
   "metadata": {},
   "outputs": [
    {
     "name": "stdout",
     "output_type": "stream",
     "text": [
      "False\n",
      "True\n"
     ]
    }
   ],
   "source": [
    "def isCongruent(a, b, m):\n",
    "    \"\"\" Checks that a is congruent to b. \"\"\"\n",
    "    if m != 0:\n",
    "        difference = a - b\n",
    "        if difference % m == 0:\n",
    "            return True\n",
    "    \n",
    "    return False\n",
    "\n",
    "\n",
    "print(isCongruent(24, 5, 10))\n",
    "print(isCongruent(25, 5, 10))"
   ]
  },
  {
   "cell_type": "code",
   "execution_count": 58,
   "metadata": {},
   "outputs": [
    {
     "name": "stdout",
     "output_type": "stream",
     "text": [
      "False\n",
      "True\n"
     ]
    }
   ],
   "source": [
    "def congruentSum(a, b, c, d, m):\n",
    "    \"\"\" Checks that sums are congruent. \"\"\"\n",
    "    if isCongruent(a, b, m) and isCongruent(c, d, m):\n",
    "        return isCongruent(a + c, b + d, m)\n",
    "    else:\n",
    "        return False\n",
    "    \n",
    "    \n",
    "print(congruentSum(20, 3, 18, 8, 8))\n",
    "print(congruentSum(20, 4, 25, 1, 8))"
   ]
  },
  {
   "cell_type": "code",
   "execution_count": 59,
   "metadata": {},
   "outputs": [
    {
     "name": "stdout",
     "output_type": "stream",
     "text": [
      "False\n",
      "True\n"
     ]
    }
   ],
   "source": [
    "def congruentProduct(a, b, c, d, m):\n",
    "    \"\"\" Checks that products are congruent. \"\"\"\n",
    "    if isCongruent(a, b, m) and isCongruent(c, d, m):\n",
    "        return isCongruent(a * c, b * d, m)\n",
    "    else:\n",
    "        return False\n",
    "    \n",
    "\n",
    "print(congruentProduct(20, 3, 18, 8, 8))\n",
    "print(congruentProduct(20, 4, 25, 1, 8))"
   ]
  },
  {
   "cell_type": "code",
   "execution_count": 60,
   "metadata": {},
   "outputs": [
    {
     "name": "stdout",
     "output_type": "stream",
     "text": [
      "6\n",
      "6\n",
      "2\n"
     ]
    }
   ],
   "source": [
    "import sympy\n",
    "\n",
    "def EulersPhiFunction(m):\n",
    "    \"\"\" Eulers Phi function counts no. remaineders with no factor in\n",
    "    common with the modulus m. \"\"\"\n",
    "    if sympy.isprime(m):\n",
    "        return m - 1\n",
    "    else:\n",
    "        factors = sympy.factorint(m)\n",
    "        if len(factors) == 1:\n",
    "            for a, b in factors.items():\n",
    "                return (a - 1) * (a ** (b - 1))\n",
    "        else:\n",
    "            a, b = [k for k, v in factors.items() if v == 1]\n",
    "            return EulersPhiFunction(a) * EulersPhiFunction(b)\n",
    "\n",
    "\n",
    "print(EulersPhiFunction(7))\n",
    "print(EulersPhiFunction(9))\n",
    "print(EulersPhiFunction(6))"
   ]
  },
  {
   "cell_type": "markdown",
   "metadata": {},
   "source": [
    "3 descriptions of algebra of integers module *m*:\n",
    "\n",
    "- ordinary integers with new equality; congurence modulo *m*\n",
    "- algebra of remainders modulo *m*\n",
    "- algebra of congruence classes, modulo *m*"
   ]
  },
  {
   "cell_type": "code",
   "execution_count": 61,
   "metadata": {},
   "outputs": [
    {
     "name": "stdout",
     "output_type": "stream",
     "text": [
      "True\n"
     ]
    }
   ],
   "source": [
    "def chineseRemainderTheorem(x, b, m, c, n):\n",
    "    \"\"\" If m & n are coprime x can be found via product of m & n. \"\"\"\n",
    "    if sympy.isprime(m) and sympy.isprime(n) and m != n:\n",
    "        if isCongruent(x, b, m) and isCongruent(x, c, n):\n",
    "            N = m * n\n",
    "            c1 = N // m\n",
    "            c2 = N // n\n",
    "            _, y1, _ = sympy.gcdex(m, c1)\n",
    "            _, y2, _ = sympy.gcdex(n, c2)\n",
    "            return x == (b * c1 * y1) + (c * c2 * y2)\n",
    "    \n",
    "    return False\n",
    "        \n",
    "print(chineseRemainderTheorem(8, 2, 3, 3, 5))"
   ]
  },
  {
   "cell_type": "markdown",
   "metadata": {},
   "source": [
    "# 8. Cardinal Numbers"
   ]
  },
  {
   "cell_type": "markdown",
   "metadata": {},
   "source": [
    "A cardinal number can be defined as:\n",
    "\n",
    "- card S = {S' | S $\\equiv$ S'}\n",
    "\n",
    "That is: the cardinal set S is the set of all sets S' where S' are restricted to being congruent with S.\n",
    "\n",
    "> ... a finite cardinal *number* is just a finite set taken \"modulo\" cardinal eqivalence ...\n",
    "\n",
    "There is a strong analogy between congruence class modulo *m* & cardinal numbers."
   ]
  },
  {
   "cell_type": "markdown",
   "metadata": {},
   "source": [
    "A *power set* is:\n",
    "\n",
    "- PU = {S | S $\\subset$ U}"
   ]
  },
  {
   "cell_type": "markdown",
   "metadata": {},
   "source": [
    "# 9. Ordinal Numbers"
   ]
  },
  {
   "cell_type": "markdown",
   "metadata": {},
   "source": [
    "poset = a partially ordered set\n",
    "\n",
    "- ord P = {P' | P' $\\in$ V$_1$ and P ~ P'}\n",
    "\n",
    "~ here represents *ordinally equivalent*."
   ]
  },
  {
   "cell_type": "markdown",
   "metadata": {},
   "source": [
    "Arithmetic operations on finite ordinal sets work identically to those on cardinals.\n",
    "But this is not the case with infinite order sets, for example:\n",
    "\n",
    "- $N^+$ has a 1st element\n",
    "- $N^-$ has no 1st element (not regarded as an infinite ordinal number)"
   ]
  },
  {
   "cell_type": "markdown",
   "metadata": {},
   "source": [
    "# 10. What Are Numbers?"
   ]
  },
  {
   "cell_type": "markdown",
   "metadata": {},
   "source": [
    "Alternative answers to this question are:\n",
    "\n",
    "- any sequence of marks (with successors) used for counting or labeling\n",
    "- natural numbers are finite sets with equinumerous sets regarded as equal\n",
    "- natural numbers are cardinal-equivalence classes of finite sets\n",
    "- natural numbers are ordinal-equivalence classes of finite ordered sets\n",
    "- natural numbers are finite sets of sets linearly ordered by membership relation"
   ]
  },
  {
   "cell_type": "markdown",
   "metadata": {},
   "source": [
    "This leads to the conclusion that there is no single definition of natural numbers; instead one defines the system of all natural numbers with a successor operation.\n",
    "\n",
    "*N* is any such system which satisfies the Peano postulates."
   ]
  },
  {
   "cell_type": "markdown",
   "metadata": {},
   "source": [
    "> The natural numbers start out from elementary operations of counting, listing, and comparing; they then develop into effective tools for calculation.\n",
    "The rules for calculation are formal and can be organized as the consequences of simple systems of postulates.\n",
    "The consequencesof these postulates include the remarkaby varied and rich properties studied in number theory . . ."
   ]
  },
  {
   "cell_type": "markdown",
   "metadata": {},
   "source": [
    "But number theory leads to other ideas:\n",
    "\n",
    "1. calculations with *N* do not allow all substractions or divisions so require **Z** & *Q*.\n",
    "2. calculations with congruences & integers modulo *m* (classes of numbers)\n",
    "3. the study of sets and functions"
   ]
  }
 ],
 "metadata": {
  "kernelspec": {
   "display_name": "Python 3",
   "language": "python",
   "name": "python3"
  },
  "language_info": {
   "codemirror_mode": {
    "name": "ipython",
    "version": 3
   },
   "file_extension": ".py",
   "mimetype": "text/x-python",
   "name": "python",
   "nbconvert_exporter": "python",
   "pygments_lexer": "ipython3",
   "version": "3.7.6"
  }
 },
 "nbformat": 4,
 "nbformat_minor": 4
}
