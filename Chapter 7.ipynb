{
 "cells": [
  {
   "cell_type": "markdown",
   "metadata": {},
   "source": [
    "# Maths - Form & Function: Chapter 7 (Linear Algebra)"
   ]
  },
  {
   "cell_type": "markdown",
   "metadata": {},
   "source": [
    "***"
   ]
  },
  {
   "cell_type": "markdown",
   "metadata": {},
   "source": [
    "## 1. Sources of Linearity"
   ]
  },
  {
   "cell_type": "markdown",
   "metadata": {},
   "source": [
    "> To say that an effect is \"linear\" means that the effect respects proportions and that the effect of a sum is the sum of the separate effects."
   ]
  },
  {
   "cell_type": "code",
   "execution_count": 1,
   "metadata": {},
   "outputs": [
    {
     "name": "stdout",
     "output_type": "stream",
     "text": [
      "True\n"
     ]
    }
   ],
   "source": [
    "import numpy as np\n",
    "\n",
    "# Show that axioms are satisfied for vectors / scalars under\n",
    "# addition and multiplication\n",
    "\n",
    "F = range(0, 100) # a field of scalars\n",
    "V = [np.array([x, x * 2]) for x in range(0, 100)] # a set of vectors\n",
    "a, b = F[50], F[51]\n",
    "v, w = V[25], V[66]\n",
    "\n",
    "print(\n",
    "    all(\n",
    "        [\n",
    "            np.array_equal(a * (v + w), a * v + a * w),\n",
    "            np.array_equal(1 * v, v),\n",
    "            np.array_equal((a + b) * v , a * v + b * v),\n",
    "            np.array_equal((a * b) * v, a * (b * v))\n",
    "        ]\n",
    "    )\n",
    ")      "
   ]
  },
  {
   "cell_type": "code",
   "execution_count": 2,
   "metadata": {},
   "outputs": [
    {
     "name": "stdout",
     "output_type": "stream",
     "text": [
      "[24502500 49005000]\n"
     ]
    }
   ],
   "source": [
    "def linear_combination(F, V):\n",
    "    lc = sum([x * y for x in F for y in V])\n",
    "    return lc\n",
    "\n",
    "print(linear_combination(F, V))"
   ]
  },
  {
   "cell_type": "code",
   "execution_count": 3,
   "metadata": {},
   "outputs": [
    {
     "name": "stdout",
     "output_type": "stream",
     "text": [
      "True\n",
      "True\n"
     ]
    }
   ],
   "source": [
    "T = sum # A transformation that preserves linear combinations\n",
    "\n",
    "# 2 simple identities proving the transformations\n",
    "print(np.array_equal(T(v + w), T(v) + T(w)))\n",
    "print(np.array_equal(T(a * v), a * T(v)))"
   ]
  },
  {
   "cell_type": "markdown",
   "metadata": {},
   "source": [
    "***"
   ]
  },
  {
   "cell_type": "markdown",
   "metadata": {},
   "source": [
    "## 2. Transformations versus Matrices"
   ]
  },
  {
   "cell_type": "markdown",
   "metadata": {},
   "source": [
    "There are 2 styles of doing linear algebra:\n",
    "\n",
    "- Geometrically, or invariantly, with linear combinations of vectors\n",
    "- Explicitly, with coordinates (which depends on a choice of basis)"
   ]
  },
  {
   "cell_type": "code",
   "execution_count": 4,
   "metadata": {},
   "outputs": [],
   "source": [
    "def linear_endomorphism(u, a, j):\n",
    "    \"\"\" Images from a linear endomorphism.\n",
    "    u - vectors\n",
    "    a - coefficients\n",
    "    j - index of the basis\n",
    "    \"\"\"\n",
    "    a = a[j]\n",
    "    return sum([x * y for x in u for y in a])\n",
    "\n",
    "def coordinates_vectors(a, i, j, x):\n",
    "    \"\"\" Gives the coordinates of a transformation.\n",
    "    a - coefficients\n",
    "    i - index of the basis\n",
    "    x - previous coordinates\n",
    "    \"\"\"\n",
    "    a = a[i]\n",
    "    return sum([l * m for l in a for m in x])"
   ]
  },
  {
   "cell_type": "markdown",
   "metadata": {},
   "source": [
    "> In the 20th century, matrix multiplication had trimphant (and unexpected) applications in quantum mechanics. However, the ideas underlying matrix theory first developed from the study of elasticity or at least from the use of many-variable calculus to get linear approximations."
   ]
  },
  {
   "cell_type": "markdown",
   "metadata": {},
   "source": [
    "***"
   ]
  },
  {
   "cell_type": "markdown",
   "metadata": {},
   "source": [
    "## 3. Eigenvalues"
   ]
  },
  {
   "cell_type": "markdown",
   "metadata": {},
   "source": [
    "> Two matrices $A$ and $B$ which represent the same endomorphism of $V$ relative to (possibly) different bases are said to be *similar* ... square matrices $A$ and $B$ are similar if and only if there is a non-singular matrix $P$ with $B = PAP^{-1}$"
   ]
  },
  {
   "cell_type": "markdown",
   "metadata": {},
   "source": [
    "> $\\lambda$ is an *eigenvalue* of an endomorphism $T$ if and only if $Tv = v\\lambda$ for some non-zero vector$v$; equivalently, in matrix language, $\\lambda$ is an eignenvalue of a matrix $A$ if and only if $AX = X\\lambda$ for some $X \\neq 0$."
   ]
  },
  {
   "cell_type": "markdown",
   "metadata": {},
   "source": [
    "> An *eigenvector* $X$ for $A$ is then any vector (zero or not) with $AX = X\\lambda$ for a scalar $\\lambda$"
   ]
  },
  {
   "cell_type": "markdown",
   "metadata": {},
   "source": [
    "**Theorem 1.** An n X n square matrix A is similar to a diagonal matrix if and only if A has n linearly independent eigenvectors."
   ]
  },
  {
   "cell_type": "code",
   "execution_count": 51,
   "metadata": {},
   "outputs": [
    {
     "name": "stdout",
     "output_type": "stream",
     "text": [
      "Eigenvalues:\n",
      "(2.5+1.9364916731037083j)\n",
      "(2.5-1.9364916731037083j)\n",
      "\n",
      "Eigenvectors:\n",
      "[-0.1118034 +0.4330127j  0.89442719+0.j       ]\n"
     ]
    }
   ],
   "source": [
    "from numpy import linalg as la\n",
    "\n",
    "A = np.array([[2, -1], [4, 3]])\n",
    "eigenvalues, eigenvectors = la.eig(A)\n",
    "\n",
    "a, b = eigenvalues\n",
    "print(\"Eigenvalues:\")\n",
    "print(a)\n",
    "print(b)\n",
    "print()\n",
    "\n",
    "x = eigenvectors[:, 0]\n",
    "print(\"Eigenvectors:\")\n",
    "print(x)"
   ]
  },
  {
   "cell_type": "code",
   "execution_count": 52,
   "metadata": {},
   "outputs": [
    {
     "name": "stdout",
     "output_type": "stream",
     "text": [
      "[-1.11803399+0.8660254j   2.23606798+1.73205081j]\n"
     ]
    }
   ],
   "source": [
    "A_by_x = np.dot(A, x)\n",
    "print(A_by_x)"
   ]
  },
  {
   "cell_type": "code",
   "execution_count": 60,
   "metadata": {},
   "outputs": [
    {
     "name": "stdout",
     "output_type": "stream",
     "text": [
      "[-1.11803399+0.8660254j   2.23606798+1.73205081j]\n"
     ]
    }
   ],
   "source": [
    "x_by_a = x * a\n",
    "print(x_by_a)"
   ]
  },
  {
   "cell_type": "code",
   "execution_count": 138,
   "metadata": {},
   "outputs": [
    {
     "name": "stdout",
     "output_type": "stream",
     "text": [
      "True\n"
     ]
    }
   ],
   "source": [
    "print(np.allclose(A_by_x, x_by_a))"
   ]
  },
  {
   "cell_type": "code",
   "execution_count": 157,
   "metadata": {},
   "outputs": [
    {
     "name": "stdout",
     "output_type": "stream",
     "text": [
      "10\n",
      "True\n"
     ]
    }
   ],
   "source": [
    "determinant = A[0, 0] * A[1, 1]  - A[0, 1] * A[1, 0]\n",
    "print(determinant)\n",
    "print(math.isclose(determinant, la.det(A)))"
   ]
  },
  {
   "cell_type": "code",
   "execution_count": 145,
   "metadata": {},
   "outputs": [
    {
     "name": "stdout",
     "output_type": "stream",
     "text": [
      "True\n"
     ]
    }
   ],
   "source": [
    "trace = A[0, 0] + A[1, 1]\n",
    "print(math.isclose(trace, np.trace(A)))"
   ]
  },
  {
   "cell_type": "markdown",
   "metadata": {},
   "source": [
    "**Theorem 2.** The eigenvalues of A are the roots of its characteristic polynomial"
   ]
  },
  {
   "cell_type": "code",
   "execution_count": 163,
   "metadata": {},
   "outputs": [
    {
     "data": {
      "text/latex": [
       "$\\displaystyle \\lambda^{2} - 5 \\lambda + 10$"
      ],
      "text/plain": [
       "lambda**2 - 5*lambda + 10"
      ]
     },
     "execution_count": 163,
     "metadata": {},
     "output_type": "execute_result"
    }
   ],
   "source": [
    "import sympy\n",
    "\n",
    "A_sym = sympy.Matrix(A)\n",
    "A_sym.charpoly().as_expr()"
   ]
  },
  {
   "cell_type": "markdown",
   "metadata": {},
   "source": [
    "***"
   ]
  },
  {
   "cell_type": "markdown",
   "metadata": {},
   "source": [
    "## 4. Dual Spaces"
   ]
  },
  {
   "cell_type": "code",
   "execution_count": null,
   "metadata": {},
   "outputs": [],
   "source": []
  }
 ],
 "metadata": {
  "kernelspec": {
   "display_name": "Python 3",
   "language": "python",
   "name": "python3"
  },
  "language_info": {
   "codemirror_mode": {
    "name": "ipython",
    "version": 3
   },
   "file_extension": ".py",
   "mimetype": "text/x-python",
   "name": "python",
   "nbconvert_exporter": "python",
   "pygments_lexer": "ipython3",
   "version": "3.7.3"
  }
 },
 "nbformat": 4,
 "nbformat_minor": 4
}
