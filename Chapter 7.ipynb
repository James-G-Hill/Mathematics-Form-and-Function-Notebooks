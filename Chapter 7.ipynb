{
 "cells": [
  {
   "cell_type": "markdown",
   "metadata": {},
   "source": [
    "# Maths - Form & Function: Chapter 7 (Linear Algebra)"
   ]
  },
  {
   "cell_type": "markdown",
   "metadata": {},
   "source": [
    "***"
   ]
  },
  {
   "cell_type": "markdown",
   "metadata": {},
   "source": [
    "## 1. Sources of Linearity"
   ]
  },
  {
   "cell_type": "markdown",
   "metadata": {},
   "source": [
    "> To say that an effect is \"linear\" means that the effect respects proportions and that the effect of a sum is the sum of the separate effects."
   ]
  },
  {
   "cell_type": "code",
   "execution_count": 12,
   "metadata": {},
   "outputs": [
    {
     "name": "stdout",
     "output_type": "stream",
     "text": [
      "True\n"
     ]
    }
   ],
   "source": [
    "import numpy as np\n",
    "\n",
    "# Show that axioms are satisfied for vectors / scalars under\n",
    "# addition and multiplication\n",
    "\n",
    "F = range(0, 100) # a field of scalars\n",
    "V = [np.array([x, x * 2]) for x in range(0, 100)] # a set of vectors\n",
    "a, b = F[50], F[51]\n",
    "v, w = V[25], V[66]\n",
    "\n",
    "print(\n",
    "    all(\n",
    "        [\n",
    "            np.array_equal(a * (v + w), a * v + a * w),\n",
    "            np.array_equal(1 * v, v),\n",
    "            np.array_equal((a + b) * v , a * v + b * v),\n",
    "            np.array_equal((a * b) * v, a * (b * v))\n",
    "        ]\n",
    "    )\n",
    ")      "
   ]
  },
  {
   "cell_type": "code",
   "execution_count": 13,
   "metadata": {},
   "outputs": [
    {
     "name": "stdout",
     "output_type": "stream",
     "text": [
      "[24502500 49005000]\n"
     ]
    }
   ],
   "source": [
    "def linear_combination(F, V):\n",
    "    lc = sum([x * y for x in F for y in V])\n",
    "    return lc\n",
    "\n",
    "print(linear_combination(F, V))"
   ]
  },
  {
   "cell_type": "code",
   "execution_count": 14,
   "metadata": {},
   "outputs": [
    {
     "name": "stdout",
     "output_type": "stream",
     "text": [
      "True\n",
      "True\n"
     ]
    }
   ],
   "source": [
    "T = sum # A transformation that preserves linear combinations\n",
    "\n",
    "# 2 simple identities proving the transformations\n",
    "print(np.array_equal(T(v + w), T(v) + T(w)))\n",
    "print(np.array_equal(T(a * v), a * T(v)))"
   ]
  },
  {
   "cell_type": "markdown",
   "metadata": {},
   "source": [
    "***"
   ]
  },
  {
   "cell_type": "markdown",
   "metadata": {},
   "source": [
    "## 2. Transformations versus Matrices"
   ]
  },
  {
   "cell_type": "markdown",
   "metadata": {},
   "source": [
    "There are 2 styles of doing linear algebra:\n",
    "\n",
    "- Geometrically, or invariantly, with linear combinations of vectors\n",
    "- Explicitly, with coordinates (which depends on a choice of basis)"
   ]
  },
  {
   "cell_type": "code",
   "execution_count": 15,
   "metadata": {},
   "outputs": [],
   "source": [
    "def linear_endomorphism(u, a, j):\n",
    "    \"\"\" Images from a linear endomorphism.\n",
    "    u - vectors\n",
    "    a - coefficients\n",
    "    j - index of the basis\n",
    "    \"\"\"\n",
    "    a = a[j]\n",
    "    return sum([x * y for x in u for y in a])\n",
    "\n",
    "def coordinates_vectors(a, i, j, x):\n",
    "    \"\"\" Gives the coordinates of a transformation.\n",
    "    a - coefficients\n",
    "    i - index of the basis\n",
    "    x - previous coordinates\n",
    "    \"\"\"\n",
    "    a = a[i]\n",
    "    return sum([l * m for l in a for m in x])"
   ]
  },
  {
   "cell_type": "markdown",
   "metadata": {},
   "source": [
    "> In the 20th century, matrix multiplication had trimphant (and unexpected) applications in quantum mechanics. However, the ideas underlying matrix theory first developed from the study of elasticity or at least from the use of many-variable calculus to get linear approximations."
   ]
  },
  {
   "cell_type": "code",
   "execution_count": 113,
   "metadata": {},
   "outputs": [
    {
     "data": {
      "image/png": "[encoded data removed]",
      "text/plain": [
       "<Figure size 432x288 with 1 Axes>"
      ]
     },
     "metadata": {
      "needs_background": "light"
     },
     "output_type": "display_data"
    }
   ],
   "source": [
    "import matplotlib.pyplot as plt\n",
    "\n",
    "C = np.array([2, 4])\n",
    "\n",
    "def plot_create(plot):\n",
    "    fig, ax = plot.subplots()\n",
    "    ax.grid(True)\n",
    "    ax.axhline(y=0, color='k')\n",
    "    ax.axvline(x=0, color='k')\n",
    "    ax.set_aspect('equal')\n",
    "    plot.xlim(-6, 6)\n",
    "    plot.ylim(-6, 6)\n",
    "    return fig, ax, plot\n",
    "\n",
    "fig, ax, plt = plot_create(plt)\n",
    "plt.quiver(C[0], C[1], angles = \"xy\", scale_units = \"xy\", scale = 1, color = \"r\")\n",
    "plt.show()"
   ]
  },
  {
   "cell_type": "code",
   "execution_count": 115,
   "metadata": {},
   "outputs": [
    {
     "name": "stdout",
     "output_type": "stream",
     "text": [
      "[4 2]\n"
     ]
    },
    {
     "data": {
      "image/png": "[encoded data removed]",
      "text/plain": [
       "<Figure size 432x288 with 1 Axes>"
      ]
     },
     "metadata": {
      "needs_background": "light"
     },
     "output_type": "display_data"
    }
   ],
   "source": [
    "# Change the x & y axis\n",
    "T = np.array([[0, 1], [1, 0]])\n",
    "C2 = np.dot(T, C)\n",
    "\n",
    "fig, ax, plt = plot_create(plt)\n",
    "plt.quiver(C2[0], C2[1], angles = \"xy\", scale_units = \"xy\", scale = 1, color = \"r\")\n",
    "plt.show()"
   ]
  },
  {
   "cell_type": "code",
   "execution_count": 120,
   "metadata": {},
   "outputs": [
    {
     "name": "stdout",
     "output_type": "stream",
     "text": [
      "[2. 6.]\n"
     ]
    },
    {
     "data": {
      "image/png": "[encoded data removed]",
      "text/plain": [
       "<Figure size 432x288 with 1 Axes>"
      ]
     },
     "metadata": {
      "needs_background": "light"
     },
     "output_type": "display_data"
    }
   ],
   "source": [
    "# Stretch y dimension\n",
    "T = np.array([[1, 0], [0, 1.5]])\n",
    "C2 = np.dot(T, C)\n",
    "\n",
    "fig, ax, plt = plot_create(plt)\n",
    "plt.quiver(C2[0], C2[1], angles = \"xy\", scale_units = \"xy\", scale = 1, color = \"r\")\n",
    "plt.show()"
   ]
  },
  {
   "cell_type": "code",
   "execution_count": 123,
   "metadata": {},
   "outputs": [
    {
     "data": {
      "image/png": "[encoded data removed]",
      "text/plain": [
       "<Figure size 432x288 with 1 Axes>"
      ]
     },
     "metadata": {
      "needs_background": "light"
     },
     "output_type": "display_data"
    }
   ],
   "source": [
    "# Reflect on x & y\n",
    "T2 = np.array([[-1, 0], [0, 1]])\n",
    "C2 = np.dot(T2, C)\n",
    "T3 = np.array([[1, 0], [0, -1]])\n",
    "C3 = np.dot(T3, C)\n",
    "\n",
    "fig, ax, plt = plot_create(plt)\n",
    "plt.quiver(C2[0], C2[1], angles = \"xy\", scale_units = \"xy\", scale = 1, color = \"r\")\n",
    "plt.quiver(C3[0], C3[1], angles = \"xy\", scale_units = \"xy\", scale = 1, color = \"b\")\n",
    "plt.show()"
   ]
  },
  {
   "cell_type": "markdown",
   "metadata": {},
   "source": [
    "***"
   ]
  },
  {
   "cell_type": "markdown",
   "metadata": {},
   "source": [
    "## 3. Eigenvalues"
   ]
  },
  {
   "cell_type": "markdown",
   "metadata": {},
   "source": [
    "> Two matrices $A$ and $B$ which represent the same endomorphism of $V$ relative to (possibly) different bases are said to be *similar* ... square matrices $A$ and $B$ are similar if and only if there is a non-singular matrix $P$ with $B = PAP^{-1}$"
   ]
  },
  {
   "cell_type": "markdown",
   "metadata": {},
   "source": [
    "> $\\lambda$ is an *eigenvalue* of an endomorphism $T$ if and only if $Tv = v\\lambda$ for some non-zero vector$v$; equivalently, in matrix language, $\\lambda$ is an eignenvalue of a matrix $A$ if and only if $AX = X\\lambda$ for some $X \\neq 0$."
   ]
  },
  {
   "cell_type": "markdown",
   "metadata": {},
   "source": [
    "> An *eigenvector* $X$ for $A$ is then any vector (zero or not) with $AX = X\\lambda$ for a scalar $\\lambda$"
   ]
  },
  {
   "cell_type": "markdown",
   "metadata": {},
   "source": [
    "**Theorem 1.** An n X n square matrix A is similar to a diagonal matrix if and only if A has n linearly independent eigenvectors."
   ]
  },
  {
   "cell_type": "code",
   "execution_count": 5,
   "metadata": {},
   "outputs": [
    {
     "name": "stdout",
     "output_type": "stream",
     "text": [
      "Eigenvalues:\n",
      "(2.5+1.9364916731037083j)\n",
      "(2.5-1.9364916731037083j)\n",
      "\n",
      "Eigenvectors:\n",
      "[-0.1118034 +0.4330127j  0.89442719+0.j       ]\n"
     ]
    }
   ],
   "source": [
    "from numpy import linalg as la\n",
    "\n",
    "A = np.array([[2, -1], [4, 3]])\n",
    "eigenvalues, eigenvectors = la.eig(A)\n",
    "\n",
    "a, b = eigenvalues\n",
    "print(\"Eigenvalues:\")\n",
    "print(a)\n",
    "print(b)\n",
    "print()\n",
    "\n",
    "x = eigenvectors[:, 0]\n",
    "print(\"Eigenvectors:\")\n",
    "print(x)"
   ]
  },
  {
   "cell_type": "code",
   "execution_count": 6,
   "metadata": {},
   "outputs": [
    {
     "name": "stdout",
     "output_type": "stream",
     "text": [
      "[-1.11803399+0.8660254j   2.23606798+1.73205081j]\n"
     ]
    }
   ],
   "source": [
    "A_by_x = np.dot(A, x)\n",
    "print(A_by_x)"
   ]
  },
  {
   "cell_type": "code",
   "execution_count": 7,
   "metadata": {},
   "outputs": [
    {
     "name": "stdout",
     "output_type": "stream",
     "text": [
      "[-1.11803399+0.8660254j   2.23606798+1.73205081j]\n"
     ]
    }
   ],
   "source": [
    "x_by_a = x * a\n",
    "print(x_by_a)"
   ]
  },
  {
   "cell_type": "code",
   "execution_count": 8,
   "metadata": {},
   "outputs": [
    {
     "name": "stdout",
     "output_type": "stream",
     "text": [
      "True\n"
     ]
    }
   ],
   "source": [
    "print(np.allclose(A_by_x, x_by_a))"
   ]
  },
  {
   "cell_type": "code",
   "execution_count": 9,
   "metadata": {},
   "outputs": [
    {
     "name": "stdout",
     "output_type": "stream",
     "text": [
      "10\n"
     ]
    },
    {
     "ename": "NameError",
     "evalue": "name 'math' is not defined",
     "output_type": "error",
     "traceback": [
      "\u001b[0;31m---------------------------------------------------------------------------\u001b[0m",
      "\u001b[0;31mNameError\u001b[0m                                 Traceback (most recent call last)",
      "\u001b[0;32m<ipython-input-9-6dd50fb184dd>\u001b[0m in \u001b[0;36m<module>\u001b[0;34m\u001b[0m\n\u001b[1;32m      1\u001b[0m \u001b[0mdeterminant\u001b[0m \u001b[0;34m=\u001b[0m \u001b[0mA\u001b[0m\u001b[0;34m[\u001b[0m\u001b[0;36m0\u001b[0m\u001b[0;34m,\u001b[0m \u001b[0;36m0\u001b[0m\u001b[0;34m]\u001b[0m \u001b[0;34m*\u001b[0m \u001b[0mA\u001b[0m\u001b[0;34m[\u001b[0m\u001b[0;36m1\u001b[0m\u001b[0;34m,\u001b[0m \u001b[0;36m1\u001b[0m\u001b[0;34m]\u001b[0m  \u001b[0;34m-\u001b[0m \u001b[0mA\u001b[0m\u001b[0;34m[\u001b[0m\u001b[0;36m0\u001b[0m\u001b[0;34m,\u001b[0m \u001b[0;36m1\u001b[0m\u001b[0;34m]\u001b[0m \u001b[0;34m*\u001b[0m \u001b[0mA\u001b[0m\u001b[0;34m[\u001b[0m\u001b[0;36m1\u001b[0m\u001b[0;34m,\u001b[0m \u001b[0;36m0\u001b[0m\u001b[0;34m]\u001b[0m\u001b[0;34m\u001b[0m\u001b[0;34m\u001b[0m\u001b[0m\n\u001b[1;32m      2\u001b[0m \u001b[0mprint\u001b[0m\u001b[0;34m(\u001b[0m\u001b[0mdeterminant\u001b[0m\u001b[0;34m)\u001b[0m\u001b[0;34m\u001b[0m\u001b[0;34m\u001b[0m\u001b[0m\n\u001b[0;32m----> 3\u001b[0;31m \u001b[0mprint\u001b[0m\u001b[0;34m(\u001b[0m\u001b[0mmath\u001b[0m\u001b[0;34m.\u001b[0m\u001b[0misclose\u001b[0m\u001b[0;34m(\u001b[0m\u001b[0mdeterminant\u001b[0m\u001b[0;34m,\u001b[0m \u001b[0mla\u001b[0m\u001b[0;34m.\u001b[0m\u001b[0mdet\u001b[0m\u001b[0;34m(\u001b[0m\u001b[0mA\u001b[0m\u001b[0;34m)\u001b[0m\u001b[0;34m)\u001b[0m\u001b[0;34m)\u001b[0m\u001b[0;34m\u001b[0m\u001b[0;34m\u001b[0m\u001b[0m\n\u001b[0m",
      "\u001b[0;31mNameError\u001b[0m: name 'math' is not defined"
     ]
    }
   ],
   "source": [
    "determinant = A[0, 0] * A[1, 1]  - A[0, 1] * A[1, 0]\n",
    "print(determinant)\n",
    "print(math.isclose(determinant, la.det(A)))"
   ]
  },
  {
   "cell_type": "code",
   "execution_count": null,
   "metadata": {},
   "outputs": [],
   "source": [
    "trace = A[0, 0] + A[1, 1]\n",
    "print(math.isclose(trace, np.trace(A)))"
   ]
  },
  {
   "cell_type": "markdown",
   "metadata": {},
   "source": [
    "**Theorem 2.** The eigenvalues of A are the roots of its characteristic polynomial"
   ]
  },
  {
   "cell_type": "code",
   "execution_count": null,
   "metadata": {},
   "outputs": [],
   "source": [
    "import sympy\n",
    "\n",
    "A_sym = sympy.Matrix(A)\n",
    "A_sym.charpoly().as_expr()"
   ]
  },
  {
   "cell_type": "markdown",
   "metadata": {},
   "source": [
    "***"
   ]
  },
  {
   "cell_type": "markdown",
   "metadata": {},
   "source": [
    "## 4. Dual Spaces"
   ]
  },
  {
   "cell_type": "code",
   "execution_count": null,
   "metadata": {},
   "outputs": [],
   "source": []
  }
 ],
 "metadata": {
  "kernelspec": {
   "display_name": "Python 3",
   "language": "python",
   "name": "python3"
  },
  "language_info": {
   "codemirror_mode": {
    "name": "ipython",
    "version": 3
   },
   "file_extension": ".py",
   "mimetype": "text/x-python",
   "name": "python",
   "nbconvert_exporter": "python",
   "pygments_lexer": "ipython3",
   "version": "3.7.3"
  }
 },
 "nbformat": 4,
 "nbformat_minor": 4
}
