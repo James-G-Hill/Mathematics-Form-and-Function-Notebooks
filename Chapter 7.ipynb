{
 "cells": [
  {
   "cell_type": "markdown",
   "metadata": {},
   "source": [
    "# Maths - Form & Function: Chapter 7 (Linear Algebra)"
   ]
  },
  {
   "cell_type": "markdown",
   "metadata": {},
   "source": [
    "***"
   ]
  },
  {
   "cell_type": "markdown",
   "metadata": {},
   "source": [
    "## 1. Sources of Linearity"
   ]
  },
  {
   "cell_type": "markdown",
   "metadata": {},
   "source": [
    "> To say that an effect is \"linear\" means that the effect respects proportions and that the effect of a sum is the sum of the separate effects."
   ]
  },
  {
   "cell_type": "code",
   "execution_count": 20,
   "metadata": {},
   "outputs": [
    {
     "name": "stdout",
     "output_type": "stream",
     "text": [
      "True\n"
     ]
    }
   ],
   "source": [
    "import numpy as np\n",
    "\n",
    "# Show that axioms are satisfied for vectors / scalars under\n",
    "# addition and multiplication\n",
    "\n",
    "F = range(0, 100) # a field of scalars\n",
    "V = [np.array([x, x * 2]) for x in range(0, 100)] # a set of vectors\n",
    "a, b = F[50], F[51]\n",
    "v, w = V[25], V[66]\n",
    "\n",
    "print(\n",
    "    all(\n",
    "        [\n",
    "            np.array_equal(a * (v + w), a * v + a * w),\n",
    "            np.array_equal(1 * v, v),\n",
    "            np.array_equal((a + b) * v , a * v + b * v),\n",
    "            np.array_equal((a * b) * v, a * (b * v))\n",
    "        ]\n",
    "    )\n",
    ")      "
   ]
  },
  {
   "cell_type": "code",
   "execution_count": 22,
   "metadata": {},
   "outputs": [
    {
     "name": "stdout",
     "output_type": "stream",
     "text": [
      "[24502500 49005000]\n"
     ]
    }
   ],
   "source": [
    "def linear_combination(F, V):\n",
    "    lc = sum([x * y for x in F for y in V])\n",
    "    return lc\n",
    "\n",
    "print(linear_combination(F, V))"
   ]
  },
  {
   "cell_type": "code",
   "execution_count": 30,
   "metadata": {},
   "outputs": [
    {
     "name": "stdout",
     "output_type": "stream",
     "text": [
      "True\n",
      "True\n"
     ]
    }
   ],
   "source": [
    "T = sum # A transformation that preserves linear combinations\n",
    "\n",
    "# 2 simple identities proving the transformations\n",
    "print(np.array_equal(T(v + w), T(v) + T(w)))\n",
    "print(np.array_equal(T(a * v), a * T(v)))"
   ]
  },
  {
   "cell_type": "markdown",
   "metadata": {},
   "source": [
    "***"
   ]
  },
  {
   "cell_type": "markdown",
   "metadata": {},
   "source": [
    "## 2. Transformations versus Matrices"
   ]
  },
  {
   "cell_type": "markdown",
   "metadata": {},
   "source": [
    "There are 2 styles of doing linear algebra:\n",
    "\n",
    "- Geometrically, or invariantly, with linear combinations of vectors\n",
    "- Explicitly, with coordinates (which depends on a choice of basis)"
   ]
  },
  {
   "cell_type": "code",
   "execution_count": 6,
   "metadata": {},
   "outputs": [],
   "source": [
    "def linear_endomorphism(u, a, j):\n",
    "    \"\"\" Images from a linear endomorphism.\n",
    "    u - vectors\n",
    "    a - coefficients\n",
    "    j - index of the basis\n",
    "    \"\"\"\n",
    "    a = a[j]\n",
    "    return sum([x * y for x in u for y in a])\n",
    "\n",
    "def coordinates_vectors(a, i, j, x):\n",
    "    \"\"\" Gives the coordinates of a transformation.\n",
    "    a - coefficients\n",
    "    i - index of the basis\n",
    "    x - previous coordinates\n",
    "    \"\"\"\n",
    "    a = a[i]\n",
    "    return sum([l * m for l in a for m in x])"
   ]
  },
  {
   "cell_type": "markdown",
   "metadata": {},
   "source": [
    "> In the 20th century, matrix multiplication had trimphant (and unexpected) applications in quantum mechanics. However, the ideas underlying matrix theory first developed from the study of elasticity or at least from the use of many-variable calculus to get linear approximations."
   ]
  },
  {
   "cell_type": "markdown",
   "metadata": {},
   "source": [
    "***"
   ]
  },
  {
   "cell_type": "markdown",
   "metadata": {},
   "source": [
    "## 3. Eigenvalues"
   ]
  },
  {
   "cell_type": "code",
   "execution_count": null,
   "metadata": {},
   "outputs": [],
   "source": []
  }
 ],
 "metadata": {
  "kernelspec": {
   "display_name": "Python 3",
   "language": "python",
   "name": "python3"
  },
  "language_info": {
   "codemirror_mode": {
    "name": "ipython",
    "version": 3
   },
   "file_extension": ".py",
   "mimetype": "text/x-python",
   "name": "python",
   "nbconvert_exporter": "python",
   "pygments_lexer": "ipython3",
   "version": "3.7.3"
  }
 },
 "nbformat": 4,
 "nbformat_minor": 4
}
