{
 "cells": [
  {
   "cell_type": "markdown",
   "metadata": {},
   "source": [
    "# Maths - Form & Function: Chapter 1"
   ]
  },
  {
   "cell_type": "markdown",
   "metadata": {},
   "source": [
    "## 1. The Natural Numbers"
   ]
  },
  {
   "cell_type": "code",
   "execution_count": 1,
   "metadata": {},
   "outputs": [
    {
     "name": "stdout",
     "output_type": "stream",
     "text": [
      "Some natural numbers in conventional decimal notation: 0 1 2 3 4 5 6 7 8 9 10 11 . . .\n",
      "Some natural numbers in Roman numerals: I II III . . .\n",
      "& some natural numbers in Chinese characters: 一 二 三 四 五 . . .\n"
     ]
    }
   ],
   "source": [
    "natural = ' '.join([str(x) for x in range(0, 12)]) + ' . . .'\n",
    "print(\"Some natural numbers in conventional decimal notation: \" + natural)\n",
    "\n",
    "roman = ' '.join(['I', 'II', 'III']) + ' . . .'\n",
    "print(\"Some natural numbers in Roman numerals: \" + roman)\n",
    "\n",
    "chinese = ' '.join(['一', '二', '三', '四', '五']) + ' . . .'\n",
    "print(\"& some natural numbers in Chinese characters: \" + chinese)"
   ]
  },
  {
   "cell_type": "code",
   "execution_count": 2,
   "metadata": {},
   "outputs": [
    {
     "name": "stdout",
     "output_type": "stream",
     "text": [
      "The cardinal number 3 of S\n"
     ]
    }
   ],
   "source": [
    "# Sets, or collections:\n",
    "S = {'A', 'B', 'C'}\n",
    "T = {'U', 'V', 'W'}\n",
    "\n",
    "finiteCollectionThree = {1, 2, 3}\n",
    "\n",
    "if max(finiteCollectionThree) == len(S):\n",
    "    cardinal = len(S)\n",
    "    print(\"The cardinal number \" + str(cardinal) + \" of S\")"
   ]
  },
  {
   "cell_type": "code",
   "execution_count": 3,
   "metadata": {},
   "outputs": [
    {
     "name": "stdout",
     "output_type": "stream",
     "text": [
      "Bijection f: {1: 'A', 2: 'B', 3: 'C'}\n",
      "Bijection g: {1: 'U', 2: 'V', 3: 'W'}\n"
     ]
    }
   ],
   "source": [
    "def f():\n",
    "    \"\"\" Bijection F. \"\"\"\n",
    "    return {1: 'A', 2: 'B', 3: 'C'}\n",
    "\n",
    "def g():\n",
    "    \"\"\" Bijection G. \"\"\"\n",
    "    return {1: 'U', 2: 'V', 3: 'W'}\n",
    "\n",
    "print(\"Bijection f: \" + str(f()))\n",
    "print(\"Bijection g: \" + str(g()))"
   ]
  },
  {
   "cell_type": "code",
   "execution_count": 4,
   "metadata": {},
   "outputs": [
    {
     "name": "stdout",
     "output_type": "stream",
     "text": [
      "Inverse of f: {'A': 1, 'B': 2, 'C': 3}\n",
      "Inverse of g: {'U': 1, 'V': 2, 'W': 3}\n"
     ]
    }
   ],
   "source": [
    "def inverse(function):\n",
    "    \"\"\" Reverses the bijection. \"\"\"\n",
    "    keys = function.keys()\n",
    "    vals = function.values()\n",
    "    return dict(zip(vals, keys))\n",
    "\n",
    "print(\"Inverse of f: \" + str(inverse(f())))\n",
    "print(\"Inverse of g: \" + str(inverse(g())))"
   ]
  },
  {
   "cell_type": "code",
   "execution_count": 5,
   "metadata": {},
   "outputs": [
    {
     "name": "stdout",
     "output_type": "stream",
     "text": [
      "Inverse of f composed with g: {'A': 'U', 'B': 'V', 'C': 'W'}\n"
     ]
    }
   ],
   "source": [
    "def composedBijections(f, g):\n",
    "    keys = f.keys()\n",
    "    vals = g.values()\n",
    "    return dict(zip(keys, vals))\n",
    "\n",
    "FinverseFollowedByG = composedBijections(inverse(f()), g())\n",
    "print(\"Inverse of f composed with g: \" + str(FinverseFollowedByG))"
   ]
  },
  {
   "cell_type": "code",
   "execution_count": 6,
   "metadata": {},
   "outputs": [
    {
     "name": "stdout",
     "output_type": "stream",
     "text": [
      "S & T have the same cardinal number: 3\n"
     ]
    }
   ],
   "source": [
    "print(\"S & T have the same cardinal number: \" + str(len(FinverseFollowedByG)))"
   ]
  },
  {
   "cell_type": "markdown",
   "metadata": {},
   "source": [
    "#### The Sum"
   ]
  },
  {
   "cell_type": "code",
   "execution_count": 7,
   "metadata": {},
   "outputs": [
    {
     "name": "stdout",
     "output_type": "stream",
     "text": [
      "The sum of 2 disjoint sets is the cardinal number of their combination:\n",
      "{'B', 'A', 'U', 'V', 'C'}\n",
      "3 + 2 = 5\n"
     ]
    }
   ],
   "source": [
    "T.discard('W')\n",
    "newSet = S | T\n",
    "\n",
    "print(\"The sum of 2 disjoint sets is the cardinal number of their combination:\")\n",
    "print(newSet)\n",
    "print(str(len(S)) + \" + \" + str(len(T)) + \" = \" + str(len(S) + len(T)))"
   ]
  },
  {
   "cell_type": "markdown",
   "metadata": {},
   "source": [
    "#### The Product"
   ]
  },
  {
   "cell_type": "code",
   "execution_count": 8,
   "metadata": {},
   "outputs": [
    {
     "name": "stdout",
     "output_type": "stream",
     "text": [
      "The product of 2 x 3 (6) = the cardinal number of a 2 x 3 square array (6)\n",
      "Or 2 x 3 as iterated sum: 6\n"
     ]
    }
   ],
   "source": [
    "product = 2 * 3 \n",
    "TwoXThreeSquareArray= len({\n",
    "    ('A', 'U'), ('B', 'U'), ('C', 'U'),\n",
    "    ('A', 'V'), ('B', 'V'), ('C', 'V')\n",
    "})\n",
    "\n",
    "print(\"The product of 2 x 3 (\"\\\n",
    "      + str(product) +\\\n",
    "      \") = the cardinal number of a 2 x 3 square array (\"\\\n",
    "      + str(TwoXThreeSquareArray) + \")\")\n",
    "\n",
    "iteratedSum = 2 + 2 + 2  # 3 disjoint sets\n",
    "print(\"Or 2 x 3 as iterated sum: \" + str(iteratedSum))"
   ]
  },
  {
   "cell_type": "markdown",
   "metadata": {},
   "source": [
    "#### The Exponential"
   ]
  },
  {
   "cell_type": "code",
   "execution_count": 9,
   "metadata": {},
   "outputs": [
    {
     "name": "stdout",
     "output_type": "stream",
     "text": [
      "The exponential to 3rd can also be seen as: 8\n"
     ]
    }
   ],
   "source": [
    "iteratedProduct = 2 * 2 * 2\n",
    "print(\"The exponential to 3rd can also be seen as: \" + str(iteratedProduct))"
   ]
  },
  {
   "cell_type": "markdown",
   "metadata": {},
   "source": [
    "## 2. Infinite Sets"
   ]
  },
  {
   "cell_type": "markdown",
   "metadata": {},
   "source": [
    "N = collection of natural numbers 0 to infinity contains many subsets; any subset of N is either finite or denumerable, such as:\n",
    "\n",
    "- P = set of all positive natural numbers 1 to infinity.\n",
    "- E = set of all even positive numbers.\n",
    "- S = set of all positive multiples of 6.\n",
    "- All finite subsets such as {0, 1, 2} or {2, 4, 16}"
   ]
  },
  {
   "cell_type": "code",
   "execution_count": 10,
   "metadata": {},
   "outputs": [
    {
     "name": "stdout",
     "output_type": "stream",
     "text": [
      "0 is the cardinal number of the empty set\n"
     ]
    }
   ],
   "source": [
    "if 0 == len({}):\n",
    "    print(\"0 is the cardinal number of the empty set\")"
   ]
  },
  {
   "cell_type": "markdown",
   "metadata": {},
   "source": [
    "#### Denumerables\n",
    "\n",
    "A denumerable set X is a set where exists a bijection for the Natural numbers N to X. The following shows denumerable sets P, E and S (assuming they extend to infinity) and bijections upon them:"
   ]
  },
  {
   "cell_type": "code",
   "execution_count": 11,
   "metadata": {},
   "outputs": [
    {
     "name": "stdout",
     "output_type": "stream",
     "text": [
      "E = P x 2 is: True\n",
      "S = E x 3 is: True\n",
      "Composite bijection c⋅b for P → S: True\n"
     ]
    }
   ],
   "source": [
    "# Examples of relations between natural number sets:\n",
    "P = {1, 2, 3, 4} # extending to ∞\n",
    "E = {2, 4, 6, 8} # extending to ∞\n",
    "S = {6, 12, 18, 24} # extending to ∞\n",
    "\n",
    "def b(n):\n",
    "    \"\"\" Bijection with 2n. \"\"\"\n",
    "    return {x*2 for x in n}\n",
    "\n",
    "print(\"E = P x 2 is: \" + str(b(P) == E))\n",
    "\n",
    "def c(m):\n",
    "    \"\"\" Bijection with 3m. \"\"\"\n",
    "    return {x*3 for x in m}\n",
    "\n",
    "print(\"S = E x 3 is: \" + str(c(E) == S))\n",
    "\n",
    "print(\"Composite bijection c⋅b for P → S: \" + str(S == c(b(P))))"
   ]
  },
  {
   "cell_type": "markdown",
   "metadata": {},
   "source": [
    "Sets where a bijection exists have the same cardinal number:\n",
    "- Finite: finite cardinals\n",
    "- Denumerable: aleph-naught - ℵ₀"
   ]
  },
  {
   "cell_type": "markdown",
   "metadata": {},
   "source": [
    "## 3. Permutations"
   ]
  },
  {
   "cell_type": "code",
   "execution_count": 12,
   "metadata": {},
   "outputs": [
    {
     "name": "stdout",
     "output_type": "stream",
     "text": [
      "(1, 2, 3) (1, 3, 2) (2, 1, 3) (2, 3, 1) (3, 1, 2) (3, 2, 1)\n"
     ]
    }
   ],
   "source": [
    "from itertools import permutations\n",
    "\n",
    "setForPermuting = {1, 2, 3}\n",
    "print(' '.join([str(x) for x in permutations(setForPermuting)]))"
   ]
  },
  {
   "cell_type": "code",
   "execution_count": 13,
   "metadata": {},
   "outputs": [
    {
     "name": "stdout",
     "output_type": "stream",
     "text": [
      "{1: 3, 2: 1, 3: 2}\n",
      "This can be written as the cycle: 1 → 3 → 2 → 1\n"
     ]
    }
   ],
   "source": [
    "def permutationBijection():\n",
    "    return {1: 3, 2: 1, 3: 2}\n",
    "\n",
    "print(permutationBijection())\n",
    "print(\"This can be written as the cycle: 1 → 3 → 2 → 1\")"
   ]
  },
  {
   "cell_type": "markdown",
   "metadata": {},
   "source": [
    "The set resulting from the bijection is identical to the original:"
   ]
  },
  {
   "cell_type": "code",
   "execution_count": 14,
   "metadata": {},
   "outputs": [
    {
     "data": {
      "text/plain": [
       "True"
      ]
     },
     "execution_count": 14,
     "metadata": {},
     "output_type": "execute_result"
    }
   ],
   "source": [
    "setForPermuting == set(permutationBijection().values())"
   ]
  },
  {
   "cell_type": "code",
   "execution_count": 15,
   "metadata": {},
   "outputs": [
    {
     "name": "stdout",
     "output_type": "stream",
     "text": [
      "{3: 1, 1: 2, 2: 3}\n"
     ]
    }
   ],
   "source": [
    "def b(theSet):\n",
    "    \"\"\" The bijection of a permutation of a set. \"\"\"\n",
    "    keys = theSet\n",
    "    vals = theSet\n",
    "    return dict(zip(keys, vals))\n",
    "\n",
    "print(composedBijections(inverse(permutationBijection()), b(setForPermuting)))"
   ]
  },
  {
   "cell_type": "markdown",
   "metadata": {},
   "source": [
    "Permutations also appear in algebra, such as polynomials.\n",
    "Such permutations include:\n",
    "- 'identity' bijection: 1 to 1\n",
    "- permutations that leave the polynomial unchanged\n",
    "- permutations that also leave the factors unchanged"
   ]
  },
  {
   "cell_type": "code",
   "execution_count": 16,
   "metadata": {},
   "outputs": [
    {
     "name": "stdout",
     "output_type": "stream",
     "text": [
      "Identity: 21\n"
     ]
    }
   ],
   "source": [
    "original = {1, 2, 3, 4}\n",
    "\n",
    "def polynomialForPermuting(len4set):\n",
    "    \"\"\" Demonstrates permutations on a polynomial. \"\"\"\n",
    "    x1, x2, x3, x4 = len4set\n",
    "    return (x1 + x2) * (x3 + x4)\n",
    "\n",
    "print(\"Identity: \" + str(polynomialForPermuting(original)))"
   ]
  },
  {
   "cell_type": "code",
   "execution_count": 17,
   "metadata": {},
   "outputs": [
    {
     "name": "stdout",
     "output_type": "stream",
     "text": [
      "(1, 2, 3, 4): 21\n",
      "(1, 2, 4, 3): 21\n",
      "(1, 3, 2, 4): 24\n",
      "(1, 3, 4, 2): 24\n",
      "(1, 4, 2, 3): 25\n",
      "(1, 4, 3, 2): 25\n",
      "(2, 1, 3, 4): 21\n",
      "(2, 1, 4, 3): 21\n",
      "(2, 3, 1, 4): 25\n",
      "(2, 3, 4, 1): 25\n",
      "(2, 4, 1, 3): 24\n",
      "(2, 4, 3, 1): 24\n",
      "(3, 1, 2, 4): 24\n",
      "(3, 1, 4, 2): 24\n",
      "(3, 2, 1, 4): 25\n",
      "(3, 2, 4, 1): 25\n",
      "(3, 4, 1, 2): 21\n",
      "(3, 4, 2, 1): 21\n",
      "(4, 1, 2, 3): 25\n",
      "(4, 1, 3, 2): 25\n",
      "(4, 2, 1, 3): 24\n",
      "(4, 2, 3, 1): 24\n",
      "(4, 3, 1, 2): 21\n",
      "(4, 3, 2, 1): 21\n"
     ]
    }
   ],
   "source": [
    "perms = list(permutations(original))\n",
    "for x in perms:\n",
    "    print(str(x) + \": \" + str(polynomialForPermuting(x)))"
   ]
  },
  {
   "cell_type": "code",
   "execution_count": 18,
   "metadata": {},
   "outputs": [
    {
     "name": "stdout",
     "output_type": "stream",
     "text": [
      "Count of permutations: 24\n",
      "Count of polynomial unchanged: 8\n"
     ]
    }
   ],
   "source": [
    "unchanged = len(\n",
    "    [x for x in perms if polynomialForPermuting(x) == polynomialForPermuting(original)]\n",
    ")\n",
    "\n",
    "print(\"Count of permutations: \" + str(len([x for x in perms])))\n",
    "print(\"Count of polynomial unchanged: \" + str(unchanged))"
   ]
  },
  {
   "cell_type": "markdown",
   "metadata": {},
   "source": [
    "A *permutation group* is the set of permutations that allows the result of the polynomial to be unchanged."
   ]
  },
  {
   "cell_type": "markdown",
   "metadata": {},
   "source": [
    "## 4: Time and Order"
   ]
  },
  {
   "cell_type": "code",
   "execution_count": 19,
   "metadata": {},
   "outputs": [
    {
     "name": "stdout",
     "output_type": "stream",
     "text": [
      "True\n",
      "True\n"
     ]
    }
   ],
   "source": [
    "# Times in order\n",
    "t = 0\n",
    "tPrime = t + 1\n",
    "tPrimePrime = tPrime + 1\n",
    "\n",
    "def transitiveLaw(a, b, c):\n",
    "    return a < b and b < c and a < c\n",
    "\n",
    "def lawOfTrichotomy(a, b):\n",
    "    return a < b or a == b or b < a\n",
    "\n",
    "print(transitiveLaw(t, tPrime, tPrimePrime))\n",
    "print(lawOfTrichotomy(t, tPrime))"
   ]
  },
  {
   "cell_type": "code",
   "execution_count": 20,
   "metadata": {},
   "outputs": [
    {
     "name": "stdout",
     "output_type": "stream",
     "text": [
      "Linear ordered set {1, 2, 3, 4, 5, 6}: True\n"
     ]
    }
   ],
   "source": [
    "X = {1, 2, 3, 4, 5, 6}\n",
    "\n",
    "def binaryRelationLessThan(x, y):\n",
    "    return x < y\n",
    "\n",
    "def linearlyOrderedSet(anySet):\n",
    "    \n",
    "    anySet = list(anySet)\n",
    "    truthValues = []\n",
    "    \n",
    "    for i in range(0, len(anySet)-1):\n",
    "        x = anySet[i]\n",
    "        y = anySet[i+1]\n",
    "        truthValues.append(binaryRelationLessThan(x, y))\n",
    "        truthValues.append(lawOfTrichotomy(x, y))\n",
    "    \n",
    "    for i in range(0, len(anySet)-2):\n",
    "        x = anySet[i]\n",
    "        y = anySet[i+1]\n",
    "        z = anySet[i+2]\n",
    "        truthValues.append(transitiveLaw(x, y, z))\n",
    "    \n",
    "    return all(truthValues)\n",
    "\n",
    "print(\"Linear ordered set \" + str(X) + \": \" + str(linearlyOrderedSet(X)))"
   ]
  },
  {
   "cell_type": "code",
   "execution_count": 21,
   "metadata": {},
   "outputs": [
    {
     "name": "stdout",
     "output_type": "stream",
     "text": [
      "X not later than: True\n"
     ]
    }
   ],
   "source": [
    "def binaryRelationNotLaterThan(x, y):\n",
    "    return x <= y\n",
    "\n",
    "def transitiveNotLaterThan(x, y, z):\n",
    "    return x <= y and y <= z and x <= z\n",
    "\n",
    "def reflexive(x):\n",
    "    return binaryRelationNotLaterThan(x, x)\n",
    "\n",
    "def antisymmetric(x, y):\n",
    "    return x <= y and y <= x or x != y\n",
    "\n",
    "def trichotomyNotLaterThan(X):\n",
    "    truthValues = []\n",
    "    X = list(X)\n",
    "    for i in range(0, len(X)-1):\n",
    "        x = X[i]\n",
    "        y = X[i+1]\n",
    "        truthValues.append(\n",
    "            binaryRelationNotLaterThan(x, y) or binaryRelationNotLaterThan(y, x)\n",
    "        )\n",
    "    return all(truthValues)\n",
    "\n",
    "def linearlyOrderedNotLaterThan(anySet):\n",
    "    \n",
    "    anySet = list(anySet)\n",
    "    truthValues = []\n",
    "    \n",
    "    truthValues = [trichotomyNotLaterThan(anySet)]\n",
    "    \n",
    "    for x in anySet:\n",
    "        truthValues.append(reflexive(x))\n",
    "        \n",
    "    for i in range(0, len(anySet)-1):\n",
    "        x = anySet[i]\n",
    "        y = anySet[i+1]\n",
    "        truthValues.append(binaryRelationNotLaterThan(x, y))\n",
    "        truthValues.append(antisymmetric(x, y))\n",
    "    \n",
    "    for i in range(0, len(anySet)-2):\n",
    "        x = anySet[i]\n",
    "        y = anySet[i+1]\n",
    "        z = anySet[i+2]\n",
    "        truthValues.append(transitiveNotLaterThan(x, y, z))\n",
    "    \n",
    "    return all(truthValues)\n",
    "\n",
    "print(\"X not later than: \" + str(linearlyOrderedNotLaterThan(X)))"
   ]
  },
  {
   "cell_type": "code",
   "execution_count": 22,
   "metadata": {},
   "outputs": [
    {
     "name": "stdout",
     "output_type": "stream",
     "text": [
      "Order isomorphism X → Y : {(1, 2), (2, 4), (3, 6)}\n",
      "Order isomorphism X → Z : None\n"
     ]
    }
   ],
   "source": [
    "def orderIsomorphism(X, Y):\n",
    "    if (linearlyOrderedSet(X) and linearlyOrderedSet(Y)):\n",
    "        return set(zip(X, Y))\n",
    "    \n",
    "X = {1, 2, 3}\n",
    "Y = {2, 4, 6}\n",
    "print(\"Order isomorphism X → Y : \" + str(orderIsomorphism(X, Y)))\n",
    "\n",
    "Z = [0, 0, 0]\n",
    "print(\"Order isomorphism X → Z : \" + str(orderIsomorphism(X, Z)))"
   ]
  },
  {
   "cell_type": "markdown",
   "metadata": {},
   "source": [
    "X and Y are of the same *order type*"
   ]
  },
  {
   "cell_type": "code",
   "execution_count": 29,
   "metadata": {},
   "outputs": [
    {
     "name": "stdout",
     "output_type": "stream",
     "text": [
      "Upper bound: True\n",
      "Upper bound with π: True\n",
      "Least upper bound: True\n"
     ]
    }
   ],
   "source": [
    "from math import pi\n",
    "\n",
    "approximationsOfPi = [3.14, 3.141, 3.1415, 3.14159, 3.141592]\n",
    "X = list(approximationsOfPi)\n",
    "S = list(approximationsOfPi)[:2]\n",
    "\n",
    "def upperBound(S, b):\n",
    "    return(all([s <= b for s in S]))\n",
    "\n",
    "def leastUpperBound(S, b, bPrime):\n",
    "    return upperBound(S, b) and upperBound(S, bPrime) and b < bPrime\n",
    "\n",
    "print(\"Upper bound: \" + str(upperBound(S, X[3])))\n",
    "print(\"Upper bound with π: \" + str(upperBound(X, pi)))\n",
    "print(\"Least upper bound: \" + str(leastUpperBound(S, X[3], X[4])))"
   ]
  },
  {
   "cell_type": "markdown",
   "metadata": {},
   "source": [
    "An unbounded set is one which has no upper or lower bound: so the set of Natural numbers is not unbounded because it has a lower bound of 0."
   ]
  },
  {
   "cell_type": "markdown",
   "metadata": {},
   "source": [
    "**Q** = set of rational numbers\n",
    "**R** = set of real numbers\n",
    "\n",
    "**R** is:\n",
    "- complete (every subset has a least upper bound)\n",
    "- unbounded (-∞ to +∞)\n",
    "- has a denumerable dense subset (**Q** can approximate every number in **R**)\n",
    "\n",
    "Any set with the above properties is order isomorphic to **R**"
   ]
  },
  {
   "cell_type": "code",
   "execution_count": 30,
   "metadata": {},
   "outputs": [
    {
     "name": "stdout",
     "output_type": "stream",
     "text": [
      "True\n"
     ]
    }
   ],
   "source": [
    "# Intervals of time can be summed like natural numbers\n",
    "print((t + tPrime) + tPrimePrime == t + (tPrime + tPrimePrime))"
   ]
  },
  {
   "cell_type": "markdown",
   "metadata": {},
   "source": [
    "## 5: Space and Motion"
   ]
  },
  {
   "cell_type": "code",
   "execution_count": null,
   "metadata": {},
   "outputs": [],
   "source": []
  }
 ],
 "metadata": {
  "kernelspec": {
   "display_name": "Python 3",
   "language": "python",
   "name": "python3"
  },
  "language_info": {
   "codemirror_mode": {
    "name": "ipython",
    "version": 3
   },
   "file_extension": ".py",
   "mimetype": "text/x-python",
   "name": "python",
   "nbconvert_exporter": "python",
   "pygments_lexer": "ipython3",
   "version": "3.7.3"
  }
 },
 "nbformat": 4,
 "nbformat_minor": 2
}
