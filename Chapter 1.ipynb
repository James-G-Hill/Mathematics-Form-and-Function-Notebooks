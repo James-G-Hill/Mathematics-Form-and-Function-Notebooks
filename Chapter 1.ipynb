{
 "cells": [
  {
   "cell_type": "markdown",
   "metadata": {},
   "source": [
    "# Maths - Form & Function: Chapter 1"
   ]
  },
  {
   "cell_type": "markdown",
   "metadata": {},
   "source": [
    "## 1. The Natural Numbers"
   ]
  },
  {
   "cell_type": "code",
   "execution_count": 1,
   "metadata": {},
   "outputs": [
    {
     "name": "stdout",
     "output_type": "stream",
     "text": [
      "Some natural numbers in conventional decimal notation: 0 1 2 3 4 5 6 7 8 9 10 11 . . .\n",
      "Some natural numbers in Roman numerals: I II III . . .\n",
      "& some natural numbers in Chinese characters: 一 二 三 四 五 . . .\n"
     ]
    }
   ],
   "source": [
    "natural = ' '.join([str(x) for x in range(0, 12)]) + ' . . .'\n",
    "print(\"Some natural numbers in conventional decimal notation: \" + natural)\n",
    "\n",
    "roman = ' '.join(['I', 'II', 'III']) + ' . . .'\n",
    "print(\"Some natural numbers in Roman numerals: \" + roman)\n",
    "\n",
    "chinese = ' '.join(['一', '二', '三', '四', '五']) + ' . . .'\n",
    "print(\"& some natural numbers in Chinese characters: \" + chinese)"
   ]
  },
  {
   "cell_type": "code",
   "execution_count": 2,
   "metadata": {},
   "outputs": [
    {
     "name": "stdout",
     "output_type": "stream",
     "text": [
      "The cardinal number 3 of S\n"
     ]
    }
   ],
   "source": [
    "# Sets, or collections:\n",
    "S = {'A', 'B', 'C'}\n",
    "T = {'U', 'V', 'W'}\n",
    "\n",
    "finiteCollectionThree = {1, 2, 3}\n",
    "\n",
    "if max(finiteCollectionThree) == len(S):\n",
    "    cardinal = len(S)\n",
    "    print(\"The cardinal number \" + str(cardinal) + \" of S\")"
   ]
  },
  {
   "cell_type": "code",
   "execution_count": 3,
   "metadata": {},
   "outputs": [
    {
     "name": "stdout",
     "output_type": "stream",
     "text": [
      "Bijection f: {1: 'A', 2: 'B', 3: 'C'}\n",
      "Bijection g: {1: 'U', 2: 'V', 3: 'W'}\n"
     ]
    }
   ],
   "source": [
    "def f():\n",
    "    \"\"\" Bijection F. \"\"\"\n",
    "    return {1: 'A', 2: 'B', 3: 'C'}\n",
    "\n",
    "def g():\n",
    "    \"\"\" Bijection G. \"\"\"\n",
    "    return {1: 'U', 2: 'V', 3: 'W'}\n",
    "\n",
    "print(\"Bijection f: \" + str(f()))\n",
    "print(\"Bijection g: \" + str(g()))"
   ]
  },
  {
   "cell_type": "code",
   "execution_count": 4,
   "metadata": {},
   "outputs": [
    {
     "name": "stdout",
     "output_type": "stream",
     "text": [
      "Inverse of f: {'A': 1, 'B': 2, 'C': 3}\n",
      "Inverse of g: {'U': 1, 'V': 2, 'W': 3}\n"
     ]
    }
   ],
   "source": [
    "def inverse(function):\n",
    "    \"\"\" Reverses the bijection. \"\"\"\n",
    "    keys = function.keys()\n",
    "    vals = function.values()\n",
    "    return dict(zip(vals, keys))\n",
    "\n",
    "print(\"Inverse of f: \" + str(inverse(f())))\n",
    "print(\"Inverse of g: \" + str(inverse(g())))"
   ]
  },
  {
   "cell_type": "code",
   "execution_count": 5,
   "metadata": {},
   "outputs": [
    {
     "name": "stdout",
     "output_type": "stream",
     "text": [
      "Inverse of f composed with g: {'A': 'U', 'B': 'V', 'C': 'W'}\n"
     ]
    }
   ],
   "source": [
    "def composedBijections(f, g):\n",
    "    keys = f.keys()\n",
    "    vals = g.values()\n",
    "    return dict(zip(keys, vals))\n",
    "\n",
    "FinverseFollowedByG = composedBijections(inverse(f()), g())\n",
    "print(\"Inverse of f composed with g: \" + str(FinverseFollowedByG))"
   ]
  },
  {
   "cell_type": "code",
   "execution_count": 6,
   "metadata": {},
   "outputs": [
    {
     "name": "stdout",
     "output_type": "stream",
     "text": [
      "S & T have the same cardinal number: 3\n"
     ]
    }
   ],
   "source": [
    "print(\"S & T have the same cardinal number: \" + str(len(FinverseFollowedByG)))"
   ]
  },
  {
   "cell_type": "markdown",
   "metadata": {},
   "source": [
    "#### The Sum"
   ]
  },
  {
   "cell_type": "code",
   "execution_count": 7,
   "metadata": {},
   "outputs": [
    {
     "name": "stdout",
     "output_type": "stream",
     "text": [
      "The sum of 2 disjoint sets is the cardinal number of their combination:\n",
      "{'U', 'A', 'V', 'B', 'C'}\n",
      "3 + 2 = 5\n"
     ]
    }
   ],
   "source": [
    "T.discard('W')\n",
    "newSet = S | T\n",
    "\n",
    "print(\"The sum of 2 disjoint sets is the cardinal number of their combination:\")\n",
    "print(newSet)\n",
    "print(str(len(S)) + \" + \" + str(len(T)) + \" = \" + str(len(S) + len(T)))"
   ]
  },
  {
   "cell_type": "markdown",
   "metadata": {},
   "source": [
    "#### The Product"
   ]
  },
  {
   "cell_type": "code",
   "execution_count": 8,
   "metadata": {},
   "outputs": [
    {
     "name": "stdout",
     "output_type": "stream",
     "text": [
      "The product of 2 x 3 (6) = the cardinal number of a 2 x 3 square array (6)\n",
      "Or 2 x 3 as iterated sum: 6\n"
     ]
    }
   ],
   "source": [
    "product = 2 * 3 \n",
    "TwoXThreeSquareArray= len({\n",
    "    ('A', 'U'), ('B', 'U'), ('C', 'U'),\n",
    "    ('A', 'V'), ('B', 'V'), ('C', 'V')\n",
    "})\n",
    "\n",
    "print(\"The product of 2 x 3 (\"\\\n",
    "      + str(product) +\\\n",
    "      \") = the cardinal number of a 2 x 3 square array (\"\\\n",
    "      + str(TwoXThreeSquareArray) + \")\")\n",
    "\n",
    "iteratedSum = 2 + 2 + 2  # 3 disjoint sets\n",
    "print(\"Or 2 x 3 as iterated sum: \" + str(iteratedSum))"
   ]
  },
  {
   "cell_type": "markdown",
   "metadata": {},
   "source": [
    "#### The Exponential"
   ]
  },
  {
   "cell_type": "code",
   "execution_count": 9,
   "metadata": {},
   "outputs": [
    {
     "name": "stdout",
     "output_type": "stream",
     "text": [
      "The exponential to 3rd can also be seen as: 8\n"
     ]
    }
   ],
   "source": [
    "iteratedProduct = 2 * 2 * 2\n",
    "print(\"The exponential to 3rd can also be seen as: \" + str(iteratedProduct))"
   ]
  },
  {
   "cell_type": "markdown",
   "metadata": {},
   "source": [
    "## 2. Infinite Sets"
   ]
  },
  {
   "cell_type": "markdown",
   "metadata": {},
   "source": [
    "N = collection of natural numbers 0 to infinity contains many subsets; any subset of N is either finite or denumerable, such as:\n",
    "\n",
    "- P = set of all positive natural numbers 1 to infinity.\n",
    "- E = set of all even positive numbers.\n",
    "- S = set of all positive multiples of 6.\n",
    "- All finite subsets such as {0, 1, 2} or {2, 4, 16}"
   ]
  },
  {
   "cell_type": "code",
   "execution_count": 14,
   "metadata": {},
   "outputs": [
    {
     "name": "stdout",
     "output_type": "stream",
     "text": [
      "0 is the cardinal number of the empty set\n"
     ]
    }
   ],
   "source": [
    "if 0 == len({}):\n",
    "    print(\"0 is the cardinal number of the empty set\")"
   ]
  },
  {
   "cell_type": "markdown",
   "metadata": {},
   "source": [
    "#### Denumerables\n",
    "\n",
    "A denumerable set X is a set where exists a bijection for the Natural numbers N to X. The following shows denumerable sets P, E and S (assuming they extend to infinity) and bijections upon them:"
   ]
  },
  {
   "cell_type": "code",
   "execution_count": 24,
   "metadata": {},
   "outputs": [
    {
     "name": "stdout",
     "output_type": "stream",
     "text": [
      "E = P x 2 is: True\n",
      "S = E x 3 is: True\n",
      "Composite bijection c⋅b for P → S: True\n"
     ]
    }
   ],
   "source": [
    "# Examples of relations between natural number sets:\n",
    "P = {1, 2, 3, 4} # extending to ∞\n",
    "E = {2, 4, 6, 8} # extending to ∞\n",
    "S = {6, 12, 18, 24} # extending to ∞\n",
    "\n",
    "def b(n):\n",
    "    \"\"\" Bijection with 2n. \"\"\"\n",
    "    return {x*2 for x in n}\n",
    "\n",
    "print(\"E = P x 2 is: \" + str(b(P) == E))\n",
    "\n",
    "def c(m):\n",
    "    \"\"\" Bijection with 3m. \"\"\"\n",
    "    return {x*3 for x in m}\n",
    "\n",
    "print(\"S = E x 3 is: \" + str(c(E) == S))\n",
    "\n",
    "print(\"Composite bijection c⋅b for P → S: \" + str(S == c(b(P))))"
   ]
  },
  {
   "cell_type": "markdown",
   "metadata": {},
   "source": [
    "Sets where a bijection exists have the same cardinal number:\n",
    "- Finite: finite cardinals\n",
    "- Denumerable: aleph-naught - ℵ₀"
   ]
  },
  {
   "cell_type": "markdown",
   "metadata": {},
   "source": [
    "## 3. Permutations"
   ]
  }
 ],
 "metadata": {
  "kernelspec": {
   "display_name": "Python 3",
   "language": "python",
   "name": "python3"
  },
  "language_info": {
   "codemirror_mode": {
    "name": "ipython",
    "version": 3
   },
   "file_extension": ".py",
   "mimetype": "text/x-python",
   "name": "python",
   "nbconvert_exporter": "python",
   "pygments_lexer": "ipython3",
   "version": "3.7.3"
  }
 },
 "nbformat": 4,
 "nbformat_minor": 2
}
