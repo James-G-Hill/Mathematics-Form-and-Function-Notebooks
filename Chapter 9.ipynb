{
 "cells": [
  {
   "cell_type": "markdown",
   "metadata": {},
   "source": [
    "# Mathematics Form & Function: Chapter 9 - Mechanics"
   ]
  },
  {
   "cell_type": "markdown",
   "metadata": {},
   "source": [
    "## 1. Kepler's Laws"
   ]
  },
  {
   "cell_type": "markdown",
   "metadata": {},
   "source": [
    "The laws:\n",
    "\n",
    "1. The planets describe orbits in a plane containing the sun, in such a way that areas swept out in equal times are equal.\n",
    "2. Each planetary orbit is an ellipse with the sun at one focus.\n",
    "3. The square of the period of each planet in its orbit is proportional to the length of the major axis of the ellipse."
   ]
  },
  {
   "cell_type": "code",
   "execution_count": 40,
   "metadata": {},
   "outputs": [
    {
     "name": "stdout",
     "output_type": "stream",
     "text": [
      "[4 6 8]\n",
      "[10 15 20]\n",
      "[20 30 40]\n"
     ]
    }
   ],
   "source": [
    "import numpy as np\n",
    "\n",
    "def force(mass, acceleration):\n",
    "    \"\"\" Newton's 2nd law. \"\"\"\n",
    "    return mass * acceleration\n",
    "\n",
    "print(force(2, np.array([2, 3, 4])))\n",
    "print(force(5, np.array([2, 3, 4])))\n",
    "print(force(10, np.array([2, 3, 4])))"
   ]
  },
  {
   "cell_type": "code",
   "execution_count": 41,
   "metadata": {},
   "outputs": [
    {
     "name": "stdout",
     "output_type": "stream",
     "text": [
      "1.5\n",
      "0.375\n",
      "0.16666666666666666\n",
      "0.25\n",
      "0.3333333333333333\n"
     ]
    }
   ],
   "source": [
    "def inverse_square_law(m1, m2, r):\n",
    "    \"\"\"\n",
    "    The inverse square law returns the magnitude of a gravitational force.\n",
    "    \n",
    "    m1 = a mass\n",
    "    m2 = another mass\n",
    "    r  = the distance in a straight line between masses.\n",
    "    \"\"\"\n",
    "    constant = 1 # the gravitational constant\n",
    "    return constant * ((m1 * m2) / r**2)\n",
    "\n",
    "print(inverse_square_law(2, 3, 2))\n",
    "print(inverse_square_law(2, 3, 4))\n",
    "print(inverse_square_law(2, 3, 6))\n",
    "print(inverse_square_law(3, 3, 6))\n",
    "print(inverse_square_law(3, 4, 6))"
   ]
  },
  {
   "cell_type": "code",
   "execution_count": 42,
   "metadata": {},
   "outputs": [],
   "source": [
    "import math\n",
    "\n",
    "def newtons_2nd_law_plane(F, theta):\n",
    "    \"\"\"\n",
    "    Newton's 2nd law taking polar coordinates.\n",
    "    \n",
    "    F - a magnitude of force\n",
    "    theta - the angle from y == 0\n",
    "    \"\"\"\n",
    "    mx = -F * math.cos(theta)\n",
    "    my = -F * math.sin(theta)\n",
    "    return [mx, my]"
   ]
  },
  {
   "cell_type": "code",
   "execution_count": 43,
   "metadata": {},
   "outputs": [
    {
     "data": {
      "image/png": "[encoded data removed]",
      "text/plain": [
       "<Figure size 432x288 with 1 Axes>"
      ]
     },
     "metadata": {},
     "output_type": "display_data"
    }
   ],
   "source": [
    "import matplotlib.pyplot as plt\n",
    "import pandas as pd\n",
    "\n",
    "coords = []\n",
    "for i in np.arange(0, 6, .1):\n",
    "    coords.append(newtons_2nd_law_plane(2, i))\n",
    "\n",
    "df = pd.DataFrame(columns = ['x', 'y'], data = np.array(coords))\n",
    "\n",
    "plt.plot([-2, 2], [0, 0])\n",
    "plt.plot([0, 0], [-2, 2])\n",
    "plt.plot(0, 0, 'X')\n",
    "plt.plot(df['x'], df['y'])\n",
    "plt.show()"
   ]
  },
  {
   "cell_type": "code",
   "execution_count": 5,
   "metadata": {},
   "outputs": [
    {
     "data": {
      "image/png": "[encoded data removed]",
      "text/plain": [
       "<Figure size 432x288 with 1 Axes>"
      ]
     },
     "metadata": {
      "needs_background": "light"
     },
     "output_type": "display_data"
    }
   ],
   "source": [
    "coords = []\n",
    "for i in np.arange(0, 6, .1):\n",
    "    coords.append(newtons_2nd_law_plane(i, 2))\n",
    "\n",
    "df = pd.DataFrame(columns = ['x', 'y'], data = np.array(coords))\n",
    "\n",
    "plt.plot([-2, 2], [0, 0])\n",
    "plt.plot([0, 0], [-2, 2])\n",
    "plt.plot(0, 0, 'X')\n",
    "plt.plot(df['x'], df['y'])\n",
    "plt.show()"
   ]
  },
  {
   "cell_type": "code",
   "execution_count": 6,
   "metadata": {},
   "outputs": [
    {
     "data": {
      "text/plain": [
       "True"
      ]
     },
     "execution_count": 6,
     "metadata": {},
     "output_type": "execute_result"
    }
   ],
   "source": [
    "F = 10\n",
    "theta = 3\n",
    "r = 5\n",
    "mx = -F * math.cos(theta)\n",
    "my = -F * math.sin(theta)\n",
    "\n",
    "x = r * math.cos(theta)\n",
    "y = r * math.sin(theta)\n",
    "\n",
    "# The following states that the time derivate of the 1st deritive of y * x,\n",
    "# minus the 1st derivative of x * y is equal to zero\n",
    "(mx * y) - (my * x) == 0"
   ]
  },
  {
   "cell_type": "code",
   "execution_count": 7,
   "metadata": {},
   "outputs": [
    {
     "name": "stdout",
     "output_type": "stream",
     "text": [
      "8\n",
      "16\n",
      "24\n"
     ]
    }
   ],
   "source": [
    "def angular_momentum_polar(m, r, theta):\n",
    "    \"\"\"\n",
    "    The angular momemuntum in polar coordinates.\n",
    "    \n",
    "    m = mass\n",
    "    r = distance from the zero point\n",
    "    theta = angular velocity about 0\n",
    "    \"\"\"\n",
    "    return m * r**2 * theta\n",
    "\n",
    "# Increasing the angle\n",
    "print(angular_momentum_polar(2, 2, 1))\n",
    "print(angular_momentum_polar(2, 2, 2))\n",
    "print(angular_momentum_polar(2, 2, 3))"
   ]
  },
  {
   "cell_type": "code",
   "execution_count": 8,
   "metadata": {},
   "outputs": [
    {
     "name": "stdout",
     "output_type": "stream",
     "text": [
      "8\n",
      "16\n",
      "24\n"
     ]
    }
   ],
   "source": [
    "# Increasing the mass\n",
    "print(angular_momentum_polar(1, 2, 2))\n",
    "print(angular_momentum_polar(2, 2, 2))\n",
    "print(angular_momentum_polar(3, 2, 2))"
   ]
  },
  {
   "cell_type": "code",
   "execution_count": 9,
   "metadata": {},
   "outputs": [
    {
     "name": "stdout",
     "output_type": "stream",
     "text": [
      "4\n",
      "16\n",
      "36\n"
     ]
    }
   ],
   "source": [
    "# Increasing the distance\n",
    "print(angular_momentum_polar(2, 1, 2))\n",
    "print(angular_momentum_polar(2, 2, 2))\n",
    "print(angular_momentum_polar(2, 3, 2))"
   ]
  },
  {
   "cell_type": "code",
   "execution_count": 10,
   "metadata": {},
   "outputs": [
    {
     "name": "stdout",
     "output_type": "stream",
     "text": [
      "12.5\n",
      "37.5\n",
      "75.0\n"
     ]
    }
   ],
   "source": [
    "def area_swept_by_radius(r, theta):\n",
    "    \"\"\" Defines the area that is swept by a radius vector.\n",
    "    \n",
    "    r - distance from 0 point to object\n",
    "    theta - the change in angle\n",
    "    \"\"\"\n",
    "    return .5 * r**2 * theta\n",
    "\n",
    "print(area_swept_by_radius(5, 1))\n",
    "print(area_swept_by_radius(5, 3))\n",
    "print(area_swept_by_radius(5, 6))"
   ]
  },
  {
   "cell_type": "code",
   "execution_count": 11,
   "metadata": {},
   "outputs": [],
   "source": [
    "def equation_orbit_polar(k, mu, x, y, A, B):\n",
    "    \"\"\"\n",
    "    The equation of an orbit in polar terms:\n",
    "    \n",
    "    k - constant of angular momentum\n",
    "    mu - constant\n",
    "    x - coordinate\n",
    "    y - coordinate\n",
    "    A - constant of integration\n",
    "    B - constant of integration\n",
    "    \"\"\"\n",
    "    return k**2 / (mu - (x * B) - (y * A))"
   ]
  },
  {
   "cell_type": "markdown",
   "metadata": {},
   "source": [
    "> When velocity and acceleration are represented by derivatives, as defined in the Calculus, then Kepler's laws, summarizing the obvserations of the positions of the planets, can be deduced from Newton's second law of motion and the inverse square law of gravitation."
   ]
  },
  {
   "cell_type": "markdown",
   "metadata": {},
   "source": [
    "---"
   ]
  },
  {
   "cell_type": "markdown",
   "metadata": {},
   "source": [
    "## 2. Momentum, Work, and Energy"
   ]
  },
  {
   "cell_type": "code",
   "execution_count": 12,
   "metadata": {},
   "outputs": [
    {
     "name": "stdout",
     "output_type": "stream",
     "text": [
      "(10, 15, 10)\n"
     ]
    }
   ],
   "source": [
    "def linear_momentum_3d(mass, vector):\n",
    "    \"\"\" Returns the momentum in 3 dimensions given mass & vector velocity.\n",
    "    \n",
    "    mass -- the mass of an object\n",
    "    vector -- a tuple of 3d coordinates\n",
    "    \"\"\"\n",
    "    x1, x2, x3 = vector\n",
    "    return (mass * x1, mass * x2, mass * x3)\n",
    "\n",
    "print(linear_momentum_3d(5, (2, 3, 2)))"
   ]
  },
  {
   "cell_type": "code",
   "execution_count": 13,
   "metadata": {},
   "outputs": [
    {
     "name": "stdout",
     "output_type": "stream",
     "text": [
      "10\n"
     ]
    }
   ],
   "source": [
    "def work_3d(force, displacement):\n",
    "    \"\"\" Defines the work by inner product of force & displacement.\n",
    "    \n",
    "    force -- a 3d vector\n",
    "    displacement -- a 3d vector\n",
    "    \"\"\"\n",
    "    work = 0\n",
    "    for i in range(0, 3):\n",
    "        work += force[i] * displacement[i]\n",
    "    return work\n",
    "\n",
    "print(work_3d([2, 3, 2], [0, 2, 2]))"
   ]
  },
  {
   "cell_type": "code",
   "execution_count": 14,
   "metadata": {},
   "outputs": [
    {
     "name": "stdout",
     "output_type": "stream",
     "text": [
      "42.5\n"
     ]
    }
   ],
   "source": [
    "def kinetic_energy_3d(mass, vector):\n",
    "    \"\"\" Defines the kinetic energy of a particle in 3d.\n",
    "    \n",
    "    mass -- a scalar\n",
    "    vector -- 3d coordinates as a tuple\n",
    "    \"\"\"\n",
    "    x1, x2, x3 = vector\n",
    "    return .5 * mass * (x1**2 + x2**2 + x3**2)\n",
    "    \n",
    "print(kinetic_energy_3d(5, (2, 3, 2)))"
   ]
  },
  {
   "cell_type": "code",
   "execution_count": 15,
   "metadata": {},
   "outputs": [
    {
     "name": "stdout",
     "output_type": "stream",
     "text": [
      "4.69041575982343\n"
     ]
    }
   ],
   "source": [
    "def magnitude_vector_3d(vector):\n",
    "    \"\"\" Return the magnitude. \"\"\"\n",
    "    x1, x2, x3 = vector\n",
    "    return math.sqrt(x1**2 + x2**2 + x3**2)\n",
    "\n",
    "print(magnitude_vector_3d((2, 3, 3)))"
   ]
  },
  {
   "cell_type": "code",
   "execution_count": 16,
   "metadata": {},
   "outputs": [
    {
     "name": "stdout",
     "output_type": "stream",
     "text": [
      "42.5\n"
     ]
    }
   ],
   "source": [
    "# Checking a simplified definition of the kinetic energy:\n",
    "# (1/2) * mass * magnitude of the vector squared\n",
    "\n",
    "print(.5 * 5 * magnitude_vector_3d((2, 3, 2))**2)"
   ]
  },
  {
   "cell_type": "code",
   "execution_count": 17,
   "metadata": {},
   "outputs": [
    {
     "name": "stdout",
     "output_type": "stream",
     "text": [
      "-0.4\n"
     ]
    }
   ],
   "source": [
    "def potential_energy(lamb, mass, radius):\n",
    "    \"\"\" Defines the potential energy of a particle at a distance from another.\n",
    "    \n",
    "    lamb -- the constant of gravity\n",
    "    mass -- the mass of the attracting particle\n",
    "    radius -- the distance between the particles\n",
    "    \"\"\"\n",
    "    return (-lamb) * (mass / radius)\n",
    "\n",
    "print(potential_energy(1, 2, 5))"
   ]
  },
  {
   "cell_type": "code",
   "execution_count": 18,
   "metadata": {},
   "outputs": [
    {
     "name": "stdout",
     "output_type": "stream",
     "text": [
      "-0.2\n"
     ]
    }
   ],
   "source": [
    "def potential(lamb, radius):\n",
    "    \"\"\" Defines the potential.\n",
    "    \n",
    "    lamb -- the constant of gravity\n",
    "    radius -- the distance between particles\n",
    "    \"\"\"\n",
    "    return (-lamb) / radius\n",
    "\n",
    "print(potential(1, 5))"
   ]
  },
  {
   "cell_type": "markdown",
   "metadata": {},
   "source": [
    "---"
   ]
  },
  {
   "cell_type": "markdown",
   "metadata": {},
   "source": [
    "## 3. Lagrange's Equations"
   ]
  },
  {
   "cell_type": "code",
   "execution_count": 19,
   "metadata": {},
   "outputs": [],
   "source": [
    "def x_loc(r_now, theta_deg):\n",
    "    \"\"\" x location from polar coordinates \n",
    "    \n",
    "    Keyword arguments:\n",
    "    r_now -- radius at a point in time\n",
    "    theta_deg -- the given angle in radians\n",
    "    \"\"\"\n",
    "    return r_now * math.cos(theta_deg)\n",
    "\n",
    "def y_loc(r_now, theta_deg):\n",
    "    \"\"\" y location from polar coordinates \n",
    "    \n",
    "    Keyword arguments:\n",
    "    r_now -- radius at a point in time\n",
    "    theta_deg -- the given angle in radians\n",
    "    \"\"\"\n",
    "    return r_now * math.sin(theta_deg)\n",
    "\n",
    "def x_vel(r_now, r_vel, theta_deg, theta_vel):\n",
    "    \"\"\" The velocity on x dimension.\n",
    "    \n",
    "    Keyword arguments:\n",
    "    r_now -- radius at a point in time\n",
    "    r_vel -- the change in radius\n",
    "    theta_deg -- the given angle in radians\n",
    "    theta_vel -- the change in angle\n",
    "    \"\"\"\n",
    "    y_location = y_loc(r_now, theta_deg)\n",
    "    change_in_y = -(y_location) * theta_vel\n",
    "    change_in_x = math.cos(theta_deg) * r_vel\n",
    "    return change_in_y + change_in_x\n",
    "\n",
    "def y_vel(r_now, r_vel, theta_deg, theta_vel):\n",
    "    \"\"\" The velocity on x dimension.\n",
    "    \n",
    "    Keyword arguments:\n",
    "    r_now -- radius at a point in time\n",
    "    r_vel -- the change in radius\n",
    "    theta_deg -- the given angle in radians\n",
    "    theta_vel -- the change in angle\n",
    "    \"\"\"\n",
    "    x_location = x_loc(r_now, theta_deg)\n",
    "    change_in_x = x_location * theta_vel\n",
    "    change_in_y = math.sin(theta_deg) * r_vel\n",
    "    return change_in_x + change_in_y"
   ]
  },
  {
   "cell_type": "code",
   "execution_count": 20,
   "metadata": {},
   "outputs": [
    {
     "name": "stdout",
     "output_type": "stream",
     "text": [
      "x axis: 0.5403023058681398\n",
      "y axis: 0.8414709848078965\n"
     ]
    }
   ],
   "source": [
    "print(\"x axis: \" + str(math.cos(1)))\n",
    "print(\"y axis: \" + str(math.sin(1)))"
   ]
  },
  {
   "cell_type": "code",
   "execution_count": 21,
   "metadata": {},
   "outputs": [
    {
     "data": {
      "image/png": "[encoded data removed]",
      "text/plain": [
       "<Figure size 432x288 with 1 Axes>"
      ]
     },
     "metadata": {
      "needs_background": "light"
     },
     "output_type": "display_data"
    }
   ],
   "source": [
    "r = 1 # radius\n",
    "r_vel = 1\n",
    "theta_vel = 1\n",
    "\n",
    "ax = plt.axes()\n",
    "\n",
    "for i in np.arange(0, 6, .25):\n",
    "    ax.arrow(\n",
    "        x_loc(r, i),\n",
    "        y_loc(r, i),\n",
    "        x_vel(r, r_vel, i, theta_vel),\n",
    "        y_vel(r, r_vel, i, theta_vel),\n",
    "        head_width = 0.1,\n",
    "        head_length = 0.1\n",
    "    )\n",
    "\n",
    "plt.axis('square')\n",
    "plt.plot(0, 0, 'X')\n",
    "plt.xlim(-3, 3)\n",
    "plt.ylim(-3, 3)\n",
    "plt.show()"
   ]
  },
  {
   "cell_type": "code",
   "execution_count": 22,
   "metadata": {},
   "outputs": [
    {
     "name": "stdout",
     "output_type": "stream",
     "text": [
      "2.999999999999999\n"
     ]
    }
   ],
   "source": [
    "def kinetic_energy_1(m, x_vel, y_vel):\n",
    "    return .5 * m * (x_vel**2 + y_vel**2)\n",
    "\n",
    "tmp_x_vel = x_vel(1, r_vel, .25, theta_vel)\n",
    "tmp_y_vel = y_vel(1, r_vel, .25, theta_vel)\n",
    "\n",
    "T1 = kinetic_energy_1(3, tmp_x_vel, tmp_y_vel)\n",
    "print(T1)"
   ]
  },
  {
   "cell_type": "code",
   "execution_count": 23,
   "metadata": {},
   "outputs": [
    {
     "name": "stdout",
     "output_type": "stream",
     "text": [
      "3.0\n"
     ]
    }
   ],
   "source": [
    "def kinetic_energy_2(m, r, theta_vel, r_vel):\n",
    "    return .5 * m * (r**2 * theta_vel**2 + r_vel**2)\n",
    "\n",
    "T2 = kinetic_energy_2(3, 1, theta_vel, r_vel)\n",
    "print(T2)"
   ]
  },
  {
   "cell_type": "code",
   "execution_count": 24,
   "metadata": {},
   "outputs": [
    {
     "data": {
      "text/plain": [
       "True"
      ]
     },
     "execution_count": 24,
     "metadata": {},
     "output_type": "execute_result"
    }
   ],
   "source": [
    "np.isclose(T1, T2)"
   ]
  },
  {
   "cell_type": "code",
   "execution_count": 25,
   "metadata": {},
   "outputs": [
    {
     "data": {
      "image/png": "[encoded data removed]",
      "text/plain": [
       "<Figure size 432x288 with 1 Axes>"
      ]
     },
     "metadata": {},
     "output_type": "display_data"
    },
    {
     "name": "stdout",
     "output_type": "stream",
     "text": [
      " x    y  dy/dx\n",
      " 0    0      0\n",
      " 1    1      3\n",
      " 2    8     12\n",
      " 3   27     27\n",
      " 4   64     48\n",
      " 5  125     75\n",
      " 6  216    108\n",
      " 7  343    147\n",
      " 8  512    192\n",
      " 9  729    243\n"
     ]
    }
   ],
   "source": [
    "n = 3\n",
    "rng = range(0, 10)\n",
    "\n",
    "dic = {\n",
    "    'x' : [x for x in rng],\n",
    "    'y' : [x**n for x in rng],\n",
    "    'dy/dx' : [n * (x**(n-1)) for x in rng]\n",
    "}\n",
    "\n",
    "df = pd.DataFrame(dic)\n",
    "\n",
    "plt.style.use('ggplot')\n",
    "plt.plot(df)\n",
    "plt.legend(df.columns)\n",
    "plt.show()\n",
    "print(df.to_string(index = False))"
   ]
  },
  {
   "cell_type": "code",
   "execution_count": 45,
   "metadata": {},
   "outputs": [
    {
     "name": "stdout",
     "output_type": "stream",
     "text": [
      "0.3\n"
     ]
    }
   ],
   "source": [
    "def lagrange_equation(k_energy, q_loc, q_vel):\n",
    "    \"\"\" The Lagrange equation with kinetic energy for coordinate q. \"\"\"\n",
    "    partial_derivative_q_vel = k_energy / q_vel\n",
    "    partial_derivative_q_loc = k_energy / q_loc\n",
    "    Qq = partial_derivative_q_vel - partial_derivative_q_loc\n",
    "    return Qq\n",
    "\n",
    "print(lagrange_equation(1, 5, 2))"
   ]
  },
  {
   "cell_type": "markdown",
   "metadata": {},
   "source": [
    "> This Lagrange equation does include the polar coordinate equations ... for the coordinates $r$ and $\\theta$. The miracle is that this one form of equation applies to any choice of coordinate system. This exemplifies the observation that one Mathematical form has many realizations."
   ]
  },
  {
   "cell_type": "markdown",
   "metadata": {},
   "source": [
    "> The Lagrange equations apply also to the case of motion under constraints - for example a so called \"holonomic\" constraint, where a particle or particles is required (i.e. is constrained) to move only along some curve or surface in Euclidean space. An example is a sphere rolling along a smooth table or a pendulum where the pendulum's bob is suspended by a weightless string from some fixed point 0. Then the motion of the bob is just the motion of a point on a sphere, and so can be described in terms of coordinates on the sphere - say the latitude and longitude."
   ]
  },
  {
   "cell_type": "markdown",
   "metadata": {},
   "source": [
    "For cases of holonomic constraint, there are 2 types of forces:\n",
    "\n",
    "- $F^c$ Forces of constraint:\n",
    "    - orthogonal to the submanifold\n",
    "    - these do no work\n",
    "- $F^e$ External forces"
   ]
  },
  {
   "cell_type": "code",
   "execution_count": 48,
   "metadata": {},
   "outputs": [
    {
     "name": "stdout",
     "output_type": "stream",
     "text": [
      "-9.800665778412416\n",
      "-9.950041652780259\n",
      "-10.0\n",
      "-9.950041652780259\n",
      "-9.800665778412416\n"
     ]
    }
   ],
   "source": [
    "def pendulum_potential(mass, gravity, radius, theta):\n",
    "    \"\"\" Calculate potential energy of pendulum. \"\"\"\n",
    "    return -mass * gravity * radius * math.cos(theta)\n",
    "\n",
    "print(pendulum_potential(5, 1, 2, .2))\n",
    "print(pendulum_potential(5, 1, 2, .1))\n",
    "print(pendulum_potential(5, 1, 2, 0))\n",
    "print(pendulum_potential(5, 1, 2, -.1))\n",
    "print(pendulum_potential(5, 1, 2, -.2))"
   ]
  },
  {
   "cell_type": "code",
   "execution_count": 50,
   "metadata": {},
   "outputs": [
    {
     "name": "stdout",
     "output_type": "stream",
     "text": [
      "10.0\n"
     ]
    }
   ],
   "source": [
    "def pendulum_kinetic(mass, radius, theta_vel):\n",
    "    \"\"\" Calculate kinetic energy of pendulum. \"\"\"\n",
    "    return (mass * radius**2 * theta_vel**2) / 2\n",
    "\n",
    "print(pendulum_kinetic(5, 2, 1))"
   ]
  },
  {
   "cell_type": "markdown",
   "metadata": {},
   "source": [
    "---"
   ]
  },
  {
   "cell_type": "markdown",
   "metadata": {},
   "source": [
    "## 4. Velocities & Tangent Bundles"
   ]
  },
  {
   "cell_type": "code",
   "execution_count": null,
   "metadata": {},
   "outputs": [],
   "source": []
  }
 ],
 "metadata": {
  "kernelspec": {
   "display_name": "Python 3",
   "language": "python",
   "name": "python3"
  },
  "language_info": {
   "codemirror_mode": {
    "name": "ipython",
    "version": 3
   },
   "file_extension": ".py",
   "mimetype": "text/x-python",
   "name": "python",
   "nbconvert_exporter": "python",
   "pygments_lexer": "ipython3",
   "version": "3.7.6"
  }
 },
 "nbformat": 4,
 "nbformat_minor": 4
}
