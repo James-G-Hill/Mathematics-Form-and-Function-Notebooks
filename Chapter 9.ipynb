{
 "cells": [
  {
   "cell_type": "markdown",
   "metadata": {},
   "source": [
    "# Mathematics Form & Function: Chapter 9 - Mechanics"
   ]
  },
  {
   "cell_type": "markdown",
   "metadata": {},
   "source": [
    "## 1. Kepler's Laws"
   ]
  },
  {
   "cell_type": "markdown",
   "metadata": {},
   "source": [
    "The laws:\n",
    "\n",
    "1. The planets describe orbits in a plane containing the sun, in such a way that areas swept out in equal times are equal.\n",
    "2. Each planetary orbit is an ellipse with the sun at one focus.\n",
    "3. The square of the period of each planet in its orbit is proportional to the length of the major axis of the ellipse."
   ]
  },
  {
   "cell_type": "code",
   "execution_count": 1,
   "metadata": {},
   "outputs": [
    {
     "name": "stdout",
     "output_type": "stream",
     "text": [
      "[4 6 8]\n",
      "[10 15 20]\n",
      "[20 30 40]\n"
     ]
    }
   ],
   "source": [
    "import numpy as np\n",
    "\n",
    "def force(mass, acceleration):\n",
    "    \"\"\" Newton's 2nd law. \"\"\"\n",
    "    return mass * acceleration\n",
    "\n",
    "print(force(2, np.array([2, 3, 4])))\n",
    "print(force(5, np.array([2, 3, 4])))\n",
    "print(force(10, np.array([2, 3, 4])))"
   ]
  },
  {
   "cell_type": "code",
   "execution_count": 2,
   "metadata": {},
   "outputs": [
    {
     "name": "stdout",
     "output_type": "stream",
     "text": [
      "1.5\n",
      "0.375\n",
      "0.16666666666666666\n",
      "0.25\n",
      "0.3333333333333333\n"
     ]
    }
   ],
   "source": [
    "def inverse_square_law(m1, m2, r):\n",
    "    \"\"\"\n",
    "    The inverse square law returns the magnitude of a gravitational force.\n",
    "    \n",
    "    m1 = a mass\n",
    "    m2 = another mass\n",
    "    r  = the distance in a straight line between masses.\n",
    "    \"\"\"\n",
    "    constant = 1 # the gravitational constant\n",
    "    return constant * ((m1 * m2) / r**2)\n",
    "\n",
    "print(inverse_square_law(2, 3, 2))\n",
    "print(inverse_square_law(2, 3, 4))\n",
    "print(inverse_square_law(2, 3, 6))\n",
    "print(inverse_square_law(3, 3, 6))\n",
    "print(inverse_square_law(3, 4, 6))"
   ]
  },
  {
   "cell_type": "code",
   "execution_count": 3,
   "metadata": {},
   "outputs": [],
   "source": [
    "import math\n",
    "\n",
    "def newtons_2nd_law_plane(F, theta):\n",
    "    \"\"\"\n",
    "    Newton's 2nd law taking polar coordinates.\n",
    "    \n",
    "    F - a magnitude of force\n",
    "    theta - the angle from y == 0\n",
    "    \"\"\"\n",
    "    mx = -F * math.cos(theta)\n",
    "    my = -F * math.sin(theta)\n",
    "    return [mx, my]"
   ]
  },
  {
   "cell_type": "code",
   "execution_count": 4,
   "metadata": {},
   "outputs": [
    {
     "data": {
      "image/png": "[encoded data removed]",
      "text/plain": [
       "<Figure size 432x288 with 1 Axes>"
      ]
     },
     "metadata": {
      "needs_background": "light"
     },
     "output_type": "display_data"
    }
   ],
   "source": [
    "import matplotlib.pyplot as plt\n",
    "import pandas as pd\n",
    "\n",
    "coords = []\n",
    "for i in np.arange(0, 6, .1):\n",
    "    coords.append(newtons_2nd_law_plane(2, i))\n",
    "\n",
    "df = pd.DataFrame(columns = ['x', 'y'], data = np.array(coords))\n",
    "\n",
    "plt.plot([-2, 2], [0, 0])\n",
    "plt.plot([0, 0], [-2, 2])\n",
    "plt.plot(0, 0, 'X')\n",
    "plt.plot(df['x'], df['y'])\n",
    "plt.show()"
   ]
  },
  {
   "cell_type": "code",
   "execution_count": 5,
   "metadata": {},
   "outputs": [
    {
     "data": {
      "image/png": "[encoded data removed]",
      "text/plain": [
       "<Figure size 432x288 with 1 Axes>"
      ]
     },
     "metadata": {
      "needs_background": "light"
     },
     "output_type": "display_data"
    }
   ],
   "source": [
    "coords = []\n",
    "for i in np.arange(0, 6, .1):\n",
    "    coords.append(newtons_2nd_law_plane(i, 2))\n",
    "\n",
    "df = pd.DataFrame(columns = ['x', 'y'], data = np.array(coords))\n",
    "\n",
    "plt.plot([-2, 2], [0, 0])\n",
    "plt.plot([0, 0], [-2, 2])\n",
    "plt.plot(0, 0, 'X')\n",
    "plt.plot(df['x'], df['y'])\n",
    "plt.show()"
   ]
  },
  {
   "cell_type": "code",
   "execution_count": 6,
   "metadata": {},
   "outputs": [
    {
     "data": {
      "text/plain": [
       "True"
      ]
     },
     "execution_count": 6,
     "metadata": {},
     "output_type": "execute_result"
    }
   ],
   "source": [
    "F = 10\n",
    "theta = 3\n",
    "r = 5\n",
    "mx = -F * math.cos(theta)\n",
    "my = -F * math.sin(theta)\n",
    "\n",
    "x = r * math.cos(theta)\n",
    "y = r * math.sin(theta)\n",
    "\n",
    "# The following states that the time derivate of the 1st deritive of y * x,\n",
    "# minus the 1st derivative of x * y is equal to zero\n",
    "(mx * y) - (my * x) == 0"
   ]
  },
  {
   "cell_type": "code",
   "execution_count": 7,
   "metadata": {},
   "outputs": [
    {
     "name": "stdout",
     "output_type": "stream",
     "text": [
      "8\n",
      "16\n",
      "24\n"
     ]
    }
   ],
   "source": [
    "def angular_momentum_polar(m, r, theta):\n",
    "    \"\"\"\n",
    "    The angular momemuntum in polar coordinates.\n",
    "    \n",
    "    m = mass\n",
    "    r = distance from the zero point\n",
    "    theta = angular velocity about 0\n",
    "    \"\"\"\n",
    "    return m * r**2 * theta\n",
    "\n",
    "# Increasing the angle\n",
    "print(angular_momentum_polar(2, 2, 1))\n",
    "print(angular_momentum_polar(2, 2, 2))\n",
    "print(angular_momentum_polar(2, 2, 3))"
   ]
  },
  {
   "cell_type": "code",
   "execution_count": 8,
   "metadata": {},
   "outputs": [
    {
     "name": "stdout",
     "output_type": "stream",
     "text": [
      "8\n",
      "16\n",
      "24\n"
     ]
    }
   ],
   "source": [
    "# Increasing the mass\n",
    "print(angular_momentum_polar(1, 2, 2))\n",
    "print(angular_momentum_polar(2, 2, 2))\n",
    "print(angular_momentum_polar(3, 2, 2))"
   ]
  },
  {
   "cell_type": "code",
   "execution_count": 9,
   "metadata": {},
   "outputs": [
    {
     "name": "stdout",
     "output_type": "stream",
     "text": [
      "4\n",
      "16\n",
      "36\n"
     ]
    }
   ],
   "source": [
    "# Increasing the distance\n",
    "print(angular_momentum_polar(2, 1, 2))\n",
    "print(angular_momentum_polar(2, 2, 2))\n",
    "print(angular_momentum_polar(2, 3, 2))"
   ]
  },
  {
   "cell_type": "code",
   "execution_count": 10,
   "metadata": {},
   "outputs": [
    {
     "name": "stdout",
     "output_type": "stream",
     "text": [
      "12.5\n",
      "37.5\n",
      "75.0\n"
     ]
    }
   ],
   "source": [
    "def area_swept_by_radius(r, theta):\n",
    "    \"\"\" Defines the area that is swept by a radius vector.\n",
    "    \n",
    "    r - distance from 0 point to object\n",
    "    theta - the change in angle\n",
    "    \"\"\"\n",
    "    return .5 * r**2 * theta\n",
    "\n",
    "print(area_swept_by_radius(5, 1))\n",
    "print(area_swept_by_radius(5, 3))\n",
    "print(area_swept_by_radius(5, 6))"
   ]
  },
  {
   "cell_type": "code",
   "execution_count": 11,
   "metadata": {},
   "outputs": [],
   "source": [
    "def equation_orbit_polar(k, mu, x, y, A, B):\n",
    "    \"\"\"\n",
    "    The equation of an orbit in polar terms:\n",
    "    \n",
    "    k - constant of angular momentum\n",
    "    mu - constant\n",
    "    x - coordinate\n",
    "    y - coordinate\n",
    "    A - constant of integration\n",
    "    B - constant of integration\n",
    "    \"\"\"\n",
    "    return k**2 / (mu - (x * B) - (y * A))"
   ]
  },
  {
   "cell_type": "markdown",
   "metadata": {},
   "source": [
    "> When velocity and acceleration are represented by derivatives, as defined in the Calculus, then Kepler's laws, summarizing the obvserations of the positions of the planets, can be deduced from Newton's second law of motion and the inverse square law of gravitation."
   ]
  },
  {
   "cell_type": "markdown",
   "metadata": {},
   "source": [
    "---"
   ]
  },
  {
   "cell_type": "markdown",
   "metadata": {},
   "source": [
    "## 2. Momentum, Work, and Energy"
   ]
  },
  {
   "cell_type": "code",
   "execution_count": 12,
   "metadata": {},
   "outputs": [
    {
     "name": "stdout",
     "output_type": "stream",
     "text": [
      "(10, 15, 10)\n"
     ]
    }
   ],
   "source": [
    "def linear_momentum_3d(mass, vector):\n",
    "    \"\"\" Returns the momentum in 3 dimensions given mass & vector velocity.\n",
    "    \n",
    "    mass -- the mass of an object\n",
    "    vector -- a tuple of 3d coordinates\n",
    "    \"\"\"\n",
    "    x1, x2, x3 = vector\n",
    "    return (mass * x1, mass * x2, mass * x3)\n",
    "\n",
    "print(linear_momentum_3d(5, (2, 3, 2)))"
   ]
  },
  {
   "cell_type": "code",
   "execution_count": 13,
   "metadata": {},
   "outputs": [
    {
     "name": "stdout",
     "output_type": "stream",
     "text": [
      "10\n"
     ]
    }
   ],
   "source": [
    "def work_3d(force, displacement):\n",
    "    \"\"\" Defines the work by inner product of force & displacement.\n",
    "    \n",
    "    force -- a 3d vector\n",
    "    displacement -- a 3d vector\n",
    "    \"\"\"\n",
    "    work = 0\n",
    "    for i in range(0, 3):\n",
    "        work += force[i] * displacement[i]\n",
    "    return work\n",
    "\n",
    "print(work_3d([2, 3, 2], [0, 2, 2]))"
   ]
  },
  {
   "cell_type": "code",
   "execution_count": 14,
   "metadata": {},
   "outputs": [
    {
     "name": "stdout",
     "output_type": "stream",
     "text": [
      "42.5\n"
     ]
    }
   ],
   "source": [
    "def kinetic_energy_3d(mass, vector):\n",
    "    \"\"\" Defines the kinetic energy of a particle in 3d.\n",
    "    \n",
    "    mass -- a scalar\n",
    "    vector -- 3d coordinates as a tuple\n",
    "    \"\"\"\n",
    "    x1, x2, x3 = vector\n",
    "    return .5 * mass * (x1**2 + x2**2 + x3**2)\n",
    "    \n",
    "print(kinetic_energy_3d(5, (2, 3, 2)))"
   ]
  },
  {
   "cell_type": "code",
   "execution_count": 17,
   "metadata": {},
   "outputs": [
    {
     "name": "stdout",
     "output_type": "stream",
     "text": [
      "4.69041575982343\n"
     ]
    }
   ],
   "source": [
    "def magnitude_vector_3d(vector):\n",
    "    \"\"\" Return the magnitude. \"\"\"\n",
    "    x1, x2, x3 = vector\n",
    "    return math.sqrt(x1**2 + x2**2 + x3**2)\n",
    "\n",
    "print(magnitude_vector_3d((2, 3, 3)))"
   ]
  },
  {
   "cell_type": "code",
   "execution_count": 20,
   "metadata": {},
   "outputs": [
    {
     "name": "stdout",
     "output_type": "stream",
     "text": [
      "42.5\n"
     ]
    }
   ],
   "source": [
    "# Checking a simplified definition of the kinetic energy:\n",
    "# (1/2) * mass * magnitude of the vector squared\n",
    "\n",
    "print(.5 * 5 * magnitude_vector_3d((2, 3, 2))**2)"
   ]
  },
  {
   "cell_type": "code",
   "execution_count": 22,
   "metadata": {},
   "outputs": [
    {
     "name": "stdout",
     "output_type": "stream",
     "text": [
      "-0.4\n"
     ]
    }
   ],
   "source": [
    "def potential_energy(lamb, mass, radius):\n",
    "    \"\"\" Defines the potential energy of a particle at a distance from another.\n",
    "    \n",
    "    lamb -- the constant of gravity\n",
    "    mass -- the mass of the attracting particle\n",
    "    radius -- the distance between the particles\n",
    "    \"\"\"\n",
    "    return (-lamb) * (mass / radius)\n",
    "\n",
    "print(potential_energy(1, 2, 5))"
   ]
  },
  {
   "cell_type": "code",
   "execution_count": 24,
   "metadata": {},
   "outputs": [
    {
     "name": "stdout",
     "output_type": "stream",
     "text": [
      "-0.2\n"
     ]
    }
   ],
   "source": [
    "def potential(lamb, radius):\n",
    "    \"\"\" Defines the potential.\n",
    "    \n",
    "    lamb -- the constant of gravity\n",
    "    radius -- the distance between particles\n",
    "    \"\"\"\n",
    "    return (-lamb) / radius\n",
    "\n",
    "print(potential(1, 5))"
   ]
  },
  {
   "cell_type": "markdown",
   "metadata": {},
   "source": [
    "---"
   ]
  },
  {
   "cell_type": "markdown",
   "metadata": {},
   "source": [
    "## 3. Lagrange's Equations"
   ]
  },
  {
   "cell_type": "code",
   "execution_count": null,
   "metadata": {},
   "outputs": [],
   "source": []
  }
 ],
 "metadata": {
  "kernelspec": {
   "display_name": "Python 3",
   "language": "python",
   "name": "python3"
  },
  "language_info": {
   "codemirror_mode": {
    "name": "ipython",
    "version": 3
   },
   "file_extension": ".py",
   "mimetype": "text/x-python",
   "name": "python",
   "nbconvert_exporter": "python",
   "pygments_lexer": "ipython3",
   "version": "3.7.6"
  }
 },
 "nbformat": 4,
 "nbformat_minor": 4
}
