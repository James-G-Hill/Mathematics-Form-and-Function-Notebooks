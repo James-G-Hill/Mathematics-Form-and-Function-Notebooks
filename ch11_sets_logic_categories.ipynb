{
 "cells": [
  {
   "cell_type": "markdown",
   "metadata": {},
   "source": [
    "# 11. Sets, Logic, and Categories"
   ]
  },
  {
   "cell_type": "markdown",
   "metadata": {},
   "source": [
    "> ... almost all the objects of Mathematics can be described as sets: A natural number is a set of sets (a cardinal), a rational number is set of pairs (an equivalence class), a real number is a set of rationsals (a Dedekind cut), and a function is set of ordered pairs (a table of values). Similarly the theorems of Mathematics can all be written as formuulas in a very parsimonious formal language which uses only set-membership, the basic connectives of logic (or, not, there exists) and the needed primitive terms of each subject (thus \"point\" and \"line\" for incidence geometry). Finally, most of the proofs of Mathematical theorems can be stated with absolute rigor as a sequence of inferences, each an instance of a finite number of basic schemes of inference."
   ]
  },
  {
   "cell_type": "markdown",
   "metadata": {},
   "source": [
    "---"
   ]
  },
  {
   "cell_type": "markdown",
   "metadata": {},
   "source": [
    "## 1. The Hierarchy of Sets"
   ]
  },
  {
   "cell_type": "markdown",
   "metadata": {},
   "source": [
    "Recognition of sets as objects of Mathematical study came about in 19th C in 2 ways:\n",
    "\n",
    "- Dedekind explaining Kummer's ideal numbers as sets of ordinary numbers (& $\\mathbb{Q}$)\n",
    "- Fourier series requiring general sets of real numbers"
   ]
  },
  {
   "cell_type": "code",
   "execution_count": 1,
   "metadata": {},
   "outputs": [
    {
     "data": {
      "text/latex": [
       "$\\displaystyle \\mathbb{N}$"
      ],
      "text/plain": [
       "Naturals"
      ]
     },
     "execution_count": 1,
     "metadata": {},
     "output_type": "execute_result"
    }
   ],
   "source": [
    "from sympy.abc import *\n",
    "from sympy import S\n",
    "from sympy import FiniteSet\n",
    "from sympy.sets.conditionset import ConditionSet\n",
    "from sympy.sets.powerset import PowerSet\n",
    "\n",
    "S.Naturals"
   ]
  },
  {
   "cell_type": "code",
   "execution_count": 2,
   "metadata": {},
   "outputs": [
    {
     "name": "stdout",
     "output_type": "stream",
     "text": [
      "1\n",
      "2\n",
      "3\n"
     ]
    }
   ],
   "source": [
    "naturals_iter = iter(S.Naturals)\n",
    "for _ in range(1, 4):\n",
    "    print(next(naturals_iter))"
   ]
  },
  {
   "cell_type": "code",
   "execution_count": 3,
   "metadata": {},
   "outputs": [
    {
     "data": {
      "text/latex": [
       "$\\displaystyle PowerSet\\left(\\mathbb{N}\\right)$"
      ],
      "text/plain": [
       "PowerSet(Naturals)"
      ]
     },
     "execution_count": 3,
     "metadata": {},
     "output_type": "execute_result"
    }
   ],
   "source": [
    "naturals_power = S.Naturals.powerset()\n",
    "naturals_power"
   ]
  },
  {
   "cell_type": "code",
   "execution_count": 4,
   "metadata": {},
   "outputs": [
    {
     "name": "stdout",
     "output_type": "stream",
     "text": [
      "True\n",
      "False\n"
     ]
    }
   ],
   "source": [
    "print(naturals_power.contains(S.Naturals))\n",
    "print(S.Naturals.contains(naturals_power))"
   ]
  },
  {
   "cell_type": "code",
   "execution_count": 5,
   "metadata": {},
   "outputs": [
    {
     "data": {
      "text/latex": [
       "$\\displaystyle \\left\\{1, 2, 3\\right\\}$"
      ],
      "text/plain": [
       "FiniteSet(1, 2, 3)"
      ]
     },
     "execution_count": 5,
     "metadata": {},
     "output_type": "execute_result"
    }
   ],
   "source": [
    "A = FiniteSet(1, 2, 3)\n",
    "A"
   ]
  },
  {
   "cell_type": "code",
   "execution_count": 6,
   "metadata": {},
   "outputs": [
    {
     "data": {
      "text/latex": [
       "$\\displaystyle \\left\\{\\emptyset, \\left\\{1\\right\\}, \\left\\{2\\right\\}, \\left\\{3\\right\\}, \\left\\{1, 2\\right\\}, \\left\\{1, 3\\right\\}, \\left\\{2, 3\\right\\}, \\left\\{1, 2, 3\\right\\}\\right\\}$"
      ],
      "text/plain": [
       "FiniteSet(FiniteSet(1), FiniteSet(1, 2), FiniteSet(1, 3), FiniteSet(1, 2, 3), FiniteSet(2), FiniteSet(2, 3), FiniteSet(3), EmptySet)"
      ]
     },
     "execution_count": 6,
     "metadata": {},
     "output_type": "execute_result"
    }
   ],
   "source": [
    "PA = A.powerset()\n",
    "PA"
   ]
  },
  {
   "cell_type": "code",
   "execution_count": 7,
   "metadata": {},
   "outputs": [
    {
     "data": {
      "text/latex": [
       "$\\displaystyle \\left\\{1, 2, 3\\right\\} \\cap \\left\\{\\emptyset\\right\\}$"
      ],
      "text/plain": [
       "Intersection(FiniteSet(EmptySet), FiniteSet(1, 2, 3))"
      ]
     },
     "execution_count": 7,
     "metadata": {},
     "output_type": "execute_result"
    }
   ],
   "source": [
    "A.intersection(PA)"
   ]
  },
  {
   "cell_type": "code",
   "execution_count": 8,
   "metadata": {},
   "outputs": [
    {
     "data": {
      "text/latex": [
       "$\\displaystyle \\emptyset$"
      ],
      "text/plain": [
       "EmptySet"
      ]
     },
     "execution_count": 8,
     "metadata": {},
     "output_type": "execute_result"
    }
   ],
   "source": [
    "S.EmptySet"
   ]
  },
  {
   "cell_type": "code",
   "execution_count": 9,
   "metadata": {},
   "outputs": [
    {
     "data": {
      "text/latex": [
       "$\\displaystyle \\left\\{\\emptyset\\right\\}$"
      ],
      "text/plain": [
       "FiniteSet(EmptySet)"
      ]
     },
     "execution_count": 9,
     "metadata": {},
     "output_type": "execute_result"
    }
   ],
   "source": [
    "S.EmptySet.powerset()"
   ]
  },
  {
   "cell_type": "code",
   "execution_count": 10,
   "metadata": {},
   "outputs": [
    {
     "data": {
      "text/latex": [
       "$\\displaystyle \\left\\{\\emptyset, \\left\\{\\emptyset\\right\\}\\right\\}$"
      ],
      "text/plain": [
       "FiniteSet(EmptySet, FiniteSet(EmptySet))"
      ]
     },
     "execution_count": 10,
     "metadata": {},
     "output_type": "execute_result"
    }
   ],
   "source": [
    "S.EmptySet.powerset().powerset()"
   ]
  },
  {
   "cell_type": "code",
   "execution_count": 11,
   "metadata": {},
   "outputs": [
    {
     "data": {
      "text/latex": [
       "$\\displaystyle \\left\\{\\emptyset, \\left\\{\\emptyset\\right\\}, \\left\\{\\left\\{\\emptyset\\right\\}\\right\\}, \\left\\{\\emptyset, \\left\\{\\emptyset\\right\\}\\right\\}\\right\\}$"
      ],
      "text/plain": [
       "FiniteSet(EmptySet, FiniteSet(EmptySet), FiniteSet(FiniteSet(EmptySet)), FiniteSet(EmptySet, FiniteSet(EmptySet)))"
      ]
     },
     "execution_count": 11,
     "metadata": {},
     "output_type": "execute_result"
    }
   ],
   "source": [
    "def cumulative_hierarchy(alpha):\n",
    "    \"\"\" This quickly goes out of control with alpha > 4 \"\"\"\n",
    "    x = S.EmptySet\n",
    "    for _ in range(0, alpha):\n",
    "        x = x.powerset()\n",
    "    return x\n",
    "\n",
    "cumulative_hierarchy(3)"
   ]
  },
  {
   "cell_type": "markdown",
   "metadata": {},
   "source": [
    "---"
   ]
  },
  {
   "cell_type": "markdown",
   "metadata": {},
   "source": [
    "## 2. Axiomatic Set Theory"
   ]
  },
  {
   "cell_type": "markdown",
   "metadata": {},
   "source": [
    "The Zermelo-Fraenkel axiom system (ZF) is standard & begins with the definition:\n",
    "\n",
    "$$\n",
    "x = y \\Leftrightarrow x \\subset y \\enspace \\& \\enspace y \\subset x\n",
    "$$\n",
    "\n",
    "Following is the list of axioms:"
   ]
  },
  {
   "cell_type": "markdown",
   "metadata": {},
   "source": [
    "*Extensionality*\n",
    "\n",
    "$$\n",
    "x = y \\enspace \\& \\enspace y \\in z \\enspace \\text{imply} \\enspace x \\in z\n",
    "$$"
   ]
  },
  {
   "cell_type": "markdown",
   "metadata": {},
   "source": [
    "*Null set*\n",
    "\n",
    "There is a set $\\varnothing$ with no elements"
   ]
  },
  {
   "cell_type": "markdown",
   "metadata": {},
   "source": [
    "*Pairing*\n",
    "\n",
    "For any sets $x$ and $y$ there is a set $u$ so that, for all $t$,\n",
    "\n",
    "$$\n",
    "t \\in u \\Leftrightarrow (t = x \\enspace or \\enspace t = y)\n",
    "$$"
   ]
  },
  {
   "cell_type": "markdown",
   "metadata": {},
   "source": [
    "*Power set*\n",
    "\n",
    "For any set $x$ there is a set $u$ with, for all $s$,\n",
    "\n",
    "$$\n",
    "s \\in u \\Leftrightarrow (s \\subset x)\n",
    "$$"
   ]
  },
  {
   "cell_type": "markdown",
   "metadata": {},
   "source": [
    "*Union*\n",
    "\n",
    "For any set $x$ there is a set $u$ with, for all $t$,\n",
    "\n",
    "$$\n",
    "t \\in u \\Leftrightarrow \\text{There is an} \\enspace s \\enspace \\text{with} \\enspace t \\in s \\in x\n",
    "$$"
   ]
  },
  {
   "cell_type": "markdown",
   "metadata": {},
   "source": [
    "*Infinity*\n",
    "\n",
    "There exists a set $\\omega$ with $\\varnothing \\in \\omega$ and such that $x \\in \\omega$ implies $s(x) \\in \\omega$"
   ]
  },
  {
   "cell_type": "markdown",
   "metadata": {},
   "source": [
    "*Comprehension*\n",
    "\n",
    "For any set $u$ and any property $P$ of elements of $u$ there is a set $s$ with\n",
    "\n",
    "$$\n",
    "x \\in s \\Leftrightarrow x \\in u \\enspace \\text{and} \\enspace x \\enspace \\text{has} \\enspace P\n",
    "$$\n",
    "\n",
    "This is sometimes called the *axiom of separation*.\n",
    "It is actually a family of axioms, one for each property $P$; it is thus called an *axiom scheme*.\n",
    "\n",
    "The \"property\" $P$ of $x$ means something specified by an explicit set-theoretic formula."
   ]
  },
  {
   "cell_type": "markdown",
   "metadata": {},
   "source": [
    "*Regularity*\n",
    "\n",
    "If a set $x$ is not empty it has an element $w$ which has no elements in common with $x$.\n",
    "\n",
    "$$\n",
    "x \\ne \\varnothing \\Rightarrow (\\exists w) \\enspace w \\in x \\enspace \\text{and} \\enspace x \\cap w = \\varnothing\n",
    "$$\n",
    "\n",
    "The axiom of regularity is also called the axiom of *foundation*: given a set $y_0$, there is no infinite regress of elements of its elements."
   ]
  },
  {
   "cell_type": "markdown",
   "metadata": {},
   "source": [
    "*Choice*\n",
    "\n",
    "For every set $x$ with no non-empty members $y$ there is a function $f$ with domain $x$ such that $f(y) \\in y$ for each $y \\in x$"
   ]
  },
  {
   "cell_type": "markdown",
   "metadata": {},
   "source": [
    "*Replacement*\n",
    "\n",
    "If $R(x,y)$ is a formula stated in terms of the sets $x, y$ and the membership relation while $u$ is a set such that for each $x \\in u$ there is exactly one $y$ with $R(x,y)$, then there is a set consisting of exactly all these $y$."
   ]
  },
  {
   "cell_type": "markdown",
   "metadata": {},
   "source": [
    "---"
   ]
  },
  {
   "cell_type": "markdown",
   "metadata": {},
   "source": [
    "## 3. The Propositional Calculus"
   ]
  },
  {
   "cell_type": "code",
   "execution_count": 12,
   "metadata": {},
   "outputs": [],
   "source": [
    "import re\n",
    "from itertools import product\n",
    "from sympy import sympify\n",
    "from sympy import true, false\n",
    "\n",
    "def logic_table(expr):\n",
    "    \"\"\" Pass a function to test all logical results. \"\"\"\n",
    "    args = expr.atoms()\n",
    "    for prod in product((true, false), repeat = len(args)):\n",
    "        expr_str = expr\n",
    "        for x in zip(args, prod):\n",
    "            target = r\"\\b\" + str(x[0]) + r\"\\b\"\n",
    "            replace = str(x[1])\n",
    "            expr_str = re.sub(target, replace, str(expr_str))\n",
    "        result = str(expr.subs(zip(args, prod)))\n",
    "        print(str(expr_str) + \" = \" + result)"
   ]
  },
  {
   "cell_type": "code",
   "execution_count": 13,
   "metadata": {},
   "outputs": [
    {
     "name": "stdout",
     "output_type": "stream",
     "text": [
      "True & True = True\n",
      "False & True = False\n",
      "True & False = False\n",
      "False & False = False\n"
     ]
    }
   ],
   "source": [
    "conjunction = p & q\n",
    "logic_table(conjunction)"
   ]
  },
  {
   "cell_type": "code",
   "execution_count": 14,
   "metadata": {},
   "outputs": [
    {
     "name": "stdout",
     "output_type": "stream",
     "text": [
      "True | True = True\n",
      "False | True = True\n",
      "True | False = True\n",
      "False | False = False\n"
     ]
    }
   ],
   "source": [
    "disjunction = p | q\n",
    "logic_table(disjunction)"
   ]
  },
  {
   "cell_type": "code",
   "execution_count": 15,
   "metadata": {},
   "outputs": [
    {
     "name": "stdout",
     "output_type": "stream",
     "text": [
      "~True = False\n",
      "~False = True\n"
     ]
    }
   ],
   "source": [
    "negation = ~p\n",
    "logic_table(negation)"
   ]
  },
  {
   "cell_type": "code",
   "execution_count": 16,
   "metadata": {},
   "outputs": [
    {
     "name": "stdout",
     "output_type": "stream",
     "text": [
      "Implies(True, True) = True\n",
      "Implies(False, True) = True\n",
      "Implies(True, False) = False\n",
      "Implies(False, False) = True\n"
     ]
    }
   ],
   "source": [
    "implication = p >> q\n",
    "logic_table(implication)"
   ]
  },
  {
   "cell_type": "code",
   "execution_count": 17,
   "metadata": {},
   "outputs": [
    {
     "name": "stdout",
     "output_type": "stream",
     "text": [
      "Implies(True & True, True | True) = True\n",
      "Implies(False & True, False | True) = True\n",
      "Implies(True & False, True | False) = True\n",
      "Implies(False & False, False | False) = True\n"
     ]
    }
   ],
   "source": [
    "# An example of a 'tautology'; every result is True\n",
    "tautology = (p & q) >> (p | q)\n",
    "logic_table(tautology)"
   ]
  },
  {
   "cell_type": "markdown",
   "metadata": {},
   "source": [
    "---"
   ]
  },
  {
   "cell_type": "markdown",
   "metadata": {},
   "source": [
    "## 4. First Order Language"
   ]
  },
  {
   "cell_type": "markdown",
   "metadata": {},
   "source": [
    "For language $L(B,+)$\n",
    "\n",
    "*Defining terms:*\n",
    "\n",
    "i. Each variable & each constant is a term\n",
    "\n",
    "ii. If $+$ is a binary function symbol & $s$ and $t$ are terms, then $s + t$ is a term\n",
    "\n",
    "*Defining formulas:*\n",
    "\n",
    "iii. If $B$ is a binary predicate symbol while $s$ and $t$ are terms, then $B(s,t)$ is a formula\n",
    "\n",
    "iv. If $F$ is a formula, so is $\\neg F$\n",
    "\n",
    "v. If $F$ and $G$ are formulas, so if $F \\vee G$\n",
    "\n",
    "vi. If $x$ is a variable while $F$ is a formula, so are $(\\forall x)F$ and $(\\exists x)F$"
   ]
  },
  {
   "cell_type": "markdown",
   "metadata": {},
   "source": [
    "Values can be:\n",
    "\n",
    "- bound in a formula to a specific value (or set of), by $\\forall$ or $\\exists$\n",
    "- free to represent any value in a domain"
   ]
  },
  {
   "cell_type": "markdown",
   "metadata": {},
   "source": [
    "> It is a striking observation about actual Mathematical systems that the primitive functions involvedd are almost all unary or binary (successor or product), while the primitive predicates *B* are usually unary or binary. There are occassional exeptions, such as the ternary betweenness relation in the foundations of geometry; even then one gets rid of \"betweenness\" as quickly as possible by defining it in terms of the \"less than\" relation for real number coordinates. On the other hand, there is clearly no way in which binary relations or functions could all be replaced by unary ones. In philosophical terms, everything cannot be reducted to properties (unary predicates) of things, as was the apparent intent of Aristotelian logic."
   ]
  },
  {
   "cell_type": "code",
   "execution_count": 18,
   "metadata": {},
   "outputs": [
    {
     "data": {
      "image/png": "[encoded data removed]",
      "text/plain": [
       "<Figure size 432x288 with 1 Axes>"
      ]
     },
     "metadata": {
      "needs_background": "light"
     },
     "output_type": "display_data"
    },
    {
     "data": {
      "text/plain": [
       "<sympy.plotting.plot.Plot at 0x7f394a175810>"
      ]
     },
     "execution_count": 18,
     "metadata": {},
     "output_type": "execute_result"
    }
   ],
   "source": [
    "from sympy.plotting import plot\n",
    "\n",
    "# The weighted average\n",
    "p, q, w = symbols(\"p q w\")\n",
    "expr = ((1 - w) * p) + (w * q)\n",
    "plot(expr.subs([(p, 2), (q, 4)]), (w, 0, 1))"
   ]
  },
  {
   "cell_type": "markdown",
   "metadata": {},
   "source": [
    "- *first order* = quantifers involve variables ranging over 1 domain\n",
    "- *two-sorted* = 2 types of variables range over 2 different domains\n",
    "- *second order* = quantifiers on variables which range over predicates or sets"
   ]
  },
  {
   "cell_type": "markdown",
   "metadata": {},
   "source": [
    "> For most Mathematics, the appropriate axioms for set theory seem to be ZBQC: The Zermelo axioms with comprehension replaced by bounded comprehension and with choice added."
   ]
  },
  {
   "cell_type": "markdown",
   "metadata": {},
   "source": [
    "---"
   ]
  },
  {
   "cell_type": "markdown",
   "metadata": {},
   "source": [
    "## 5. The Predicate Calculus"
   ]
  },
  {
   "cell_type": "code",
   "execution_count": 19,
   "metadata": {},
   "outputs": [
    {
     "name": "stdout",
     "output_type": "stream",
     "text": [
      "True = True\n"
     ]
    }
   ],
   "source": [
    "from sympy.logic.boolalg import Equivalent\n",
    "\n",
    "def F(x):\n",
    "    return ~x\n",
    "\n",
    "def G(x):\n",
    "    return ~~x\n",
    "\n",
    "tautology = (F(x) >> G(x)) >> (~G(x) >> ~F(x))\n",
    "logic_table(tautology)"
   ]
  },
  {
   "cell_type": "code",
   "execution_count": 20,
   "metadata": {},
   "outputs": [
    {
     "name": "stdout",
     "output_type": "stream",
     "text": [
      "True = True\n"
     ]
    }
   ],
   "source": [
    "tautology = Equivalent(F(x), ~~F(x))\n",
    "logic_table(tautology)"
   ]
  },
  {
   "cell_type": "markdown",
   "metadata": {},
   "source": [
    "> A *formal proof* in a predicate language is a finite sequence of formulas of that language in which each formula is either an axiom or results from prior formulas of the sequence by one of the rules of inference."
   ]
  },
  {
   "cell_type": "markdown",
   "metadata": {},
   "source": [
    "The axioms are:\n",
    "\n",
    "i. All tautologies of the language\n",
    "\n",
    "ii. For each term $t$ and for each formula $F(x)$ with a free variable, all formulas of either of the forms:\n",
    "\n",
    "$$\n",
    "((\\forall x)F(x)) \\implies F(t), F(t) \\implies (\\exists x)F(x)\n",
    "$$"
   ]
  },
  {
   "cell_type": "markdown",
   "metadata": {},
   "source": [
    "The rules of inference are:\n",
    "\n",
    "iii. Modus Ponens: From $F$ and $F \\implies G$ infer $G$\n",
    "\n",
    "iv. Generalization; if the variable $x$ does not occur free in $F$:\n",
    "\n",
    "iv.a. From $F \\implies G(x)$ infer $F \\implies (\\forall x) G(x)$\n",
    "\n",
    "iv.b From $G(x) \\implies F$ infer $((\\exists x) G(x)) \\implies F$"
   ]
  },
  {
   "cell_type": "markdown",
   "metadata": {},
   "source": [
    "---"
   ]
  },
  {
   "cell_type": "markdown",
   "metadata": {},
   "source": [
    "## 6. Precision and Understanding"
   ]
  },
  {
   "cell_type": "markdown",
   "metadata": {},
   "source": [
    "> A Mathematical proof is rigorous when it is (or could be) written out in first order predicate language $L(\\in)$ as a sequence of inferences from the axioms ZFC, each inference made according to one of the stated rules."
   ]
  },
  {
   "cell_type": "markdown",
   "metadata": {},
   "source": [
    "> For the concept of rigor we make a historical claim: That rigor is absolute and here to stay. The future may see additional axioms for ests or alternatives to set theory or perhaps new more efficient ways of recording (or discovering) proofs, but the notion of a rigorous proof as a series of formal steps in accordance with prescribed rules of inference will remain."
   ]
  },
  {
   "cell_type": "markdown",
   "metadata": {},
   "source": [
    "---"
   ]
  },
  {
   "cell_type": "markdown",
   "metadata": {},
   "source": [
    "## 7. Godel's Incompleteness Theorems"
   ]
  },
  {
   "cell_type": "markdown",
   "metadata": {},
   "source": [
    "> In general, a *contradiction* in a formal system arises when there is a sentence $p$ of the system and proofs of both $p$ and $\\neg p$. In view of the tautology $p \\land \\neg p \\implies q$, the presence of such a contradiction allows the proof in the system of any sentence $q$. Hilbert aspired to obtain a secure foundation for Mathematics by providing that a suitable formal system (including at least arithmetic and analysis) is *consistent* in the sense that it has no contradictions."
   ]
  },
  {
   "cell_type": "code",
   "execution_count": 21,
   "metadata": {},
   "outputs": [
    {
     "name": "stdout",
     "output_type": "stream",
     "text": [
      "Implies(True & ~True, True) = True\n",
      "Implies(False & ~False, True) = True\n",
      "Implies(True & ~True, False) = True\n",
      "Implies(False & ~False, False) = True\n"
     ]
    }
   ],
   "source": [
    "# Given Russel's Paradox, where P & not P can both be proved then\n",
    "tautology = (p & ~p) >> q\n",
    "logic_table(tautology)\n",
    "# That's annoying!"
   ]
  },
  {
   "cell_type": "markdown",
   "metadata": {},
   "source": [
    "> ... Kurt Godel, using a subtle diagonal argument, proved an \"incompleteness\" theorem which showed that Hilber's objective can not be reached, except perhaps by some novel extension of the Hilbert idea of finite methods. Godel considered a formal theory $T$ which contained ordinary arithmetic, which is consistent (in a strong sense to be explained) and in which the axioms and rules of inference are either finite in number or are specfied in a recursive way; the latter is the case for all the systems we have considered. In this system $T$ he showed how to construct a sentence $G$ such that neither $G$ nor $\\neg G$ could be proved within the system. Such a $G$ is then undecidable. Its existence is Godel's first incompleteness theorem."
   ]
  },
  {
   "cell_type": "markdown",
   "metadata": {},
   "source": [
    "> Since the rules of $T$ are recursive, Godel also showed that one can formulate within the system $T$ a sentence $\\text{con}_T$ which, when interpreted, states that \"$T$ is consistent\", he then showed that this sentence could not be proved within the system. In other words, no such system $T$ is strong enough to establish its own consistency ... It is this second Godel incompleteness theorem which blocks the Hilbert program."
   ]
  },
  {
   "cell_type": "markdown",
   "metadata": {},
   "source": [
    "---"
   ]
  },
  {
   "cell_type": "markdown",
   "metadata": {},
   "source": [
    "## 8. Independence Results"
   ]
  },
  {
   "cell_type": "markdown",
   "metadata": {},
   "source": [
    "> For Zermelo-Fraenkel set theory many sentences - including a number of interesting ones - are independent of the axioms and so remain undecided and undecidable. One such is the continuum hypotheses CH, already mentioned: There is no cardinal number between the cardinal of the integers and that of the reals. It turns out that CH can be neither proved nor disproved in ZFC: It is *independent* of ZFC."
   ]
  },
  {
   "cell_type": "markdown",
   "metadata": {},
   "source": [
    "However, Godel showed that CH is consistent with ZFC"
   ]
  },
  {
   "cell_type": "markdown",
   "metadata": {},
   "source": [
    "Other independence results include:\n",
    "\n",
    "- there are sets of real numbers which are not Lebesgue measurable"
   ]
  },
  {
   "cell_type": "markdown",
   "metadata": {},
   "source": [
    "> ... many interesting Mathematical questions cannot be settled on the basis of Zermelo-Fraenkel axioms for set theory. Various additional axioms have been proposed, including axioms which insure the existence of some very large cardinal numbers and an axiom of determinacy (for certain games) which in its full form contradicts the axiom of choice. This variety and the undecidability results indicate that set theory is indeterminate in principle: There is no unique and definitive list of axioms for sets; the intuitive idea of a set as a collection can lead to wildly different and mutually inconsistent formulations. On the elementary level, there are options such as ZFC, ZC, ZBQC or intuitionistic set theory; on the higher level, the method of forcing provides many alternative models with divergent properties The platonic notion that there is somewhere *the* ideal realm of sets, not yet fully desribed, is a glorious illusion."
   ]
  },
  {
   "cell_type": "markdown",
   "metadata": {},
   "source": [
    "---"
   ]
  },
  {
   "cell_type": "markdown",
   "metadata": {},
   "source": [
    "## 9. Cateogries and Functors"
   ]
  },
  {
   "cell_type": "code",
   "execution_count": 34,
   "metadata": {},
   "outputs": [],
   "source": [
    "from sympy.categories import Object, IdentityMorphism, NamedMorphism"
   ]
  },
  {
   "cell_type": "code",
   "execution_count": 24,
   "metadata": {},
   "outputs": [
    {
     "data": {
      "text/latex": [
       "$\\displaystyle f:A\\rightarrow B$"
      ],
      "text/plain": [
       "NamedMorphism(Object(\"A\"), Object(\"B\"), \"f\")"
      ]
     },
     "execution_count": 24,
     "metadata": {},
     "output_type": "execute_result"
    }
   ],
   "source": [
    "A = Object(\"A\")\n",
    "B = Object(\"B\")\n",
    "f = NamedMorphism(A, B, \"f\")\n",
    "f"
   ]
  },
  {
   "cell_type": "code",
   "execution_count": 25,
   "metadata": {},
   "outputs": [
    {
     "data": {
      "text/latex": [
       "$\\displaystyle g:B\\rightarrow C$"
      ],
      "text/plain": [
       "NamedMorphism(Object(\"B\"), C, \"g\")"
      ]
     },
     "execution_count": 25,
     "metadata": {},
     "output_type": "execute_result"
    }
   ],
   "source": [
    "g = NamedMorphism(B, C, \"g\")\n",
    "g"
   ]
  },
  {
   "cell_type": "code",
   "execution_count": 28,
   "metadata": {},
   "outputs": [
    {
     "data": {
      "text/latex": [
       "$\\displaystyle g\\circ f:A\\rightarrow C$"
      ],
      "text/plain": [
       "CompositeMorphism((NamedMorphism(Object(\"A\"), Object(\"B\"), \"f\"), NamedMorphism(Object(\"B\"), C, \"g\")))"
      ]
     },
     "execution_count": 28,
     "metadata": {},
     "output_type": "execute_result"
    }
   ],
   "source": [
    "g * f"
   ]
  },
  {
   "cell_type": "code",
   "execution_count": 29,
   "metadata": {},
   "outputs": [
    {
     "data": {
      "text/latex": [
       "$\\displaystyle h:C\\rightarrow D$"
      ],
      "text/plain": [
       "NamedMorphism(C, D, \"h\")"
      ]
     },
     "execution_count": 29,
     "metadata": {},
     "output_type": "execute_result"
    }
   ],
   "source": [
    "h = NamedMorphism(C, D, \"h\")\n",
    "h"
   ]
  },
  {
   "cell_type": "code",
   "execution_count": 31,
   "metadata": {},
   "outputs": [
    {
     "data": {
      "text/latex": [
       "$\\displaystyle h\\circ g\\circ f:A\\rightarrow D$"
      ],
      "text/plain": [
       "CompositeMorphism((NamedMorphism(Object(\"A\"), Object(\"B\"), \"f\"), NamedMorphism(Object(\"B\"), C, \"g\"), NamedMorphism(C, D, \"h\")))"
      ]
     },
     "execution_count": 31,
     "metadata": {},
     "output_type": "execute_result"
    }
   ],
   "source": [
    "h * (g * f)"
   ]
  },
  {
   "cell_type": "code",
   "execution_count": 33,
   "metadata": {},
   "outputs": [
    {
     "data": {
      "text/plain": [
       "True"
      ]
     },
     "execution_count": 33,
     "metadata": {},
     "output_type": "execute_result"
    }
   ],
   "source": [
    "h * (g * f) == (h * g) * f"
   ]
  },
  {
   "cell_type": "code",
   "execution_count": 36,
   "metadata": {},
   "outputs": [
    {
     "data": {
      "text/latex": [
       "$\\displaystyle id:A\\rightarrow A$"
      ],
      "text/plain": [
       "IdentityMorphism(Object(\"A\"))"
      ]
     },
     "execution_count": 36,
     "metadata": {},
     "output_type": "execute_result"
    }
   ],
   "source": [
    "id_A = IdentityMorphism(A)\n",
    "id_B = IdentityMorphism(B)\n",
    "id_A"
   ]
  },
  {
   "cell_type": "code",
   "execution_count": 37,
   "metadata": {},
   "outputs": [
    {
     "data": {
      "text/latex": [
       "$\\displaystyle f:A\\rightarrow B$"
      ],
      "text/plain": [
       "NamedMorphism(Object(\"A\"), Object(\"B\"), \"f\")"
      ]
     },
     "execution_count": 37,
     "metadata": {},
     "output_type": "execute_result"
    }
   ],
   "source": [
    "f * id_A"
   ]
  },
  {
   "cell_type": "code",
   "execution_count": 38,
   "metadata": {},
   "outputs": [
    {
     "data": {
      "text/plain": [
       "True"
      ]
     },
     "execution_count": 38,
     "metadata": {},
     "output_type": "execute_result"
    }
   ],
   "source": [
    "f * id_A == f == id_B * f"
   ]
  },
  {
   "cell_type": "markdown",
   "metadata": {},
   "source": [
    "| Object | Arrow |\n",
    "| :---|:--|\n",
    "| set | functions |\n",
    "| groups | homomorphisms |\n",
    "| abelian groups | homomorphisms |\n",
    "| vector spaces | linear transformations |\n",
    "| inner product spaces | orthogonal transformations |\n",
    "| topological spaces | continuous maps |\n",
    "| $C^{\\infty}$-manifolds | $C^{\\infty}$-maps |"
   ]
  },
  {
   "cell_type": "markdown",
   "metadata": {},
   "source": [
    "> All these, and many more, are \"big\" categories. They do not legally exist within ZFC because the collections of all the objects and all the arrows in question are not sets but are \"classes\", like the class of all sets or the class of all ordinals. These categories also have \"small\" versions, such as the category of all finite subsets of $\\mathbb{N}$ or of all manifolds in $\\mathbb{R}^n$."
   ]
  },
  {
   "cell_type": "markdown",
   "metadata": {},
   "source": [
    "A category which has a two-sided inverse is called a *groupoid*."
   ]
  },
  {
   "cell_type": "markdown",
   "metadata": {},
   "source": [
    "---"
   ]
  },
  {
   "cell_type": "markdown",
   "metadata": {},
   "source": [
    "## 10. Natural Transformations"
   ]
  },
  {
   "cell_type": "markdown",
   "metadata": {},
   "source": [
    "A *natural transformation* is any rule where given $F$, $G$ as two functors for $C \\leftarrow D$ the action of each functor on the domain and codomain in the categories commutes."
   ]
  },
  {
   "cell_type": "markdown",
   "metadata": {},
   "source": [
    "---"
   ]
  },
  {
   "cell_type": "markdown",
   "metadata": {},
   "source": [
    "## 11. Universals"
   ]
  },
  {
   "cell_type": "code",
   "execution_count": null,
   "metadata": {},
   "outputs": [],
   "source": []
  }
 ],
 "metadata": {
  "kernelspec": {
   "display_name": "Python 3.7.6 64-bit ('general': venv)",
   "language": "python",
   "name": "python37664bitgeneralvenvc2d9acb89c424f2c84cf1f305e4c11aa"
  },
  "language_info": {
   "codemirror_mode": {
    "name": "ipython",
    "version": 3
   },
   "file_extension": ".py",
   "mimetype": "text/x-python",
   "name": "python",
   "nbconvert_exporter": "python",
   "pygments_lexer": "ipython3",
   "version": "3.7.6"
  }
 },
 "nbformat": 4,
 "nbformat_minor": 4
}
