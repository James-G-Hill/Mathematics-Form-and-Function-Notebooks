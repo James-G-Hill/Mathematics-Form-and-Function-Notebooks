{
 "cells": [
  {
   "cell_type": "markdown",
   "metadata": {},
   "source": [
    "# I : Origins of Formal Structure"
   ]
  },
  {
   "cell_type": "markdown",
   "metadata": {},
   "source": [
    "## 1. The Natural Numbers"
   ]
  },
  {
   "cell_type": "code",
   "execution_count": 1,
   "metadata": {},
   "outputs": [
    {
     "data": {
      "text/latex": [
       "$\\displaystyle \\mathbb{N}$"
      ],
      "text/plain": [
       "Naturals"
      ]
     },
     "execution_count": 1,
     "metadata": {},
     "output_type": "execute_result"
    }
   ],
   "source": [
    "from sympy import *\n",
    "\n",
    "S.Naturals"
   ]
  },
  {
   "cell_type": "code",
   "execution_count": 2,
   "metadata": {},
   "outputs": [
    {
     "name": "stdout",
     "output_type": "stream",
     "text": [
      "1\n",
      "2\n",
      "3\n"
     ]
    }
   ],
   "source": [
    "iter_N = iter(S.Naturals)\n",
    "for n in range(0, 3):\n",
    "    print(next(iter_N))"
   ]
  },
  {
   "cell_type": "code",
   "execution_count": 3,
   "metadata": {},
   "outputs": [
    {
     "data": {
      "text/latex": [
       "$\\displaystyle \\mathbb{N}_0$"
      ],
      "text/plain": [
       "Naturals0"
      ]
     },
     "execution_count": 3,
     "metadata": {},
     "output_type": "execute_result"
    }
   ],
   "source": [
    "S.Naturals0"
   ]
  },
  {
   "cell_type": "code",
   "execution_count": 4,
   "metadata": {},
   "outputs": [
    {
     "name": "stdout",
     "output_type": "stream",
     "text": [
      "0\n",
      "1\n",
      "2\n"
     ]
    }
   ],
   "source": [
    "iter_N0 = iter(S.Naturals0)\n",
    "for n in range(0, 3):\n",
    "    print(next(iter_N0))"
   ]
  },
  {
   "cell_type": "code",
   "execution_count": 5,
   "metadata": {},
   "outputs": [
    {
     "data": {
      "text/latex": [
       "$\\displaystyle \\left\\{A, B, C\\right\\}$"
      ],
      "text/plain": [
       "FiniteSet(A, B, C)"
      ]
     },
     "execution_count": 5,
     "metadata": {},
     "output_type": "execute_result"
    }
   ],
   "source": [
    "set_S = FiniteSet('A', 'B', 'C')\n",
    "set_S"
   ]
  },
  {
   "cell_type": "code",
   "execution_count": 6,
   "metadata": {},
   "outputs": [
    {
     "data": {
      "text/latex": [
       "$\\displaystyle \\left\\{U, V, W\\right\\}$"
      ],
      "text/plain": [
       "FiniteSet(U, V, W)"
      ]
     },
     "execution_count": 6,
     "metadata": {},
     "output_type": "execute_result"
    }
   ],
   "source": [
    "set_T = FiniteSet('U', 'V', 'W')\n",
    "set_T"
   ]
  },
  {
   "cell_type": "code",
   "execution_count": 7,
   "metadata": {},
   "outputs": [],
   "source": [
    "def get_cardinal(set_to_test):\n",
    "    iter_N = iter(S.Naturals)\n",
    "    for _ in set_to_test:\n",
    "        count = next(iter_N)\n",
    "    return count"
   ]
  },
  {
   "cell_type": "code",
   "execution_count": 8,
   "metadata": {},
   "outputs": [
    {
     "data": {
      "text/latex": [
       "$\\displaystyle 3$"
      ],
      "text/plain": [
       "3"
      ]
     },
     "execution_count": 8,
     "metadata": {},
     "output_type": "execute_result"
    }
   ],
   "source": [
    "get_cardinal(set_S)"
   ]
  },
  {
   "cell_type": "code",
   "execution_count": 9,
   "metadata": {},
   "outputs": [
    {
     "data": {
      "text/latex": [
       "$\\displaystyle 3$"
      ],
      "text/plain": [
       "3"
      ]
     },
     "execution_count": 9,
     "metadata": {},
     "output_type": "execute_result"
    }
   ],
   "source": [
    "get_cardinal(set_T)"
   ]
  },
  {
   "cell_type": "code",
   "execution_count": 10,
   "metadata": {},
   "outputs": [],
   "source": [
    "def one_to_one_correspondence(set_to_test):\n",
    "    iter_N = iter(S.Naturals)\n",
    "    fnc = {}\n",
    "    for element in set_to_test:\n",
    "        fnc[next(iter_N)] = element\n",
    "    return fnc"
   ]
  },
  {
   "cell_type": "code",
   "execution_count": 11,
   "metadata": {},
   "outputs": [
    {
     "data": {
      "text/plain": [
       "{1: A, 2: B, 3: C}"
      ]
     },
     "execution_count": 11,
     "metadata": {},
     "output_type": "execute_result"
    }
   ],
   "source": [
    "f = one_to_one_correspondence(set_S)\n",
    "f"
   ]
  },
  {
   "cell_type": "code",
   "execution_count": 12,
   "metadata": {},
   "outputs": [
    {
     "data": {
      "text/plain": [
       "{1: U, 2: V, 3: W}"
      ]
     },
     "execution_count": 12,
     "metadata": {},
     "output_type": "execute_result"
    }
   ],
   "source": [
    "g = one_to_one_correspondence(set_T)\n",
    "g"
   ]
  },
  {
   "cell_type": "code",
   "execution_count": 13,
   "metadata": {},
   "outputs": [
    {
     "data": {
      "text/plain": [
       "{A: 1, B: 2, C: 3}"
      ]
     },
     "execution_count": 13,
     "metadata": {},
     "output_type": "execute_result"
    }
   ],
   "source": [
    "def inverse(function):\n",
    "    keys = function.keys()\n",
    "    vals = function.values()\n",
    "    return dict(zip(vals, keys))\n",
    "\n",
    "inverse(f)"
   ]
  },
  {
   "cell_type": "code",
   "execution_count": 14,
   "metadata": {},
   "outputs": [
    {
     "data": {
      "text/plain": [
       "{A: U, B: V, C: W}"
      ]
     },
     "execution_count": 14,
     "metadata": {},
     "output_type": "execute_result"
    }
   ],
   "source": [
    "def composed_bijections(f, g):\n",
    "    keys = f.keys()\n",
    "    vals = g.values()\n",
    "    return dict(zip(keys, vals))\n",
    "\n",
    "composed = composed_bijections(inverse(f), g)\n",
    "composed"
   ]
  },
  {
   "cell_type": "code",
   "execution_count": 15,
   "metadata": {},
   "outputs": [
    {
     "data": {
      "text/latex": [
       "$\\displaystyle 3$"
      ],
      "text/plain": [
       "3"
      ]
     },
     "execution_count": 15,
     "metadata": {},
     "output_type": "execute_result"
    }
   ],
   "source": [
    "get_cardinal(composed)"
   ]
  },
  {
   "cell_type": "markdown",
   "metadata": {},
   "source": [
    "#### The Sum"
   ]
  },
  {
   "cell_type": "code",
   "execution_count": 16,
   "metadata": {},
   "outputs": [],
   "source": [
    "set_T -= FiniteSet('W')"
   ]
  },
  {
   "cell_type": "code",
   "execution_count": 17,
   "metadata": {},
   "outputs": [
    {
     "data": {
      "text/latex": [
       "$\\displaystyle \\left\\{A, B, C, U, V\\right\\}$"
      ],
      "text/plain": [
       "FiniteSet(A, B, C, U, V)"
      ]
     },
     "execution_count": 17,
     "metadata": {},
     "output_type": "execute_result"
    }
   ],
   "source": [
    "set_S_and_T = set_S + set_T\n",
    "set_S_and_T"
   ]
  },
  {
   "cell_type": "code",
   "execution_count": 18,
   "metadata": {},
   "outputs": [
    {
     "data": {
      "text/latex": [
       "$\\displaystyle 5$"
      ],
      "text/plain": [
       "5"
      ]
     },
     "execution_count": 18,
     "metadata": {},
     "output_type": "execute_result"
    }
   ],
   "source": [
    "get_cardinal(set_S_and_T)"
   ]
  },
  {
   "cell_type": "markdown",
   "metadata": {},
   "source": [
    "#### The Product"
   ]
  },
  {
   "cell_type": "code",
   "execution_count": 19,
   "metadata": {},
   "outputs": [
    {
     "data": {
      "text/latex": [
       "$\\displaystyle \\left\\{A, B, C\\right\\} \\times \\left\\{U, V\\right\\}$"
      ],
      "text/plain": [
       "ProductSet(FiniteSet(A, B, C), FiniteSet(U, V))"
      ]
     },
     "execution_count": 19,
     "metadata": {},
     "output_type": "execute_result"
    }
   ],
   "source": [
    "product_set = set_S * set_T\n",
    "product_set"
   ]
  },
  {
   "cell_type": "code",
   "execution_count": 20,
   "metadata": {},
   "outputs": [
    {
     "data": {
      "text/latex": [
       "$\\displaystyle 6$"
      ],
      "text/plain": [
       "6"
      ]
     },
     "execution_count": 20,
     "metadata": {},
     "output_type": "execute_result"
    }
   ],
   "source": [
    "get_cardinal(product_set)"
   ]
  },
  {
   "cell_type": "code",
   "execution_count": 21,
   "metadata": {},
   "outputs": [
    {
     "data": {
      "text/plain": [
       "{(A, U), (A, V), (B, U), (B, V), (C, U), (C, V)}"
      ]
     },
     "execution_count": 21,
     "metadata": {},
     "output_type": "execute_result"
    }
   ],
   "source": [
    "set(product_set)"
   ]
  },
  {
   "cell_type": "markdown",
   "metadata": {},
   "source": [
    "#### The Exponential"
   ]
  },
  {
   "cell_type": "code",
   "execution_count": 22,
   "metadata": {},
   "outputs": [
    {
     "data": {
      "text/latex": [
       "$\\displaystyle \\left(\\left\\{U, V\\right\\}^{2}\\right) \\times \\left\\{U, V\\right\\}$"
      ],
      "text/plain": [
       "ProductSet(ProductSet(FiniteSet(U, V), FiniteSet(U, V)), FiniteSet(U, V))"
      ]
     },
     "execution_count": 22,
     "metadata": {},
     "output_type": "execute_result"
    }
   ],
   "source": [
    "exponential_set = set_T * set_T * set_T\n",
    "exponential_set"
   ]
  },
  {
   "cell_type": "code",
   "execution_count": 28,
   "metadata": {},
   "outputs": [
    {
     "data": {
      "text/latex": [
       "$\\displaystyle 8$"
      ],
      "text/plain": [
       "8"
      ]
     },
     "execution_count": 28,
     "metadata": {},
     "output_type": "execute_result"
    }
   ],
   "source": [
    "get_cardinal(exponential_set)"
   ]
  },
  {
   "cell_type": "markdown",
   "metadata": {},
   "source": [
    "## 2. Infinite Sets"
   ]
  },
  {
   "cell_type": "markdown",
   "metadata": {},
   "source": [
    "N = collection of natural numbers 0 to infinity contains many subsets; any subset of N is either finite or denumerable, such as:\n",
    "\n",
    "- P = set of all positive natural numbers 1 to infinity.\n",
    "- E = set of all even positive numbers.\n",
    "- S = set of all positive multiples of 6.\n",
    "- All finite subsets such as {0, 1, 2} or {2, 4, 16}"
   ]
  },
  {
   "cell_type": "code",
   "execution_count": null,
   "metadata": {},
   "outputs": [],
   "source": [
    "if 0 == len({}):\n",
    "    print(\"0 is the cardinal number of the empty set\")"
   ]
  },
  {
   "cell_type": "markdown",
   "metadata": {},
   "source": [
    "#### Denumerables\n",
    "\n",
    "A denumerable set X is a set where exists a bijection for the Natural numbers N to X. The following shows denumerable sets P, E and S (assuming they extend to infinity) and bijections upon them:"
   ]
  },
  {
   "cell_type": "code",
   "execution_count": null,
   "metadata": {},
   "outputs": [],
   "source": [
    "# Examples of relations between natural number sets:\n",
    "P = {1, 2, 3, 4} # extending to ∞\n",
    "E = {2, 4, 6, 8} # extending to ∞\n",
    "S = {6, 12, 18, 24} # extending to ∞\n",
    "\n",
    "def b(n):\n",
    "    \"\"\" Bijection with 2n. \"\"\"\n",
    "    return {x*2 for x in n}\n",
    "\n",
    "print(\"E = P x 2 is: \" + str(b(P) == E))\n",
    "\n",
    "def c(m):\n",
    "    \"\"\" Bijection with 3m. \"\"\"\n",
    "    return {x*3 for x in m}\n",
    "\n",
    "print(\"S = E x 3 is: \" + str(c(E) == S))\n",
    "\n",
    "print(\"Composite bijection c⋅b for P → S: \" + str(S == c(b(P))))"
   ]
  },
  {
   "cell_type": "markdown",
   "metadata": {},
   "source": [
    "Sets where a bijection exists have the same cardinal number:\n",
    "- Finite: finite cardinals\n",
    "- Denumerable: aleph-naught - ℵ₀"
   ]
  },
  {
   "cell_type": "markdown",
   "metadata": {},
   "source": [
    "## 3. Permutations"
   ]
  },
  {
   "cell_type": "code",
   "execution_count": null,
   "metadata": {},
   "outputs": [],
   "source": [
    "from itertools import permutations\n",
    "\n",
    "setForPermuting = {1, 2, 3}\n",
    "print(' '.join([str(x) for x in permutations(setForPermuting)]))"
   ]
  },
  {
   "cell_type": "code",
   "execution_count": null,
   "metadata": {},
   "outputs": [],
   "source": [
    "def permutationBijection():\n",
    "    return {1: 3, 2: 1, 3: 2}\n",
    "\n",
    "print(permutationBijection())\n",
    "print(\"This can be written as the cycle: 1 → 3 → 2 → 1\")"
   ]
  },
  {
   "cell_type": "markdown",
   "metadata": {},
   "source": [
    "The set resulting from the bijection is identical to the original:"
   ]
  },
  {
   "cell_type": "code",
   "execution_count": null,
   "metadata": {},
   "outputs": [],
   "source": [
    "setForPermuting == set(permutationBijection().values())"
   ]
  },
  {
   "cell_type": "code",
   "execution_count": null,
   "metadata": {},
   "outputs": [],
   "source": [
    "def b(theSet):\n",
    "    \"\"\" The bijection of a permutation of a set. \"\"\"\n",
    "    keys = theSet\n",
    "    vals = theSet\n",
    "    return dict(zip(keys, vals))\n",
    "\n",
    "print(composedBijections(inverse(permutationBijection()), b(setForPermuting)))"
   ]
  },
  {
   "cell_type": "markdown",
   "metadata": {},
   "source": [
    "Permutations also appear in algebra, such as polynomials.\n",
    "Such permutations include:\n",
    "- 'identity' bijection: 1 to 1\n",
    "- permutations that leave the polynomial unchanged\n",
    "- permutations that also leave the factors unchanged"
   ]
  },
  {
   "cell_type": "code",
   "execution_count": null,
   "metadata": {},
   "outputs": [],
   "source": [
    "original = {1, 2, 3, 4}\n",
    "\n",
    "def polynomialForPermuting(len4set):\n",
    "    \"\"\" Demonstrates permutations on a polynomial. \"\"\"\n",
    "    x1, x2, x3, x4 = len4set\n",
    "    return (x1 + x2) * (x3 + x4)\n",
    "\n",
    "print(\"Identity: \" + str(polynomialForPermuting(original)))"
   ]
  },
  {
   "cell_type": "code",
   "execution_count": null,
   "metadata": {},
   "outputs": [],
   "source": [
    "perms = list(permutations(original))\n",
    "for x in perms:\n",
    "    print(str(x) + \": \" + str(polynomialForPermuting(x)))"
   ]
  },
  {
   "cell_type": "code",
   "execution_count": null,
   "metadata": {},
   "outputs": [],
   "source": [
    "unchanged = len(\n",
    "    [x for x in perms if polynomialForPermuting(x) == polynomialForPermuting(original)]\n",
    ")\n",
    "\n",
    "print(\"Count of permutations: \" + str(len([x for x in perms])))\n",
    "print(\"Count of polynomial unchanged: \" + str(unchanged))"
   ]
  },
  {
   "cell_type": "markdown",
   "metadata": {},
   "source": [
    "A *permutation group* is the set of permutations that allows the result of the polynomial to be unchanged."
   ]
  },
  {
   "cell_type": "markdown",
   "metadata": {},
   "source": [
    "## 4: Time and Order"
   ]
  },
  {
   "cell_type": "code",
   "execution_count": null,
   "metadata": {},
   "outputs": [],
   "source": [
    "# Times in order\n",
    "t = 0\n",
    "tPrime = t + 1\n",
    "tPrimePrime = tPrime + 1\n",
    "\n",
    "def transitiveLaw(a, b, c):\n",
    "    return a < b and b < c and a < c\n",
    "\n",
    "def lawOfTrichotomy(a, b):\n",
    "    return a < b or a == b or b < a\n",
    "\n",
    "print(transitiveLaw(t, tPrime, tPrimePrime))\n",
    "print(lawOfTrichotomy(t, tPrime))"
   ]
  },
  {
   "cell_type": "code",
   "execution_count": null,
   "metadata": {},
   "outputs": [],
   "source": [
    "X = {1, 2, 3, 4, 5, 6}\n",
    "\n",
    "def binaryRelationLessThan(x, y):\n",
    "    return x < y\n",
    "\n",
    "def linearlyOrderedSet(anySet):\n",
    "    \n",
    "    anySet = list(anySet)\n",
    "    truthValues = []\n",
    "    \n",
    "    for i in range(0, len(anySet)-1):\n",
    "        x = anySet[i]\n",
    "        y = anySet[i+1]\n",
    "        truthValues.append(binaryRelationLessThan(x, y))\n",
    "        truthValues.append(lawOfTrichotomy(x, y))\n",
    "    \n",
    "    for i in range(0, len(anySet)-2):\n",
    "        x = anySet[i]\n",
    "        y = anySet[i+1]\n",
    "        z = anySet[i+2]\n",
    "        truthValues.append(transitiveLaw(x, y, z))\n",
    "    \n",
    "    return all(truthValues)\n",
    "\n",
    "print(\"Linear ordered set \" + str(X) + \": \" + str(linearlyOrderedSet(X)))"
   ]
  },
  {
   "cell_type": "code",
   "execution_count": null,
   "metadata": {},
   "outputs": [],
   "source": [
    "def binaryRelationNotLaterThan(x, y):\n",
    "    return x <= y\n",
    "\n",
    "def transitiveNotLaterThan(x, y, z):\n",
    "    return x <= y and y <= z and x <= z\n",
    "\n",
    "def reflexive(x):\n",
    "    return binaryRelationNotLaterThan(x, x)\n",
    "\n",
    "def antisymmetric(x, y):\n",
    "    return x <= y and y <= x or x != y\n",
    "\n",
    "def trichotomyNotLaterThan(X):\n",
    "    truthValues = []\n",
    "    X = list(X)\n",
    "    for i in range(0, len(X)-1):\n",
    "        x = X[i]\n",
    "        y = X[i+1]\n",
    "        truthValues.append(\n",
    "            binaryRelationNotLaterThan(x, y) or binaryRelationNotLaterThan(y, x)\n",
    "        )\n",
    "    return all(truthValues)\n",
    "\n",
    "def linearlyOrderedNotLaterThan(anySet):\n",
    "    \n",
    "    anySet = list(anySet)\n",
    "    truthValues = []\n",
    "    \n",
    "    truthValues = [trichotomyNotLaterThan(anySet)]\n",
    "    \n",
    "    for x in anySet:\n",
    "        truthValues.append(reflexive(x))\n",
    "        \n",
    "    for i in range(0, len(anySet)-1):\n",
    "        x = anySet[i]\n",
    "        y = anySet[i+1]\n",
    "        truthValues.append(binaryRelationNotLaterThan(x, y))\n",
    "        truthValues.append(antisymmetric(x, y))\n",
    "    \n",
    "    for i in range(0, len(anySet)-2):\n",
    "        x = anySet[i]\n",
    "        y = anySet[i+1]\n",
    "        z = anySet[i+2]\n",
    "        truthValues.append(transitiveNotLaterThan(x, y, z))\n",
    "    \n",
    "    return all(truthValues)\n",
    "\n",
    "print(\"X not later than: \" + str(linearlyOrderedNotLaterThan(X)))"
   ]
  },
  {
   "cell_type": "code",
   "execution_count": null,
   "metadata": {},
   "outputs": [],
   "source": [
    "def orderIsomorphism(X, Y):\n",
    "    if (linearlyOrderedSet(X) and linearlyOrderedSet(Y)):\n",
    "        return set(zip(X, Y))\n",
    "    \n",
    "X = {1, 2, 3}\n",
    "Y = {2, 4, 6}\n",
    "print(\"Order isomorphism X → Y : \" + str(orderIsomorphism(X, Y)))\n",
    "\n",
    "Z = [0, 0, 0]\n",
    "print(\"Order isomorphism X → Z : \" + str(orderIsomorphism(X, Z)))"
   ]
  },
  {
   "cell_type": "markdown",
   "metadata": {},
   "source": [
    "X and Y are of the same *order type*"
   ]
  },
  {
   "cell_type": "code",
   "execution_count": null,
   "metadata": {},
   "outputs": [],
   "source": [
    "from math import pi\n",
    "\n",
    "approximationsOfPi = [3.14, 3.141, 3.1415, 3.14159, 3.141592]\n",
    "X = list(approximationsOfPi)\n",
    "S = list(approximationsOfPi)[:2]\n",
    "\n",
    "def upperBound(S, b):\n",
    "    return(all([s <= b for s in S]))\n",
    "\n",
    "def leastUpperBound(S, b, bPrime):\n",
    "    return upperBound(S, b) and upperBound(S, bPrime) and b < bPrime\n",
    "\n",
    "print(\"Upper bound: \" + str(upperBound(S, X[3])))\n",
    "print(\"Upper bound with π: \" + str(upperBound(X, pi)))\n",
    "print(\"Least upper bound: \" + str(leastUpperBound(S, X[3], X[4])))"
   ]
  },
  {
   "cell_type": "markdown",
   "metadata": {},
   "source": [
    "An unbounded set is one which has no upper or lower bound: so the set of Natural numbers is not unbounded because it has a lower bound of 0."
   ]
  },
  {
   "cell_type": "markdown",
   "metadata": {},
   "source": [
    "**Q** = set of rational numbers\n",
    "**R** = set of real numbers\n",
    "\n",
    "**R** is:\n",
    "- complete (every subset has a least upper bound)\n",
    "- unbounded (-∞ to +∞)\n",
    "- has a denumerable dense subset (**Q** can approximate every number in **R**)\n",
    "\n",
    "Any set with the above properties is order isomorphic to **R**"
   ]
  },
  {
   "cell_type": "code",
   "execution_count": null,
   "metadata": {},
   "outputs": [],
   "source": [
    "# Intervals of time can be summed like natural numbers\n",
    "print((t + tPrime) + tPrimePrime == t + (tPrime + tPrimePrime))"
   ]
  },
  {
   "cell_type": "markdown",
   "metadata": {},
   "source": [
    "## 5: Space and Motion"
   ]
  },
  {
   "cell_type": "markdown",
   "metadata": {},
   "source": [
    "The idea of space, measured with distances, requires not rational numbers but real numbers; this is simply revealed through the distance of the long length of an isosceles right triangle with legs of length 1:"
   ]
  },
  {
   "cell_type": "code",
   "execution_count": null,
   "metadata": {},
   "outputs": [],
   "source": [
    "from math import sqrt\n",
    "\n",
    "hypotheseOfRightTriangle = sqrt(2)\n",
    "print(hypotheseOfRightTriangle)\n",
    "print(hypotheseOfRightTriangle == sqrt(1**2 + 1**2))"
   ]
  },
  {
   "cell_type": "markdown",
   "metadata": {},
   "source": [
    "Here we arrive at the real numbers."
   ]
  },
  {
   "cell_type": "code",
   "execution_count": null,
   "metadata": {},
   "outputs": [],
   "source": [
    "def distance(p, q):\n",
    "    \"\"\" Distances as difference between points. \"\"\"\n",
    "    return abs(q - p)\n",
    "\n",
    "print(\"Axiom 1: \" + str(distance(1, 2) == distance(2, 1)))\n",
    "\n",
    "p = 1\n",
    "q = 1\n",
    "print(\"Axiom 2: \" + str(distance(p, q) == 0 and p == q))"
   ]
  },
  {
   "cell_type": "code",
   "execution_count": null,
   "metadata": {},
   "outputs": [],
   "source": [
    "def triangleAxiom(p, q, r):\n",
    "    \"\"\" Distance is always longer or equivalent if through point r. \"\"\"\n",
    "    return distance(p, q) <= distance(p, r) + distance(r, q)\n",
    "\n",
    "print(\"Axiom 3: \" + str(triangleAxiom(1, 3, 2)))"
   ]
  },
  {
   "cell_type": "markdown",
   "metadata": {},
   "source": [
    "From the 3 axioms above arise the concept of *metric space*."
   ]
  },
  {
   "cell_type": "code",
   "execution_count": null,
   "metadata": {},
   "outputs": [],
   "source": [
    "def figure(*points):\n",
    "    \"\"\" Creates a 'figure' as a collection of points. \"\"\"\n",
    "    return (points)\n",
    "\n",
    "fig = figure(1, 2)\n",
    "\n",
    "def rigidMotion(fig, distance):\n",
    "    \"\"\" Moves all points in a figure by a rigid distance. \"\"\"\n",
    "    return figure(*[x+distance for x in fig])\n",
    "\n",
    "print(distance(*fig) == distance(*rigidMotion(fig, 3)))"
   ]
  },
  {
   "cell_type": "markdown",
   "metadata": {},
   "source": [
    "Rigid motion is a bijection of space which preserves distances between points."
   ]
  },
  {
   "cell_type": "code",
   "execution_count": null,
   "metadata": {},
   "outputs": [],
   "source": [
    "def compositeMotion(fig, d1, d2):\n",
    "    \"\"\" Allows the composition of multiple motions. \"\"\"\n",
    "    for x in (d1, d2):\n",
    "        fig = rigidMotion(fig, x)\n",
    "    return fig\n",
    "\n",
    "print(compositeMotion(fig, 1, 2))"
   ]
  },
  {
   "cell_type": "markdown",
   "metadata": {},
   "source": [
    "The composite motion can be seen in the formula:\n",
    "\n",
    "    C = N⋅M"
   ]
  },
  {
   "cell_type": "markdown",
   "metadata": {},
   "source": [
    "## 6: Symmetry"
   ]
  },
  {
   "cell_type": "markdown",
   "metadata": {},
   "source": [
    "A definition of symmetry of a figure *F*:\n",
    "\n",
    "    a rigid motion of *F* onto itself"
   ]
  },
  {
   "cell_type": "markdown",
   "metadata": {},
   "source": [
    "There are 4 rigid motion symmetries in metric space:\n",
    "\n",
    "- vertical\n",
    "- horizontal\n",
    "- rotational\n",
    "- identity"
   ]
  },
  {
   "cell_type": "markdown",
   "metadata": {},
   "source": [
    "These permutations are the same as allowed by permutation of the algebraic polynomial:\n",
    "\n",
    "    (x1 - x2)(x3 - x4)\n",
    "    \n",
    "This suggests that there is an underlying abstract structure for this 'four group'."
   ]
  },
  {
   "cell_type": "markdown",
   "metadata": {},
   "source": [
    "There are other symmetries:\n",
    "\n",
    "- those existing for 3d objects\n",
    "- further symmetrical figures in the plane (squares, triangles, etc.)\n",
    "- frieze symmetries on infinitely extending rectangles (7 types)\n",
    "- wallpaper patterns (17 types)\n",
    "- crystallographic groups in 3 dimensions"
   ]
  },
  {
   "cell_type": "markdown",
   "metadata": {},
   "source": [
    "## 7: Transformation Groups"
   ]
  },
  {
   "cell_type": "markdown",
   "metadata": {},
   "source": [
    "*Transformations*:\n",
    "\n",
    "- a permutation of a set\n",
    "- a symmetry of a figure\n",
    "- a motion of Euclidean space"
   ]
  },
  {
   "cell_type": "code",
   "execution_count": null,
   "metadata": {},
   "outputs": [],
   "source": [
    "def bijection(X, T):\n",
    "    \"\"\" Bijection of X with transformation T. \"\"\"\n",
    "    return [T(x) for x in X]\n",
    "\n",
    "def transformation(X, T):\n",
    "    \"\"\" Transformation is a bijection. \"\"\"\n",
    "    return bijection(X, T)\n",
    "\n",
    "def transformationGroup(X, G):\n",
    "    \"\"\" Applies each Transformation to X. \"\"\"\n",
    "    for T in G:\n",
    "        X = transformation(X, T)\n",
    "    return X\n",
    "\n",
    "X = [1, 2, 3, 4]\n",
    "T1 = lambda x : x * 2\n",
    "T2 = lambda x : x ** 2\n",
    "T3 = lambda x : x // 2\n",
    "G = [T1, T2, T3]\n",
    "\n",
    "print(transformationGroup(X, G))"
   ]
  },
  {
   "cell_type": "markdown",
   "metadata": {},
   "source": [
    "Other types of groups:\n",
    "\n",
    "- permutation group: transformation group on a finite set\n",
    "- symmetric group: the group of all degree n! permutations of a group)"
   ]
  },
  {
   "cell_type": "code",
   "execution_count": null,
   "metadata": {},
   "outputs": [],
   "source": [
    "def label(X):\n",
    "    \"\"\" Labels the parts of a set. \"\"\"\n",
    "    labels = [x for x in range(1, len(X)+1)]\n",
    "    X = dict(zip(X, labels))\n",
    "    return X\n",
    "\n",
    "def permuteFunction(X):\n",
    "    \"\"\" Permute the values in a permutation. \"\"\"\n",
    "    labels = list(X.values())\n",
    "    labels.reverse()\n",
    "    X = dict(zip(X.keys(), labels))\n",
    "    return X\n",
    "\n",
    "def readLabels(X):\n",
    "    \"\"\" Extract the labels from a labelled set. \"\"\"\n",
    "    labels = [*X.values()]\n",
    "    return labels\n",
    "\n",
    "X = ['a', 'b', 'c', 'd']\n",
    "print(\"Hypothetical list of vertexes: \" + str(X))\n",
    "X = label(X)\n",
    "print(\"Labelled list of vertexes: \" + str(X))\n",
    "X = permuteFunction(X)\n",
    "print(\"Transformed shape: \" + str(X))\n",
    "X = readLabels(X)\n",
    "print(\"Labels read back after tranformation: \" + str(X))"
   ]
  },
  {
   "cell_type": "markdown",
   "metadata": {},
   "source": [
    "The above shows a generalization of the fact that permutations of a typical set represents the permutations of any other set of equal size; the process is related to the bijection of a set to cardinal numbers and then a comparison against another similarly sized set."
   ]
  },
  {
   "cell_type": "code",
   "execution_count": null,
   "metadata": {},
   "outputs": [],
   "source": [
    "def permuteCorrespondence(X):\n",
    "    \"\"\" Permutes the set X. \"\"\"\n",
    "    X.reverse()\n",
    "    return X\n",
    "\n",
    "Y = [1, 2, 3, 4]\n",
    "print(\"Y is: \" + str(Y))\n",
    "permutedY = permuteCorrespondence(Y)\n",
    "print(\"Permuted Y is: \" + str(permutedY))\n",
    "\n",
    "print(permutedY == readLabels(permuteFunction(label(X))))"
   ]
  },
  {
   "cell_type": "markdown",
   "metadata": {},
   "source": [
    "## 8: Groups"
   ]
  },
  {
   "cell_type": "markdown",
   "metadata": {},
   "source": [
    "A group *G* has 3 rules:\n",
    "\n",
    "- element *st* from *r*, *s*, *t* in *G* is an associative product\n",
    "- element *e* of *G* is such that *te* = *t*\n",
    "- element *t* has an inverse such that *t* x *tInverse* = *e*"
   ]
  },
  {
   "cell_type": "code",
   "execution_count": null,
   "metadata": {},
   "outputs": [],
   "source": [
    "from math import log, log10\n",
    "\n",
    "x = 5\n",
    "y = 11\n",
    "\n",
    "# The logs below should be equal but are slightly out; must be a Python bug\n",
    "print(log10(x*y))\n",
    "print(log10(x) + log10(y))\n",
    "print(log10(x*y) == log10(x) + log10(y))\n",
    "\n",
    "print(log(1))\n",
    "\n",
    "inverseLog = log(x**-1)\n",
    "print(inverseLog)\n",
    "print(log(x))\n",
    "print(inverseLog == -log(x))"
   ]
  },
  {
   "cell_type": "markdown",
   "metadata": {},
   "source": [
    "## 9: Boolean Algebra"
   ]
  },
  {
   "cell_type": "code",
   "execution_count": null,
   "metadata": {},
   "outputs": [],
   "source": [
    "S = set(['v', 'w', 'x'])\n",
    "T = set(['x', 'y', 'z'])\n",
    "\n",
    "# Intersection\n",
    "print(('x' in (S and T)) == ('x' in S and 'x' in T))\n",
    "\n",
    "# Union\n",
    "print(('x' in (S or T)) == ('x' in S or 'x' in T))\n",
    "\n",
    "# If Then\n",
    "print(('x' in S and 'x' in T) == ('x' in T or (not 'x' in S)))\n",
    "\n",
    "# Complement\n",
    "print(('x' not in S) == (not ('x' in S)))"
   ]
  },
  {
   "cell_type": "code",
   "execution_count": null,
   "metadata": {},
   "outputs": [],
   "source": [
    "import matplotlib.pyplot as plt\n",
    "from matplotlib_venn import venn2\n",
    "%matplotlib inline\n",
    "\n",
    "venn2([S, T])\n",
    "plt.show()"
   ]
  },
  {
   "cell_type": "code",
   "execution_count": null,
   "metadata": {},
   "outputs": [],
   "source": [
    "S = set(['a', 'b', 'c'])\n",
    "T = set(['a', 'b', 'c'])\n",
    "X = S and T\n",
    "\n",
    "# Equality of subsets\n",
    "print((S == T) == (all([x in S and x in T for x in X])))\n",
    "\n",
    "S = set(['b', 'c'])\n",
    "T = set(['a', 'b', 'c'])\n",
    "X = S and T\n",
    "\n",
    "# Inclusion of subsets\n",
    "print((S.issubset(T)) == (all([x in T for x in S])))"
   ]
  },
  {
   "cell_type": "markdown",
   "metadata": {},
   "source": [
    "## 10: Calculus, Continuity, and Topology"
   ]
  },
  {
   "cell_type": "code",
   "execution_count": null,
   "metadata": {},
   "outputs": [],
   "source": [
    "from math import sin, tan\n",
    "\n",
    "# Fix this:\n",
    "def isContinuousFunction(func, a, x, delta):\n",
    "    \"\"\" Checks whether a function is continuous.\n",
    "    \n",
    "    a = any point\n",
    "    x = an element in the series of real numbers\n",
    "    \"\"\"\n",
    "    epsilon = abs(func(a + delta))\n",
    "    if epsilon > 0:\n",
    "        if delta > 0:\n",
    "            if abs(x - a) < delta:\n",
    "                return abs(func(x) - func(a)) < epsilon\n",
    "            else:\n",
    "                return \"Delta is too low\"\n",
    "        else:\n",
    "            return \"Delta less than zero\"\n",
    "    else:\n",
    "        return \"Epsilon less than zero\"\n",
    "\n",
    "print(\"Wrong: \" + str(isContinuousFunction(sin, 3, 5, 3)))\n",
    "print(isContinuousFunction(tan, 3, 5, 3))"
   ]
  },
  {
   "cell_type": "code",
   "execution_count": null,
   "metadata": {},
   "outputs": [],
   "source": [
    "def isOpenInterval(a, x, b):\n",
    "    \"\"\" Tests whether x is within an open interval a -> b\"\"\"\n",
    "    return a < x < b\n",
    "\n",
    "print(isOpenInterval(1, 2, 3))\n",
    "print(isOpenInterval(1, 2, 2))"
   ]
  },
  {
   "cell_type": "markdown",
   "metadata": {},
   "source": [
    "## 11: Human Activity & Ideas"
   ]
  },
  {
   "cell_type": "markdown",
   "metadata": {},
   "source": [
    "Activity    | Idea | Formulation \n",
    "------------|------|-------------\n",
    "Collecting | Collection | Set (of elements)\n",
    "Counting   | Next | Sucessor; order\n",
    "-          | -    | Ordinal number\n",
    "Comparing  | Enumeration | Bijection\n",
    "-          | -           | Cardinal number\n",
    "Computing  | Combination (of nos) | Rules for addition\n",
    "- | - | Rules for multiplication\n",
    "- | - | Abelian group\n",
    "Rearranging | Permutation | Bijection\n",
    "-           | -           | Permutation group\n",
    "Timing     | Before and after | Linear order\n",
    "Observing  | Symmetry | Transformation group\n",
    "Building   | Figure; symmetry | Collection of points\n",
    "Measuring  | Distance; extent | Metric space\n",
    "Moving     | Change | Rigid motion\n",
    "-          | -      | Transformation group\n",
    "-          | -      | Rate of change\n",
    "Estimating | Approximation | Continuity\n",
    "-          | -             | Limit\n",
    "-          | Nearby | Topological space\n",
    "Selecting  | Part | Subset\n",
    "-          | -    | Boolean algebra\n",
    "Arguing    | Proof | Logical connectives\n",
    "Choosing   | Chance | Probability (favorable/total)\n",
    "Successive actions | Followed by | Composition\n",
    "-          | -      | Transformation group"
   ]
  },
  {
   "cell_type": "markdown",
   "metadata": {},
   "source": [
    "## 12: Mathematical Activities"
   ]
  },
  {
   "cell_type": "markdown",
   "metadata": {},
   "source": [
    "Following is a list of varieties of processes which may generate new ideas and new notions within Mathematics:"
   ]
  },
  {
   "cell_type": "markdown",
   "metadata": {},
   "source": [
    "- Conundrums: finding the solution of hard problems\n",
    "- Completion: a new structure emerges from operations on another: eg. natural numbres -> integers through subtraction\n",
    "- Invariance: the need to explain common structures that arise from different problems\n",
    "- Common Structure (Analogy): eg. symmetry group as commonality of 2 different symmetrical figures.\n",
    "- Intrinsic Structure: a hidden formal structure sometimes explains a fact: eg. permuation group on *n* letters always has order dividing *n*!.\n",
    "- Generalization: concrete instances to general laws (2+3=5 & 3+2=5 to x+y == y+x; or extensions of rules (from 2d / 3d geometry to *n*d\n",
    "- Abstraction: keeping a structure and its operations, without the original elements, and formulating the operations as axioms & consequences; eg. from transformation groups to abstract groups\n",
    "- Axiomatization: reduce a list of theorums on a given topic to a shorter list.\n",
    "- Analysis of Proof: finding axioms by searching for the minimum number of properties for a given proof or proofs."
   ]
  },
  {
   "cell_type": "markdown",
   "metadata": {},
   "source": [
    "## 13: Axiomatic Structure"
   ]
  },
  {
   "cell_type": "markdown",
   "metadata": {},
   "source": [
    "Following chapters indicate how axioms can describe the 3 structures:\n",
    "    \n",
    "    - number; natural number axioms\n",
    "    - space; the Euclidean plane axioms\n",
    "    - time; the real line \n",
    "    \n",
    "These structures are considered *categorical*."
   ]
  }
 ],
 "metadata": {
  "kernelspec": {
   "display_name": "Python 3",
   "language": "python",
   "name": "python3"
  },
  "language_info": {
   "codemirror_mode": {
    "name": "ipython",
    "version": 3
   },
   "file_extension": ".py",
   "mimetype": "text/x-python",
   "name": "python",
   "nbconvert_exporter": "python",
   "pygments_lexer": "ipython3",
   "version": "3.7.6"
  }
 },
 "nbformat": 4,
 "nbformat_minor": 4
}
