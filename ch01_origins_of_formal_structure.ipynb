{
 "cells": [
  {
   "cell_type": "markdown",
   "metadata": {},
   "source": [
    "# I : Origins of Formal Structure"
   ]
  },
  {
   "cell_type": "markdown",
   "metadata": {},
   "source": [
    "## 1. The Natural Numbers"
   ]
  },
  {
   "cell_type": "code",
   "execution_count": 1,
   "metadata": {},
   "outputs": [
    {
     "data": {
      "text/latex": [
       "$\\displaystyle \\mathbb{N}$"
      ],
      "text/plain": [
       "Naturals"
      ]
     },
     "execution_count": 1,
     "metadata": {},
     "output_type": "execute_result"
    }
   ],
   "source": [
    "from sympy import *\n",
    "\n",
    "S.Naturals"
   ]
  },
  {
   "cell_type": "code",
   "execution_count": 2,
   "metadata": {},
   "outputs": [
    {
     "name": "stdout",
     "output_type": "stream",
     "text": [
      "1\n",
      "2\n",
      "3\n"
     ]
    }
   ],
   "source": [
    "iter_N = iter(S.Naturals)\n",
    "for n in range(0, 3):\n",
    "    print(next(iter_N))"
   ]
  },
  {
   "cell_type": "code",
   "execution_count": 3,
   "metadata": {},
   "outputs": [
    {
     "data": {
      "text/latex": [
       "$\\displaystyle \\mathbb{N}_0$"
      ],
      "text/plain": [
       "Naturals0"
      ]
     },
     "execution_count": 3,
     "metadata": {},
     "output_type": "execute_result"
    }
   ],
   "source": [
    "S.Naturals0"
   ]
  },
  {
   "cell_type": "code",
   "execution_count": 4,
   "metadata": {},
   "outputs": [
    {
     "name": "stdout",
     "output_type": "stream",
     "text": [
      "0\n",
      "1\n",
      "2\n"
     ]
    }
   ],
   "source": [
    "iter_N0 = iter(S.Naturals0)\n",
    "for n in range(0, 3):\n",
    "    print(next(iter_N0))"
   ]
  },
  {
   "cell_type": "code",
   "execution_count": 5,
   "metadata": {},
   "outputs": [
    {
     "data": {
      "text/latex": [
       "$\\displaystyle \\left\\{A, B, C\\right\\}$"
      ],
      "text/plain": [
       "FiniteSet(A, B, C)"
      ]
     },
     "execution_count": 5,
     "metadata": {},
     "output_type": "execute_result"
    }
   ],
   "source": [
    "set_S = FiniteSet('A', 'B', 'C')\n",
    "set_S"
   ]
  },
  {
   "cell_type": "code",
   "execution_count": 6,
   "metadata": {},
   "outputs": [
    {
     "data": {
      "text/latex": [
       "$\\displaystyle \\left\\{U, V, W\\right\\}$"
      ],
      "text/plain": [
       "FiniteSet(U, V, W)"
      ]
     },
     "execution_count": 6,
     "metadata": {},
     "output_type": "execute_result"
    }
   ],
   "source": [
    "set_T = FiniteSet('U', 'V', 'W')\n",
    "set_T"
   ]
  },
  {
   "cell_type": "code",
   "execution_count": 7,
   "metadata": {},
   "outputs": [],
   "source": [
    "def get_cardinal(set_to_test):\n",
    "    iter_N = iter(S.Naturals)\n",
    "    for _ in set_to_test:\n",
    "        count = next(iter_N)\n",
    "    return count"
   ]
  },
  {
   "cell_type": "code",
   "execution_count": 8,
   "metadata": {},
   "outputs": [
    {
     "data": {
      "text/latex": [
       "$\\displaystyle 3$"
      ],
      "text/plain": [
       "3"
      ]
     },
     "execution_count": 8,
     "metadata": {},
     "output_type": "execute_result"
    }
   ],
   "source": [
    "get_cardinal(set_S)"
   ]
  },
  {
   "cell_type": "code",
   "execution_count": 9,
   "metadata": {},
   "outputs": [
    {
     "data": {
      "text/latex": [
       "$\\displaystyle 3$"
      ],
      "text/plain": [
       "3"
      ]
     },
     "execution_count": 9,
     "metadata": {},
     "output_type": "execute_result"
    }
   ],
   "source": [
    "get_cardinal(set_T)"
   ]
  },
  {
   "cell_type": "code",
   "execution_count": 10,
   "metadata": {},
   "outputs": [],
   "source": [
    "def one_to_one_correspondence(set_to_test):\n",
    "    iter_N = iter(S.Naturals)\n",
    "    fnc = {}\n",
    "    for element in set_to_test:\n",
    "        fnc[next(iter_N)] = element\n",
    "    return fnc"
   ]
  },
  {
   "cell_type": "code",
   "execution_count": 11,
   "metadata": {},
   "outputs": [
    {
     "data": {
      "text/plain": [
       "{1: A, 2: B, 3: C}"
      ]
     },
     "execution_count": 11,
     "metadata": {},
     "output_type": "execute_result"
    }
   ],
   "source": [
    "f = one_to_one_correspondence(set_S)\n",
    "f"
   ]
  },
  {
   "cell_type": "code",
   "execution_count": 12,
   "metadata": {},
   "outputs": [
    {
     "data": {
      "text/plain": [
       "{1: U, 2: V, 3: W}"
      ]
     },
     "execution_count": 12,
     "metadata": {},
     "output_type": "execute_result"
    }
   ],
   "source": [
    "g = one_to_one_correspondence(set_T)\n",
    "g"
   ]
  },
  {
   "cell_type": "code",
   "execution_count": 13,
   "metadata": {},
   "outputs": [
    {
     "data": {
      "text/plain": [
       "{A: 1, B: 2, C: 3}"
      ]
     },
     "execution_count": 13,
     "metadata": {},
     "output_type": "execute_result"
    }
   ],
   "source": [
    "def inverse(function):\n",
    "    keys = function.keys()\n",
    "    vals = function.values()\n",
    "    return dict(zip(vals, keys))\n",
    "\n",
    "inverse(f)"
   ]
  },
  {
   "cell_type": "code",
   "execution_count": 14,
   "metadata": {},
   "outputs": [
    {
     "data": {
      "text/plain": [
       "{A: U, B: V, C: W}"
      ]
     },
     "execution_count": 14,
     "metadata": {},
     "output_type": "execute_result"
    }
   ],
   "source": [
    "def composed_bijections(f, g):\n",
    "    keys = f.keys()\n",
    "    vals = g.values()\n",
    "    return dict(zip(keys, vals))\n",
    "\n",
    "composed = composed_bijections(inverse(f), g)\n",
    "composed"
   ]
  },
  {
   "cell_type": "code",
   "execution_count": 15,
   "metadata": {},
   "outputs": [
    {
     "data": {
      "text/latex": [
       "$\\displaystyle 3$"
      ],
      "text/plain": [
       "3"
      ]
     },
     "execution_count": 15,
     "metadata": {},
     "output_type": "execute_result"
    }
   ],
   "source": [
    "get_cardinal(composed)"
   ]
  },
  {
   "cell_type": "markdown",
   "metadata": {},
   "source": [
    "#### The Sum"
   ]
  },
  {
   "cell_type": "code",
   "execution_count": 16,
   "metadata": {},
   "outputs": [],
   "source": [
    "set_T -= FiniteSet('W')"
   ]
  },
  {
   "cell_type": "code",
   "execution_count": 17,
   "metadata": {},
   "outputs": [
    {
     "data": {
      "text/latex": [
       "$\\displaystyle \\left\\{A, B, C, U, V\\right\\}$"
      ],
      "text/plain": [
       "FiniteSet(A, B, C, U, V)"
      ]
     },
     "execution_count": 17,
     "metadata": {},
     "output_type": "execute_result"
    }
   ],
   "source": [
    "set_S_and_T = set_S + set_T\n",
    "set_S_and_T"
   ]
  },
  {
   "cell_type": "code",
   "execution_count": 18,
   "metadata": {},
   "outputs": [
    {
     "data": {
      "text/latex": [
       "$\\displaystyle 5$"
      ],
      "text/plain": [
       "5"
      ]
     },
     "execution_count": 18,
     "metadata": {},
     "output_type": "execute_result"
    }
   ],
   "source": [
    "get_cardinal(set_S_and_T)"
   ]
  },
  {
   "cell_type": "markdown",
   "metadata": {},
   "source": [
    "#### The Product"
   ]
  },
  {
   "cell_type": "code",
   "execution_count": 19,
   "metadata": {},
   "outputs": [
    {
     "data": {
      "text/latex": [
       "$\\displaystyle \\left\\{A, B, C\\right\\} \\times \\left\\{U, V\\right\\}$"
      ],
      "text/plain": [
       "ProductSet(FiniteSet(A, B, C), FiniteSet(U, V))"
      ]
     },
     "execution_count": 19,
     "metadata": {},
     "output_type": "execute_result"
    }
   ],
   "source": [
    "product_set = set_S * set_T\n",
    "product_set"
   ]
  },
  {
   "cell_type": "code",
   "execution_count": 20,
   "metadata": {},
   "outputs": [
    {
     "data": {
      "text/latex": [
       "$\\displaystyle 6$"
      ],
      "text/plain": [
       "6"
      ]
     },
     "execution_count": 20,
     "metadata": {},
     "output_type": "execute_result"
    }
   ],
   "source": [
    "get_cardinal(product_set)"
   ]
  },
  {
   "cell_type": "code",
   "execution_count": 21,
   "metadata": {},
   "outputs": [
    {
     "data": {
      "text/plain": [
       "{(A, U), (A, V), (B, U), (B, V), (C, U), (C, V)}"
      ]
     },
     "execution_count": 21,
     "metadata": {},
     "output_type": "execute_result"
    }
   ],
   "source": [
    "set(product_set)"
   ]
  },
  {
   "cell_type": "markdown",
   "metadata": {},
   "source": [
    "#### The Exponential"
   ]
  },
  {
   "cell_type": "code",
   "execution_count": 22,
   "metadata": {},
   "outputs": [
    {
     "data": {
      "text/latex": [
       "$\\displaystyle \\left(\\left\\{U, V\\right\\}^{2}\\right) \\times \\left\\{U, V\\right\\}$"
      ],
      "text/plain": [
       "ProductSet(ProductSet(FiniteSet(U, V), FiniteSet(U, V)), FiniteSet(U, V))"
      ]
     },
     "execution_count": 22,
     "metadata": {},
     "output_type": "execute_result"
    }
   ],
   "source": [
    "exponential_set = set_T * set_T * set_T\n",
    "exponential_set"
   ]
  },
  {
   "cell_type": "code",
   "execution_count": 23,
   "metadata": {},
   "outputs": [
    {
     "data": {
      "text/latex": [
       "$\\displaystyle 8$"
      ],
      "text/plain": [
       "8"
      ]
     },
     "execution_count": 23,
     "metadata": {},
     "output_type": "execute_result"
    }
   ],
   "source": [
    "get_cardinal(exponential_set)"
   ]
  },
  {
   "cell_type": "markdown",
   "metadata": {},
   "source": [
    "## 2. Infinite Sets"
   ]
  },
  {
   "cell_type": "markdown",
   "metadata": {},
   "source": [
    "N = collection of natural numbers 0 to infinity contains many subsets; any subset of N is either finite or denumerable, such as:\n",
    "\n",
    "- P = set of all positive natural numbers 1 to infinity.\n",
    "- E = set of all even positive numbers.\n",
    "- S = set of all positive multiples of 6.\n",
    "- All finite subsets such as {0, 1, 2} or {2, 4, 16}"
   ]
  },
  {
   "cell_type": "code",
   "execution_count": 24,
   "metadata": {},
   "outputs": [
    {
     "data": {
      "text/latex": [
       "$\\displaystyle \\emptyset$"
      ],
      "text/plain": [
       "EmptySet"
      ]
     },
     "execution_count": 24,
     "metadata": {},
     "output_type": "execute_result"
    }
   ],
   "source": [
    "S.EmptySet"
   ]
  },
  {
   "cell_type": "code",
   "execution_count": 25,
   "metadata": {},
   "outputs": [
    {
     "data": {
      "text/plain": [
       "0"
      ]
     },
     "execution_count": 25,
     "metadata": {},
     "output_type": "execute_result"
    }
   ],
   "source": [
    "len(S.EmptySet)"
   ]
  },
  {
   "cell_type": "code",
   "execution_count": 26,
   "metadata": {},
   "outputs": [
    {
     "data": {
      "text/plain": [
       "True"
      ]
     },
     "execution_count": 26,
     "metadata": {},
     "output_type": "execute_result"
    }
   ],
   "source": [
    "FiniteSet(0, 1, 2).is_subset(S.Naturals0)"
   ]
  },
  {
   "cell_type": "code",
   "execution_count": 27,
   "metadata": {},
   "outputs": [
    {
     "data": {
      "text/plain": [
       "True"
      ]
     },
     "execution_count": 27,
     "metadata": {},
     "output_type": "execute_result"
    }
   ],
   "source": [
    "FiniteSet(1, 3, 5, 7).is_subset(S.Naturals0)"
   ]
  },
  {
   "cell_type": "code",
   "execution_count": 28,
   "metadata": {},
   "outputs": [
    {
     "data": {
      "text/plain": [
       "True"
      ]
     },
     "execution_count": 28,
     "metadata": {},
     "output_type": "execute_result"
    }
   ],
   "source": [
    "FiniteSet(2, 4, 16).is_subset(S.Naturals0)"
   ]
  },
  {
   "cell_type": "code",
   "execution_count": 29,
   "metadata": {},
   "outputs": [
    {
     "data": {
      "text/plain": [
       "True"
      ]
     },
     "execution_count": 29,
     "metadata": {},
     "output_type": "execute_result"
    }
   ],
   "source": [
    "S.Naturals.is_subset(S.Naturals0)"
   ]
  },
  {
   "cell_type": "code",
   "execution_count": 30,
   "metadata": {},
   "outputs": [
    {
     "data": {
      "text/latex": [
       "$\\displaystyle \\left\\{x \\mid x \\in \\mathbb{N} \\wedge x\\bmod{2} = 0 \\right\\}$"
      ],
      "text/plain": [
       "ConditionSet(x, Eq(Mod(x, 2), 0), Naturals)"
      ]
     },
     "execution_count": 30,
     "metadata": {},
     "output_type": "execute_result"
    }
   ],
   "source": [
    "from sympy.abc import x\n",
    "\n",
    "set_E = ConditionSet(x, Eq(x % 2, 0), S.Naturals)\n",
    "set_E"
   ]
  },
  {
   "cell_type": "code",
   "execution_count": 31,
   "metadata": {},
   "outputs": [
    {
     "data": {
      "text/plain": [
       "False"
      ]
     },
     "execution_count": 31,
     "metadata": {},
     "output_type": "execute_result"
    }
   ],
   "source": [
    "set_E.is_FiniteSet"
   ]
  },
  {
   "cell_type": "code",
   "execution_count": 32,
   "metadata": {},
   "outputs": [
    {
     "data": {
      "text/plain": [
       "True"
      ]
     },
     "execution_count": 32,
     "metadata": {},
     "output_type": "execute_result"
    }
   ],
   "source": [
    "set_E.is_subset(S.Naturals)"
   ]
  },
  {
   "cell_type": "code",
   "execution_count": 33,
   "metadata": {},
   "outputs": [
    {
     "data": {
      "text/latex": [
       "$\\displaystyle \\left\\{x \\mid x \\in \\mathbb{N} \\wedge x\\bmod{6} = 0 \\right\\}$"
      ],
      "text/plain": [
       "ConditionSet(x, Eq(Mod(x, 6), 0), Naturals)"
      ]
     },
     "execution_count": 33,
     "metadata": {},
     "output_type": "execute_result"
    }
   ],
   "source": [
    "set_S2 = ConditionSet(x, Eq(x % 6, 0), S.Naturals)\n",
    "set_S2"
   ]
  },
  {
   "cell_type": "code",
   "execution_count": 34,
   "metadata": {},
   "outputs": [
    {
     "data": {
      "text/plain": [
       "False"
      ]
     },
     "execution_count": 34,
     "metadata": {},
     "output_type": "execute_result"
    }
   ],
   "source": [
    "set_S2.is_FiniteSet"
   ]
  },
  {
   "cell_type": "code",
   "execution_count": 35,
   "metadata": {},
   "outputs": [
    {
     "data": {
      "text/plain": [
       "True"
      ]
     },
     "execution_count": 35,
     "metadata": {},
     "output_type": "execute_result"
    }
   ],
   "source": [
    "set_S2.is_subset(S.Naturals)"
   ]
  },
  {
   "cell_type": "markdown",
   "metadata": {},
   "source": [
    "#### Denumerables\n",
    "\n",
    "A denumerable set X is a set where exists a bijection for the Natural numbers N to X."
   ]
  },
  {
   "cell_type": "markdown",
   "metadata": {},
   "source": [
    "Sets where a bijection exists have the same cardinal number:\n",
    "- Finite: finite cardinals\n",
    "- Denumerable: aleph-naught - ℵ₀"
   ]
  },
  {
   "cell_type": "markdown",
   "metadata": {},
   "source": [
    "## 3. Permutations"
   ]
  },
  {
   "cell_type": "code",
   "execution_count": 80,
   "metadata": {},
   "outputs": [],
   "source": [
    "from sympy.combinatorics.named_groups import SymmetricGroup\n",
    "from sympy.combinatorics import Permutation\n",
    "\n",
    "from sympy import init_printing\n",
    "init_printing(perm_cyclic = False)"
   ]
  },
  {
   "cell_type": "code",
   "execution_count": 86,
   "metadata": {},
   "outputs": [
    {
     "data": {
      "image/png": "[encoded data removed]",
      "text/latex": [
       "$\\displaystyle \\begin{pmatrix} 0 & 1 & 2 \\\\ 0 & 1 & 2 \\end{pmatrix}$"
      ],
      "text/plain": [
       "Permutation(2)"
      ]
     },
     "execution_count": 86,
     "metadata": {},
     "output_type": "execute_result"
    }
   ],
   "source": [
    "p = Permutation(2)\n",
    "p"
   ]
  },
  {
   "cell_type": "code",
   "execution_count": 38,
   "metadata": {},
   "outputs": [
    {
     "data": {
      "image/png": "[encoded data removed]",
      "text/latex": [
       "$\\displaystyle \\left[ 0, \\  1, \\  2\\right]$"
      ],
      "text/plain": [
       "[0, 1, 2]"
      ]
     },
     "execution_count": 38,
     "metadata": {},
     "output_type": "execute_result"
    }
   ],
   "source": [
    "p.array_form"
   ]
  },
  {
   "cell_type": "code",
   "execution_count": 39,
   "metadata": {},
   "outputs": [
    {
     "data": {
      "image/png": "[encoded data removed]",
      "text/latex": [
       "$\\displaystyle 3$"
      ],
      "text/plain": [
       "3"
      ]
     },
     "execution_count": 39,
     "metadata": {},
     "output_type": "execute_result"
    }
   ],
   "source": [
    "p.size"
   ]
  },
  {
   "cell_type": "code",
   "execution_count": 40,
   "metadata": {},
   "outputs": [
    {
     "data": {
      "image/png": "[encoded data removed]",
      "text/latex": [
       "$\\displaystyle 6$"
      ],
      "text/plain": [
       "6"
      ]
     },
     "execution_count": 40,
     "metadata": {},
     "output_type": "execute_result"
    }
   ],
   "source": [
    "p.cardinality"
   ]
  },
  {
   "cell_type": "code",
   "execution_count": 41,
   "metadata": {},
   "outputs": [
    {
     "data": {
      "image/png": "[encoded data removed]",
      "text/latex": [
       "$\\displaystyle \\tilde{\\infty}$"
      ],
      "text/plain": [
       "zoo"
      ]
     },
     "execution_count": 41,
     "metadata": {},
     "output_type": "execute_result"
    }
   ],
   "source": [
    "factorial(-2)"
   ]
  },
  {
   "cell_type": "code",
   "execution_count": 42,
   "metadata": {},
   "outputs": [
    {
     "data": {
      "image/png": "[encoded data removed]",
      "text/plain": [
       "<Figure size 432x288 with 1 Axes>"
      ]
     },
     "metadata": {
      "needs_background": "light"
     },
     "output_type": "display_data"
    }
   ],
   "source": [
    "import math\n",
    "from sympy.plotting import plot\n",
    "\n",
    "p1 = plot(x, (x, 0, 5), show = False, title = \"Factorial(x)\")\n",
    "p2 = plot(factorial(x), (x, 0, 5), show = False, line_color = \"red\")\n",
    "p1.append(p2[0])\n",
    "p1.show()"
   ]
  },
  {
   "cell_type": "code",
   "execution_count": 43,
   "metadata": {},
   "outputs": [
    {
     "name": "stdout",
     "output_type": "stream",
     "text": [
      "[1, 2, 3]\n",
      "[1, 3, 2]\n",
      "[2, 1, 3]\n",
      "[2, 3, 1]\n",
      "[3, 1, 2]\n",
      "[3, 2, 1]\n"
     ]
    }
   ],
   "source": [
    "group = [1, 2, 3]\n",
    "q = p\n",
    "while q:\n",
    "    print(q(group))\n",
    "    q = q.next_lex()"
   ]
  },
  {
   "cell_type": "code",
   "execution_count": 44,
   "metadata": {},
   "outputs": [
    {
     "name": "stdout",
     "output_type": "stream",
     "text": [
      "[]\n",
      "[[1, 2]]\n",
      "[[0, 1]]\n",
      "[[0, 1, 2]]\n",
      "[[0, 2, 1]]\n",
      "[[0, 2]]\n"
     ]
    }
   ],
   "source": [
    "q = p\n",
    "while q:\n",
    "    print(q.cyclic_form)\n",
    "    q = q.next_lex()"
   ]
  },
  {
   "cell_type": "code",
   "execution_count": 45,
   "metadata": {},
   "outputs": [
    {
     "name": "stdout",
     "output_type": "stream",
     "text": [
      "[[0], [1], [2]]\n",
      "[[0], [1, 2]]\n",
      "[[0, 1], [2]]\n",
      "[[0, 1, 2]]\n",
      "[[0, 2, 1]]\n",
      "[[0, 2], [1]]\n"
     ]
    }
   ],
   "source": [
    "q = p\n",
    "while q:\n",
    "    print(q.full_cyclic_form)\n",
    "    q = q.next_lex()"
   ]
  },
  {
   "cell_type": "code",
   "execution_count": 46,
   "metadata": {},
   "outputs": [
    {
     "data": {
      "image/png": "[encoded data removed]",
      "text/latex": [
       "$\\displaystyle \\left\\{ 0 : 1, \\  1 : 3, \\  2 : 2\\right\\}$"
      ],
      "text/plain": [
       "{0: 1, 1: 3, 2: 2}"
      ]
     },
     "execution_count": 46,
     "metadata": {},
     "output_type": "execute_result"
    }
   ],
   "source": [
    "q = p\n",
    "q = q.next_lex()\n",
    "{i: q(group)[i] for i in range(p.size)}"
   ]
  },
  {
   "cell_type": "code",
   "execution_count": 47,
   "metadata": {},
   "outputs": [
    {
     "data": {
      "image/png": "[encoded data removed]",
      "text/latex": [
       "$\\displaystyle \\left(x_{1} + x_{2}\\right) \\left(x_{3} + x_{4}\\right)$"
      ],
      "text/plain": [
       "(x₁ + x₂)⋅(x₃ + x₄)"
      ]
     },
     "execution_count": 47,
     "metadata": {},
     "output_type": "execute_result"
    }
   ],
   "source": [
    "x1, x2, x3, x4 = symbols(\"x1, x2, x3, x4\")\n",
    "indeterminates = [x1, x2, x3, x4]\n",
    "args = {x1: 1, x2: 2, x3: 3, x4: 4}\n",
    "\n",
    "x = Permutation(len(indeterminates) - 1)\n",
    "\n",
    "def expr1(lst):\n",
    "    return (lst[0] + lst[1]) * (lst[2] + lst[3])\n",
    "\n",
    "expr1(x(indeterminates))"
   ]
  },
  {
   "cell_type": "code",
   "execution_count": 48,
   "metadata": {},
   "outputs": [
    {
     "data": {
      "image/png": "[encoded data removed]",
      "text/latex": [
       "$\\displaystyle \\left( 1, \\  \\left[ \\left( x_{1} + x_{2}, \\  1\\right), \\  \\left( x_{3} + x_{4}, \\  1\\right)\\right]\\right)$"
      ],
      "text/plain": [
       "(1, [(x₁ + x₂, 1), (x₃ + x₄, 1)])"
      ]
     },
     "execution_count": 48,
     "metadata": {},
     "output_type": "execute_result"
    }
   ],
   "source": [
    "factor_list(expr1(x(indeterminates)))"
   ]
  },
  {
   "cell_type": "code",
   "execution_count": 49,
   "metadata": {},
   "outputs": [
    {
     "data": {
      "image/png": "[encoded data removed]",
      "text/latex": [
       "$\\displaystyle 21$"
      ],
      "text/plain": [
       "21"
      ]
     },
     "execution_count": 49,
     "metadata": {},
     "output_type": "execute_result"
    }
   ],
   "source": [
    "def calculate_poly(expression, args):\n",
    "    pol = poly(expression)\n",
    "    return pol.eval(args)\n",
    "\n",
    "calculate_poly(expr1(x(indeterminates)), args)"
   ]
  },
  {
   "cell_type": "code",
   "execution_count": 50,
   "metadata": {},
   "outputs": [
    {
     "data": {
      "text/plain": [
       "Counter({'unchanged': 8, 'changed': 16})"
      ]
     },
     "execution_count": 50,
     "metadata": {},
     "output_type": "execute_result"
    }
   ],
   "source": [
    "from collections import Counter\n",
    "\n",
    "def count_permutation_results(expr, args, perms, indeterminates):\n",
    "    permutation = perms(indeterminates)\n",
    "    original_result = calculate_poly(expr(permutation), args)\n",
    "    results = []\n",
    "    while perms:\n",
    "        permutation = perms(indeterminates)\n",
    "        result = calculate_poly(expr(permutation), args)\n",
    "        if result == original_result:\n",
    "            results.append(\"unchanged\")\n",
    "        else:\n",
    "            results.append(\"changed\")\n",
    "        perms = perms.next_lex()\n",
    "    return Counter(results)\n",
    "\n",
    "count_permutation_results(expr1, args, x, indeterminates)"
   ]
  },
  {
   "cell_type": "code",
   "execution_count": 51,
   "metadata": {},
   "outputs": [
    {
     "data": {
      "image/png": "[encoded data removed]",
      "text/latex": [
       "$\\displaystyle \\left(x_{1} - x_{2}\\right) \\left(x_{1} - x_{3}\\right) \\left(x_{1} - x_{4}\\right) \\left(x_{2} - x_{3}\\right) \\left(x_{2} - x_{4}\\right) \\left(x_{3} - x_{4}\\right)$"
      ],
      "text/plain": [
       "(x₁ - x₂)⋅(x₁ - x₃)⋅(x₁ - x₄)⋅(x₂ - x₃)⋅(x₂ - x₄)⋅(x₃ - x₄)"
      ]
     },
     "execution_count": 51,
     "metadata": {},
     "output_type": "execute_result"
    }
   ],
   "source": [
    "def expr2(lst):\n",
    "    fctr_1 = lst[0] - lst[1]\n",
    "    fctr_2 = lst[0] - lst[2]\n",
    "    fctr_3 = lst[0] - lst[3]\n",
    "    fctr_4 = lst[1] - lst[2]\n",
    "    fctr_5 = lst[1] - lst[3]\n",
    "    fctr_6 = lst[2] - lst[3]\n",
    "    return  fctr_1 * fctr_2 * fctr_3 * fctr_4 * fctr_5 * fctr_6\n",
    "\n",
    "expr2(x(indeterminates))"
   ]
  },
  {
   "cell_type": "code",
   "execution_count": 52,
   "metadata": {},
   "outputs": [
    {
     "data": {
      "text/plain": [
       "Counter({'unchanged': 12, 'changed': 12})"
      ]
     },
     "execution_count": 52,
     "metadata": {},
     "output_type": "execute_result"
    }
   ],
   "source": [
    "count_permutation_results(expr2, args, x, indeterminates)"
   ]
  },
  {
   "cell_type": "code",
   "execution_count": 53,
   "metadata": {},
   "outputs": [
    {
     "data": {
      "image/png": "[encoded data removed]",
      "text/latex": [
       "$\\displaystyle \\left(x_{1} - x_{2}\\right) \\left(x_{3} - x_{4}\\right)$"
      ],
      "text/plain": [
       "(x₁ - x₂)⋅(x₃ - x₄)"
      ]
     },
     "execution_count": 53,
     "metadata": {},
     "output_type": "execute_result"
    }
   ],
   "source": [
    "def expr3(lst):\n",
    "    return (lst[0] - lst[1]) * (lst[2] - lst[3])\n",
    "\n",
    "expr3(x(indeterminates))"
   ]
  },
  {
   "cell_type": "code",
   "execution_count": 54,
   "metadata": {},
   "outputs": [
    {
     "data": {
      "text/plain": [
       "Counter({'unchanged': 4, 'changed': 20})"
      ]
     },
     "execution_count": 54,
     "metadata": {},
     "output_type": "execute_result"
    }
   ],
   "source": [
    "count_permutation_results(expr3, args, x, indeterminates)"
   ]
  },
  {
   "cell_type": "code",
   "execution_count": 55,
   "metadata": {},
   "outputs": [],
   "source": [
    "from sympy.combinatorics.perm_groups import PermutationGroup\n",
    "\n",
    "def get_permutation_groups(expr, args, perms, indeterminates):\n",
    "    permutation = perms(indeterminates)\n",
    "    original_result = calculate_poly(expr(permutation), args)\n",
    "    changed = []\n",
    "    unchanged = []\n",
    "    while perms:\n",
    "        permutation = perms(indeterminates)\n",
    "        result = calculate_poly(expr(permutation), args)\n",
    "        if result == original_result:\n",
    "            unchanged.append(perms)\n",
    "        else:\n",
    "            changed.append(perms)\n",
    "        perms = perms.next_lex()\n",
    "    changed_group = PermutationGroup(changed)\n",
    "    unchanged_group = PermutationGroup(unchanged)\n",
    "    return changed_group, unchanged_group \n",
    "\n",
    "changed, unchanged = get_permutation_groups(expr3, args, x, indeterminates)"
   ]
  },
  {
   "cell_type": "code",
   "execution_count": 56,
   "metadata": {},
   "outputs": [
    {
     "data": {
      "image/png": "[encoded data removed]",
      "text/latex": [
       "$\\displaystyle PermutationGroup\\left(\\begin{pmatrix} 0 & 1 & 2 & 3 \\\\ 0 & 1 & 3 & 2 \\end{pmatrix}, \\begin{pmatrix} 0 & 1 & 2 & 3 \\\\ 0 & 2 & 1 & 3 \\end{pmatrix}, \\begin{pmatrix} 0 & 1 & 2 & 3 \\\\ 0 & 2 & 3 & 1 \\end{pmatrix}, \\begin{pmatrix} 0 & 1 & 2 & 3 \\\\ 0 & 3 & 1 & 2 \\end{pmatrix}, \\begin{pmatrix} 0 & 1 & 2 & 3 \\\\ 0 & 3 & 2 & 1 \\end{pmatrix}, \\begin{pmatrix} 0 & 1 & 2 & 3 \\\\ 1 & 0 & 2 & 3 \\end{pmatrix}, \\begin{pmatrix} 0 & 1 & 2 & 3 \\\\ 1 & 2 & 0 & 3 \\end{pmatrix}, \\begin{pmatrix} 0 & 1 & 2 & 3 \\\\ 1 & 2 & 3 & 0 \\end{pmatrix}, \\begin{pmatrix} 0 & 1 & 2 & 3 \\\\ 1 & 3 & 0 & 2 \\end{pmatrix}, \\begin{pmatrix} 0 & 1 & 2 & 3 \\\\ 1 & 3 & 2 & 0 \\end{pmatrix}, \\begin{pmatrix} 0 & 1 & 2 & 3 \\\\ 2 & 0 & 1 & 3 \\end{pmatrix}, \\begin{pmatrix} 0 & 1 & 2 & 3 \\\\ 2 & 0 & 3 & 1 \\end{pmatrix}, \\begin{pmatrix} 0 & 1 & 2 & 3 \\\\ 2 & 1 & 0 & 3 \\end{pmatrix}, \\begin{pmatrix} 0 & 1 & 2 & 3 \\\\ 2 & 1 & 3 & 0 \\end{pmatrix}, \\begin{pmatrix} 0 & 1 & 2 & 3 \\\\ 2 & 3 & 1 & 0 \\end{pmatrix}, \\begin{pmatrix} 0 & 1 & 2 & 3 \\\\ 3 & 0 & 1 & 2 \\end{pmatrix}, \\begin{pmatrix} 0 & 1 & 2 & 3 \\\\ 3 & 0 & 2 & 1 \\end{pmatrix}, \\begin{pmatrix} 0 & 1 & 2 & 3 \\\\ 3 & 1 & 0 & 2 \\end{pmatrix}, \\begin{pmatrix} 0 & 1 & 2 & 3 \\\\ 3 & 1 & 2 & 0 \\end{pmatrix}, \\begin{pmatrix} 0 & 1 & 2 & 3 \\\\ 3 & 2 & 0 & 1 \\end{pmatrix}\\right)$"
      ],
      "text/plain": [
       "PermutationGroup([\n",
       "        (2 3),    \n",
       "      (3)(1 2),   \n",
       "       (1 2 3),   \n",
       "       (1 3 2),   \n",
       "        (1 3),    \n",
       "      (3)(0 1),   \n",
       "     (3)(0 1 2),  \n",
       "      (0 1 2 3),  \n",
       "      (0 1 3 2),  \n",
       "       (0 1 3),   \n",
       "     (3)(0 2 1),  \n",
       "      (0 2 3 1),  \n",
       "      (3)(0 2),   \n",
       "       (0 2 3),   \n",
       "      (0 2 1 3),  \n",
       "      (0 3 2 1),  \n",
       "       (0 3 1),   \n",
       "       (0 3 2),   \n",
       "        (0 3),    \n",
       "     (0 3 1 2)])  "
      ]
     },
     "execution_count": 56,
     "metadata": {},
     "output_type": "execute_result"
    }
   ],
   "source": [
    "changed"
   ]
  },
  {
   "cell_type": "code",
   "execution_count": 87,
   "metadata": {},
   "outputs": [
    {
     "data": {
      "image/png": "[encoded data removed]",
      "text/latex": [
       "$\\displaystyle PermutationGroup\\left(\\begin{pmatrix} 0 & 1 & 2 & 3 \\\\ 1 & 0 & 3 & 2 \\end{pmatrix}, \\begin{pmatrix} 0 & 1 & 2 & 3 \\\\ 2 & 3 & 0 & 1 \\end{pmatrix}, \\begin{pmatrix} 0 & 1 & 2 & 3 \\\\ 3 & 2 & 1 & 0 \\end{pmatrix}\\right)$"
      ],
      "text/plain": [
       "PermutationGroup([\n",
       "     (0 1)(2 3),  \n",
       "     (0 2)(1 3),  \n",
       "     (0 3)(1 2)]) "
      ]
     },
     "execution_count": 87,
     "metadata": {},
     "output_type": "execute_result"
    }
   ],
   "source": [
    "unchanged # this is also known as the 4 group"
   ]
  },
  {
   "cell_type": "code",
   "execution_count": 96,
   "metadata": {},
   "outputs": [
    {
     "data": {
      "image/png": "[encoded data removed]",
      "text/latex": [
       "$\\displaystyle PermutationGroup\\left(\\begin{pmatrix} 0 & 1 & 2 & 3 \\\\ 1 & 2 & 3 & 0 \\end{pmatrix}, \\begin{pmatrix} 0 & 1 & 2 & 3 \\\\ 1 & 0 & 2 & 3 \\end{pmatrix}\\right)$"
      ],
      "text/plain": [
       "PermutationGroup([\n",
       "      (0 1 2 3),  \n",
       "      (3)(0 1)])  "
      ]
     },
     "execution_count": 96,
     "metadata": {},
     "output_type": "execute_result"
    }
   ],
   "source": [
    "sym_group = SymmetricGroup(4)\n",
    "sym_group"
   ]
  },
  {
   "cell_type": "code",
   "execution_count": 58,
   "metadata": {},
   "outputs": [
    {
     "data": {
      "image/png": "[encoded data removed]",
      "text/latex": [
       "$\\displaystyle \\begin{pmatrix} 0 & 1 & 2 & 3 \\\\ 0 & 1 & 2 & 3 \\end{pmatrix}$"
      ],
      "text/plain": [
       "Permutation(3)"
      ]
     },
     "execution_count": 58,
     "metadata": {},
     "output_type": "execute_result"
    }
   ],
   "source": [
    "unchanged.identity"
   ]
  },
  {
   "cell_type": "markdown",
   "metadata": {},
   "source": [
    "## 4: Time and Order"
   ]
  },
  {
   "cell_type": "code",
   "execution_count": 62,
   "metadata": {},
   "outputs": [
    {
     "name": "stdout",
     "output_type": "stream",
     "text": [
      "True\n",
      "True\n"
     ]
    }
   ],
   "source": [
    "# Times in order\n",
    "t = 0\n",
    "tPrime = t + 1\n",
    "tPrimePrime = tPrime + 1\n",
    "\n",
    "def transitiveLaw(a, b, c):\n",
    "    return a < b and b < c and a < c\n",
    "\n",
    "def lawOfTrichotomy(a, b):\n",
    "    return a < b or a == b or b < a\n",
    "\n",
    "print(transitiveLaw(t, tPrime, tPrimePrime))\n",
    "print(lawOfTrichotomy(t, tPrime))"
   ]
  },
  {
   "cell_type": "code",
   "execution_count": 63,
   "metadata": {},
   "outputs": [
    {
     "name": "stdout",
     "output_type": "stream",
     "text": [
      "Linear ordered set {1, 2, 3, 4, 5, 6}: True\n"
     ]
    }
   ],
   "source": [
    "X = {1, 2, 3, 4, 5, 6}\n",
    "\n",
    "def binaryRelationLessThan(x, y):\n",
    "    return x < y\n",
    "\n",
    "def linearlyOrderedSet(anySet):\n",
    "    \n",
    "    anySet = list(anySet)\n",
    "    truthValues = []\n",
    "    \n",
    "    for i in range(0, len(anySet)-1):\n",
    "        x = anySet[i]\n",
    "        y = anySet[i+1]\n",
    "        truthValues.append(binaryRelationLessThan(x, y))\n",
    "        truthValues.append(lawOfTrichotomy(x, y))\n",
    "    \n",
    "    for i in range(0, len(anySet)-2):\n",
    "        x = anySet[i]\n",
    "        y = anySet[i+1]\n",
    "        z = anySet[i+2]\n",
    "        truthValues.append(transitiveLaw(x, y, z))\n",
    "    \n",
    "    return all(truthValues)\n",
    "\n",
    "print(\"Linear ordered set \" + str(X) + \": \" + str(linearlyOrderedSet(X)))"
   ]
  },
  {
   "cell_type": "code",
   "execution_count": 64,
   "metadata": {},
   "outputs": [
    {
     "name": "stdout",
     "output_type": "stream",
     "text": [
      "X not later than: True\n"
     ]
    }
   ],
   "source": [
    "def binaryRelationNotLaterThan(x, y):\n",
    "    return x <= y\n",
    "\n",
    "def transitiveNotLaterThan(x, y, z):\n",
    "    return x <= y and y <= z and x <= z\n",
    "\n",
    "def reflexive(x):\n",
    "    return binaryRelationNotLaterThan(x, x)\n",
    "\n",
    "def antisymmetric(x, y):\n",
    "    return x <= y and y <= x or x != y\n",
    "\n",
    "def trichotomyNotLaterThan(X):\n",
    "    truthValues = []\n",
    "    X = list(X)\n",
    "    for i in range(0, len(X)-1):\n",
    "        x = X[i]\n",
    "        y = X[i+1]\n",
    "        truthValues.append(\n",
    "            binaryRelationNotLaterThan(x, y) or binaryRelationNotLaterThan(y, x)\n",
    "        )\n",
    "    return all(truthValues)\n",
    "\n",
    "def linearlyOrderedNotLaterThan(anySet):\n",
    "    \n",
    "    anySet = list(anySet)\n",
    "    truthValues = []\n",
    "    \n",
    "    truthValues = [trichotomyNotLaterThan(anySet)]\n",
    "    \n",
    "    for x in anySet:\n",
    "        truthValues.append(reflexive(x))\n",
    "        \n",
    "    for i in range(0, len(anySet)-1):\n",
    "        x = anySet[i]\n",
    "        y = anySet[i+1]\n",
    "        truthValues.append(binaryRelationNotLaterThan(x, y))\n",
    "        truthValues.append(antisymmetric(x, y))\n",
    "    \n",
    "    for i in range(0, len(anySet)-2):\n",
    "        x = anySet[i]\n",
    "        y = anySet[i+1]\n",
    "        z = anySet[i+2]\n",
    "        truthValues.append(transitiveNotLaterThan(x, y, z))\n",
    "    \n",
    "    return all(truthValues)\n",
    "\n",
    "print(\"X not later than: \" + str(linearlyOrderedNotLaterThan(X)))"
   ]
  },
  {
   "cell_type": "code",
   "execution_count": 65,
   "metadata": {},
   "outputs": [
    {
     "name": "stdout",
     "output_type": "stream",
     "text": [
      "Order isomorphism X → Y : {(1, 2), (2, 4), (3, 6)}\n",
      "Order isomorphism X → Z : None\n"
     ]
    }
   ],
   "source": [
    "def orderIsomorphism(X, Y):\n",
    "    if (linearlyOrderedSet(X) and linearlyOrderedSet(Y)):\n",
    "        return set(zip(X, Y))\n",
    "    \n",
    "X = {1, 2, 3}\n",
    "Y = {2, 4, 6}\n",
    "print(\"Order isomorphism X → Y : \" + str(orderIsomorphism(X, Y)))\n",
    "\n",
    "Z = [0, 0, 0]\n",
    "print(\"Order isomorphism X → Z : \" + str(orderIsomorphism(X, Z)))"
   ]
  },
  {
   "cell_type": "markdown",
   "metadata": {},
   "source": [
    "X and Y are of the same *order type*"
   ]
  },
  {
   "cell_type": "code",
   "execution_count": 66,
   "metadata": {},
   "outputs": [
    {
     "name": "stdout",
     "output_type": "stream",
     "text": [
      "Upper bound: True\n",
      "Upper bound with π: True\n",
      "Least upper bound: True\n"
     ]
    }
   ],
   "source": [
    "from math import pi\n",
    "\n",
    "approximationsOfPi = [3.14, 3.141, 3.1415, 3.14159, 3.141592]\n",
    "X = list(approximationsOfPi)\n",
    "S = list(approximationsOfPi)[:2]\n",
    "\n",
    "def upperBound(S, b):\n",
    "    return(all([s <= b for s in S]))\n",
    "\n",
    "def leastUpperBound(S, b, bPrime):\n",
    "    return upperBound(S, b) and upperBound(S, bPrime) and b < bPrime\n",
    "\n",
    "print(\"Upper bound: \" + str(upperBound(S, X[3])))\n",
    "print(\"Upper bound with π: \" + str(upperBound(X, pi)))\n",
    "print(\"Least upper bound: \" + str(leastUpperBound(S, X[3], X[4])))"
   ]
  },
  {
   "cell_type": "markdown",
   "metadata": {},
   "source": [
    "An unbounded set is one which has no upper or lower bound: so the set of Natural numbers is not unbounded because it has a lower bound of 0."
   ]
  },
  {
   "cell_type": "markdown",
   "metadata": {},
   "source": [
    "**Q** = set of rational numbers\n",
    "**R** = set of real numbers\n",
    "\n",
    "**R** is:\n",
    "- complete (every subset has a least upper bound)\n",
    "- unbounded (-∞ to +∞)\n",
    "- has a denumerable dense subset (**Q** can approximate every number in **R**)\n",
    "\n",
    "Any set with the above properties is order isomorphic to **R**"
   ]
  },
  {
   "cell_type": "code",
   "execution_count": 67,
   "metadata": {},
   "outputs": [
    {
     "name": "stdout",
     "output_type": "stream",
     "text": [
      "True\n"
     ]
    }
   ],
   "source": [
    "# Intervals of time can be summed like natural numbers\n",
    "print((t + tPrime) + tPrimePrime == t + (tPrime + tPrimePrime))"
   ]
  },
  {
   "cell_type": "markdown",
   "metadata": {},
   "source": [
    "## 5: Space and Motion"
   ]
  },
  {
   "cell_type": "markdown",
   "metadata": {},
   "source": [
    "The idea of space, measured with distances, requires not rational numbers but real numbers; this is simply revealed through the distance of the long length of an isosceles right triangle with legs of length 1:"
   ]
  },
  {
   "cell_type": "code",
   "execution_count": 68,
   "metadata": {},
   "outputs": [
    {
     "name": "stdout",
     "output_type": "stream",
     "text": [
      "1.4142135623730951\n",
      "True\n"
     ]
    }
   ],
   "source": [
    "from math import sqrt\n",
    "\n",
    "hypotheseOfRightTriangle = sqrt(2)\n",
    "print(hypotheseOfRightTriangle)\n",
    "print(hypotheseOfRightTriangle == sqrt(1**2 + 1**2))"
   ]
  },
  {
   "cell_type": "markdown",
   "metadata": {},
   "source": [
    "Here we arrive at the real numbers."
   ]
  },
  {
   "cell_type": "code",
   "execution_count": 69,
   "metadata": {},
   "outputs": [
    {
     "name": "stdout",
     "output_type": "stream",
     "text": [
      "Axiom 1: True\n",
      "Axiom 2: True\n"
     ]
    }
   ],
   "source": [
    "def distance(p, q):\n",
    "    \"\"\" Distances as difference between points. \"\"\"\n",
    "    return abs(q - p)\n",
    "\n",
    "print(\"Axiom 1: \" + str(distance(1, 2) == distance(2, 1)))\n",
    "\n",
    "p = 1\n",
    "q = 1\n",
    "print(\"Axiom 2: \" + str(distance(p, q) == 0 and p == q))"
   ]
  },
  {
   "cell_type": "code",
   "execution_count": 70,
   "metadata": {},
   "outputs": [
    {
     "name": "stdout",
     "output_type": "stream",
     "text": [
      "Axiom 3: True\n"
     ]
    }
   ],
   "source": [
    "def triangleAxiom(p, q, r):\n",
    "    \"\"\" Distance is always longer or equivalent if through point r. \"\"\"\n",
    "    return distance(p, q) <= distance(p, r) + distance(r, q)\n",
    "\n",
    "print(\"Axiom 3: \" + str(triangleAxiom(1, 3, 2)))"
   ]
  },
  {
   "cell_type": "markdown",
   "metadata": {},
   "source": [
    "From the 3 axioms above arise the concept of *metric space*."
   ]
  },
  {
   "cell_type": "code",
   "execution_count": 71,
   "metadata": {},
   "outputs": [
    {
     "name": "stdout",
     "output_type": "stream",
     "text": [
      "True\n"
     ]
    }
   ],
   "source": [
    "def figure(*points):\n",
    "    \"\"\" Creates a 'figure' as a collection of points. \"\"\"\n",
    "    return (points)\n",
    "\n",
    "fig = figure(1, 2)\n",
    "\n",
    "def rigidMotion(fig, distance):\n",
    "    \"\"\" Moves all points in a figure by a rigid distance. \"\"\"\n",
    "    return figure(*[x+distance for x in fig])\n",
    "\n",
    "print(distance(*fig) == distance(*rigidMotion(fig, 3)))"
   ]
  },
  {
   "cell_type": "markdown",
   "metadata": {},
   "source": [
    "Rigid motion is a bijection of space which preserves distances between points."
   ]
  },
  {
   "cell_type": "code",
   "execution_count": 72,
   "metadata": {},
   "outputs": [
    {
     "name": "stdout",
     "output_type": "stream",
     "text": [
      "(4, 5)\n"
     ]
    }
   ],
   "source": [
    "def compositeMotion(fig, d1, d2):\n",
    "    \"\"\" Allows the composition of multiple motions. \"\"\"\n",
    "    for x in (d1, d2):\n",
    "        fig = rigidMotion(fig, x)\n",
    "    return fig\n",
    "\n",
    "print(compositeMotion(fig, 1, 2))"
   ]
  },
  {
   "cell_type": "markdown",
   "metadata": {},
   "source": [
    "The composite motion can be seen in the formula:\n",
    "\n",
    "    C = N⋅M"
   ]
  },
  {
   "cell_type": "markdown",
   "metadata": {},
   "source": [
    "## 6: Symmetry"
   ]
  },
  {
   "cell_type": "markdown",
   "metadata": {},
   "source": [
    "A definition of symmetry of a figure *F*:\n",
    "\n",
    "    a rigid motion of *F* onto itself"
   ]
  },
  {
   "cell_type": "markdown",
   "metadata": {},
   "source": [
    "There are 4 rigid motion symmetries in metric space:\n",
    "\n",
    "- vertical\n",
    "- horizontal\n",
    "- rotational\n",
    "- identity"
   ]
  },
  {
   "cell_type": "markdown",
   "metadata": {},
   "source": [
    "These permutations are the same as allowed by permutation of the algebraic polynomial:\n",
    "\n",
    "    (x1 - x2)(x3 - x4)\n",
    "    \n",
    "This suggests that there is an underlying abstract structure for this 'four group'."
   ]
  },
  {
   "cell_type": "markdown",
   "metadata": {},
   "source": [
    "There are other symmetries:\n",
    "\n",
    "- those existing for 3d objects\n",
    "- further symmetrical figures in the plane (squares, triangles, etc.)\n",
    "- frieze symmetries on infinitely extending rectangles (7 types)\n",
    "- wallpaper patterns (17 types)\n",
    "- crystallographic groups in 3 dimensions"
   ]
  },
  {
   "cell_type": "markdown",
   "metadata": {},
   "source": [
    "## 7: Transformation Groups"
   ]
  },
  {
   "cell_type": "markdown",
   "metadata": {},
   "source": [
    "*Transformations*:\n",
    "\n",
    "- a permutation of a set\n",
    "- a symmetry of a figure\n",
    "- a motion of Euclidean space"
   ]
  },
  {
   "cell_type": "code",
   "execution_count": 73,
   "metadata": {},
   "outputs": [
    {
     "name": "stdout",
     "output_type": "stream",
     "text": [
      "[2, 8, 18, 32]\n"
     ]
    }
   ],
   "source": [
    "def bijection(X, T):\n",
    "    \"\"\" Bijection of X with transformation T. \"\"\"\n",
    "    return [T(x) for x in X]\n",
    "\n",
    "def transformation(X, T):\n",
    "    \"\"\" Transformation is a bijection. \"\"\"\n",
    "    return bijection(X, T)\n",
    "\n",
    "def transformationGroup(X, G):\n",
    "    \"\"\" Applies each Transformation to X. \"\"\"\n",
    "    for T in G:\n",
    "        X = transformation(X, T)\n",
    "    return X\n",
    "\n",
    "X = [1, 2, 3, 4]\n",
    "T1 = lambda x : x * 2\n",
    "T2 = lambda x : x ** 2\n",
    "T3 = lambda x : x // 2\n",
    "G = [T1, T2, T3]\n",
    "\n",
    "print(transformationGroup(X, G))"
   ]
  },
  {
   "cell_type": "markdown",
   "metadata": {},
   "source": [
    "Other types of groups:\n",
    "\n",
    "- permutation group: transformation group on a finite set\n",
    "- symmetric group: the group of all degree n! permutations of a group)"
   ]
  },
  {
   "cell_type": "code",
   "execution_count": 74,
   "metadata": {},
   "outputs": [
    {
     "name": "stdout",
     "output_type": "stream",
     "text": [
      "Hypothetical list of vertexes: ['a', 'b', 'c', 'd']\n",
      "Labelled list of vertexes: {'a': 1, 'b': 2, 'c': 3, 'd': 4}\n",
      "Transformed shape: {'a': 4, 'b': 3, 'c': 2, 'd': 1}\n",
      "Labels read back after tranformation: [4, 3, 2, 1]\n"
     ]
    }
   ],
   "source": [
    "def label(X):\n",
    "    \"\"\" Labels the parts of a set. \"\"\"\n",
    "    labels = [x for x in range(1, len(X)+1)]\n",
    "    X = dict(zip(X, labels))\n",
    "    return X\n",
    "\n",
    "def permuteFunction(X):\n",
    "    \"\"\" Permute the values in a permutation. \"\"\"\n",
    "    labels = list(X.values())\n",
    "    labels.reverse()\n",
    "    X = dict(zip(X.keys(), labels))\n",
    "    return X\n",
    "\n",
    "def readLabels(X):\n",
    "    \"\"\" Extract the labels from a labelled set. \"\"\"\n",
    "    labels = [*X.values()]\n",
    "    return labels\n",
    "\n",
    "X = ['a', 'b', 'c', 'd']\n",
    "print(\"Hypothetical list of vertexes: \" + str(X))\n",
    "X = label(X)\n",
    "print(\"Labelled list of vertexes: \" + str(X))\n",
    "X = permuteFunction(X)\n",
    "print(\"Transformed shape: \" + str(X))\n",
    "X = readLabels(X)\n",
    "print(\"Labels read back after tranformation: \" + str(X))"
   ]
  },
  {
   "cell_type": "markdown",
   "metadata": {},
   "source": [
    "The above shows a generalization of the fact that permutations of a typical set represents the permutations of any other set of equal size; the process is related to the bijection of a set to cardinal numbers and then a comparison against another similarly sized set."
   ]
  },
  {
   "cell_type": "code",
   "execution_count": 75,
   "metadata": {},
   "outputs": [
    {
     "name": "stdout",
     "output_type": "stream",
     "text": [
      "Y is: [1, 2, 3, 4]\n",
      "Permuted Y is: [4, 3, 2, 1]\n",
      "True\n"
     ]
    }
   ],
   "source": [
    "def permuteCorrespondence(X):\n",
    "    \"\"\" Permutes the set X. \"\"\"\n",
    "    X.reverse()\n",
    "    return X\n",
    "\n",
    "Y = [1, 2, 3, 4]\n",
    "print(\"Y is: \" + str(Y))\n",
    "permutedY = permuteCorrespondence(Y)\n",
    "print(\"Permuted Y is: \" + str(permutedY))\n",
    "\n",
    "print(permutedY == readLabels(permuteFunction(label(X))))"
   ]
  },
  {
   "cell_type": "markdown",
   "metadata": {},
   "source": [
    "## 8: Groups"
   ]
  },
  {
   "cell_type": "markdown",
   "metadata": {},
   "source": [
    "A group *G* has 3 rules:\n",
    "\n",
    "- element *st* from *r*, *s*, *t* in *G* is an associative product\n",
    "- element *e* of *G* is such that *te* = *t*\n",
    "- element *t* has an inverse such that *t* x *tInverse* = *e*"
   ]
  },
  {
   "cell_type": "code",
   "execution_count": 76,
   "metadata": {},
   "outputs": [
    {
     "name": "stdout",
     "output_type": "stream",
     "text": [
      "1.7403626894942439\n",
      "1.7403626894942437\n",
      "False\n",
      "0.0\n",
      "-1.6094379124341003\n",
      "1.6094379124341003\n",
      "True\n"
     ]
    }
   ],
   "source": [
    "from math import log, log10\n",
    "\n",
    "x = 5\n",
    "y = 11\n",
    "\n",
    "# The logs below should be equal but are slightly out; must be a Python bug\n",
    "print(log10(x*y))\n",
    "print(log10(x) + log10(y))\n",
    "print(log10(x*y) == log10(x) + log10(y))\n",
    "\n",
    "print(log(1))\n",
    "\n",
    "inverseLog = log(x**-1)\n",
    "print(inverseLog)\n",
    "print(log(x))\n",
    "print(inverseLog == -log(x))"
   ]
  },
  {
   "cell_type": "markdown",
   "metadata": {},
   "source": [
    "## 9: Boolean Algebra"
   ]
  },
  {
   "cell_type": "code",
   "execution_count": 77,
   "metadata": {},
   "outputs": [
    {
     "name": "stdout",
     "output_type": "stream",
     "text": [
      "True\n",
      "True\n",
      "True\n",
      "True\n"
     ]
    }
   ],
   "source": [
    "S = set(['v', 'w', 'x'])\n",
    "T = set(['x', 'y', 'z'])\n",
    "\n",
    "# Intersection\n",
    "print(('x' in (S and T)) == ('x' in S and 'x' in T))\n",
    "\n",
    "# Union\n",
    "print(('x' in (S or T)) == ('x' in S or 'x' in T))\n",
    "\n",
    "# If Then\n",
    "print(('x' in S and 'x' in T) == ('x' in T or (not 'x' in S)))\n",
    "\n",
    "# Complement\n",
    "print(('x' not in S) == (not ('x' in S)))"
   ]
  },
  {
   "cell_type": "code",
   "execution_count": 78,
   "metadata": {},
   "outputs": [
    {
     "ename": "ModuleNotFoundError",
     "evalue": "No module named 'matplotlib_venn'",
     "output_type": "error",
     "traceback": [
      "\u001b[0;31m---------------------------------------------------------------------------\u001b[0m",
      "\u001b[0;31mModuleNotFoundError\u001b[0m                       Traceback (most recent call last)",
      "\u001b[0;32m<ipython-input-78-a185c95e9002>\u001b[0m in \u001b[0;36m<module>\u001b[0;34m\u001b[0m\n\u001b[1;32m      1\u001b[0m \u001b[0;32mimport\u001b[0m \u001b[0mmatplotlib\u001b[0m\u001b[0;34m.\u001b[0m\u001b[0mpyplot\u001b[0m \u001b[0;32mas\u001b[0m \u001b[0mplt\u001b[0m\u001b[0;34m\u001b[0m\u001b[0;34m\u001b[0m\u001b[0m\n\u001b[0;32m----> 2\u001b[0;31m \u001b[0;32mfrom\u001b[0m \u001b[0mmatplotlib_venn\u001b[0m \u001b[0;32mimport\u001b[0m \u001b[0mvenn2\u001b[0m\u001b[0;34m\u001b[0m\u001b[0;34m\u001b[0m\u001b[0m\n\u001b[0m\u001b[1;32m      3\u001b[0m \u001b[0mget_ipython\u001b[0m\u001b[0;34m(\u001b[0m\u001b[0;34m)\u001b[0m\u001b[0;34m.\u001b[0m\u001b[0mrun_line_magic\u001b[0m\u001b[0;34m(\u001b[0m\u001b[0;34m'matplotlib'\u001b[0m\u001b[0;34m,\u001b[0m \u001b[0;34m'inline'\u001b[0m\u001b[0;34m)\u001b[0m\u001b[0;34m\u001b[0m\u001b[0;34m\u001b[0m\u001b[0m\n\u001b[1;32m      4\u001b[0m \u001b[0;34m\u001b[0m\u001b[0m\n\u001b[1;32m      5\u001b[0m \u001b[0mvenn2\u001b[0m\u001b[0;34m(\u001b[0m\u001b[0;34m[\u001b[0m\u001b[0mS\u001b[0m\u001b[0;34m,\u001b[0m \u001b[0mT\u001b[0m\u001b[0;34m]\u001b[0m\u001b[0;34m)\u001b[0m\u001b[0;34m\u001b[0m\u001b[0;34m\u001b[0m\u001b[0m\n",
      "\u001b[0;31mModuleNotFoundError\u001b[0m: No module named 'matplotlib_venn'"
     ]
    }
   ],
   "source": [
    "import matplotlib.pyplot as plt\n",
    "from matplotlib_venn import venn2\n",
    "%matplotlib inline\n",
    "\n",
    "venn2([S, T])\n",
    "plt.show()"
   ]
  },
  {
   "cell_type": "code",
   "execution_count": null,
   "metadata": {},
   "outputs": [],
   "source": [
    "S = set(['a', 'b', 'c'])\n",
    "T = set(['a', 'b', 'c'])\n",
    "X = S and T\n",
    "\n",
    "# Equality of subsets\n",
    "print((S == T) == (all([x in S and x in T for x in X])))\n",
    "\n",
    "S = set(['b', 'c'])\n",
    "T = set(['a', 'b', 'c'])\n",
    "X = S and T\n",
    "\n",
    "# Inclusion of subsets\n",
    "print((S.issubset(T)) == (all([x in T for x in S])))"
   ]
  },
  {
   "cell_type": "markdown",
   "metadata": {},
   "source": [
    "## 10: Calculus, Continuity, and Topology"
   ]
  },
  {
   "cell_type": "code",
   "execution_count": null,
   "metadata": {},
   "outputs": [],
   "source": [
    "from math import sin, tan\n",
    "\n",
    "# Fix this:\n",
    "def isContinuousFunction(func, a, x, delta):\n",
    "    \"\"\" Checks whether a function is continuous.\n",
    "    \n",
    "    a = any point\n",
    "    x = an element in the series of real numbers\n",
    "    \"\"\"\n",
    "    epsilon = abs(func(a + delta))\n",
    "    if epsilon > 0:\n",
    "        if delta > 0:\n",
    "            if abs(x - a) < delta:\n",
    "                return abs(func(x) - func(a)) < epsilon\n",
    "            else:\n",
    "                return \"Delta is too low\"\n",
    "        else:\n",
    "            return \"Delta less than zero\"\n",
    "    else:\n",
    "        return \"Epsilon less than zero\"\n",
    "\n",
    "print(\"Wrong: \" + str(isContinuousFunction(sin, 3, 5, 3)))\n",
    "print(isContinuousFunction(tan, 3, 5, 3))"
   ]
  },
  {
   "cell_type": "code",
   "execution_count": null,
   "metadata": {},
   "outputs": [],
   "source": [
    "def isOpenInterval(a, x, b):\n",
    "    \"\"\" Tests whether x is within an open interval a -> b\"\"\"\n",
    "    return a < x < b\n",
    "\n",
    "print(isOpenInterval(1, 2, 3))\n",
    "print(isOpenInterval(1, 2, 2))"
   ]
  },
  {
   "cell_type": "markdown",
   "metadata": {},
   "source": [
    "## 11: Human Activity & Ideas"
   ]
  },
  {
   "cell_type": "markdown",
   "metadata": {},
   "source": [
    "Activity    | Idea | Formulation \n",
    "------------|------|-------------\n",
    "Collecting | Collection | Set (of elements)\n",
    "Counting   | Next | Sucessor; order\n",
    "-          | -    | Ordinal number\n",
    "Comparing  | Enumeration | Bijection\n",
    "-          | -           | Cardinal number\n",
    "Computing  | Combination (of nos) | Rules for addition\n",
    "- | - | Rules for multiplication\n",
    "- | - | Abelian group\n",
    "Rearranging | Permutation | Bijection\n",
    "-           | -           | Permutation group\n",
    "Timing     | Before and after | Linear order\n",
    "Observing  | Symmetry | Transformation group\n",
    "Building   | Figure; symmetry | Collection of points\n",
    "Measuring  | Distance; extent | Metric space\n",
    "Moving     | Change | Rigid motion\n",
    "-          | -      | Transformation group\n",
    "-          | -      | Rate of change\n",
    "Estimating | Approximation | Continuity\n",
    "-          | -             | Limit\n",
    "-          | Nearby | Topological space\n",
    "Selecting  | Part | Subset\n",
    "-          | -    | Boolean algebra\n",
    "Arguing    | Proof | Logical connectives\n",
    "Choosing   | Chance | Probability (favorable/total)\n",
    "Successive actions | Followed by | Composition\n",
    "-          | -      | Transformation group"
   ]
  },
  {
   "cell_type": "markdown",
   "metadata": {},
   "source": [
    "## 12: Mathematical Activities"
   ]
  },
  {
   "cell_type": "markdown",
   "metadata": {},
   "source": [
    "Following is a list of varieties of processes which may generate new ideas and new notions within Mathematics:"
   ]
  },
  {
   "cell_type": "markdown",
   "metadata": {},
   "source": [
    "- Conundrums: finding the solution of hard problems\n",
    "- Completion: a new structure emerges from operations on another: eg. natural numbres -> integers through subtraction\n",
    "- Invariance: the need to explain common structures that arise from different problems\n",
    "- Common Structure (Analogy): eg. symmetry group as commonality of 2 different symmetrical figures.\n",
    "- Intrinsic Structure: a hidden formal structure sometimes explains a fact: eg. permuation group on *n* letters always has order dividing *n*!.\n",
    "- Generalization: concrete instances to general laws (2+3=5 & 3+2=5 to x+y == y+x; or extensions of rules (from 2d / 3d geometry to *n*d\n",
    "- Abstraction: keeping a structure and its operations, without the original elements, and formulating the operations as axioms & consequences; eg. from transformation groups to abstract groups\n",
    "- Axiomatization: reduce a list of theorums on a given topic to a shorter list.\n",
    "- Analysis of Proof: finding axioms by searching for the minimum number of properties for a given proof or proofs."
   ]
  },
  {
   "cell_type": "markdown",
   "metadata": {},
   "source": [
    "## 13: Axiomatic Structure"
   ]
  },
  {
   "cell_type": "markdown",
   "metadata": {},
   "source": [
    "Following chapters indicate how axioms can describe the 3 structures:\n",
    "    \n",
    "    - number; natural number axioms\n",
    "    - space; the Euclidean plane axioms\n",
    "    - time; the real line \n",
    "    \n",
    "These structures are considered *categorical*."
   ]
  }
 ],
 "metadata": {
  "kernelspec": {
   "display_name": "Python 3.7.6 64-bit ('general': venv)",
   "language": "python",
   "name": "python37664bitgeneralvenvc2d9acb89c424f2c84cf1f305e4c11aa"
  },
  "language_info": {
   "codemirror_mode": {
    "name": "ipython",
    "version": 3
   },
   "file_extension": ".py",
   "mimetype": "text/x-python",
   "name": "python",
   "nbconvert_exporter": "python",
   "pygments_lexer": "ipython3",
   "version": "3.7.6"
  }
 },
 "nbformat": 4,
 "nbformat_minor": 4
}
