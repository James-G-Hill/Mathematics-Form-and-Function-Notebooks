{
 "cells": [
  {
   "cell_type": "markdown",
   "metadata": {},
   "source": [
    "# Maths - Form & Function: Chapter 6 (Concepts of Calculus)"
   ]
  },
  {
   "cell_type": "markdown",
   "metadata": {},
   "source": [
    "## 1. Origins"
   ]
  },
  {
   "cell_type": "markdown",
   "metadata": {},
   "source": [
    "There are a number of observations from which calculus arises:\n",
    "\n",
    "- the circumference of a circle through Euclidean geometry\n",
    "- the construction of tangents for ellipses, hyperbolas, and parabolas\n",
    "- the change of velocity of moving bodies\n",
    "- rates of change in Mathematical Economics (widget cost decreasing)"
   ]
  },
  {
   "cell_type": "markdown",
   "metadata": {},
   "source": [
    "## 2. Integration"
   ]
  },
  {
   "cell_type": "markdown",
   "metadata": {},
   "source": [
    "There are 2 readings of the definite integral:\n",
    "\n",
    "1. the width *dx* of each strip is an infinitesimal increment in *x*; the integral represents an infinite sum of infiniteismal quantities.\n",
    "\n",
    "2. the desired area is approximated by a finite sum of the ares of the rectangles of finite width."
   ]
  },
  {
   "cell_type": "markdown",
   "metadata": {},
   "source": [
    "Below we calculate the lower and upper sums and see that as the sigma (number of subdivisions of *f*) gets smaller, then those sums approach the definite integral."
   ]
  },
  {
   "cell_type": "code",
   "execution_count": 13,
   "metadata": {},
   "outputs": [
    {
     "name": "stdout",
     "output_type": "stream",
     "text": [
      "Definite integral must be between:\n",
      "Lower sum: 4600\n",
      "Upper sum: 5490\n",
      "\n",
      "Definite integral must be between:\n",
      "Lower sum: 4850\n",
      "Upper sum: 5245\n",
      "\n",
      "Definite integral must be between:\n",
      "Lower sum: 4950\n",
      "Upper sum: 4950\n",
      "\n"
     ]
    }
   ],
   "source": [
    "def calculate_integrals(f, sigma):\n",
    "    \"\"\" Calculates the integral to sigma divisions. \"\"\"\n",
    "    if sigma > 0:\n",
    "        dx = [f[x:x+sigma] for x in range(0, len(f), sigma)]\n",
    "        lower_sum = sum([min(x) * sigma for x in dx])\n",
    "        upper_sum = sum([max(x) * sigma for x in dx])\n",
    "        print(\"Definite integral must be between:\")\n",
    "        print(\"Lower sum: \" + str(lower_sum))\n",
    "        print(\"Upper sum: \" + str(upper_sum) + \"\\n\")\n",
    "    else:\n",
    "        print(\"Sigma is equal to 0.\")\n",
    "    \n",
    "f = list(range(1, 100))\n",
    "\n",
    "calculate_integrals(f, 10)\n",
    "calculate_integrals(f, 5)\n",
    "calculate_integrals(f, 1)"
   ]
  },
  {
   "cell_type": "markdown",
   "metadata": {},
   "source": [
    "## 3. Derivatives"
   ]
  },
  {
   "cell_type": "markdown",
   "metadata": {},
   "source": [
    "> The derivative of a variable quantity *y* with respect to another such quantity *x* on which it depends is to be the instantaneous rate of change of *y* relative to the change in *x*."
   ]
  },
  {
   "cell_type": "markdown",
   "metadata": {},
   "source": [
    "In the following, we see that a derivative is defined in the same manner as the limit; as the increment *h* reduces, then the derivative is more accurately defined."
   ]
  },
  {
   "cell_type": "code",
   "execution_count": 15,
   "metadata": {},
   "outputs": [
    {
     "name": "stdout",
     "output_type": "stream",
     "text": [
      "h == 5 : derivative = 0.18524193653371795\n",
      "h == 4 : derivative = 0.19098300562505255\n",
      "h == 3 : derivative = 0.19745304908213349\n",
      "h == 2 : derivative = 0.20484166678240046\n",
      "h == 1 : derivative = 0.21342176528338808\n"
     ]
    }
   ],
   "source": [
    "import math\n",
    "\n",
    "def derivative(f, x, h):\n",
    "    \"\"\" Definition of the derivative.\n",
    "    \n",
    "    f - a function.\n",
    "    x - a point on the x axis.\n",
    "    h - a quantity to add to x.\n",
    "    a - another quantity\n",
    "    \"\"\"\n",
    "    a = x\n",
    "    if h > 1:\n",
    "        for y in range(h, 0, -1):\n",
    "            dividend = f(x + y) - f(a)\n",
    "            divisor = y\n",
    "            result = dividend / divisor\n",
    "            print(\"h == \" + str(y) + \" : derivative = \" + str(result))\n",
    "    return\n",
    "\n",
    "derivative(math.sqrt, 5, 5)"
   ]
  },
  {
   "cell_type": "markdown",
   "metadata": {},
   "source": [
    "## 4. The Fundamental Theorem of the Integral Calculus"
   ]
  },
  {
   "cell_type": "code",
   "execution_count": null,
   "metadata": {},
   "outputs": [],
   "source": []
  }
 ],
 "metadata": {
  "kernelspec": {
   "display_name": "Python 3",
   "language": "python",
   "name": "python3"
  },
  "language_info": {
   "codemirror_mode": {
    "name": "ipython",
    "version": 3
   },
   "file_extension": ".py",
   "mimetype": "text/x-python",
   "name": "python",
   "nbconvert_exporter": "python",
   "pygments_lexer": "ipython3",
   "version": "3.7.3"
  }
 },
 "nbformat": 4,
 "nbformat_minor": 4
}
