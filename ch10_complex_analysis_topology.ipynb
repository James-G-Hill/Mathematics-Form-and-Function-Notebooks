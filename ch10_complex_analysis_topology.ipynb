{
 "cells": [
  {
   "cell_type": "markdown",
   "metadata": {},
   "source": [
    "# 10. Complex Analysis & Topology"
   ]
  },
  {
   "cell_type": "markdown",
   "metadata": {},
   "source": [
    "> The ... study of \"complex variables\", that is, of differentiable functions of a complex number $z$, leads to deep mathematical theorems with unexpected practical connections, for example to electrostatic potential and to the steady flow of fluids as well as to aerodynamics."
   ]
  },
  {
   "cell_type": "markdown",
   "metadata": {},
   "source": [
    "> Just as many geometric ideas first become apparent in plane geometry, so it is that basic aspects of differentiation and integration are best exemplified by the complex numbers represented in the plane."
   ]
  },
  {
   "cell_type": "markdown",
   "metadata": {},
   "source": [
    "---"
   ]
  },
  {
   "cell_type": "markdown",
   "metadata": {},
   "source": [
    "## 1. Functions of a Complex Variable"
   ]
  },
  {
   "cell_type": "code",
   "execution_count": 1,
   "metadata": {},
   "outputs": [
    {
     "name": "stdout",
     "output_type": "stream",
     "text": [
      "I\n",
      "-1\n",
      "[-I, I]\n",
      "0\n",
      "1\n"
     ]
    }
   ],
   "source": [
    "from sympy import *\n",
    "from sympy.plotting import *\n",
    "from sympy.solvers import solve\n",
    "\n",
    "x = symbols(\"x\")\n",
    "\n",
    "print(I)\n",
    "print(I**2)\n",
    "print(solve(x**2 + 1, x))\n",
    "print(re(I))\n",
    "print(im(I))"
   ]
  },
  {
   "cell_type": "code",
   "execution_count": 2,
   "metadata": {},
   "outputs": [
    {
     "data": {
      "text/latex": [
       "$\\displaystyle 3 + 2 i$"
      ],
      "text/plain": [
       "3 + 2*I"
      ]
     },
     "execution_count": 2,
     "metadata": {},
     "output_type": "execute_result"
    }
   ],
   "source": [
    "# Sum of 2 complex numbers if similar to addition on the plane\n",
    "w, z, c = symbols(\"w z c\")\n",
    "z = 1 + 1*I\n",
    "c = 2 + 1*I\n",
    "w = z + c\n",
    "w"
   ]
  },
  {
   "cell_type": "code",
   "execution_count": 3,
   "metadata": {},
   "outputs": [
    {
     "data": {
      "text/latex": [
       "$\\displaystyle 1 + 3 i$"
      ],
      "text/plain": [
       "1 + 3*I"
      ]
     },
     "execution_count": 3,
     "metadata": {},
     "output_type": "execute_result"
    }
   ],
   "source": [
    "# Use FOIL : firsts, outers, inners, lasts\n",
    "w = c * z\n",
    "simplify(w)"
   ]
  },
  {
   "cell_type": "code",
   "execution_count": 4,
   "metadata": {},
   "outputs": [
    {
     "data": {
      "text/latex": [
       "$\\displaystyle -1 + i$"
      ],
      "text/plain": [
       "-1 + I"
      ]
     },
     "execution_count": 4,
     "metadata": {},
     "output_type": "execute_result"
    }
   ],
   "source": [
    "# If the absolute length in complex plane of c = 1 then we have a roation through c\n",
    "c = 0 + I\n",
    "w = c * z\n",
    "simplify(w)"
   ]
  },
  {
   "cell_type": "code",
   "execution_count": 5,
   "metadata": {},
   "outputs": [
    {
     "data": {
      "text/latex": [
       "$\\displaystyle -1.0 - 1.0 i$"
      ],
      "text/plain": [
       "-1.0 - 1.0*I"
      ]
     },
     "execution_count": 5,
     "metadata": {},
     "output_type": "execute_result"
    }
   ],
   "source": [
    "# The arg of c is the angle which z is rotated through via multiplication\n",
    "c = cos(pi) + sin(pi)*I\n",
    "w = c * z\n",
    "N(w)"
   ]
  },
  {
   "cell_type": "code",
   "execution_count": 6,
   "metadata": {},
   "outputs": [
    {
     "data": {
      "text/latex": [
       "$\\displaystyle -1.0 + 1.0 i$"
      ],
      "text/plain": [
       "-1.0 + 1.0*I"
      ]
     },
     "execution_count": 6,
     "metadata": {},
     "output_type": "execute_result"
    }
   ],
   "source": [
    "# The arg of c is the angle which z is rotated through via multiplication\n",
    "c = cos(pi/2) + sin(pi/2)*I\n",
    "w = c * z\n",
    "N(w)"
   ]
  },
  {
   "cell_type": "code",
   "execution_count": 7,
   "metadata": {},
   "outputs": [
    {
     "name": "stdout",
     "output_type": "stream",
     "text": [
      "2\n",
      "pi/3\n",
      "4\n",
      "2*pi/3\n"
     ]
    },
    {
     "data": {
      "text/latex": [
       "$\\displaystyle -2.0 + 3.46410161513775 i$"
      ],
      "text/plain": [
       "-2.0 + 3.46410161513775*I"
      ]
     },
     "execution_count": 7,
     "metadata": {},
     "output_type": "execute_result"
    }
   ],
   "source": [
    "# Squaring squares the distance from the origin & doubles the arg\n",
    "c = (2*cos(pi/3)) + (2*sin(pi/3))*I\n",
    "print(Abs(c))\n",
    "print(arg(c))\n",
    "w = c**2\n",
    "print(Abs(w))\n",
    "print(arg(w))\n",
    "N(w)"
   ]
  },
  {
   "cell_type": "code",
   "execution_count": 8,
   "metadata": {},
   "outputs": [
    {
     "name": "stdout",
     "output_type": "stream",
     "text": [
      "4 + 6*I\n",
      "(2 + 3*I)**2\n",
      "-5.0 + 12.0*I\n"
     ]
    }
   ],
   "source": [
    "z = symbols(\"z\")\n",
    "z = 2 + 3*I\n",
    "print(z + z)\n",
    "print(z * z)\n",
    "print(N(z * z))"
   ]
  },
  {
   "cell_type": "code",
   "execution_count": 9,
   "metadata": {},
   "outputs": [
    {
     "name": "stdout",
     "output_type": "stream",
     "text": [
      "3 + 4*I\n",
      "6 + 8*I\n",
      "(3 + 4*I)**2\n",
      "-7.0 + 24.0*I\n"
     ]
    }
   ],
   "source": [
    "y = symbols(\"y\")\n",
    "y = 3 + 4*I\n",
    "print(y)\n",
    "print(y + y)\n",
    "print(y * y)\n",
    "print(N(y * y))"
   ]
  },
  {
   "cell_type": "code",
   "execution_count": 10,
   "metadata": {},
   "outputs": [
    {
     "name": "stdout",
     "output_type": "stream",
     "text": [
      "5 + 7*I\n",
      "(2 + 3*I)*(3 + 4*I)\n",
      "-6.0 + 17.0*I\n"
     ]
    }
   ],
   "source": [
    "print(y + z)\n",
    "print(y * z)\n",
    "print(N(y * z))"
   ]
  },
  {
   "cell_type": "code",
   "execution_count": 11,
   "metadata": {},
   "outputs": [
    {
     "name": "stdout",
     "output_type": "stream",
     "text": [
      "5\n",
      "sqrt(13)\n"
     ]
    }
   ],
   "source": [
    "print(Abs(y))\n",
    "print(Abs(z))"
   ]
  },
  {
   "cell_type": "code",
   "execution_count": 12,
   "metadata": {},
   "outputs": [
    {
     "data": {
      "text/latex": [
       "$\\displaystyle \\operatorname{Poly}{\\left( 44 i - 28, i, domain=\\mathbb{Z} \\right)}$"
      ],
      "text/plain": [
       "Poly(44*I - 28, I, domain='ZZ')"
      ]
     },
     "execution_count": 12,
     "metadata": {},
     "output_type": "execute_result"
    }
   ],
   "source": [
    "a0, a1, a2 = symbols(\"a0, a1, a2\")\n",
    "\n",
    "def f(z):\n",
    "    \"\"\" Returns w. \"\"\"\n",
    "    a0 = 1 + 3*I\n",
    "    a1 = 2 + 2*I\n",
    "    a2 = 3 + 1*I\n",
    "    w = a0 + (a1 * z) + (a2 * z**2)\n",
    "    return w\n",
    "\n",
    "w = f(z)\n",
    "w.as_poly()"
   ]
  },
  {
   "cell_type": "code",
   "execution_count": 13,
   "metadata": {},
   "outputs": [
    {
     "name": "stdout",
     "output_type": "stream",
     "text": [
      "-28.0 + 44.0*I\n"
     ]
    }
   ],
   "source": [
    "print(N(w))"
   ]
  },
  {
   "cell_type": "code",
   "execution_count": 14,
   "metadata": {},
   "outputs": [
    {
     "name": "stdout",
     "output_type": "stream",
     "text": [
      "2 + 3*I\n"
     ]
    },
    {
     "data": {
      "text/latex": [
       "$\\displaystyle 4 + 3 i$"
      ],
      "text/plain": [
       "4 + 3*I"
      ]
     },
     "execution_count": 14,
     "metadata": {},
     "output_type": "execute_result"
    }
   ],
   "source": [
    "c = 2\n",
    "print(z)\n",
    "z + c"
   ]
  },
  {
   "cell_type": "code",
   "execution_count": 15,
   "metadata": {},
   "outputs": [
    {
     "data": {
      "text/latex": [
       "$\\displaystyle -5.0 + 12.0 i$"
      ],
      "text/plain": [
       "-5.0 + 12.0*I"
      ]
     },
     "execution_count": 15,
     "metadata": {},
     "output_type": "execute_result"
    }
   ],
   "source": [
    "N(z**2)"
   ]
  },
  {
   "cell_type": "code",
   "execution_count": 16,
   "metadata": {},
   "outputs": [
    {
     "name": "stdout",
     "output_type": "stream",
     "text": [
      "True\n"
     ]
    },
    {
     "data": {
      "image/png": "[encoded data removed]",
      "text/plain": [
       "<Figure size 432x288 with 1 Axes>"
      ]
     },
     "metadata": {
      "needs_background": "light"
     },
     "output_type": "display_data"
    }
   ],
   "source": [
    "import matplotlib.pyplot as plt\n",
    "\n",
    "a, b, c, d = symbols(\"a b c d\")\n",
    "a = 2 + 2*I\n",
    "b = 1 + 3*I\n",
    "c = 3 + 2*I\n",
    "d = 2 + 2*I\n",
    "\n",
    "print((a * d) - (b * c) != 0)\n",
    "\n",
    "def f(z):\n",
    "    return a * z + b\n",
    "\n",
    "mn = [N(f(x + 2*I)) for x in range(-10, 10)]\n",
    "mn = [(re(x), im(x)) for x in mn]\n",
    "m, n = zip(*mn)\n",
    "\n",
    "plt.plot(m, n)\n",
    "plt.show()"
   ]
  },
  {
   "cell_type": "code",
   "execution_count": 17,
   "metadata": {},
   "outputs": [
    {
     "data": {
      "image/png": "[encoded data removed]",
      "text/plain": [
       "<Figure size 432x288 with 1 Axes>"
      ]
     },
     "metadata": {
      "needs_background": "light"
     },
     "output_type": "display_data"
    }
   ],
   "source": [
    "def g(z):\n",
    "    return c * z + d\n",
    "\n",
    "mn = [N(g(x + 2*I)) for x in range(-10, 10)]\n",
    "mn = [(re(x), im(x)) for x in mn]\n",
    "m, n = zip(*mn)\n",
    "\n",
    "plt.plot(m, n)\n",
    "plt.show()"
   ]
  },
  {
   "cell_type": "code",
   "execution_count": 18,
   "metadata": {},
   "outputs": [
    {
     "data": {
      "image/png": "[encoded data removed]",
      "text/plain": [
       "<Figure size 432x288 with 1 Axes>"
      ]
     },
     "metadata": {
      "needs_background": "light"
     },
     "output_type": "display_data"
    }
   ],
   "source": [
    "# Fractional linear transformation of the z-plane to itself\n",
    "mn = [N(f(x + 3*I) / g(x + 3*I)) for x in range(-100, 100)]\n",
    "mn = [(re(x), im(x)) for x in mn]\n",
    "m, n = zip(*mn)\n",
    "\n",
    "ac_point = N(a/c)\n",
    "zero_point = N(d/c)\n",
    "\n",
    "plt.plot(re(zero_point), im(zero_point), 'ro')\n",
    "plt.plot(re(ac_point), im(ac_point), 'bx')\n",
    "plt.plot(m, n)\n",
    "plt.show()"
   ]
  },
  {
   "cell_type": "code",
   "execution_count": 19,
   "metadata": {},
   "outputs": [
    {
     "name": "stdout",
     "output_type": "stream",
     "text": [
      "2.71828182845905\n"
     ]
    },
    {
     "data": {
      "text/latex": [
       "$\\displaystyle 1.0$"
      ],
      "text/plain": [
       "1.00000000000000"
      ]
     },
     "execution_count": 19,
     "metadata": {},
     "output_type": "execute_result"
    }
   ],
   "source": [
    "print(N(E))\n",
    "N(E**0)"
   ]
  },
  {
   "cell_type": "code",
   "execution_count": 20,
   "metadata": {},
   "outputs": [
    {
     "data": {
      "text/plain": [
       "True"
      ]
     },
     "execution_count": 20,
     "metadata": {},
     "output_type": "execute_result"
    }
   ],
   "source": [
    "c = 2\n",
    "d = 3\n",
    "E**(c + d) == E**c * E**d"
   ]
  },
  {
   "cell_type": "code",
   "execution_count": 21,
   "metadata": {},
   "outputs": [
    {
     "name": "stdout",
     "output_type": "stream",
     "text": [
      "3 + 4*I\n",
      "exp(3 + 4*I)\n",
      "-13.1287830814622 - 15.200784463068*I\n",
      "-13.1287830814622 - 15.200784463068*I\n"
     ]
    },
    {
     "data": {
      "text/latex": [
       "$\\displaystyle \\left(\\cos{\\left(4 \\right)} + i \\sin{\\left(4 \\right)}\\right) e^{3}$"
      ],
      "text/plain": [
       "(cos(4) + I*sin(4))*exp(3)"
      ]
     },
     "execution_count": 21,
     "metadata": {},
     "output_type": "execute_result"
    }
   ],
   "source": [
    "print(y)\n",
    "print(E**y)\n",
    "print(N(E**y))\n",
    "print(N(E**(re(y)) * (cos(im(y)) + I * sin(im(y)))))\n",
    "E**(re(y)) * (cos(im(y)) + I * sin(im(y)))"
   ]
  },
  {
   "cell_type": "code",
   "execution_count": 22,
   "metadata": {},
   "outputs": [
    {
     "data": {
      "image/png": "[encoded data removed]",
      "text/plain": [
       "<Figure size 432x288 with 1 Axes>"
      ]
     },
     "metadata": {
      "needs_background": "light"
     },
     "output_type": "display_data"
    },
    {
     "data": {
      "text/plain": [
       "<sympy.plotting.plot.Plot at 0x7f57f7801610>"
      ]
     },
     "execution_count": 22,
     "metadata": {},
     "output_type": "execute_result"
    }
   ],
   "source": [
    "x = symbols(\"x\")\n",
    "plot(E**x)"
   ]
  },
  {
   "cell_type": "code",
   "execution_count": 23,
   "metadata": {},
   "outputs": [
    {
     "data": {
      "image/png": "[encoded data removed]",
      "text/plain": [
       "<Figure size 432x288 with 1 Axes>"
      ]
     },
     "metadata": {
      "needs_background": "light"
     },
     "output_type": "display_data"
    },
    {
     "data": {
      "text/plain": [
       "<sympy.plotting.plot.Plot at 0x7f580b07e150>"
      ]
     },
     "execution_count": 23,
     "metadata": {},
     "output_type": "execute_result"
    }
   ],
   "source": [
    "plot(log(x))"
   ]
  },
  {
   "cell_type": "code",
   "execution_count": 24,
   "metadata": {},
   "outputs": [
    {
     "data": {
      "image/png": "[encoded data removed]",
      "text/plain": [
       "<Figure size 432x288 with 1 Axes>"
      ]
     },
     "metadata": {
      "needs_background": "light"
     },
     "output_type": "display_data"
    },
    {
     "data": {
      "text/plain": [
       "<sympy.plotting.plot.Plot at 0x7f57f70c15d0>"
      ]
     },
     "execution_count": 24,
     "metadata": {},
     "output_type": "execute_result"
    }
   ],
   "source": [
    "x, y = symbols(\"x y\")\n",
    "plot_implicit(Eq((E**x) * (E**y), 1))"
   ]
  },
  {
   "cell_type": "code",
   "execution_count": 25,
   "metadata": {},
   "outputs": [
    {
     "data": {
      "text/latex": [
       "$\\displaystyle \\text{True}$"
      ],
      "text/plain": [
       "True"
      ]
     },
     "execution_count": 25,
     "metadata": {},
     "output_type": "execute_result"
    }
   ],
   "source": [
    "z = 2 + I\n",
    "N(Eq(z, Abs(z) * E**(I * arg(z))))"
   ]
  },
  {
   "cell_type": "code",
   "execution_count": 26,
   "metadata": {},
   "outputs": [
    {
     "data": {
      "text/latex": [
       "$\\displaystyle \\text{True}$"
      ],
      "text/plain": [
       "True"
      ]
     },
     "execution_count": 26,
     "metadata": {},
     "output_type": "execute_result"
    }
   ],
   "source": [
    "Eq(1, E ** (2 * pi * I))"
   ]
  },
  {
   "cell_type": "code",
   "execution_count": 27,
   "metadata": {},
   "outputs": [
    {
     "data": {
      "text/latex": [
       "$\\displaystyle \\left(1 + i\\right)^{2 + i} = 2 i e^{- \\frac{\\pi}{4} + \\frac{i \\log{\\left(2 \\right)}}{2}}$"
      ],
      "text/plain": [
       "Eq((1 + I)**(2 + I), 2*I*exp(-pi/4 + I*log(2)/2))"
      ]
     },
     "execution_count": 27,
     "metadata": {},
     "output_type": "execute_result"
    }
   ],
   "source": [
    "c = symbols(\"c\")\n",
    "c = 1 + I\n",
    "simplify(Eq(c**z, E**(z * ln(c))))"
   ]
  },
  {
   "cell_type": "markdown",
   "metadata": {},
   "source": [
    "> ... we do have the remarkable obvservation that the geometric representation of complex numbers *and* the basic facts of trigonometry combine to replace the real variable $x$  by a complex variable in the functions $e^x$, $\\cos x$, $\\sin x$, and $\\log x$. Analysis, geometry, and trigonometry have intertwined in a fashion which becomes clear only when we use complex numbers."
   ]
  },
  {
   "cell_type": "markdown",
   "metadata": {},
   "source": [
    "---"
   ]
  },
  {
   "cell_type": "markdown",
   "metadata": {},
   "source": [
    "## 2. Pathological Functions"
   ]
  },
  {
   "cell_type": "code",
   "execution_count": 28,
   "metadata": {},
   "outputs": [
    {
     "data": {
      "image/png": "[encoded data removed]",
      "text/plain": [
       "<Figure size 432x288 with 1 Axes>"
      ]
     },
     "metadata": {
      "needs_background": "light"
     },
     "output_type": "display_data"
    },
    {
     "data": {
      "text/plain": [
       "<sympy.plotting.plot.Plot at 0x7f57f77e4e90>"
      ]
     },
     "execution_count": 28,
     "metadata": {},
     "output_type": "execute_result"
    }
   ],
   "source": [
    "plot(x * sin((2 * pi) / x), (x, -20, 20))"
   ]
  },
  {
   "cell_type": "code",
   "execution_count": 30,
   "metadata": {},
   "outputs": [
    {
     "data": {
      "text/latex": [
       "$\\displaystyle \\sum_{n=1}^{\\infty} 4^{- n} \\sin{\\left(110^{n} x \\right)}$"
      ],
      "text/plain": [
       "Sum(4**(-n)*sin(110**n*x), (n, 1, oo))"
      ]
     },
     "execution_count": 30,
     "metadata": {},
     "output_type": "execute_result"
    }
   ],
   "source": [
    "n = symbols(\"n\")\n",
    "Sum(4**(-n) * sin(110**n * x), (n, 1, oo))"
   ]
  },
  {
   "cell_type": "code",
   "execution_count": 32,
   "metadata": {},
   "outputs": [
    {
     "data": {
      "image/png": "[encoded data removed]",
      "text/plain": [
       "<Figure size 432x288 with 1 Axes>"
      ]
     },
     "metadata": {
      "needs_background": "light"
     },
     "output_type": "display_data"
    },
    {
     "data": {
      "text/plain": [
       "<sympy.plotting.plot.Plot at 0x7f57f77e43d0>"
      ]
     },
     "execution_count": 32,
     "metadata": {},
     "output_type": "execute_result"
    }
   ],
   "source": [
    "plot(E**(-1 / x**2))"
   ]
  },
  {
   "cell_type": "code",
   "execution_count": 43,
   "metadata": {},
   "outputs": [
    {
     "data": {
      "image/png": "[encoded data removed]",
      "text/plain": [
       "<Figure size 432x288 with 1 Axes>"
      ]
     },
     "metadata": {
      "needs_background": "light"
     },
     "output_type": "display_data"
    },
    {
     "data": {
      "text/plain": [
       "<sympy.plotting.plot.Plot at 0x7f57f687bad0>"
      ]
     },
     "execution_count": 43,
     "metadata": {},
     "output_type": "execute_result"
    }
   ],
   "source": [
    "plot(1 / (1 - x))"
   ]
  },
  {
   "cell_type": "markdown",
   "metadata": {},
   "source": [
    "> ... all these \"correct\" formal definitions which make calculus work rigorously & well also reveal all manner of pathological phenomena. In general, a formal definition of an intuitive idea such as the idea of \"continuity\" may easily lead to counter-intuitive results. The formal is only imperfectly linked to the intuitive."
   ]
  },
  {
   "cell_type": "markdown",
   "metadata": {},
   "source": [
    "---"
   ]
  },
  {
   "cell_type": "markdown",
   "metadata": {},
   "source": [
    "## 3. Complex Derivatives"
   ]
  },
  {
   "cell_type": "code",
   "execution_count": null,
   "metadata": {},
   "outputs": [],
   "source": []
  }
 ],
 "metadata": {
  "kernelspec": {
   "display_name": "Python 3.7.6 64-bit ('general': venv)",
   "language": "python",
   "name": "python37664bitgeneralvenvc2d9acb89c424f2c84cf1f305e4c11aa"
  },
  "language_info": {
   "codemirror_mode": {
    "name": "ipython",
    "version": 3
   },
   "file_extension": ".py",
   "mimetype": "text/x-python",
   "name": "python",
   "nbconvert_exporter": "python",
   "pygments_lexer": "ipython3",
   "version": "3.7.6"
  }
 },
 "nbformat": 4,
 "nbformat_minor": 4
}
