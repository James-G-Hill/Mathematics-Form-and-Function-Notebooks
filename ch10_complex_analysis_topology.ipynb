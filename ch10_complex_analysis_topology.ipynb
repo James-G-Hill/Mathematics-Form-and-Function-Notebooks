{
 "cells": [
  {
   "cell_type": "markdown",
   "metadata": {},
   "source": [
    "# 10. Complex Analysis & Topology"
   ]
  },
  {
   "cell_type": "markdown",
   "metadata": {},
   "source": [
    "> The ... study of \"complex variables\", that is, of differentiable functions of a complex number $z$, leads to deep mathematical theorems with unexpected practical connections, for example to electrostatic potential and to the steady flow of fluids as well as to aerodynamics."
   ]
  },
  {
   "cell_type": "markdown",
   "metadata": {},
   "source": [
    "> Just as many geometric ideas first become apparent in plane geometry, so it is that basic aspects of differentiation and integration are best exemplified by the complex numbers represented in the plane."
   ]
  },
  {
   "cell_type": "markdown",
   "metadata": {},
   "source": [
    "---"
   ]
  },
  {
   "cell_type": "markdown",
   "metadata": {},
   "source": [
    "## 1. Functions of a Complex Variable"
   ]
  },
  {
   "cell_type": "code",
   "execution_count": 1,
   "metadata": {},
   "outputs": [
    {
     "name": "stdout",
     "output_type": "stream",
     "text": [
      "I\n",
      "-1\n",
      "[-I, I]\n"
     ]
    }
   ],
   "source": [
    "from sympy import *\n",
    "from sympy.solvers import solve\n",
    "\n",
    "x = symbols(\"x\")\n",
    "\n",
    "print(I)\n",
    "print(I**2)\n",
    "print(solve(x**2 + 1, x))"
   ]
  },
  {
   "cell_type": "code",
   "execution_count": 2,
   "metadata": {},
   "outputs": [
    {
     "name": "stdout",
     "output_type": "stream",
     "text": [
      "0\n",
      "1\n"
     ]
    }
   ],
   "source": [
    "from sympy import im, re\n",
    "\n",
    "print(re(I))\n",
    "print(im(I))"
   ]
  },
  {
   "cell_type": "code",
   "execution_count": 3,
   "metadata": {},
   "outputs": [
    {
     "name": "stdout",
     "output_type": "stream",
     "text": [
      "2 + 3*I\n",
      "4 + 6*I\n",
      "(2 + 3*I)**2\n",
      "-5.0 + 12.0*I\n"
     ]
    }
   ],
   "source": [
    "z = symbols(\"z\")\n",
    "z = 2 + 3*I\n",
    "print(z)\n",
    "print(z + z)\n",
    "print(z * z)\n",
    "print(N(z * z))"
   ]
  },
  {
   "cell_type": "code",
   "execution_count": 4,
   "metadata": {},
   "outputs": [
    {
     "name": "stdout",
     "output_type": "stream",
     "text": [
      "3 + 4*I\n",
      "6 + 8*I\n",
      "(3 + 4*I)**2\n",
      "-7.0 + 24.0*I\n"
     ]
    }
   ],
   "source": [
    "y = symbols(\"y\")\n",
    "y = 3 + 4*I\n",
    "print(y)\n",
    "print(y + y)\n",
    "print(y * y)\n",
    "print(N(y * y))"
   ]
  },
  {
   "cell_type": "code",
   "execution_count": 5,
   "metadata": {},
   "outputs": [
    {
     "name": "stdout",
     "output_type": "stream",
     "text": [
      "5 + 7*I\n",
      "(2 + 3*I)*(3 + 4*I)\n",
      "-6.0 + 17.0*I\n"
     ]
    }
   ],
   "source": [
    "print(y + z)\n",
    "print(y * z)\n",
    "print(N(y * z))"
   ]
  },
  {
   "cell_type": "code",
   "execution_count": 6,
   "metadata": {},
   "outputs": [
    {
     "name": "stdout",
     "output_type": "stream",
     "text": [
      "5\n",
      "sqrt(13)\n"
     ]
    }
   ],
   "source": [
    "print(Abs(y))\n",
    "print(Abs(z))"
   ]
  },
  {
   "cell_type": "code",
   "execution_count": 7,
   "metadata": {},
   "outputs": [
    {
     "data": {
      "text/latex": [
       "$\\displaystyle \\operatorname{Poly}{\\left( 44 i - 28, i, domain=\\mathbb{Z} \\right)}$"
      ],
      "text/plain": [
       "Poly(44*I - 28, I, domain='ZZ')"
      ]
     },
     "execution_count": 7,
     "metadata": {},
     "output_type": "execute_result"
    }
   ],
   "source": [
    "a0, a1, a2 = symbols(\"a0, a1, a2\")\n",
    "\n",
    "def f(z):\n",
    "    \"\"\" Returns w. \"\"\"\n",
    "    a0 = 1 + 3*I\n",
    "    a1 = 2 + 2*I\n",
    "    a2 = 3 + 1*I\n",
    "    w = a0 + (a1 * z) + (a2 * z**2)\n",
    "    return w\n",
    "\n",
    "w = f(z)\n",
    "w.as_poly()"
   ]
  },
  {
   "cell_type": "code",
   "execution_count": 8,
   "metadata": {},
   "outputs": [
    {
     "name": "stdout",
     "output_type": "stream",
     "text": [
      "-28.0 + 44.0*I\n"
     ]
    }
   ],
   "source": [
    "print(N(w))"
   ]
  },
  {
   "cell_type": "code",
   "execution_count": 9,
   "metadata": {},
   "outputs": [
    {
     "name": "stdout",
     "output_type": "stream",
     "text": [
      "2 + 3*I\n"
     ]
    },
    {
     "data": {
      "text/latex": [
       "$\\displaystyle 4 + 3 i$"
      ],
      "text/plain": [
       "4 + 3*I"
      ]
     },
     "execution_count": 9,
     "metadata": {},
     "output_type": "execute_result"
    }
   ],
   "source": [
    "c = 2\n",
    "print(z)\n",
    "z + c"
   ]
  },
  {
   "cell_type": "code",
   "execution_count": 10,
   "metadata": {},
   "outputs": [
    {
     "data": {
      "text/latex": [
       "$\\displaystyle -5.0 + 12.0 i$"
      ],
      "text/plain": [
       "-5.0 + 12.0*I"
      ]
     },
     "execution_count": 10,
     "metadata": {},
     "output_type": "execute_result"
    }
   ],
   "source": [
    "N(z**2)"
   ]
  },
  {
   "cell_type": "code",
   "execution_count": 11,
   "metadata": {},
   "outputs": [
    {
     "name": "stdout",
     "output_type": "stream",
     "text": [
      "sqrt(13)\n",
      "13\n"
     ]
    }
   ],
   "source": [
    "print(Abs(z))\n",
    "print(Abs(z**2))"
   ]
  },
  {
   "cell_type": "code",
   "execution_count": 12,
   "metadata": {},
   "outputs": [
    {
     "name": "stdout",
     "output_type": "stream",
     "text": [
      "0.982793723247329\n",
      "1.96558744649466\n"
     ]
    }
   ],
   "source": [
    "print(N(arg(z)))\n",
    "print(N(arg(z**2)))"
   ]
  },
  {
   "cell_type": "code",
   "execution_count": 13,
   "metadata": {},
   "outputs": [
    {
     "data": {
      "image/png": "[encoded data removed]",
      "text/plain": [
       "<Figure size 432x288 with 1 Axes>"
      ]
     },
     "metadata": {
      "needs_background": "light"
     },
     "output_type": "display_data"
    }
   ],
   "source": [
    "import matplotlib.pyplot as plt\n",
    "\n",
    "kl = [N(x + 2*I) for x in range(-10, 10)]\n",
    "kl = [(re(x), im(x)) for x in kl]\n",
    "k, l = zip(*kl)\n",
    "\n",
    "mn = [N(f(x + 2*I)) for x in range(-10, 10)]\n",
    "mn = [(re(x), im(x)) for x in mn]\n",
    "m, n = zip(*mn)\n",
    "\n",
    "plt.plot(m, n)\n",
    "plt.plot(k, l)\n",
    "plt.show()"
   ]
  },
  {
   "cell_type": "code",
   "execution_count": 14,
   "metadata": {},
   "outputs": [
    {
     "name": "stdout",
     "output_type": "stream",
     "text": [
      "2.71828182845905\n"
     ]
    },
    {
     "data": {
      "text/latex": [
       "$\\displaystyle 1.0$"
      ],
      "text/plain": [
       "1.00000000000000"
      ]
     },
     "execution_count": 14,
     "metadata": {},
     "output_type": "execute_result"
    }
   ],
   "source": [
    "print(N(E))\n",
    "N(E**0)"
   ]
  },
  {
   "cell_type": "code",
   "execution_count": 15,
   "metadata": {},
   "outputs": [
    {
     "data": {
      "text/plain": [
       "True"
      ]
     },
     "execution_count": 15,
     "metadata": {},
     "output_type": "execute_result"
    }
   ],
   "source": [
    "c = 2\n",
    "d = 3\n",
    "E**(c + d) == E**c * E**d"
   ]
  },
  {
   "cell_type": "code",
   "execution_count": 26,
   "metadata": {},
   "outputs": [
    {
     "name": "stdout",
     "output_type": "stream",
     "text": [
      "3 + 4*I\n",
      "exp(3 + 4*I)\n",
      "-13.1287830814622 - 15.200784463068*I\n",
      "-13.1287830814622 - 15.200784463068*I\n"
     ]
    },
    {
     "data": {
      "text/latex": [
       "$\\displaystyle \\left(\\cos{\\left(4 \\right)} + i \\sin{\\left(4 \\right)}\\right) e^{3}$"
      ],
      "text/plain": [
       "(cos(4) + I*sin(4))*exp(3)"
      ]
     },
     "execution_count": 26,
     "metadata": {},
     "output_type": "execute_result"
    }
   ],
   "source": [
    "print(y)\n",
    "print(E**y)\n",
    "print(N(E**y))\n",
    "print(N(E**(re(y)) * (cos(im(y)) + I * sin(im(y)))))\n",
    "E**(re(y)) * (cos(im(y)) + I * sin(im(y)))"
   ]
  },
  {
   "cell_type": "code",
   "execution_count": null,
   "metadata": {},
   "outputs": [],
   "source": []
  }
 ],
 "metadata": {
  "kernelspec": {
   "display_name": "Python 3.7.6 64-bit ('general': venv)",
   "language": "python",
   "name": "python37664bitgeneralvenvc2d9acb89c424f2c84cf1f305e4c11aa"
  },
  "language_info": {
   "codemirror_mode": {
    "name": "ipython",
    "version": 3
   },
   "file_extension": ".py",
   "mimetype": "text/x-python",
   "name": "python",
   "nbconvert_exporter": "python",
   "pygments_lexer": "ipython3",
   "version": "3.7.6"
  }
 },
 "nbformat": 4,
 "nbformat_minor": 4
}
