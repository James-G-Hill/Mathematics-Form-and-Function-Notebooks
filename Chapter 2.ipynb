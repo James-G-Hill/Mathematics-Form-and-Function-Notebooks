{
 "cells": [
  {
   "cell_type": "markdown",
   "metadata": {},
   "source": [
    "# Maths - Form & Function: Chapter 2"
   ]
  },
  {
   "cell_type": "markdown",
   "metadata": {},
   "source": [
    "## 1. Properties of Natural Numbers"
   ]
  },
  {
   "cell_type": "markdown",
   "metadata": {},
   "source": [
    "The natural numbers arise from:\n",
    "\n",
    "- listing\n",
    "- counting\n",
    "- comparing"
   ]
  },
  {
   "cell_type": "code",
   "execution_count": 1,
   "metadata": {},
   "outputs": [
    {
     "name": "stdout",
     "output_type": "stream",
     "text": [
      "Addition Zero Law: True\n",
      "Commutative addition: True\n",
      "Associative addition: True\n",
      "Multiplication Zero Law: True\n",
      "Commutative multiplication: True\n",
      "Associative multiplication: True\n"
     ]
    }
   ],
   "source": [
    "from operator import add, mul\n",
    "\n",
    "def additionZeroLaw(m):\n",
    "    \"\"\" Adding zero to a value doesn't change it. \"\"\"\n",
    "    return m + 0 == m\n",
    "\n",
    "def multiplicationZeroLaw(m):\n",
    "    \"\"\" Multiplying a number by zero gives zero. \"\"\"\n",
    "    return m * 0 == 0\n",
    "\n",
    "def commutativeLaw(o, m, n):\n",
    "    \"\"\" Swapping the order of numbers gives the same result. \"\"\"\n",
    "    if o == add or o == mul:\n",
    "        return o(m, n) == o(n, m)\n",
    "    else:\n",
    "        return False\n",
    "\n",
    "def associativeLaw(o, k, m, n):\n",
    "    \"\"\" The order of calculation doesn't affect the result. \"\"\"\n",
    "    if o == add or o == mul:\n",
    "        x = o(k, o(m, n))\n",
    "        y = o(o(k, m), n)\n",
    "        return x == y\n",
    "    else:\n",
    "        return False\n",
    "\n",
    "k, m, n = 2, 3, 4\n",
    "\n",
    "print(\"Addition Zero Law: \" + str(additionZeroLaw(k)))\n",
    "print(\"Commutative addition: \" + str(commutativeLaw(add, k, m)))\n",
    "print(\"Associative addition: \" + str(associativeLaw(add, k, m, n)))\n",
    "\n",
    "print(\"Multiplication Zero Law: \" + str(multiplicationZeroLaw(k)))\n",
    "print(\"Commutative multiplication: \" + str(commutativeLaw(mul, k, m)))\n",
    "print(\"Associative multiplication: \" + str(associativeLaw(mul, k, m, n)))"
   ]
  },
  {
   "cell_type": "code",
   "execution_count": 2,
   "metadata": {},
   "outputs": [
    {
     "name": "stdout",
     "output_type": "stream",
     "text": [
      "Distributive law: True\n"
     ]
    }
   ],
   "source": [
    "k, m, n = 2, 3, 4\n",
    "\n",
    "def distributiveLaw(k, m, n):\n",
    "    \"\"\" Multiplying a sum is equivalent to multiplying separately. \"\"\"\n",
    "    x = mul(k, add(m, n))\n",
    "    y = add(mul(k, m), mul(k, n))\n",
    "    return x == y\n",
    "\n",
    "print(\"Distributive law: \" + str(distributiveLaw(k, m, n)))"
   ]
  },
  {
   "cell_type": "code",
   "execution_count": 3,
   "metadata": {},
   "outputs": [
    {
     "name": "stdout",
     "output_type": "stream",
     "text": [
      "Squares divided by 4 taking 1: True\n",
      "Squares divided by 4 taking 2: True\n",
      "Squares divided by 4 taking 3: True\n",
      "Squares divided by 4 taking 4: True\n"
     ]
    }
   ],
   "source": [
    "def squaresDividedBy4(k):\n",
    "    \"\"\" Any square divided by 4 leaves remaineder 0 or 1. \"\"\"\n",
    "    x = (k**2) % 4\n",
    "    return x == 0 or x == 1\n",
    "\n",
    "print(\"Squares divided by 4 taking 1: \" +str(squaresDividedBy4(1)))\n",
    "print(\"Squares divided by 4 taking 2: \" +str(squaresDividedBy4(2)))\n",
    "print(\"Squares divided by 4 taking 3: \" +str(squaresDividedBy4(3)))\n",
    "print(\"Squares divided by 4 taking 4: \" +str(squaresDividedBy4(4)))"
   ]
  },
  {
   "cell_type": "markdown",
   "metadata": {},
   "source": [
    "# 2. The Peano Postulates"
   ]
  },
  {
   "cell_type": "markdown",
   "metadata": {},
   "source": [
    "The Peano postulates emerge from the fact that both addition and multiplication can be described in terms of the number 0 & the single operation \"add 1\"; the postulates are the folowing axioms on that single operation:"
   ]
  },
  {
   "cell_type": "markdown",
   "metadata": {},
   "source": [
    "1. 0 is a number\n",
    "2. if *n* is a number, so is its successor *sn*\n",
    "3. 0 is not a successor (*sn* is never 0)\n",
    "4. 2 numbers *n*, *m* with the same successor are equal\n",
    "5. Let *P* be a property of natural numbers; if 0 has *P* & *sn* has *P* where *n* does, then *P* holds for all natural numbers."
   ]
  },
  {
   "cell_type": "code",
   "execution_count": 4,
   "metadata": {},
   "outputs": [],
   "source": [
    "def successor(_, n):\n",
    "    \"\"\" Returns the natural number successor. \"\"\"\n",
    "    return n + 1\n",
    "\n",
    "def recursiveAddition(k, sn):\n",
    "    \"\"\" Recursively adds using successor. \"\"\"\n",
    "    a = k\n",
    "    return recursionTheorem(k, sn, a, successor)\n",
    "\n",
    "def recursiveMultiplication(k, sn):\n",
    "    \"\"\" Recursively multiplies using recursiveAddition. \"\"\"\n",
    "    a = 0\n",
    "    return recursionTheorem(k, sn, a, recursiveAddition)\n",
    "    \n",
    "def recursiveExponentiation(k, sn):\n",
    "    \"\"\" Recursively exonentiates using recursiveMultiplication. \"\"\"\n",
    "    a = 1\n",
    "    return recursionTheorem(k, sn, a, recursiveMultiplication)\n",
    "\n",
    "def recursionTheorem(k, sn, a, g):\n",
    "    \"\"\" The recursive basis for the peano postulate recursive definitions. \"\"\"\n",
    "    if sn == 0:\n",
    "        return a\n",
    "    else:\n",
    "        n = sn - 1\n",
    "        return g(k, recursionTheorem(k, n, a, g))"
   ]
  },
  {
   "cell_type": "markdown",
   "metadata": {},
   "source": [
    "Demonstration of recursive functions where *n* > 0:"
   ]
  },
  {
   "cell_type": "code",
   "execution_count": 5,
   "metadata": {},
   "outputs": [
    {
     "name": "stdout",
     "output_type": "stream",
     "text": [
      "13\n",
      "30\n",
      "1000\n"
     ]
    }
   ],
   "source": [
    "k, n = 10, 3\n",
    "print(recursiveAddition(k, n))\n",
    "print(recursiveMultiplication(k, n))\n",
    "print(recursiveExponentiation(k, n))"
   ]
  },
  {
   "cell_type": "markdown",
   "metadata": {},
   "source": [
    "Demonstration of recursive functions where *n* = 0:"
   ]
  },
  {
   "cell_type": "code",
   "execution_count": 6,
   "metadata": {},
   "outputs": [
    {
     "name": "stdout",
     "output_type": "stream",
     "text": [
      "10\n",
      "0\n",
      "1\n"
     ]
    }
   ],
   "source": [
    "k, n = 10, 0\n",
    "print(recursiveAddition(k, n))\n",
    "print(recursiveMultiplication(k, n))\n",
    "print(recursiveExponentiation(k, n))"
   ]
  },
  {
   "cell_type": "markdown",
   "metadata": {},
   "source": [
    "**Recursion Theorem**\n",
    "\n",
    "*If X is a set, a an object of X and g: X -> X a function, then there is a unique function f: N -> X with*\n",
    "\n",
    "    f(0) = a,    f(sm) = g(fm),\n",
    "    \n",
    "*the latter for all natural numbers m.*"
   ]
  },
  {
   "cell_type": "markdown",
   "metadata": {},
   "source": [
    "**Uniqueness Theorem**\n",
    "\n",
    "*The set-theoretic Peano postulates determine the collection **N** of natural numbers uniquely, up to an isomorphism of the structure given by 0 and successor.*"
   ]
  },
  {
   "cell_type": "markdown",
   "metadata": {},
   "source": [
    "## 3. Natural Numbers Described by Recursion"
   ]
  },
  {
   "cell_type": "markdown",
   "metadata": {},
   "source": [
    "General Point: the axioms needed to describe a Mathematical structure are themselves by no means unique. The recursion theorum for example is a convenient form of axiom."
   ]
  },
  {
   "cell_type": "markdown",
   "metadata": {},
   "source": [
    "## 4. Number Theory"
   ]
  },
  {
   "cell_type": "code",
   "execution_count": 7,
   "metadata": {},
   "outputs": [
    {
     "name": "stdout",
     "output_type": "stream",
     "text": [
      "True\n",
      "True\n",
      "True\n"
     ]
    }
   ],
   "source": [
    "def divisionAlgorithm(m, n):\n",
    "    \"\"\" Shows the equality of division & it's reverse. \"\"\"\n",
    "    quotient = m // n\n",
    "    remainder = m % n\n",
    "    return m == n * quotient + remainder\n",
    "\n",
    "print(divisionAlgorithm(5, 2))\n",
    "print(divisionAlgorithm(10, 3))\n",
    "print(divisionAlgorithm(20, 4))"
   ]
  },
  {
   "cell_type": "markdown",
   "metadata": {},
   "source": [
    "Unique Factorization Theorum:\n",
    "\n",
    "Every number *n* can be factored into a product of primes (though some may be repeated).\n",
    "\n",
    "- Primes: numbers divided only by themselves & 1\n",
    "- Factored: repeatedly divided down to numbers whose product is the original\n",
    "- Prime Factorization: factorization down to prime numbers only"
   ]
  },
  {
   "cell_type": "markdown",
   "metadata": {},
   "source": [
    "## 5. Integers"
   ]
  },
  {
   "cell_type": "code",
   "execution_count": 8,
   "metadata": {},
   "outputs": [
    {
     "name": "stdout",
     "output_type": "stream",
     "text": [
      "True\n",
      "True\n"
     ]
    }
   ],
   "source": [
    "def naturalNumberAdditionWithOneNegative(n, m):\n",
    "    \"\"\" Checks the rules of addition of natural numbers with 1 negative. \"\"\"\n",
    "    if n >= 0 and m >= 0:\n",
    "        if n >= m:\n",
    "            return n + (-m) == n - m\n",
    "        elif n < m:\n",
    "            return n + (-m) == -(m - n)\n",
    "\n",
    "\n",
    "print(naturalNumberAdditionWithOneNegative(5, 2))\n",
    "print(naturalNumberAdditionWithOneNegative(2, 5))"
   ]
  },
  {
   "cell_type": "code",
   "execution_count": 9,
   "metadata": {},
   "outputs": [
    {
     "name": "stdout",
     "output_type": "stream",
     "text": [
      "True\n"
     ]
    }
   ],
   "source": [
    "def naturalNumberAdditionWithTwoNegatives(n, m):\n",
    "    \"\"\" Checks the rules of addition of natural numbers with 2 negatives. \"\"\"\n",
    "    if n >= 0 and m >= 0:\n",
    "        return (-n) + (-m) == -(n + m)\n",
    "    \n",
    "\n",
    "print(naturalNumberAdditionWithTwoNegatives(5, 2))"
   ]
  },
  {
   "cell_type": "markdown",
   "metadata": {},
   "source": [
    "Another example of defining operations for **Z** series of integers:"
   ]
  },
  {
   "cell_type": "code",
   "execution_count": 10,
   "metadata": {},
   "outputs": [
    {
     "name": "stdout",
     "output_type": "stream",
     "text": [
      "(4, 6)\n",
      "(-4, -6)\n",
      "(0, 0)\n",
      "(0, 0)\n",
      "\n",
      "(4, 4)\n"
     ]
    }
   ],
   "source": [
    "def sumForIntegers(x, y):\n",
    "    \"\"\" Definition of sum for set of integers. \"\"\"\n",
    "    m, n = x\n",
    "    mp, np = y\n",
    "    return (m + mp, n + np)\n",
    "\n",
    "print(sumForIntegers((2, 3), (2, 3)))\n",
    "print(sumForIntegers((-2, -3), (-2, -3)))\n",
    "print(sumForIntegers((-2, 3), (2, -3)))\n",
    "print(sumForIntegers((2, -3), (-2, 3)))\n",
    "print()\n",
    "print(sumForIntegers((2, 2), (2, 2)))"
   ]
  },
  {
   "cell_type": "code",
   "execution_count": 11,
   "metadata": {},
   "outputs": [
    {
     "name": "stdout",
     "output_type": "stream",
     "text": [
      "Both up : (13, 12)\n",
      "Both down : (13, 12)\n",
      "Down then up : (12, 13)\n",
      "Up then down : (12, 13)\n",
      "\n",
      "(13, 12)\n",
      "(-13, 12)\n",
      "(-13, 12)\n",
      "(13, -12)\n",
      "\n",
      "(8, 8)\n"
     ]
    }
   ],
   "source": [
    "def productForIntegers(x, y):\n",
    "    \"\"\" Definiton of product for set of integers. \"\"\"\n",
    "    m, n = x\n",
    "    mp, np = y\n",
    "    return (m * mp + n * np, m * np + n * mp)\n",
    "\n",
    "print(\"Both up : \" + str(productForIntegers((2, 3), (2, 3))))\n",
    "print(\"Both down : \" + str(productForIntegers((3, 2), (3, 2))))\n",
    "print(\"Down then up : \" + str(productForIntegers((3, 2), (2, 3))))\n",
    "print(\"Up then down : \" + str(productForIntegers((2, 3), (3, 2))))\n",
    "print()\n",
    "print(productForIntegers((-2, -3), (-2, -3)))\n",
    "print(productForIntegers((-2, 3), (2, -3)))\n",
    "print(productForIntegers((2, -3), (-2, 3)))\n",
    "print(productForIntegers((-2, 3), (-2, 3)))\n",
    "print()\n",
    "print(productForIntegers((2, 2), (2, 2)))"
   ]
  },
  {
   "cell_type": "markdown",
   "metadata": {},
   "source": [
    "## 6. Rational Numbers"
   ]
  },
  {
   "cell_type": "markdown",
   "metadata": {},
   "source": [
    "Fractions are the response to the inability of numbers to always be divided evenly into whole numbers:"
   ]
  },
  {
   "cell_type": "code",
   "execution_count": 12,
   "metadata": {},
   "outputs": [
    {
     "name": "stdout",
     "output_type": "stream",
     "text": [
      "(11, 12)\n",
      "(10, 1)\n"
     ]
    }
   ],
   "source": [
    "def sumForFractions(x, y):\n",
    "    \"\"\" Definition of sum for fractions \"\"\"\n",
    "    m, n = x\n",
    "    mp, np = y\n",
    "    return ((m * np + mp * n), n * np)\n",
    "\n",
    "print(sumForFractions((2, 3), (1, 4)))\n",
    "print(sumForFractions((5, 1), (5, 1)))"
   ]
  },
  {
   "cell_type": "code",
   "execution_count": 13,
   "metadata": {},
   "outputs": [
    {
     "name": "stdout",
     "output_type": "stream",
     "text": [
      "(2, 12)\n",
      "(4, 9)\n",
      "(25, 1)\n"
     ]
    }
   ],
   "source": [
    "def productForFractions(x, y):\n",
    "    \"\"\" Definition of product for fractions. \"\"\"\n",
    "    m, n = x\n",
    "    mp, np = y\n",
    "    return (m * mp, n * np)\n",
    "\n",
    "print(productForFractions((2, 3), (1, 4)))\n",
    "print(productForFractions((2, 3), (2, 3)))\n",
    "print(productForFractions((5, 1), (5, 1)))"
   ]
  },
  {
   "cell_type": "markdown",
   "metadata": {},
   "source": [
    "# 7. Congruence"
   ]
  },
  {
   "cell_type": "code",
   "execution_count": 20,
   "metadata": {},
   "outputs": [
    {
     "name": "stdout",
     "output_type": "stream",
     "text": [
      "Result    : 832\n",
      "digitSum1 : 4\n",
      "digitSum2 : 4\n"
     ]
    },
    {
     "data": {
      "text/plain": [
       "True"
      ]
     },
     "execution_count": 20,
     "metadata": {},
     "output_type": "execute_result"
    }
   ],
   "source": [
    "def castingOutNinesMultiplication(x, y):\n",
    "    \"\"\" Check that the result of a multiplication is correct. \"\"\"\n",
    "    result = x * y\n",
    "    x = sum(map(int, str(x)))\n",
    "    y = sum(map(int, str(y)))\n",
    "    digitSum1 = sum(map(int, str(x * y)))\n",
    "    digitSum2 = sum(map(int, str(sum(map(int, str(result))))))\n",
    "    print(\"Result    : \" + str(result))\n",
    "    print(\"digitSum1 : \" + str(digitSum1))\n",
    "    print(\"digitSum2 : \" + str(digitSum2))\n",
    "    return digitSum1 == digitSum2\n",
    "\n",
    "castingOutNinesMultiplication(32, 26)"
   ]
  },
  {
   "cell_type": "code",
   "execution_count": 23,
   "metadata": {},
   "outputs": [
    {
     "name": "stdout",
     "output_type": "stream",
     "text": [
      "False\n",
      "True\n"
     ]
    }
   ],
   "source": [
    "def isCongruent(a, b, m):\n",
    "    \"\"\" Checks that a is congruent to b. \"\"\"\n",
    "    if m != 0:\n",
    "        difference = a - b\n",
    "        if difference % m == 0:\n",
    "            return True\n",
    "    \n",
    "    return False\n",
    "\n",
    "\n",
    "print(isCongruent(24, 5, 10))\n",
    "print(isCongruent(25, 5, 10))"
   ]
  },
  {
   "cell_type": "code",
   "execution_count": 24,
   "metadata": {},
   "outputs": [
    {
     "name": "stdout",
     "output_type": "stream",
     "text": [
      "False\n",
      "True\n"
     ]
    }
   ],
   "source": [
    "def congruentSum(a, b, c, d, m):\n",
    "    \"\"\" Checks that sums are congruent. \"\"\"\n",
    "    if isCongruent(a, b, m) and isCongruent(c, d, m):\n",
    "        return isCongruent(a + c, b + d, m)\n",
    "    else:\n",
    "        return False\n",
    "    \n",
    "    \n",
    "print(congruentSum(20, 3, 18, 8, 8))\n",
    "print(congruentSum(20, 4, 25, 1, 8))"
   ]
  },
  {
   "cell_type": "code",
   "execution_count": 25,
   "metadata": {},
   "outputs": [
    {
     "name": "stdout",
     "output_type": "stream",
     "text": [
      "False\n",
      "True\n"
     ]
    }
   ],
   "source": [
    "def congruentProduct(a, b, c, d, m):\n",
    "    \"\"\" Checks that products are congruent. \"\"\"\n",
    "    if isCongruent(a, b, m) and isCongruent(c, d, m):\n",
    "        return isCongruent(a * c, b * d, m)\n",
    "    else:\n",
    "        return False\n",
    "    \n",
    "\n",
    "print(congruentProduct(20, 3, 18, 8, 8))\n",
    "print(congruentProduct(20, 4, 25, 1, 8))"
   ]
  },
  {
   "cell_type": "code",
   "execution_count": 26,
   "metadata": {},
   "outputs": [
    {
     "name": "stdout",
     "output_type": "stream",
     "text": [
      "6\n",
      "6\n",
      "2\n"
     ]
    }
   ],
   "source": [
    "import sympy\n",
    "\n",
    "def EulersPhiFunction(m):\n",
    "    \"\"\" Eulers Phi function counts no. remaineders with no factor in\n",
    "    common with the modulus m. \"\"\"\n",
    "    if sympy.isprime(m):\n",
    "        return m - 1\n",
    "    else:\n",
    "        factors = sympy.factorint(m)\n",
    "        if len(factors) == 1:\n",
    "            for a, b in factors.items():\n",
    "                return (a - 1) * (a ** (b - 1))\n",
    "        else:\n",
    "            a, b = [k for k, v in factors.items() if v == 1]\n",
    "            return EulersPhiFunction(a) * EulersPhiFunction(b)\n",
    "\n",
    "\n",
    "print(EulersPhiFunction(7))\n",
    "print(EulersPhiFunction(9))\n",
    "print(EulersPhiFunction(6))"
   ]
  },
  {
   "cell_type": "markdown",
   "metadata": {},
   "source": [
    "3 descriptions of algebra of integers module *m*:\n",
    "\n",
    "- ordinary integers with new equality; congurence modulo *m*\n",
    "- algebra of remainders modulo *m*\n",
    "- algebra of congruence classes, modulo *m*"
   ]
  },
  {
   "cell_type": "code",
   "execution_count": 27,
   "metadata": {},
   "outputs": [
    {
     "name": "stdout",
     "output_type": "stream",
     "text": [
      "True\n"
     ]
    }
   ],
   "source": [
    "def chineseRemainderTheorem(x, b, m, c, n):\n",
    "    \"\"\" If m & n are coprime x can be found via product of m & n. \"\"\"\n",
    "    if sympy.isprime(m) and sympy.isprime(n) and m != n:\n",
    "        if isCongruent(x, b, m) and isCongruent(x, c, n):\n",
    "            N = m * n\n",
    "            c1 = N // m\n",
    "            c2 = N // n\n",
    "            _, y1, _ = sympy.gcdex(m, c1)\n",
    "            _, y2, _ = sympy.gcdex(n, c2)\n",
    "            return x == (b * c1 * y1) + (c * c2 * y2)\n",
    "    \n",
    "    return False\n",
    "        \n",
    "print(chineseRemainderTheorem(8, 2, 3, 3, 5))"
   ]
  },
  {
   "cell_type": "markdown",
   "metadata": {},
   "source": [
    "# 8. Cardinal Numbers"
   ]
  },
  {
   "cell_type": "markdown",
   "metadata": {},
   "source": [
    "A cardinal number can be defined as:\n",
    "\n",
    "- card S = {S' | S $\\equiv$ S'}\n",
    "\n",
    "That is: the cardinal set S is the set of all sets S' where S' are restricted to being congruent with S.\n",
    "\n",
    "> ... a finite cardinal *number* is just a finite set taken \"modulo\" cardinal eqivalence ...\n",
    "\n",
    "There is a strong analogy between congruence class modulo *m* & cardinal numbers."
   ]
  },
  {
   "cell_type": "markdown",
   "metadata": {},
   "source": [
    "A *power set* is:\n",
    "\n",
    "- PU = {S | S $\\subset$ U}"
   ]
  },
  {
   "cell_type": "markdown",
   "metadata": {},
   "source": [
    "# 9. Ordinal Numbers"
   ]
  },
  {
   "cell_type": "markdown",
   "metadata": {},
   "source": [
    "poset = a partially ordered set\n",
    "\n",
    "- ord P = {P' | P' $\\in$ V$_1$ and P ~ P'}\n",
    "\n",
    "~ here represents *ordinally equivalent*."
   ]
  },
  {
   "cell_type": "markdown",
   "metadata": {},
   "source": [
    "Arithmetic operations on finite ordinal sets work identically to those on cardinals.\n",
    "But this is not the case with infinite order sets, for example:\n",
    "\n",
    "- $N^+$ has a 1st element\n",
    "- $N^-$ has no 1st element (not regarded as an infinite ordinal number)"
   ]
  },
  {
   "cell_type": "markdown",
   "metadata": {},
   "source": [
    "# 10. What Are Numbers?"
   ]
  },
  {
   "cell_type": "code",
   "execution_count": null,
   "metadata": {},
   "outputs": [],
   "source": []
  }
 ],
 "metadata": {
  "kernelspec": {
   "display_name": "Python 3",
   "language": "python",
   "name": "python3"
  },
  "language_info": {
   "codemirror_mode": {
    "name": "ipython",
    "version": 3
   },
   "file_extension": ".py",
   "mimetype": "text/x-python",
   "name": "python",
   "nbconvert_exporter": "python",
   "pygments_lexer": "ipython3",
   "version": "3.7.3"
  }
 },
 "nbformat": 4,
 "nbformat_minor": 2
}
