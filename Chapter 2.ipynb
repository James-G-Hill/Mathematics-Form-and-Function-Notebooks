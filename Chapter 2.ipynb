{
 "cells": [
  {
   "cell_type": "markdown",
   "metadata": {},
   "source": [
    "# Maths - Form & Function: Chapter 2"
   ]
  },
  {
   "cell_type": "markdown",
   "metadata": {},
   "source": [
    "## 1. Properties of Natural Numbers"
   ]
  },
  {
   "cell_type": "markdown",
   "metadata": {},
   "source": [
    "The natural numbers arise from:\n",
    "\n",
    "- listing\n",
    "- counting\n",
    "- comparing"
   ]
  },
  {
   "cell_type": "code",
   "execution_count": 6,
   "metadata": {},
   "outputs": [
    {
     "name": "stdout",
     "output_type": "stream",
     "text": [
      "Addition Zero Law: True\n",
      "Commutative addition: True\n",
      "Associative addition: True\n",
      "Multiplication Zero Law: True\n",
      "Commutative multiplication: True\n",
      "Associative multiplication: True\n"
     ]
    }
   ],
   "source": [
    "from operator import add, mul\n",
    "\n",
    "def additionZeroLaw(m):\n",
    "    \"\"\" Adding zero to a value doesn't change it. \"\"\"\n",
    "    return m + 0 == m\n",
    "\n",
    "def multiplicationZeroLaw(m):\n",
    "    \"\"\" Multiplying a number by zero gives zero. \"\"\"\n",
    "    return m * 0 == 0\n",
    "\n",
    "def commutativeLaw(o, m, n):\n",
    "    \"\"\" Swapping the order of numbers gives the same result. \"\"\"\n",
    "    if o == add or o == mul:\n",
    "        return o(m, n) == o(n, m)\n",
    "    else:\n",
    "        return False\n",
    "\n",
    "def associativeLaw(o, k, m, n):\n",
    "    \"\"\" The order of calculation doesn't affect the result. \"\"\"\n",
    "    if o == add or o == mul:\n",
    "        x = o(k, o(m, n))\n",
    "        y = o(o(k, m), n)\n",
    "        return x == y\n",
    "    else:\n",
    "        return False\n",
    "\n",
    "k, m, n = 2, 3, 4\n",
    "\n",
    "print(\"Addition Zero Law: \" + str(additionZeroLaw(k)))\n",
    "print(\"Commutative addition: \" + str(commutativeLaw(add, k, m)))\n",
    "print(\"Associative addition: \" + str(associativeLaw(add, k, m, n)))\n",
    "\n",
    "print(\"Multiplication Zero Law: \" + str(multiplicationZeroLaw(k)))\n",
    "print(\"Commutative multiplication: \" + str(commutativeLaw(mul, k, m)))\n",
    "print(\"Associative multiplication: \" + str(associativeLaw(mul, k, m, n)))"
   ]
  },
  {
   "cell_type": "code",
   "execution_count": 8,
   "metadata": {},
   "outputs": [
    {
     "name": "stdout",
     "output_type": "stream",
     "text": [
      "Distributive law: True\n"
     ]
    }
   ],
   "source": [
    "k, m, n = 2, 3, 4\n",
    "\n",
    "def distributiveLaw(k, m, n):\n",
    "    \"\"\" Multiplying a sum is equivalent to multiplying separately. \"\"\"\n",
    "    x = mul(k, add(m, n))\n",
    "    y = add(mul(k, m), mul(k, n))\n",
    "    return x == y\n",
    "\n",
    "print(\"Distributive law: \" + str(distributiveLaw(k, m, n)))"
   ]
  },
  {
   "cell_type": "code",
   "execution_count": 11,
   "metadata": {},
   "outputs": [
    {
     "name": "stdout",
     "output_type": "stream",
     "text": [
      "Squares divided by 4 taking 1: True\n",
      "Squares divided by 4 taking 2: True\n",
      "Squares divided by 4 taking 3: True\n",
      "Squares divided by 4 taking 4: True\n"
     ]
    }
   ],
   "source": [
    "def squaresDividedBy4(k):\n",
    "    \"\"\" Any square divided by 4 leaves remaineder 0 or 1. \"\"\"\n",
    "    x = (k**2) % 4\n",
    "    return x == 0 or x == 1\n",
    "\n",
    "print(\"Squares divided by 4 taking 1: \" +str(squaresDividedBy4(1)))\n",
    "print(\"Squares divided by 4 taking 2: \" +str(squaresDividedBy4(2)))\n",
    "print(\"Squares divided by 4 taking 3: \" +str(squaresDividedBy4(3)))\n",
    "print(\"Squares divided by 4 taking 4: \" +str(squaresDividedBy4(4)))"
   ]
  },
  {
   "cell_type": "markdown",
   "metadata": {},
   "source": [
    "# 2. The Peano Postulates"
   ]
  },
  {
   "cell_type": "markdown",
   "metadata": {},
   "source": [
    "The Peano postulates emerge from the fact that both addition and multiplication can be described in terms of the number 0 & the single operation \"add 1\"; the postulates are the folowing axioms on that single operation:"
   ]
  },
  {
   "cell_type": "markdown",
   "metadata": {},
   "source": [
    "1. 0 is a number\n",
    "2. if *n* is a number, so is its successor *sn*\n",
    "3. 0 is not a successor (*sn* is never 0)\n",
    "4. 2 numbers *n*, *m* with the same successor are equal\n",
    "5. Let *P* be a property of natural numbers; if 0 has *P* & *sn* has *P* where *n* does, then *P* holds for all natural numbers."
   ]
  },
  {
   "cell_type": "code",
   "execution_count": 89,
   "metadata": {},
   "outputs": [],
   "source": [
    "def successor(_, n):\n",
    "    \"\"\" Returns the natural number successor. \"\"\"\n",
    "    return n + 1\n",
    "\n",
    "def recursiveAddition(k, sn):\n",
    "    \"\"\" Recursively adds using successor. \"\"\"\n",
    "    a = k\n",
    "    return recursionTheorem(k, sn, a, successor)\n",
    "\n",
    "def recursiveMultiplication(k, sn):\n",
    "    \"\"\" Recursively multiplies using recursiveAddition. \"\"\"\n",
    "    a = 0\n",
    "    return recursionTheorem(k, sn, a, recursiveAddition)\n",
    "    \n",
    "def recursiveExponentiation(k, sn):\n",
    "    \"\"\" Recursively exonentiates using recursiveMultiplication. \"\"\"\n",
    "    a = 1\n",
    "    return recursionTheorem(k, sn, a, recursiveMultiplication)\n",
    "\n",
    "def recursionTheorem(k, sn, a, g):\n",
    "    \"\"\" The recursive basis for the peano postulate recursive definitions. \"\"\"\n",
    "    if sn == 0:\n",
    "        return a\n",
    "    else:\n",
    "        n = sn - 1\n",
    "        return g(k, recursionTheorem(k, n, a, g))"
   ]
  },
  {
   "cell_type": "markdown",
   "metadata": {},
   "source": [
    "Demonstration of recursive functions where *n* > 0:"
   ]
  },
  {
   "cell_type": "code",
   "execution_count": 91,
   "metadata": {},
   "outputs": [
    {
     "name": "stdout",
     "output_type": "stream",
     "text": [
      "13\n",
      "30\n",
      "1000\n"
     ]
    }
   ],
   "source": [
    "k, n = 10, 3\n",
    "print(recursiveAddition(k, n))\n",
    "print(recursiveMultiplication(k, n))\n",
    "print(recursiveExponentiation(k, n))"
   ]
  },
  {
   "cell_type": "markdown",
   "metadata": {},
   "source": [
    "Demonstration of recursive functions where *n* = 0:"
   ]
  },
  {
   "cell_type": "code",
   "execution_count": 93,
   "metadata": {},
   "outputs": [
    {
     "name": "stdout",
     "output_type": "stream",
     "text": [
      "10\n",
      "0\n",
      "1\n"
     ]
    }
   ],
   "source": [
    "k, n = 10, 0\n",
    "print(recursiveAddition(k, n))\n",
    "print(recursiveMultiplication(k, n))\n",
    "print(recursiveExponentiation(k, n))"
   ]
  },
  {
   "cell_type": "markdown",
   "metadata": {},
   "source": [
    "**Recursion Theorem**\n",
    "\n",
    "*If X is a set, a an object of X and g: X -> X a function, then there is a unique function f: N -> X with*\n",
    "\n",
    "    f(0) = a,    f(sm) = g(fm),\n",
    "    \n",
    "*the latter for all natural numbers m.*"
   ]
  },
  {
   "cell_type": "markdown",
   "metadata": {},
   "source": [
    "**Uniqueness Theorem**\n",
    "\n",
    "*The set-theoretic Peano postulates determine the collection **N** of natural numbers uniquely, up to an isomorphism of the structure given by 0 and successor.*"
   ]
  },
  {
   "cell_type": "markdown",
   "metadata": {},
   "source": [
    "# 3. Natural Numbers Described by Recursion"
   ]
  }
 ],
 "metadata": {
  "kernelspec": {
   "display_name": "Python 3",
   "language": "python",
   "name": "python3"
  },
  "language_info": {
   "codemirror_mode": {
    "name": "ipython",
    "version": 3
   },
   "file_extension": ".py",
   "mimetype": "text/x-python",
   "name": "python",
   "nbconvert_exporter": "python",
   "pygments_lexer": "ipython3",
   "version": "3.7.3"
  }
 },
 "nbformat": 4,
 "nbformat_minor": 2
}
