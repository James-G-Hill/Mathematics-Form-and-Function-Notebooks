{
 "cells": [
  {
   "cell_type": "markdown",
   "metadata": {},
   "source": [
    "# Maths - Form & Function: Chapter 2"
   ]
  },
  {
   "cell_type": "markdown",
   "metadata": {},
   "source": [
    "## 1. Properties of Natural Numbers"
   ]
  },
  {
   "cell_type": "markdown",
   "metadata": {},
   "source": [
    "The natural numbers arise from:\n",
    "\n",
    "- listing\n",
    "- counting\n",
    "- comparing"
   ]
  },
  {
   "cell_type": "code",
   "execution_count": 6,
   "metadata": {},
   "outputs": [
    {
     "name": "stdout",
     "output_type": "stream",
     "text": [
      "Addition Zero Law: True\n",
      "Commutative addition: True\n",
      "Associative addition: True\n",
      "Multiplication Zero Law: True\n",
      "Commutative multiplication: True\n",
      "Associative multiplication: True\n"
     ]
    }
   ],
   "source": [
    "from operator import add, mul\n",
    "\n",
    "def additionZeroLaw(m):\n",
    "    \"\"\" Adding zero to a value doesn't change it. \"\"\"\n",
    "    return m + 0 == m\n",
    "\n",
    "def multiplicationZeroLaw(m):\n",
    "    \"\"\" Multiplying a number by zero gives zero. \"\"\"\n",
    "    return m * 0 == 0\n",
    "\n",
    "def commutativeLaw(o, m, n):\n",
    "    \"\"\" Swapping the order of numbers gives the same result. \"\"\"\n",
    "    if o == add or o == mul:\n",
    "        return o(m, n) == o(n, m)\n",
    "    else:\n",
    "        return False\n",
    "\n",
    "def associativeLaw(o, k, m, n):\n",
    "    \"\"\" The order of calculation doesn't affect the result. \"\"\"\n",
    "    if o == add or o == mul:\n",
    "        x = o(k, o(m, n))\n",
    "        y = o(o(k, m), n)\n",
    "        return x == y\n",
    "    else:\n",
    "        return False\n",
    "\n",
    "k, m, n = 2, 3, 4\n",
    "\n",
    "print(\"Addition Zero Law: \" + str(additionZeroLaw(k)))\n",
    "print(\"Commutative addition: \" + str(commutativeLaw(add, k, m)))\n",
    "print(\"Associative addition: \" + str(associativeLaw(add, k, m, n)))\n",
    "\n",
    "print(\"Multiplication Zero Law: \" + str(multiplicationZeroLaw(k)))\n",
    "print(\"Commutative multiplication: \" + str(commutativeLaw(mul, k, m)))\n",
    "print(\"Associative multiplication: \" + str(associativeLaw(mul, k, m, n)))"
   ]
  },
  {
   "cell_type": "code",
   "execution_count": 8,
   "metadata": {},
   "outputs": [
    {
     "name": "stdout",
     "output_type": "stream",
     "text": [
      "Distributive law: True\n"
     ]
    }
   ],
   "source": [
    "k, m, n = 2, 3, 4\n",
    "\n",
    "def distributiveLaw(k, m, n):\n",
    "    \"\"\" Multiplying a sum is equivalent to multiplying separately. \"\"\"\n",
    "    x = mul(k, add(m, n))\n",
    "    y = add(mul(k, m), mul(k, n))\n",
    "    return x == y\n",
    "\n",
    "print(\"Distributive law: \" + str(distributiveLaw(k, m, n)))"
   ]
  },
  {
   "cell_type": "code",
   "execution_count": 11,
   "metadata": {},
   "outputs": [
    {
     "name": "stdout",
     "output_type": "stream",
     "text": [
      "Squares divided by 4 taking 1: True\n",
      "Squares divided by 4 taking 2: True\n",
      "Squares divided by 4 taking 3: True\n",
      "Squares divided by 4 taking 4: True\n"
     ]
    }
   ],
   "source": [
    "def squaresDividedBy4(k):\n",
    "    \"\"\" Any square divided by 4 leaves remaineder 0 or 1. \"\"\"\n",
    "    x = (k**2) % 4\n",
    "    return x == 0 or x == 1\n",
    "\n",
    "print(\"Squares divided by 4 taking 1: \" +str(squaresDividedBy4(1)))\n",
    "print(\"Squares divided by 4 taking 2: \" +str(squaresDividedBy4(2)))\n",
    "print(\"Squares divided by 4 taking 3: \" +str(squaresDividedBy4(3)))\n",
    "print(\"Squares divided by 4 taking 4: \" +str(squaresDividedBy4(4)))"
   ]
  },
  {
   "cell_type": "code",
   "execution_count": 44,
   "metadata": {},
   "outputs": [
    {
     "name": "stdout",
     "output_type": "stream",
     "text": [
      "[4, 3, 2, 1]\n",
      "[3, 2, 1, 0]\n",
      "1234\n",
      "[4, 3, 2, 1]\n",
      "[3, 2, 1, 0]\n",
      "668\n"
     ]
    },
    {
     "data": {
      "text/plain": [
       "False"
      ]
     },
     "execution_count": 44,
     "metadata": {},
     "output_type": "execute_result"
    }
   ],
   "source": [
    "def  naturalNumberInTermsOfB(n, b):\n",
    "    \"\"\" \"\"\"\n",
    "    a = list(map(int, str(n)))\n",
    "    if b > 1 and all([x < b for x in a]) and all([x >= 0 for x in a]):\n",
    "        a.reverse()\n",
    "        series = list(range(0, len(a)))\n",
    "        series.reverse()\n",
    "        print(a)\n",
    "        print(series)\n",
    "        x = sum([a[k] * (b**k) for k in series])\n",
    "        print(x)\n",
    "        return n == x\n",
    "    else:\n",
    "        return False\n",
    "\n",
    "naturalNumberInTermsOfB(1234, 10)\n",
    "naturalNumberInTermsOfB(1234, 8)"
   ]
  }
 ],
 "metadata": {
  "kernelspec": {
   "display_name": "Python 3",
   "language": "python",
   "name": "python3"
  },
  "language_info": {
   "codemirror_mode": {
    "name": "ipython",
    "version": 3
   },
   "file_extension": ".py",
   "mimetype": "text/x-python",
   "name": "python",
   "nbconvert_exporter": "python",
   "pygments_lexer": "ipython3",
   "version": "3.7.3"
  }
 },
 "nbformat": 4,
 "nbformat_minor": 2
}
