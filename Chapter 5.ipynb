{
 "cells": [
  {
   "cell_type": "markdown",
   "metadata": {},
   "source": [
    "# Maths - Form & Function: Chapter 5 (Functions, Transformations, and Groups)"
   ]
  },
  {
   "cell_type": "markdown",
   "metadata": {},
   "source": [
    "## 1. Types of Functions"
   ]
  },
  {
   "cell_type": "markdown",
   "metadata": {},
   "source": [
    "Composite functions can be formed by substituting the elements of 1 function into a final form, as the quadratic equation (alt version) below is created from the micro functions in the 1st form."
   ]
  },
  {
   "cell_type": "code",
   "execution_count": 11,
   "metadata": {},
   "outputs": [
    {
     "name": "stdout",
     "output_type": "stream",
     "text": [
      "81\n",
      "81\n",
      "144\n",
      "144\n"
     ]
    }
   ],
   "source": [
    "# Proving equivalence of 2 formas of the quadratic equation:\n",
    "\n",
    "def quadratic_equation(x):\n",
    "    \"\"\" An example of the quadratic equation. \"\"\"\n",
    "    y = 2 + x\n",
    "    z = 3 * y\n",
    "    return z**2\n",
    "\n",
    "def alt_quadratic_equation(x):\n",
    "    \"\"\" An alternative form of the quadratic equation. \"\"\"\n",
    "    return 36 + 36 * x + 9 * x**2\n",
    "\n",
    "print(quadratic_equation(1))\n",
    "print(alt_quadratic_equation(1))\n",
    "print(quadratic_equation(2))\n",
    "print(alt_quadratic_equation(2))"
   ]
  },
  {
   "cell_type": "markdown",
   "metadata": {},
   "source": [
    "Some functions are not defined for all real numbers, for example, the below is not defined for x = 1 or x = 2:"
   ]
  },
  {
   "cell_type": "code",
   "execution_count": 150,
   "metadata": {},
   "outputs": [
    {
     "name": "stdout",
     "output_type": "stream",
     "text": [
      "Division by Zero!\n",
      "0.3333333333333333\n",
      "Division by Zero!\n",
      "0.9166666666666666\n"
     ]
    }
   ],
   "source": [
    "import math\n",
    "\n",
    "# The following function excludes x == 1 or x == 2:\n",
    "def rational_function(x):\n",
    "    \"\"\" An example of the rational function. \"\"\"\n",
    "    try:\n",
    "        numerator = (3 * math.pow(x, 2)) - 1\n",
    "        denominator = math.pow(x, 2) - (3 * x) + 2\n",
    "        #print(\"d\" + str(denominator))\n",
    "        return numerator / denominator\n",
    "    except ZeroDivisionError:\n",
    "        return \"Division by Zero!\"\n",
    "\n",
    "print(rational_function(1))\n",
    "print(rational_function(-1))\n",
    "print(rational_function(2))\n",
    "print(rational_function(-2))"
   ]
  },
  {
   "cell_type": "code",
   "execution_count": 155,
   "metadata": {},
   "outputs": [
    {
     "name": "stdout",
     "output_type": "stream",
     "text": [
      "1.0\n",
      "0.0\n",
      "No square root for negative numbers!\n"
     ]
    }
   ],
   "source": [
    "# Another function over only a subset of Real numbers:\n",
    "def square_root_function(x):\n",
    "    \"\"\" Demonstrates square root only for positives. \"\"\"\n",
    "    try:\n",
    "        return math.sqrt(x)\n",
    "    except ValueError:\n",
    "        return \"No square root for negative numbers!\"\n",
    "    \n",
    "print(square_root_function(1))\n",
    "print(square_root_function(0))\n",
    "print(square_root_function(-1))"
   ]
  },
  {
   "cell_type": "markdown",
   "metadata": {},
   "source": [
    "Functions may be determined by several different operations, as in the below:"
   ]
  },
  {
   "cell_type": "code",
   "execution_count": 157,
   "metadata": {},
   "outputs": [
    {
     "name": "stdout",
     "output_type": "stream",
     "text": [
      "1\n",
      "0\n",
      "1\n"
     ]
    }
   ],
   "source": [
    "def multiple_operation_demonstration(x):\n",
    "    \"\"\" Simple demonstration of function with multiple operations. \"\"\"\n",
    "    if x >= 0:\n",
    "        return x\n",
    "    else:\n",
    "        return -x\n",
    "    \n",
    "print(multiple_operation_demonstration(1))\n",
    "print(multiple_operation_demonstration(0))\n",
    "print(multiple_operation_demonstration(-1))"
   ]
  },
  {
   "cell_type": "markdown",
   "metadata": {},
   "source": [
    "Following are some examples of physical formulas based on elementary laws:"
   ]
  },
  {
   "cell_type": "code",
   "execution_count": 171,
   "metadata": {},
   "outputs": [
    {
     "name": "stdout",
     "output_type": "stream",
     "text": [
      "5.0\n",
      "122.5875\n"
     ]
    }
   ],
   "source": [
    "def weight(density, volume):\n",
    "    \"\"\" Calculate weight from density & volume. \"\"\"\n",
    "    return density * volume\n",
    "\n",
    "print(weight(.5, 10))\n",
    "\n",
    "def distance(time, gravity = 9.807):\n",
    "    \"\"\" Calculates distance fallen in time. \"\"\"\n",
    "    return (gravity * time ** 2) / 2\n",
    "\n",
    "print(distance(5))"
   ]
  },
  {
   "cell_type": "markdown",
   "metadata": {},
   "source": [
    "## 2. Maps"
   ]
  },
  {
   "cell_type": "markdown",
   "metadata": {},
   "source": [
    "> ... \"maps\" - that is, functions, from one set *X* of objects, points, or numbers into some other set *Y*."
   ]
  },
  {
   "cell_type": "code",
   "execution_count": 28,
   "metadata": {},
   "outputs": [
    {
     "name": "stdout",
     "output_type": "stream",
     "text": [
      "(1, 5)\n"
     ]
    }
   ],
   "source": [
    "def transformation(x, y):\n",
    "    \"\"\" Demonstration of transformationn of 2 vectors. \"\"\"\n",
    "    a, c = x\n",
    "    b, d = y\n",
    "    x, y = tuple(map(sum, [(1, 0), (0, 1)]))\n",
    "    return (a * x + b * y, c * x + d * y)\n",
    "\n",
    "a, b, c, d = 0, 1, 2, 3\n",
    "print(transformation((a, c), (b, d)))"
   ]
  },
  {
   "cell_type": "code",
   "execution_count": 29,
   "metadata": {},
   "outputs": [
    {
     "name": "stdout",
     "output_type": "stream",
     "text": [
      "[[0 1]\n",
      " [2 3]]\n",
      "[[0 3]\n",
      " [1 2]]\n",
      "[[ 1  2]\n",
      " [ 3 12]]\n"
     ]
    }
   ],
   "source": [
    "import numpy as np\n",
    "\n",
    "matrix_a = np.array([[a, b], [c, d]])\n",
    "matrix_b = np.array([[a, d], [b, c]])\n",
    "\n",
    "print(matrix_a)\n",
    "print(matrix_b)\n",
    "print(matrix_a @ matrix_b)"
   ]
  },
  {
   "cell_type": "markdown",
   "metadata": {},
   "source": [
    "## 3. What is a Function?"
   ]
  },
  {
   "cell_type": "markdown",
   "metadata": {},
   "source": [
    "Intuitive (but imperfect) definitions of functions include:\n",
    "\n",
    "- *Formula* - with x as a value, the formula produces a number\n",
    "- *Rule* - rules applied to x produces corresponding value y\n",
    "- *Graph* - b is a point on a curve in geometric space matching a\n",
    "- *Dependence* - a determination of x fixes y, so y depends on x\n",
    "- *Table of Values* - each x in a table has a corresponding y value\n",
    "- *Syntax* - *f x* is just a symbolic representation of y\n",
    "\n",
    "Each of these definitions has problems."
   ]
  },
  {
   "cell_type": "markdown",
   "metadata": {},
   "source": [
    "## 4. Functions as Sets of Pairs"
   ]
  },
  {
   "cell_type": "code",
   "execution_count": null,
   "metadata": {},
   "outputs": [],
   "source": []
  }
 ],
 "metadata": {
  "kernelspec": {
   "display_name": "Python 3",
   "language": "python",
   "name": "python3"
  },
  "language_info": {
   "codemirror_mode": {
    "name": "ipython",
    "version": 3
   },
   "file_extension": ".py",
   "mimetype": "text/x-python",
   "name": "python",
   "nbconvert_exporter": "python",
   "pygments_lexer": "ipython3",
   "version": "3.7.3"
  }
 },
 "nbformat": 4,
 "nbformat_minor": 4
}
