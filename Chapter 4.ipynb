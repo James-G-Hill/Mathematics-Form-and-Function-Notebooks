{
 "cells": [
  {
   "cell_type": "markdown",
   "metadata": {},
   "source": [
    "# Maths - Form & Function: Chapter 4 (Real Numbers)"
   ]
  },
  {
   "cell_type": "markdown",
   "metadata": {},
   "source": [
    "## 1. Measures of Magnitude"
   ]
  },
  {
   "cell_type": "markdown",
   "metadata": {},
   "source": [
    "> It is a familiar but remarkable fact that one single scale of numbers will be applicable to each of many types of quantitative comparisons: To distance, to weight, to length, to width, to temperature, to time, to height, and so on. Once a unit is chosen, each of these magnitudes exemplifies one and the same scale: That of real numbers, considered as a scale laid out as the points of a line with chosen origin and unit point; and so emphasizing the interpretation of the scale by distances . . ."
   ]
  },
  {
   "cell_type": "markdown",
   "metadata": {},
   "source": [
    "## 2. Magnitudes as a Geometric Measure"
   ]
  },
  {
   "cell_type": "markdown",
   "metadata": {},
   "source": [
    "> Many comparisons or measurements of various magnitudes can be reduced to the single scale provided by the real numbers. And in those cases where a single real number does not suffice to measure a magnitude, it is often fitting to use several such numbers - as when the size of a plane figure is given by its width and its height, or of a solid figure by width, height, and depth."
   ]
  },
  {
   "cell_type": "code",
   "execution_count": null,
   "metadata": {},
   "outputs": [],
   "source": [
    "import math\n",
    "\n",
    "def divisionsOfRightAngle(divisor):\n",
    "    \"\"\" Divide the right angle by the divisor. \"\"\"\n",
    "    if divisor > 0:\n",
    "        return math.pi / 2**divisor\n",
    "\n",
    "print(\"Full angle      : \" + str(2 * math.pi))\n",
    "print(\"Straight angle  : \" + str(math.pi))\n",
    "print(\"Right angle     : \" + str(math.pi / 2))\n",
    "print(\"Right angle / 2 : \" + str(divisionsOfRightAngle(2)))\n",
    "print(\"Right angle / 3 : \" + str(divisionsOfRightAngle(3)))\n",
    "print(\"Right angle / 4 : \" + str(divisionsOfRightAngle(4)))"
   ]
  },
  {
   "cell_type": "code",
   "execution_count": 24,
   "metadata": {},
   "outputs": [
    {
     "name": "stdout",
     "output_type": "stream",
     "text": [
      "t = 4.0 + 2π0\n",
      "t = 1.7168146928204138 + 2π1\n",
      "t = 3.4336293856408275 + 2π2\n"
     ]
    }
   ],
   "source": [
    "def realNumberAsAngleModulo(t):\n",
    "    \"\"\" Shows real numbers as modulo of full angle. \"\"\"\n",
    "    fullAngle = (2 * math.pi)\n",
    "    t0 = t % fullAngle\n",
    "    k = t // fullAngle\n",
    "    return \"t = \" + str(t0) + \" + 2π\" + str(int(k))\n",
    "\n",
    "print(realNumberAsAngleModulo(4))\n",
    "print(realNumberAsAngleModulo(8))\n",
    "print(realNumberAsAngleModulo(16))"
   ]
  },
  {
   "cell_type": "markdown",
   "metadata": {},
   "source": [
    "## 3. Maniulations of Magnitudes"
   ]
  },
  {
   "cell_type": "markdown",
   "metadata": {},
   "source": [
    "> The \"practical\" operations of addition and multiplication on various types of magnitudes lead to the algebraic operations of sum and product for the real numbers on the linear scaled. The various rules for these manipulations of numbers were well known before they were codified by axioms."
   ]
  },
  {
   "cell_type": "markdown",
   "metadata": {},
   "source": [
    "The codification of rules for the manipulation of numbers:\n",
    "\n",
    "> The real numbers form an abelian group under addition, under addition and multiplication they form a commutative ring, moreover, one which is a field.\n",
    "\n",
    "- abelian group: the group operation does not depend on order of elements being written.\n",
    "- commutative ring: an abelian group under addition with associative and commutative binary operations of multiplication with a unit in which both distributative laws holds.\n",
    "- associative: brackets around different pairs of elements with >1 uses of the operator don't change the result\n",
    "- commutative: the order of elements around the operator don't change the results\n",
    "- field: a set on which addition, multiplication, subtraction & division are defined (eg. sets or rational & real numbers)"
   ]
  },
  {
   "cell_type": "code",
   "execution_count": 26,
   "metadata": {},
   "outputs": [
    {
     "name": "stdout",
     "output_type": "stream",
     "text": [
      "True\n",
      "True\n",
      "True\n"
     ]
    }
   ],
   "source": [
    "def distributativeLawsMultiplication(a, b, c):\n",
    "    \"\"\" Tests equality of the 2 distributative laws. \"\"\"\n",
    "    law1 = a * (b + c) == a * b + a * c\n",
    "    law2 = (b + c) * a == b * a + c * a\n",
    "    return law1 == law2\n",
    "\n",
    "print(distributativeLawsMultiplication(1, 2, 3))\n",
    "print(distributativeLawsMultiplication(2, 3, 4))\n",
    "print(distributativeLawsMultiplication(-2, 3, -4))"
   ]
  },
  {
   "cell_type": "markdown",
   "metadata": {},
   "source": [
    "- Group: a set with an operation\n",
    "    - Ring: a Group with 2nd associative operation & where distributative properties make the operations compatible\n",
    "        - Field: a Ring where the 2nd operation satisfies all group properties (except additive identity)"
   ]
  },
  {
   "cell_type": "markdown",
   "metadata": {},
   "source": [
    "## 4. Comparison of Magnitudes"
   ]
  },
  {
   "cell_type": "code",
   "execution_count": 2,
   "metadata": {},
   "outputs": [
    {
     "name": "stdout",
     "output_type": "stream",
     "text": [
      "True\n",
      "False\n"
     ]
    }
   ],
   "source": [
    "def orderedFieldProperties(a, b, c):\n",
    "    \"\"\" Checks that the properties of an ordered field are valid. \"\"\"\n",
    "    \n",
    "    def property1(a, b, c):\n",
    "        if a < b:\n",
    "            return a + c < b + c\n",
    "        else:\n",
    "            return False\n",
    "        \n",
    "    def property2(a, b, c):\n",
    "        if a < b and 0 < c:\n",
    "            return a * c < b * c\n",
    "        else:\n",
    "            return False\n",
    "        \n",
    "    return property1(a, b, c) and property2(a, b, c)\n",
    "\n",
    "print(orderedFieldProperties(1, 2, 3))\n",
    "print(orderedFieldProperties(1, 2, -3))"
   ]
  },
  {
   "cell_type": "code",
   "execution_count": 9,
   "metadata": {},
   "outputs": [
    {
     "name": "stdout",
     "output_type": "stream",
     "text": [
      "True\n",
      "True\n",
      "True\n",
      "True\n"
     ]
    }
   ],
   "source": [
    "def absValueMultiplication(a, b):\n",
    "    \"\"\" Defines the rules for multiplication of absolute values. \"\"\"\n",
    "    return abs(a * b) == abs(a) * abs(b)\n",
    "    \n",
    "print(absValueMultiplication(2, 3))\n",
    "print(absValueMultiplication(-2, 3))\n",
    "print(absValueMultiplication(2, -3))\n",
    "print(absValueMultiplication(-2, -3))"
   ]
  },
  {
   "cell_type": "code",
   "execution_count": 18,
   "metadata": {},
   "outputs": [
    {
     "name": "stdout",
     "output_type": "stream",
     "text": [
      "True\n",
      "True\n",
      "True\n",
      "True\n"
     ]
    }
   ],
   "source": [
    "def absValueAddition(a, b):\n",
    "    \"\"\" Defines the rules for addition of absolute values. \"\"\"\n",
    "    return abs(a + b) <= abs(a) + abs(b)\n",
    "\n",
    "print(absValueAddition(2, 3))\n",
    "print(absValueAddition(-2, 3))\n",
    "print(absValueAddition(2, -3))\n",
    "print(absValueAddition(-2, -3))"
   ]
  },
  {
   "cell_type": "code",
   "execution_count": 21,
   "metadata": {},
   "outputs": [
    {
     "name": "stdout",
     "output_type": "stream",
     "text": [
      "1\n",
      "5\n",
      "5\n",
      "1\n"
     ]
    }
   ],
   "source": [
    "def nearness(a, b):\n",
    "    \"\"\" Defines nearness through absolute values. \"\"\"\n",
    "    return abs(a - b)\n",
    "\n",
    "print(nearness(2, 3))\n",
    "print(nearness(-2, 3))\n",
    "print(nearness(2, -3))\n",
    "print(nearness(-2, -3))"
   ]
  },
  {
   "cell_type": "markdown",
   "metadata": {},
   "source": [
    "**Archimedean Law**  \n",
    "If a and b are positive, then there is a natural number n such that na > b\n",
    "\n",
    "> Each real number can be approximated - to any degree of accuracy = by a rational number. This amounts to saying that there is a rational between any two reals."
   ]
  },
  {
   "cell_type": "markdown",
   "metadata": {},
   "source": [
    "**Theorem**  \n",
    "If 0 < b < c, there is a rational m/n with: b < m/n < c"
   ]
  },
  {
   "cell_type": "code",
   "execution_count": 145,
   "metadata": {},
   "outputs": [
    {
     "name": "stdout",
     "output_type": "stream",
     "text": [
      "True\n"
     ]
    }
   ],
   "source": [
    "def rationalBetweenRealsProof(b, c, m, n):\n",
    "    if not isinstance(m, int) or not isinstance(n, int):\n",
    "        raise TypeError()\n",
    "    else:\n",
    "        diff = c - b\n",
    "        if diff > 0:\n",
    "            if n * diff > 1 and c > b + 1 / n:\n",
    "                if m * 1 > n * b and b < (m/n):\n",
    "                    return m - 1 <= n * b and m / n <= b + (1/n) and m / n < c\n",
    "                \n",
    "\n",
    "print(rationalBetweenRealsProof(.25, .75, 2, 4))"
   ]
  },
  {
   "cell_type": "markdown",
   "metadata": {},
   "source": [
    "**Definition**  \n",
    "The sequence $a_n$ of real numbers has the real number $b$ as a limit if and only if to each real $\\epsilon > 0$ there exists a natural number $k$ with the property: if $n > k$, then $|a_n - b| < \\epsilon$"
   ]
  },
  {
   "cell_type": "code",
   "execution_count": 27,
   "metadata": {},
   "outputs": [
    {
     "name": "stdout",
     "output_type": "stream",
     "text": [
      "True\n"
     ]
    }
   ],
   "source": [
    "from functools import reduce\n",
    "from math import factorial\n",
    "\n",
    "def binomialTheorem(x, m):\n",
    "    \"\"\" Tests calculation of the binomial theorem. \"\"\"\n",
    "    if isinstance(m, int) and m > 0:\n",
    "        limit = m\n",
    "        result = 1\n",
    "        for i in range(1, limit):\n",
    "            lst = [m - x for x in range(0, i)]\n",
    "            numerator = reduce((lambda x, y: x * y), lst)\n",
    "            denominator = factorial(i)\n",
    "            result += (numerator / denominator) * (x ** i)\n",
    "        result += x**m\n",
    "    return ((1 + x) ** m) == result\n",
    "            \n",
    "print(binomialTheorem(1, 5))"
   ]
  },
  {
   "cell_type": "code",
   "execution_count": 63,
   "metadata": {},
   "outputs": [
    {
     "name": "stdout",
     "output_type": "stream",
     "text": [
      "0.0\n",
      "0.0004000000000000001\n",
      "0.00041100000000000007\n",
      "0.0004112150000000001\n",
      "0.0004112186000000001\n",
      "0.00041121865500000007\n",
      "0.0004112186557900001\n",
      "100.0\n"
     ]
    }
   ],
   "source": [
    "# The following is for demonstration purposes\n",
    "# For true infinite series 't' would be an infinitesimal\n",
    "def limitedExpansionOf2PowerSeries(a, b, t):\n",
    "    \"\"\" Prints outputs of multiplied power series up to the length of a. \"\"\"\n",
    "    limit = len(a)\n",
    "    result = 0\n",
    "    for k in range(0, limit):\n",
    "        subResult = 0\n",
    "        for l in range(0, k):\n",
    "            subResult += a[l] * b[k-l]\n",
    "        result += subResult * (t ** k)\n",
    "        print(result)\n",
    "        \n",
    "a = [.2, .3, .4, .5, .6, .7, .8]\n",
    "b = [.15, .2, .25, .3, .35, .4, .45]\n",
    "\n",
    "t = .01\n",
    "limitedExpansionOf2PowerSeries(a, b, t)\n",
    "print(t ** -1)"
   ]
  },
  {
   "cell_type": "markdown",
   "metadata": {},
   "source": [
    "## 5. Axioms for the Reals"
   ]
  },
  {
   "cell_type": "markdown",
   "metadata": {},
   "source": [
    "There are multiple forms of the completeness axiom, demonstrating that the field of **R** is complete & has no gaps:\n",
    "\n",
    "- Completeness Axiom\n",
    "- Dedekind Cut Axiom\n",
    "- Caunch Condition\n",
    "- Weierstrass Condition\n",
    "\n",
    "The Completeness Axiom is defined as:\n",
    "\n",
    "> Every non-empty set of reals with an upper bound has a least upper bound"
   ]
  },
  {
   "cell_type": "markdown",
   "metadata": {},
   "source": [
    "## 6. Arithmetic Construction of the Reals"
   ]
  },
  {
   "cell_type": "code",
   "execution_count": null,
   "metadata": {},
   "outputs": [],
   "source": []
  }
 ],
 "metadata": {
  "kernelspec": {
   "display_name": "Python 3",
   "language": "python",
   "name": "python3"
  },
  "language_info": {
   "codemirror_mode": {
    "name": "ipython",
    "version": 3
   },
   "file_extension": ".py",
   "mimetype": "text/x-python",
   "name": "python",
   "nbconvert_exporter": "python",
   "pygments_lexer": "ipython3",
   "version": "3.7.3"
  }
 },
 "nbformat": 4,
 "nbformat_minor": 4
}
