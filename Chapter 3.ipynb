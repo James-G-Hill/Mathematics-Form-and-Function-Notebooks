{
 "cells": [
  {
   "cell_type": "markdown",
   "metadata": {},
   "source": [
    "# Maths - Form & Function: Chapter 3 (Geometry)"
   ]
  },
  {
   "cell_type": "markdown",
   "metadata": {},
   "source": [
    "## 1. Spatial Activities"
   ]
  },
  {
   "cell_type": "markdown",
   "metadata": {},
   "source": [
    "The author notes that geometric forms such as lines, circles, spheres, and relations between them, such as 3 legged tools being more stable than 4 legged, and some shapes can / cannot fit within other, are observed by humans in their interaction with the world."
   ]
  },
  {
   "cell_type": "markdown",
   "metadata": {},
   "source": [
    "Next, we examine the Pythagorean theorem:"
   ]
  },
  {
   "cell_type": "code",
   "execution_count": 1,
   "metadata": {},
   "outputs": [
    {
     "name": "stdout",
     "output_type": "stream",
     "text": [
      "Right angle? True\n"
     ]
    },
    {
     "data": {
      "image/svg+xml": [
       "<svg xmlns=\"http://www.w3.org/2000/svg\"\n",
       "            xmlns:xlink=\"http://www.w3.org/1999/xlink\"\n",
       "            width=\"100.0\" height=\"100.0\" viewBox=\"-0.200000000000000 -0.200000000000000 2.40000000000000 1.40000000000000\"\n",
       "            preserveAspectRatio=\"xMinYMin meet\">\n",
       "            <defs>\n",
       "                <marker id=\"markerCircle\" markerWidth=\"8\" markerHeight=\"8\"\n",
       "                    refx=\"5\" refy=\"5\" markerUnits=\"strokeWidth\">\n",
       "                    <circle cx=\"5\" cy=\"5\" r=\"1.5\" style=\"stroke: none; fill:#000000;\"/>\n",
       "                </marker>\n",
       "                <marker id=\"markerArrow\" markerWidth=\"13\" markerHeight=\"13\" refx=\"2\" refy=\"4\"\n",
       "                       orient=\"auto\" markerUnits=\"strokeWidth\">\n",
       "                    <path d=\"M2,2 L2,6 L6,4\" style=\"fill: #000000;\" />\n",
       "                </marker>\n",
       "                <marker id=\"markerReverseArrow\" markerWidth=\"13\" markerHeight=\"13\" refx=\"6\" refy=\"4\"\n",
       "                       orient=\"auto\" markerUnits=\"strokeWidth\">\n",
       "                    <path d=\"M6,2 L6,6 L2,4\" style=\"fill: #000000;\" />\n",
       "                </marker>\n",
       "            </defs><g transform=\"matrix(1,0,0,-1,0,1.00000000000000)\"><path fill-rule=\"evenodd\" fill=\"#66cc99\" stroke=\"#555555\" stroke-width=\"0.0480000000000000\" opacity=\"0.6\" d=\"M 0,0 L 2.00000000000000,0 L 0,1.00000000000000 z\" /></g></svg>"
      ],
      "text/latex": [
       "$\\displaystyle Triangle\\left(Point2D\\left(0, 0\\right), Point2D\\left(2, 0\\right), Point2D\\left(0, 1\\right)\\right)$"
      ],
      "text/plain": [
       "Triangle(Point2D(0, 0), Point2D(2, 0), Point2D(0, 1))"
      ]
     },
     "execution_count": 1,
     "metadata": {},
     "output_type": "execute_result"
    }
   ],
   "source": [
    "from sympy import Triangle\n",
    "\n",
    "t = Triangle(sas = (1, 90, 2))\n",
    "print(\"Right angle? \" + str(t.is_right()))\n",
    "t"
   ]
  },
  {
   "cell_type": "code",
   "execution_count": 2,
   "metadata": {},
   "outputs": [
    {
     "data": {
      "text/plain": [
       "{Point2D(0, 0): Segment2D(Point2D(0, 0), Point2D(2/5, 4/5)),\n",
       " Point2D(2, 0): Segment2D(Point2D(2, 0), Point2D(0, 0)),\n",
       " Point2D(0, 1): Segment2D(Point2D(0, 1), Point2D(0, 0))}"
      ]
     },
     "execution_count": 2,
     "metadata": {},
     "output_type": "execute_result"
    }
   ],
   "source": [
    "t.altitudes"
   ]
  },
  {
   "cell_type": "code",
   "execution_count": 3,
   "metadata": {},
   "outputs": [
    {
     "name": "stdout",
     "output_type": "stream",
     "text": [
      "a: 1\n",
      "b: 2\n",
      "c: 2.23606797749979\n"
     ]
    }
   ],
   "source": [
    "import math\n",
    "\n",
    "a = 1\n",
    "b = 2\n",
    "c = math.sqrt(a**2 + b**2)\n",
    "print(\"a: \" + str(a))\n",
    "print(\"b: \" + str(b))\n",
    "print(\"c: \" + str(c))"
   ]
  },
  {
   "cell_type": "code",
   "execution_count": 4,
   "metadata": {},
   "outputs": [
    {
     "data": {
      "text/plain": [
       "0.447213595499958"
      ]
     },
     "execution_count": 4,
     "metadata": {},
     "output_type": "execute_result"
    }
   ],
   "source": [
    "h = math.sqrt((1/5)**2 + (2/5)**2)\n",
    "h"
   ]
  },
  {
   "cell_type": "code",
   "execution_count": 5,
   "metadata": {},
   "outputs": [
    {
     "data": {
      "text/plain": [
       "1.788854381999832"
      ]
     },
     "execution_count": 5,
     "metadata": {},
     "output_type": "execute_result"
    }
   ],
   "source": [
    "k = math.sqrt((4/5)**2 + (2 - (2/5))**2)\n",
    "k"
   ]
  },
  {
   "cell_type": "code",
   "execution_count": 6,
   "metadata": {},
   "outputs": [
    {
     "data": {
      "text/plain": [
       "True"
      ]
     },
     "execution_count": 6,
     "metadata": {},
     "output_type": "execute_result"
    }
   ],
   "source": [
    "c == h + k"
   ]
  },
  {
   "cell_type": "code",
   "execution_count": 7,
   "metadata": {},
   "outputs": [
    {
     "name": "stdout",
     "output_type": "stream",
     "text": [
      "0.447213595499958\n",
      "0.4472135954999579\n"
     ]
    },
    {
     "data": {
      "text/plain": [
       "True"
      ]
     },
     "execution_count": 7,
     "metadata": {},
     "output_type": "execute_result"
    }
   ],
   "source": [
    "print(h / a)\n",
    "print(a / c)\n",
    "math.isclose(h / a, a / c)"
   ]
  },
  {
   "cell_type": "code",
   "execution_count": 8,
   "metadata": {},
   "outputs": [
    {
     "name": "stdout",
     "output_type": "stream",
     "text": [
      "0.894427190999916\n",
      "0.8944271909999159\n"
     ]
    },
    {
     "data": {
      "text/plain": [
       "True"
      ]
     },
     "execution_count": 8,
     "metadata": {},
     "output_type": "execute_result"
    }
   ],
   "source": [
    "print(k / b)\n",
    "print(b / c)\n",
    "math.isclose(k / b, b / c)"
   ]
  },
  {
   "cell_type": "code",
   "execution_count": 9,
   "metadata": {},
   "outputs": [
    {
     "name": "stdout",
     "output_type": "stream",
     "text": [
      "1.0000000000000002\n",
      "1\n"
     ]
    },
    {
     "data": {
      "text/plain": [
       "True"
      ]
     },
     "execution_count": 9,
     "metadata": {},
     "output_type": "execute_result"
    }
   ],
   "source": [
    "print(h * c)\n",
    "print(a**2)\n",
    "math.isclose(h * c, a**2)"
   ]
  },
  {
   "cell_type": "code",
   "execution_count": 10,
   "metadata": {},
   "outputs": [
    {
     "name": "stdout",
     "output_type": "stream",
     "text": [
      "4.000000000000001\n",
      "4\n"
     ]
    },
    {
     "data": {
      "text/plain": [
       "True"
      ]
     },
     "execution_count": 10,
     "metadata": {},
     "output_type": "execute_result"
    }
   ],
   "source": [
    "print(k * c)\n",
    "print(b**2)\n",
    "math.isclose(k * c, b**2)"
   ]
  },
  {
   "cell_type": "code",
   "execution_count": 11,
   "metadata": {},
   "outputs": [
    {
     "name": "stdout",
     "output_type": "stream",
     "text": [
      "5.000000000000001\n",
      "5.000000000000001\n",
      "5\n",
      "True\n",
      "True\n"
     ]
    }
   ],
   "source": [
    "print((h + k) * c)\n",
    "print(c**2)\n",
    "print(a**2 + b**2)\n",
    "print(math.isclose((h + k) * c, c**2))\n",
    "print(math.isclose(c**2, a**2 + b**2))"
   ]
  },
  {
   "cell_type": "markdown",
   "metadata": {},
   "source": [
    "## 2. Proofs Without Figures"
   ]
  },
  {
   "cell_type": "markdown",
   "metadata": {},
   "source": [
    "The following code shows the proof of a perpendicular bisector of a segment AB:"
   ]
  },
  {
   "cell_type": "code",
   "execution_count": 94,
   "metadata": {},
   "outputs": [
    {
     "data": {
      "image/png": "[encoded data removed]",
      "text/plain": [
       "<Figure size 432x288 with 1 Axes>"
      ]
     },
     "metadata": {
      "needs_background": "light"
     },
     "output_type": "display_data"
    }
   ],
   "source": [
    "import matplotlib.pyplot as plt\n",
    "import shapely.affinity\n",
    "\n",
    "from shapely.geometry import LineString, Point\n",
    "\n",
    "plt.clf()\n",
    "\n",
    "# Draw a line AB\n",
    "AB = LineString([(0, 0), (1, 0)])\n",
    "plt.plot(*AB.xy)\n",
    "\n",
    "# Create circle at A with radius AB\n",
    "A_circle = Point(0, 0).buffer(1)\n",
    "plt.plot(*A_circle.exterior.xy)\n",
    "\n",
    "# Create circle at B with radius AB\n",
    "B_circle = Point(1, 0).buffer(1)\n",
    "plt.plot(*B_circle.exterior.xy)\n",
    "\n",
    "# Show the perpendicular bisection at circle meeting points\n",
    "perpendicular_bisector = LineString([(.5, -1), (.5, 1)])\n",
    "plt.plot(*perpendicular_bisector.xy)\n",
    "\n",
    "plt.show()"
   ]
  },
  {
   "cell_type": "markdown",
   "metadata": {},
   "source": [
    "## 5 Groups of Geometric Plane Axioms\n",
    "\n",
    "As defined by David Hilbert:"
   ]
  },
  {
   "cell_type": "markdown",
   "metadata": {},
   "source": [
    "### Group 1: Incidence Axioms\n",
    "\n",
    "1. points P & Q lie on 1 line\n",
    "2. each line has > 1 points\n",
    "3. P, Q, & R are not all on a line\n",
    "\n",
    "These axioms are enough to define a triangle."
   ]
  },
  {
   "cell_type": "markdown",
   "metadata": {},
   "source": [
    "### Group 2: Axioms of Order\n",
    "\n",
    "1. If B is between A & C, then B is between C & A\n",
    "2. If A & B are distinct points on line l, there exists on l a point C between A & B & a point D such that B is between A & D\n",
    "3. If A, B, & C are distinct points on l, 1 of these is between the other 2\n",
    "4. Pasch's Axiom: If l meets segment AB of triangle ABC & doesn't contain C, then l meets either AC or BC"
   ]
  },
  {
   "cell_type": "code",
   "execution_count": 104,
   "metadata": {},
   "outputs": [
    {
     "data": {
      "image/png": "[encoded data removed]",
      "text/plain": [
       "<Figure size 432x288 with 1 Axes>"
      ]
     },
     "metadata": {
      "needs_background": "light"
     },
     "output_type": "display_data"
    }
   ],
   "source": [
    "# Pasch's Axiom\n",
    "\n",
    "plt.clf()\n",
    "\n",
    "# Draw a triange ABC\n",
    "ABC = LineString([(0, 0), (1, 0), (.5, 1), (1, 0), (0, 0), (.5, 1)])\n",
    "plt.plot(*ABC.xy)\n",
    "\n",
    "# Draw line l\n",
    "l = LineString([(.75, -.5), (.5, .5)])\n",
    "plt.plot(*l.xy)\n",
    "\n",
    "plt.show()"
   ]
  },
  {
   "cell_type": "markdown",
   "metadata": {},
   "source": [
    "### Group 3: Congruence\n",
    "\n",
    "1. Given segment AB & ray r from A', there is a unique point B' on r with AB $\\equiv$ A'B'\n",
    "2. Congruence of segments is reflexive, symmetric, & transitive\n",
    "3. AB $\\equiv$ A'B' & BC $\\equiv$ B'C' imply AC $\\equiv$ A'C', provided B is between A & C & B' between A' & C'\n",
    "4. Given angle rs & ray r' from A' on line l, there is a unique ray s' from A' on a given side of l so that *L*rs $\\equiv$ *L*r's'\n",
    "5. If 2 triangles ABC & A'B'C' have AB $\\equiv$ A'B', BC $\\equiv$ B'C' & *l*B $\\equiv$ *L*B', then also *L*A $\\equiv$ *L*A' & *L*C $\\equiv$ *L*C'"
   ]
  },
  {
   "cell_type": "markdown",
   "metadata": {},
   "source": [
    "### Group 4: The Parallel Axiom\n",
    "\n",
    "Given a point A not on the line m, there is at most 1 line through A parallel to m"
   ]
  },
  {
   "cell_type": "markdown",
   "metadata": {},
   "source": [
    "### Group 5: Continuity Axioms\n",
    "\n",
    "1. The Archimedean Axiom: Given C on ray from A, there is a natural number n with C between A & Bn (C measured by AB cannot be infinitely far away.\n",
    "2. Completeness: the system of points & lines satisfying the given relations of incidence & congruence cannot be part of a larger system with the same relations satisfying all the sam algorithms\n",
    "\n",
    "These 2 can be replaced by a single Dedekind Axiom:\n",
    "\n",
    "For points A, B not 0 on l, 0 is between A & B if & only if A lies in S & B in T, or A in T & B in S."
   ]
  },
  {
   "cell_type": "markdown",
   "metadata": {},
   "source": [
    "# 3. The Parallel Axiom"
   ]
  },
  {
   "cell_type": "code",
   "execution_count": null,
   "metadata": {},
   "outputs": [],
   "source": []
  }
 ],
 "metadata": {
  "kernelspec": {
   "display_name": "Python 3",
   "language": "python",
   "name": "python3"
  },
  "language_info": {
   "codemirror_mode": {
    "name": "ipython",
    "version": 3
   },
   "file_extension": ".py",
   "mimetype": "text/x-python",
   "name": "python",
   "nbconvert_exporter": "python",
   "pygments_lexer": "ipython3",
   "version": "3.7.3"
  }
 },
 "nbformat": 4,
 "nbformat_minor": 2
}
