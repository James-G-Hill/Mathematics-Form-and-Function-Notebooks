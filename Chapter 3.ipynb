{
 "cells": [
  {
   "cell_type": "markdown",
   "metadata": {},
   "source": [
    "# Maths - Form & Function: Chapter 3 (Geometry)"
   ]
  },
  {
   "cell_type": "markdown",
   "metadata": {},
   "source": [
    "## 1. Spatial Activities"
   ]
  },
  {
   "cell_type": "markdown",
   "metadata": {},
   "source": [
    "The author notes that geometric forms such as lines, circles, spheres, and relations between them, such as 3 legged tools being more stable than 4 legged, and some shapes can / cannot fit within other, are observed by humans in their interaction with the world."
   ]
  },
  {
   "cell_type": "markdown",
   "metadata": {},
   "source": [
    "Next, we examine the Pythagorean theorem:"
   ]
  },
  {
   "cell_type": "code",
   "execution_count": 1,
   "metadata": {},
   "outputs": [
    {
     "name": "stdout",
     "output_type": "stream",
     "text": [
      "Right angle? True\n"
     ]
    },
    {
     "data": {
      "image/svg+xml": [
       "<svg xmlns=\"http://www.w3.org/2000/svg\"\n",
       "            xmlns:xlink=\"http://www.w3.org/1999/xlink\"\n",
       "            width=\"100.0\" height=\"100.0\" viewBox=\"-0.200000000000000 -0.200000000000000 2.40000000000000 1.40000000000000\"\n",
       "            preserveAspectRatio=\"xMinYMin meet\">\n",
       "            <defs>\n",
       "                <marker id=\"markerCircle\" markerWidth=\"8\" markerHeight=\"8\"\n",
       "                    refx=\"5\" refy=\"5\" markerUnits=\"strokeWidth\">\n",
       "                    <circle cx=\"5\" cy=\"5\" r=\"1.5\" style=\"stroke: none; fill:#000000;\"/>\n",
       "                </marker>\n",
       "                <marker id=\"markerArrow\" markerWidth=\"13\" markerHeight=\"13\" refx=\"2\" refy=\"4\"\n",
       "                       orient=\"auto\" markerUnits=\"strokeWidth\">\n",
       "                    <path d=\"M2,2 L2,6 L6,4\" style=\"fill: #000000;\" />\n",
       "                </marker>\n",
       "                <marker id=\"markerReverseArrow\" markerWidth=\"13\" markerHeight=\"13\" refx=\"6\" refy=\"4\"\n",
       "                       orient=\"auto\" markerUnits=\"strokeWidth\">\n",
       "                    <path d=\"M6,2 L6,6 L2,4\" style=\"fill: #000000;\" />\n",
       "                </marker>\n",
       "            </defs><g transform=\"matrix(1,0,0,-1,0,1.00000000000000)\"><path fill-rule=\"evenodd\" fill=\"#66cc99\" stroke=\"#555555\" stroke-width=\"0.0480000000000000\" opacity=\"0.6\" d=\"M 0,0 L 2.00000000000000,0 L 0,1.00000000000000 z\" /></g></svg>"
      ],
      "text/latex": [
       "$\\displaystyle Triangle\\left(Point2D\\left(0, 0\\right), Point2D\\left(2, 0\\right), Point2D\\left(0, 1\\right)\\right)$"
      ],
      "text/plain": [
       "Triangle(Point2D(0, 0), Point2D(2, 0), Point2D(0, 1))"
      ]
     },
     "execution_count": 1,
     "metadata": {},
     "output_type": "execute_result"
    }
   ],
   "source": [
    "from sympy import Triangle\n",
    "\n",
    "t = Triangle(sas = (1, 90, 2))\n",
    "print(\"Right angle? \" + str(t.is_right()))\n",
    "t"
   ]
  },
  {
   "cell_type": "code",
   "execution_count": 2,
   "metadata": {},
   "outputs": [
    {
     "data": {
      "text/plain": [
       "{Point2D(0, 0): Segment2D(Point2D(0, 0), Point2D(2/5, 4/5)),\n",
       " Point2D(2, 0): Segment2D(Point2D(2, 0), Point2D(0, 0)),\n",
       " Point2D(0, 1): Segment2D(Point2D(0, 1), Point2D(0, 0))}"
      ]
     },
     "execution_count": 2,
     "metadata": {},
     "output_type": "execute_result"
    }
   ],
   "source": [
    "t.altitudes"
   ]
  },
  {
   "cell_type": "code",
   "execution_count": 3,
   "metadata": {},
   "outputs": [
    {
     "name": "stdout",
     "output_type": "stream",
     "text": [
      "a: 1\n",
      "b: 2\n",
      "c: 2.23606797749979\n"
     ]
    }
   ],
   "source": [
    "import math\n",
    "\n",
    "a = 1\n",
    "b = 2\n",
    "c = math.sqrt(a**2 + b**2)\n",
    "print(\"a: \" + str(a))\n",
    "print(\"b: \" + str(b))\n",
    "print(\"c: \" + str(c))"
   ]
  },
  {
   "cell_type": "code",
   "execution_count": 4,
   "metadata": {},
   "outputs": [
    {
     "data": {
      "text/plain": [
       "0.447213595499958"
      ]
     },
     "execution_count": 4,
     "metadata": {},
     "output_type": "execute_result"
    }
   ],
   "source": [
    "h = math.sqrt((1/5)**2 + (2/5)**2)\n",
    "h"
   ]
  },
  {
   "cell_type": "code",
   "execution_count": 5,
   "metadata": {},
   "outputs": [
    {
     "data": {
      "text/plain": [
       "1.788854381999832"
      ]
     },
     "execution_count": 5,
     "metadata": {},
     "output_type": "execute_result"
    }
   ],
   "source": [
    "k = math.sqrt((4/5)**2 + (2 - (2/5))**2)\n",
    "k"
   ]
  },
  {
   "cell_type": "code",
   "execution_count": 6,
   "metadata": {},
   "outputs": [
    {
     "data": {
      "text/plain": [
       "True"
      ]
     },
     "execution_count": 6,
     "metadata": {},
     "output_type": "execute_result"
    }
   ],
   "source": [
    "c == h + k"
   ]
  },
  {
   "cell_type": "code",
   "execution_count": 7,
   "metadata": {},
   "outputs": [
    {
     "name": "stdout",
     "output_type": "stream",
     "text": [
      "0.447213595499958\n",
      "0.4472135954999579\n"
     ]
    },
    {
     "data": {
      "text/plain": [
       "True"
      ]
     },
     "execution_count": 7,
     "metadata": {},
     "output_type": "execute_result"
    }
   ],
   "source": [
    "print(h / a)\n",
    "print(a / c)\n",
    "math.isclose(h / a, a / c)"
   ]
  },
  {
   "cell_type": "code",
   "execution_count": 8,
   "metadata": {},
   "outputs": [
    {
     "name": "stdout",
     "output_type": "stream",
     "text": [
      "0.894427190999916\n",
      "0.8944271909999159\n"
     ]
    },
    {
     "data": {
      "text/plain": [
       "True"
      ]
     },
     "execution_count": 8,
     "metadata": {},
     "output_type": "execute_result"
    }
   ],
   "source": [
    "print(k / b)\n",
    "print(b / c)\n",
    "math.isclose(k / b, b / c)"
   ]
  },
  {
   "cell_type": "code",
   "execution_count": 9,
   "metadata": {},
   "outputs": [
    {
     "name": "stdout",
     "output_type": "stream",
     "text": [
      "1.0000000000000002\n",
      "1\n"
     ]
    },
    {
     "data": {
      "text/plain": [
       "True"
      ]
     },
     "execution_count": 9,
     "metadata": {},
     "output_type": "execute_result"
    }
   ],
   "source": [
    "print(h * c)\n",
    "print(a**2)\n",
    "math.isclose(h * c, a**2)"
   ]
  },
  {
   "cell_type": "code",
   "execution_count": 10,
   "metadata": {},
   "outputs": [
    {
     "name": "stdout",
     "output_type": "stream",
     "text": [
      "4.000000000000001\n",
      "4\n"
     ]
    },
    {
     "data": {
      "text/plain": [
       "True"
      ]
     },
     "execution_count": 10,
     "metadata": {},
     "output_type": "execute_result"
    }
   ],
   "source": [
    "print(k * c)\n",
    "print(b**2)\n",
    "math.isclose(k * c, b**2)"
   ]
  },
  {
   "cell_type": "code",
   "execution_count": 11,
   "metadata": {},
   "outputs": [
    {
     "name": "stdout",
     "output_type": "stream",
     "text": [
      "5.000000000000001\n",
      "5.000000000000001\n",
      "5\n",
      "True\n",
      "True\n"
     ]
    }
   ],
   "source": [
    "print((h + k) * c)\n",
    "print(c**2)\n",
    "print(a**2 + b**2)\n",
    "print(math.isclose((h + k) * c, c**2))\n",
    "print(math.isclose(c**2, a**2 + b**2))"
   ]
  },
  {
   "cell_type": "markdown",
   "metadata": {},
   "source": [
    "## 2. Proofs Without Figures"
   ]
  },
  {
   "cell_type": "markdown",
   "metadata": {},
   "source": [
    "The following code shows the proof of a perpendicular bisector of a segment AB:"
   ]
  },
  {
   "cell_type": "code",
   "execution_count": 12,
   "metadata": {},
   "outputs": [
    {
     "data": {
      "text/plain": [
       "<Figure size 640x480 with 1 Axes>"
      ]
     },
     "metadata": {},
     "output_type": "display_data"
    }
   ],
   "source": [
    "import matplotlib.pyplot as plt\n",
    "import shapely.affinity\n",
    "\n",
    "from shapely.geometry import LineString, Point\n",
    "\n",
    "plt.clf()\n",
    "\n",
    "# Draw a line AB\n",
    "AB = LineString([(0, 0), (1, 0)])\n",
    "plt.plot(*AB.xy)\n",
    "\n",
    "# Create circle at A with radius AB\n",
    "A_circle = Point(0, 0).buffer(1)\n",
    "plt.plot(*A_circle.exterior.xy)\n",
    "\n",
    "# Create circle at B with radius AB\n",
    "B_circle = Point(1, 0).buffer(1)\n",
    "plt.plot(*B_circle.exterior.xy)\n",
    "\n",
    "# Show the perpendicular bisection at circle meeting points\n",
    "perpendicular_bisector = LineString([(.5, -1), (.5, 1)])\n",
    "plt.plot(*perpendicular_bisector.xy)\n",
    "\n",
    "plt.show()"
   ]
  },
  {
   "cell_type": "markdown",
   "metadata": {},
   "source": [
    "## 5 Groups of Geometric Plane Axioms\n",
    "\n",
    "As defined by David Hilbert:"
   ]
  },
  {
   "cell_type": "markdown",
   "metadata": {},
   "source": [
    "### Group 1: Incidence Axioms\n",
    "\n",
    "1. points P & Q lie on 1 line\n",
    "2. each line has > 1 points\n",
    "3. P, Q, & R are not all on a line\n",
    "\n",
    "These axioms are enough to define a triangle."
   ]
  },
  {
   "cell_type": "markdown",
   "metadata": {},
   "source": [
    "### Group 2: Axioms of Order\n",
    "\n",
    "1. If B is between A & C, then B is between C & A\n",
    "2. If A & B are distinct points on line l, there exists on l a point C between A & B & a point D such that B is between A & D\n",
    "3. If A, B, & C are distinct points on l, 1 of these is between the other 2\n",
    "4. Pasch's Axiom: If l meets segment AB of triangle ABC & doesn't contain C, then l meets either AC or BC"
   ]
  },
  {
   "cell_type": "code",
   "execution_count": 13,
   "metadata": {},
   "outputs": [
    {
     "data": {
      "image/png": "[encoded data removed]",
      "text/plain": [
       "<Figure size 432x288 with 1 Axes>"
      ]
     },
     "metadata": {
      "needs_background": "light"
     },
     "output_type": "display_data"
    }
   ],
   "source": [
    "# Pasch's Axiom\n",
    "\n",
    "plt.clf()\n",
    "\n",
    "# Draw a triange ABC\n",
    "ABC = LineString([(0, 0), (1, 0), (.5, 1), (1, 0), (0, 0), (.5, 1)])\n",
    "plt.plot(*ABC.xy)\n",
    "\n",
    "# Draw line l\n",
    "l = LineString([(.75, -.5), (.5, .5)])\n",
    "plt.plot(*l.xy)\n",
    "\n",
    "plt.show()"
   ]
  },
  {
   "cell_type": "markdown",
   "metadata": {},
   "source": [
    "### Group 3: Congruence\n",
    "\n",
    "1. Given segment AB & ray r from A', there is a unique point B' on r with AB $\\equiv$ A'B'\n",
    "2. Congruence of segments is reflexive, symmetric, & transitive\n",
    "3. AB $\\equiv$ A'B' & BC $\\equiv$ B'C' imply AC $\\equiv$ A'C', provided B is between A & C & B' between A' & C'\n",
    "4. Given angle rs & ray r' from A' on line l, there is a unique ray s' from A' on a given side of l so that *L*rs $\\equiv$ *L*r's'\n",
    "5. If 2 triangles ABC & A'B'C' have AB $\\equiv$ A'B', BC $\\equiv$ B'C' & *l*B $\\equiv$ *L*B', then also *L*A $\\equiv$ *L*A' & *L*C $\\equiv$ *L*C'"
   ]
  },
  {
   "cell_type": "markdown",
   "metadata": {},
   "source": [
    "### Group 4: The Parallel Axiom\n",
    "\n",
    "Given a point A not on the line m, there is at most 1 line through A parallel to m"
   ]
  },
  {
   "cell_type": "markdown",
   "metadata": {},
   "source": [
    "### Group 5: Continuity Axioms\n",
    "\n",
    "1. The Archimedean Axiom: Given C on ray from A, there is a natural number n with C between A & Bn (C measured by AB cannot be infinitely far away.\n",
    "2. Completeness: the system of points & lines satisfying the given relations of incidence & congruence cannot be part of a larger system with the same relations satisfying all the sam algorithms\n",
    "\n",
    "These 2 can be replaced by a single Dedekind Axiom:\n",
    "\n",
    "For points A, B not 0 on l, 0 is between A & B if & only if A lies in S & B in T, or A in T & B in S."
   ]
  },
  {
   "cell_type": "markdown",
   "metadata": {},
   "source": [
    "# 3. The Parallel Axiom"
   ]
  },
  {
   "cell_type": "markdown",
   "metadata": {},
   "source": [
    "**Lemma 1**\n",
    "If the interior angles alpha & beta on the same side of the traversal k to l & m have sum alpha + beta = 180 degrees then lines l & m are parallel\n",
    "\n",
    "**Theorem 2**\n",
    "Through a point A not on a line m there exists at least 1 line l parallel to m\n",
    "\n",
    "**Theorem 3**\n",
    "When a line k is transversal to 2 parallel lines l & m, the alternate interior angles formed are equal\n",
    "\n",
    "**Corollary**\n",
    "The sum of the 3 interior angles of a triangle is 180 degrees."
   ]
  },
  {
   "cell_type": "code",
   "execution_count": 14,
   "metadata": {},
   "outputs": [
    {
     "name": "stdout",
     "output_type": "stream",
     "text": [
      "Euclidean polygons requires > 2 sides.\n",
      "180\n",
      "360\n",
      "540\n",
      "720\n"
     ]
    }
   ],
   "source": [
    "def sumInnerAnglesN_SidedPolygon(n):\n",
    "    \"\"\" Calculates the sum of angles for n-sided polygons in the plane. \"\"\"\n",
    "    if n < 3:\n",
    "        return \"Euclidean polygons requires > 2 sides.\"\n",
    "    else:\n",
    "        return str((n - 2) * 180)\n",
    "\n",
    "    \n",
    "digon = 2\n",
    "triangle = 3\n",
    "quadrilateral = 4\n",
    "pentagon = 5\n",
    "hexagon = 6\n",
    "\n",
    "print(sumInnerAnglesN_SidedPolygon(digon))\n",
    "print(sumInnerAnglesN_SidedPolygon(triangle))\n",
    "print(sumInnerAnglesN_SidedPolygon(quadrilateral))\n",
    "print(sumInnerAnglesN_SidedPolygon(pentagon))\n",
    "print(sumInnerAnglesN_SidedPolygon(hexagon))"
   ]
  },
  {
   "cell_type": "markdown",
   "metadata": {},
   "source": [
    "# 4. Hyperbolic Geometry"
   ]
  },
  {
   "cell_type": "markdown",
   "metadata": {},
   "source": [
    "Hyperbolic geometry arises from the assumption there there is *more* than 1 parallel line & hence the angle sum in a triangle is not 180 degrees.  From this it turns out that the angle sum is always less than 180 degrees & the difference between 180 degrees & the sum is proportional to the area of the triangle."
   ]
  },
  {
   "cell_type": "markdown",
   "metadata": {},
   "source": [
    "From this arise 2 questions:\n",
    "\n",
    "1. Is the resulting geometry consistent?\n",
    "\n",
    "This can be made the case by proposing \"pseudo-points\", \"pseudo-lines\" & \"pseudo-distance\" of a hyperbolic geometry & proving that these pseudo object do satisfy the axioms for point, line & distance in hyperbolic geometry.\n",
    "\n",
    "2. Does it fit the real world?\n",
    "\n",
    "What is the \"real world\" interpretation?  Rays of light in a vacuum?  But in general relativity theory the path of a ray of light may not be straight in the intended sense; hence, we may consider:\n",
    "\n",
    "> Any geometrical axioms, Euclidean or non-Euclidean, offer a mathematical structure which may be open to a variety of different interpretations to suit a variety of geometrical (or even non-geometrical) circumstances."
   ]
  },
  {
   "cell_type": "code",
   "execution_count": 15,
   "metadata": {},
   "outputs": [
    {
     "name": "stdout",
     "output_type": "stream",
     "text": [
      "0.8109302162163288\n",
      "1.791759469228055\n",
      "2.6026896854443837\n",
      "3.58351893845611\n",
      "38.464021517767584\n"
     ]
    }
   ],
   "source": [
    "import math\n",
    "\n",
    "def hyperbolic_psuedo_distance(a, b):\n",
    "    \"\"\" Calculate the hyperbolic geometry psuedo distance.\n",
    "        The length of a line approaches infinity.\n",
    "    Parameters:\n",
    "        a: a point on line between s & t\n",
    "        b: a point on line between s & t\n",
    "    \"\"\"\n",
    "    s = 0 # Euclidean point where orthogonal circle meets base circle\n",
    "    t = 10 # the other point where orthogonal point meets base circle\n",
    "    if (a > s) & (a < t) & (b > s) & (b < t):\n",
    "        numerator = abs(a - t) / abs(a - s)\n",
    "        denominator = abs(b - t) / abs(b - s)\n",
    "        return str(math.log(numerator / denominator))\n",
    "    else:\n",
    "        return \"Points not witin the arc.\"\n",
    "    \n",
    "print(hyperbolic_psuedo_distance(1, 2))\n",
    "print(hyperbolic_psuedo_distance(1, 4))\n",
    "print(hyperbolic_psuedo_distance(1, 6))\n",
    "print(hyperbolic_psuedo_distance(1, 8))\n",
    "print(hyperbolic_psuedo_distance(1, 9.999999999999999))"
   ]
  },
  {
   "cell_type": "markdown",
   "metadata": {},
   "source": [
    "> The development of non-Euclidean geometry represents a major change in the nature of Mathematics, from a science (of number and space) to a study of form."
   ]
  },
  {
   "cell_type": "markdown",
   "metadata": {},
   "source": [
    "# 5. Elliptic Geometry"
   ]
  },
  {
   "cell_type": "markdown",
   "metadata": {},
   "source": [
    "The elliptic geometry is 1 in which there are no parallel lines.  The behaviour of lines in such a geometry is similar to latitude / longitude lines on a sphere."
   ]
  },
  {
   "cell_type": "markdown",
   "metadata": {},
   "source": [
    "> The geometry of great circles on the sphere *is* a non-Euclidean geometry."
   ]
  },
  {
   "cell_type": "code",
   "execution_count": 25,
   "metadata": {},
   "outputs": [
    {
     "data": {
      "image/png": "[encoded data removed]",
      "text/plain": [
       "<Figure size 432x288 with 1 Axes>"
      ]
     },
     "metadata": {
      "needs_background": "light"
     },
     "output_type": "display_data"
    }
   ],
   "source": [
    "def tractrix(theta):\n",
    "    \"\"\" Function for defining points on a tractrix. \"\"\"\n",
    "    x = math.sin(theta)\n",
    "    y = math.cos(theta) + math.log(math.tan(theta / 2))\n",
    "    return y, x\n",
    "\n",
    "lst = list()\n",
    "for x in range(1, 100):\n",
    "    lst.append(tractrix(x * .001))\n",
    "\n",
    "plt.clf()\n",
    "plt.plot(*LineString(lst).xy)\n",
    "plt.xlim(-2, -6)\n",
    "plt.show()"
   ]
  },
  {
   "cell_type": "markdown",
   "metadata": {},
   "source": [
    "# 6. Geometric Magnitude"
   ]
  },
  {
   "cell_type": "markdown",
   "metadata": {},
   "source": [
    "Magnitudes can be determined by ixing a line k from point 0 to U (the *unit* magnitude).\n",
    "*magnitude* is then any segment 0D from the origin on this line *k*."
   ]
  },
  {
   "cell_type": "code",
   "execution_count": 63,
   "metadata": {},
   "outputs": [
    {
     "name": "stdout",
     "output_type": "stream",
     "text": [
      "True\n",
      "True\n",
      "False\n",
      "False\n"
     ]
    }
   ],
   "source": [
    "def definitionOfProportions(ratio1, ratio2):\n",
    "    \"\"\" This is a definition originally from Eudoxus.\n",
    "        It defines ratios being proportionate when multiplied by whole numbers.\n",
    "        The definition must be true for all whole numbers.\n",
    "        Practically we only use small set 1 to 100.\n",
    "    \"\"\"\n",
    "    od, ou = ratio1\n",
    "    ae, av = ratio2\n",
    "    lst = list()\n",
    "    for m in range(1, 100):\n",
    "        for n in range(100, 1, -1):\n",
    "            lst.append(\n",
    "                (not(m * od > n * ou) or m * ae > n * av) and\n",
    "                (not(m* od < n * ou) or m * ae < n * av)\n",
    "            )\n",
    "    return all(lst)\n",
    "    \n",
    "\n",
    "print(definitionOfProportions((1, 2), (2, 4)))\n",
    "print(definitionOfProportions((2, 4), (5, 10)))\n",
    "print(definitionOfProportions((2, 4), (3, 4)))\n",
    "print(definitionOfProportions((2, 4), (6, 10)))"
   ]
  },
  {
   "cell_type": "markdown",
   "metadata": {},
   "source": [
    "Angular magnitudes can be compared & measured through the use of a radion as a base unit, which can then be subdivided to yield fractions of this unit.  pi is then measured in terms of the radions."
   ]
  },
  {
   "cell_type": "code",
   "execution_count": 71,
   "metadata": {},
   "outputs": [
    {
     "name": "stdout",
     "output_type": "stream",
     "text": [
      "Measure of a right angle:            1.5707963267948966\n",
      "Measure of a half-circle angle:      3.141592653589793\n",
      "Measure of a full circular angle:    6.283185307179586\n"
     ]
    }
   ],
   "source": [
    "print(\"Measure of a right angle:            \" + str(math.pi / 2))\n",
    "print(\"Measure of a half-circle angle:      \" + str(math.pi))\n",
    "print(\"Measure of a full circular angle:    \" + str(math.pi * 2))"
   ]
  },
  {
   "cell_type": "markdown",
   "metadata": {},
   "source": [
    "# 7. Geometry by Motion"
   ]
  },
  {
   "cell_type": "markdown",
   "metadata": {},
   "source": [
    "The composite of 2 rigid motions is again rigid, and the inverse of any rigid motion is itself a rigid motion; hence the ridid motions of the plan form a group."
   ]
  },
  {
   "cell_type": "markdown",
   "metadata": {},
   "source": [
    "**Theorem 1**\n",
    "\n",
    "> Any motion which leaves each of three non-collinear points fixed is the identity.\n",
    "\n",
    "**Theorem 2**\n",
    "\n",
    "> If the distinct segments 0A & 0A' are congruent, with 0 $\\neq$ A, there is exactly one rotation R about 0 taking A to A'.\n",
    "\n",
    "**Theorem 3**\n",
    "\n",
    "> Composites of rotations and translations of the plane form a group. If 0 is any chosen point, an element of the group can be written uniquely as a product $T \\cdot R$ with T a translation and R a rotation about 0. This group is called the group $E_0$ of proper rigid motions.\n",
    "\n",
    "**Corollary**\n",
    "\n",
    "> If 0A and 0'A' are congruent segments, with 0 $\\neq$ A, there is a unique proper rigid motion taking 0 to 0' and A to A'.\n",
    "\n",
    "**Theorem 4**\n",
    "\n",
    "> Let l be any line in the plane. Any rigid motion of the plane is either a proper rigid motion P or a composite $P \\cdot L$ where L is the reflection in the line l."
   ]
  },
  {
   "cell_type": "markdown",
   "metadata": {},
   "source": [
    "# 8. Orientation"
   ]
  },
  {
   "cell_type": "markdown",
   "metadata": {},
   "source": [
    "These are the axioms that can be added to describe an oriented plane:\n",
    "\n",
    "1. sLr if and only if (-r)Ls\n",
    "2. sLr if and only if not (-s)Lr\n",
    "3. If a translation carries the rays r & s at a point 0 to rays r' and s' at a point 0', then rLs implies r'Ls'."
   ]
  },
  {
   "cell_type": "markdown",
   "metadata": {},
   "source": [
    "# 9. Groups in Geometry"
   ]
  },
  {
   "cell_type": "markdown",
   "metadata": {},
   "source": [
    "Some observations & definitions about groups; this section shows how such ideas may arise from geometric motions on segments, angle, and rays:\n",
    "\n",
    "- a group G \"acts\" on a set of elements X\n",
    "- an orbit is a set of all congruent results of G on elements x in X\n",
    "- a subgroup *fixing* x (Fx) leaves elements x fixed (isotropy group)\n",
    "- a coset maps 1 element in a group to all elements in another group\n",
    "- conjugate subgroups are isotropy subgroups in the same orbit"
   ]
  },
  {
   "cell_type": "markdown",
   "metadata": {},
   "source": [
    "> These observations, and many like them, indicate the very close relation between Euclidean geometry and group theory - so close that one might say that groups were implicit (though never explicit) in traditional geometry. For these reasons, it is clear that the basic ideas of a group theory belong early in the conceptual order of mathematical structures."
   ]
  },
  {
   "cell_type": "markdown",
   "metadata": {},
   "source": [
    "# 10. Geometry by Groups"
   ]
  },
  {
   "cell_type": "code",
   "execution_count": null,
   "metadata": {},
   "outputs": [],
   "source": []
  }
 ],
 "metadata": {
  "kernelspec": {
   "display_name": "Python 3",
   "language": "python",
   "name": "python3"
  },
  "language_info": {
   "codemirror_mode": {
    "name": "ipython",
    "version": 3
   },
   "file_extension": ".py",
   "mimetype": "text/x-python",
   "name": "python",
   "nbconvert_exporter": "python",
   "pygments_lexer": "ipython3",
   "version": "3.7.3"
  }
 },
 "nbformat": 4,
 "nbformat_minor": 2
}
